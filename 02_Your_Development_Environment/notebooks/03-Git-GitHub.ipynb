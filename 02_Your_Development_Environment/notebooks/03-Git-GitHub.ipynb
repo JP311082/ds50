{
 "cells": [
  {
   "cell_type": "markdown",
   "metadata": {
    "slideshow": {
     "slide_type": "-"
    }
   },
   "source": [
    "<img src=\"./assets/1ZcRyrc.png\" style=\"float: left; margin: 20px; height: 55px\">\n",
    "\n",
    "## Your Development Environment\n"
   ]
  },
  {
   "cell_type": "markdown",
   "metadata": {
    "slideshow": {
     "slide_type": "slide"
    }
   },
   "source": [
    "<a id=\"home\"></a>\n",
    "\n",
    "## Lesson Guide\n",
    "\n",
    "---\n",
    "\n",
    "### [Part 3: Git and GitHub](#git_github) \n",
    "\n",
    "- [a) Git Basics](#git_basics)\n",
    "- [b) Git CodeAlong](#git_codealong)\n",
    "- [c) GitHub Basics](#github_basics)\n",
    "- [d) GitHub & GitHub Enterprise Accounts](#gh_ghe_accounts)\n",
    "- [e) Creating and Cloning Repos CodeAlong](#making_cloning) \n",
    "- [f) Pulling](#pulling)  \n",
    "- [g) Secure Shell (SSH)](#ssh) \n",
    "- [h) Independent Practice](#independent_practice3)\n"
   ]
  },
  {
   "cell_type": "markdown",
   "metadata": {
    "slideshow": {
     "slide_type": "subslide"
    }
   },
   "source": [
    "<a id=\"home\"></a>\n",
    "\n",
    "## Lesson Guide\n",
    "\n",
    "---\n",
    "\n",
    "### [Part 3: Git and GitHub](#git_github) \n",
    "\n",
    "- [j) Cloning your first repository](#clone_repo)\n",
    "- [k) How we will use GitHub in this course](#use_github)\n",
    "- [m) Practice outside of class: Creating a Pull Request](#create_pull)\n",
    "- [n) Practice outside of class](#independent_practice4) \n",
    "- [o) Git tips](#git_tips)\n",
    "- [p) Conclusion](#conclusion2)"
   ]
  },
  {
   "cell_type": "markdown",
   "metadata": {
    "slideshow": {
     "slide_type": "slide"
    }
   },
   "source": [
    "<a id=\"git_github\"></a>\n",
    "# <font style = 'color:blue'>Part 3: Version Control (Git and GitHub)</font>\n",
    "\n",
    "\n"
   ]
  },
  {
   "cell_type": "markdown",
   "metadata": {
    "slideshow": {
     "slide_type": "subslide"
    }
   },
   "source": [
    "First things first: Git is not GitHub. This is a common mistake that people make.\n",
    "\n"
   ]
  },
  {
   "cell_type": "markdown",
   "metadata": {
    "slideshow": {
     "slide_type": "fragment"
    }
   },
   "source": [
    "And Git and GitHub may well seem confusing at first, as they use unique terms to describve how things are done.  Don't worry, you will get used to it as you use it during the course."
   ]
  },
  {
   "cell_type": "markdown",
   "metadata": {
    "slideshow": {
     "slide_type": "slide"
    }
   },
   "source": [
    "<a id=\"git_basics\"></a>\n",
    "## <font style = 'color:blue'>a) Git Basics</font>"
   ]
  },
  {
   "cell_type": "markdown",
   "metadata": {
    "slideshow": {
     "slide_type": "subslide"
    }
   },
   "source": [
    "### <font style = 'color:red'>Version Control</font>\n"
   ]
  },
  {
   "cell_type": "markdown",
   "metadata": {
    "slideshow": {
     "slide_type": "subslide"
    }
   },
   "source": [
    "#### Why \"Version Control\"?\n",
    "\n",
    "![](assets/usb.png)"
   ]
  },
  {
   "cell_type": "markdown",
   "metadata": {
    "slideshow": {
     "slide_type": "subslide"
    }
   },
   "source": [
    "\n",
    "Version control is something we often have to do with files that we work with (just think of all the files you've made called `<filename>_v1`, `<filename>_v2` etc).\n",
    "\n",
    "\n",
    "\n"
   ]
  },
  {
   "cell_type": "markdown",
   "metadata": {
    "slideshow": {
     "slide_type": "fragment"
    }
   },
   "source": [
    "There are 4 steps we go through from creating a file to making changes to it and creating a new version:\n",
    "1. Create a file\n",
    "2. Save the file\n",
    "3. Edit the file\n",
    "4. Save the file again\n"
   ]
  },
  {
   "cell_type": "markdown",
   "metadata": {
    "slideshow": {
     "slide_type": "subslide"
    }
   },
   "source": [
    "We iterate through the steps 3 and 4 until we have a final version:\n",
    "\n",
    "<img src=\"assets/git_tracking.png\" style=\"width: 700px;\"><br />\n",
    "Source: https://git-scm.com/video/what-is-version-control\n"
   ]
  },
  {
   "cell_type": "markdown",
   "metadata": {
    "slideshow": {
     "slide_type": "subslide"
    }
   },
   "source": [
    "For software developers, version control is crucial as you need to be able to revert back to a previous version (if you don't like the code you've added, or if you can't get it to work).\n",
    "\n",
    "This is where Git comes in.\n",
    "\n"
   ]
  },
  {
   "cell_type": "markdown",
   "metadata": {
    "slideshow": {
     "slide_type": "subslide"
    }
   },
   "source": [
    "### <font style = 'color:red'>What is Git?</font>\n",
    "\n"
   ]
  },
  {
   "cell_type": "markdown",
   "metadata": {
    "slideshow": {
     "slide_type": "subslide"
    }
   },
   "source": [
    "![](assets/git-xkcd.png)\n",
    "\n",
    "from [https://xkcd.com/1597](https://xkcd.com/1597)"
   ]
  },
  {
   "cell_type": "markdown",
   "metadata": {
    "slideshow": {
     "slide_type": "subslide"
    }
   },
   "source": [
    "[Git](https://git-scm.com/) is:\n",
    "\n"
   ]
  },
  {
   "cell_type": "markdown",
   "metadata": {
    "slideshow": {
     "slide_type": "fragment"
    }
   },
   "source": [
    "- Software\n"
   ]
  },
  {
   "cell_type": "markdown",
   "metadata": {
    "slideshow": {
     "slide_type": "fragment"
    }
   },
   "source": [
    "\n",
    "- A distributed version control system\n"
   ]
  },
  {
   "cell_type": "markdown",
   "metadata": {
    "slideshow": {
     "slide_type": "fragment"
    }
   },
   "source": [
    "\n",
    "- A program you run from the command line\n"
   ]
  },
  {
   "cell_type": "markdown",
   "metadata": {
    "slideshow": {
     "slide_type": "subslide"
    }
   },
   "source": [
    "Programmers use Git so that they can keep a history of all changes made to their code. This means that they can roll back changes (or switch to older versions) as far back as when they started using Git in their project.\n",
    "\n",
    "A code base in Git is referred to as a repository, or repo, for short.\n",
    "\n"
   ]
  },
  {
   "cell_type": "markdown",
   "metadata": {
    "slideshow": {
     "slide_type": "fragment"
    }
   },
   "source": [
    "Fun fact: Git was created in 2005 by Linus Torvalds, the creator of the Linux kernel."
   ]
  },
  {
   "cell_type": "markdown",
   "metadata": {
    "slideshow": {
     "slide_type": "subslide"
    }
   },
   "source": [
    "### <font style = 'color:red'>How does Git work?</font>"
   ]
  },
  {
   "cell_type": "markdown",
   "metadata": {
    "slideshow": {
     "slide_type": "subslide"
    }
   },
   "source": [
    "Git enables you to take snapshots of your files at any given moment in time.  It does this by having three main states that your files can reside in:\n",
    "\n",
    "1. Modified\n",
    "2. Staged\n",
    "3. Committed"
   ]
  },
  {
   "cell_type": "markdown",
   "metadata": {
    "slideshow": {
     "slide_type": "fragment"
    }
   },
   "source": [
    "<img src=\"assets/git_process.png\" style=\"width: 700px;\">"
   ]
  },
  {
   "cell_type": "markdown",
   "metadata": {
    "slideshow": {
     "slide_type": "subslide"
    }
   },
   "source": [
    "Your local repository consists of three \"trees\" that are maintained by Git:\n",
    "\n",
    "- **Working Directory**: holds the actual files.  Once you start changing files, they are modified.  They can be saved locally, but won't be under version control.\n"
   ]
  },
  {
   "cell_type": "markdown",
   "metadata": {
    "slideshow": {
     "slide_type": "fragment"
    }
   },
   "source": [
    "- **Index**: acts as a staging area.  You add your changes to the staging area; these are then staged.\n"
   ]
  },
  {
   "cell_type": "markdown",
   "metadata": {
    "slideshow": {
     "slide_type": "fragment"
    }
   },
   "source": [
    "- **HEAD**: points to the last commit you've made.  Once you're happy to save the changes in version control, Git takes a shapshot of all the changes you've made, and stores that snapshot.  As you add more and more versions, Git essentially builds up a library of snapshots, and you can revert your code to a previous snapshot at any time.\n"
   ]
  },
  {
   "cell_type": "markdown",
   "metadata": {
    "slideshow": {
     "slide_type": "subslide"
    }
   },
   "source": [
    "#### How can you use Git?  What are the commands?"
   ]
  },
  {
   "cell_type": "markdown",
   "metadata": {
    "slideshow": {
     "slide_type": "subslide"
    }
   },
   "source": [
    "\n",
    "\n",
    "You access Git via the Command Line (though you can now use [GitHub Desktop](https://desktop.github.com/) too).\n",
    "\n",
    "\n",
    "\n"
   ]
  },
  {
   "cell_type": "markdown",
   "metadata": {
    "slideshow": {
     "slide_type": "fragment"
    }
   },
   "source": [
    "There are a variety of commands you can use in Git (<font style = 'color:red'>tip: every Git command starts with `git`</font>). You can take a look at a list of the available commands by running:\n",
    "\n",
    "```bash\n",
    "$ git help -a\n",
    "```"
   ]
  },
  {
   "cell_type": "markdown",
   "metadata": {
    "slideshow": {
     "slide_type": "subslide"
    }
   },
   "source": [
    "Even though there are lots of commands, in the course, we will really only need about 10.\n",
    "\n",
    "`q` is usually the command used in Git to exit a screen and get back to the terminal.\n",
    "\n",
    "\n"
   ]
  },
  {
   "cell_type": "markdown",
   "metadata": {
    "slideshow": {
     "slide_type": "fragment"
    }
   },
   "source": [
    "Plenty of cheat-sheets are available with a summary of all the commands.  For example:\n",
    "\n",
    "https://training.github.com/downloads/github-git-cheat-sheet/\n",
    "<br />\n",
    "https://dzone.com/articles/top-20-git-commands-with-examples"
   ]
  },
  {
   "cell_type": "markdown",
   "metadata": {
    "slideshow": {
     "slide_type": "slide"
    }
   },
   "source": [
    "\n",
    "<a id=\"git_codealong\"></a>\n",
    "## <font style = 'color:green'>b) Let's Git into it! CodeAlong</font>\n",
    "\n",
    "\n",
    "\n"
   ]
  },
  {
   "cell_type": "markdown",
   "metadata": {
    "slideshow": {
     "slide_type": "subslide"
    }
   },
   "source": [
    "First, create a directory on your Desktop.\n",
    "\n",
    "```bash\n",
    "$ cd ~/Desktop\n",
    "$ mkdir hello-world\n",
    "```\n"
   ]
  },
  {
   "cell_type": "markdown",
   "metadata": {
    "slideshow": {
     "slide_type": "subslide"
    }
   },
   "source": [
    "You can place this directory under Git revision control using the following command:\n",
    "\n",
    "```bash\n",
    "$ cd hello-world      # don't forget to `cd` into the folder\n",
    "$ git init\n",
    "```\n",
    "\n"
   ]
  },
  {
   "cell_type": "markdown",
   "metadata": {
    "slideshow": {
     "slide_type": "subslide"
    }
   },
   "source": [
    "Git will reply:\n",
    "\n",
    "```bash\n",
    "Initialized empty Git repository in <location>\n",
    "```\n",
    "\n",
    "You've now initialized the working directory."
   ]
  },
  {
   "cell_type": "markdown",
   "metadata": {
    "slideshow": {
     "slide_type": "subslide"
    }
   },
   "source": [
    "#### The .git folder"
   ]
  },
  {
   "cell_type": "markdown",
   "metadata": {
    "slideshow": {
     "slide_type": "subslide"
    }
   },
   "source": [
    "\n",
    "\n",
    "We can look at the contents of this empty folder using this command:\n",
    "\n",
    "```bash\n",
    "ls -A\n",
    "```\n",
    "\n"
   ]
  },
  {
   "cell_type": "markdown",
   "metadata": {
    "slideshow": {
     "slide_type": "fragment"
    }
   },
   "source": [
    "We should see that there is now a hidden folder called `.git`. This is where all of the information about your repository is stored. There is no need for you to make any changes to this folder. You can control all of the Git flow using `git` commands."
   ]
  },
  {
   "cell_type": "markdown",
   "metadata": {
    "slideshow": {
     "slide_type": "subslide"
    }
   },
   "source": [
    "\n",
    "#### Add a file\n",
    "\n"
   ]
  },
  {
   "cell_type": "markdown",
   "metadata": {
    "slideshow": {
     "slide_type": "subslide"
    }
   },
   "source": [
    "Let's create a new file.\n",
    "\n"
   ]
  },
  {
   "cell_type": "markdown",
   "metadata": {
    "slideshow": {
     "slide_type": "fragment"
    }
   },
   "source": [
    "\n",
    "```bash\n",
    "$ touch a.txt\n",
    "```\n"
   ]
  },
  {
   "cell_type": "markdown",
   "metadata": {
    "slideshow": {
     "slide_type": "subslide"
    }
   },
   "source": [
    "If we run `git status`, we should get:\n",
    "\n"
   ]
  },
  {
   "cell_type": "markdown",
   "metadata": {
    "slideshow": {
     "slide_type": "fragment"
    }
   },
   "source": [
    "```bash\n",
    "On branch master\n",
    "\n",
    "Initial commit\n",
    "\n",
    "Untracked files:\n",
    "  (use \"git add <file>...\" to include in what will be committed)\n",
    "\n",
    "\ta.txt\n",
    "\n",
    "nothing added to commit but untracked files present (use \"git add\" to track)\n",
    "```"
   ]
  },
  {
   "cell_type": "markdown",
   "metadata": {
    "slideshow": {
     "slide_type": "fragment"
    }
   },
   "source": [
    "\n",
    "\n",
    "This means that there is a new, **untracked** file. \n",
    "\n"
   ]
  },
  {
   "cell_type": "markdown",
   "metadata": {
    "slideshow": {
     "slide_type": "subslide"
    }
   },
   "source": [
    "Next, tell Git to take a snapshot of the contents of all files under the current directory.\n",
    "\n",
    "```bash\n",
    "$ git add a.txt\n",
    "```"
   ]
  },
  {
   "cell_type": "markdown",
   "metadata": {
    "slideshow": {
     "slide_type": "fragment"
    }
   },
   "source": [
    "This snapshot is now stored in a temporary staging area, which Git calls the \"index.\" To confirm the files are staged and ready to be committed, again run `git status`.\n",
    "\n"
   ]
  },
  {
   "cell_type": "markdown",
   "metadata": {
    "slideshow": {
     "slide_type": "subslide"
    }
   },
   "source": [
    "You can alternatively add _all_ new and modified files at once using the command below (note the `.`). This is not recommended, because you can accidentally add extra files if you are not careful! However, sometimes it is useful if you are adding many files at once and carefully use `git status` for verification.\n",
    "\n",
    "```bash\n",
    "$ git add .\n",
    "```"
   ]
  },
  {
   "cell_type": "markdown",
   "metadata": {
    "slideshow": {
     "slide_type": "subslide"
    }
   },
   "source": [
    "#### Commit\n"
   ]
  },
  {
   "cell_type": "markdown",
   "metadata": {
    "slideshow": {
     "slide_type": "subslide"
    }
   },
   "source": [
    "\n",
    "To permanently store the contents of the index in the repository, (i.e. commit these changes to the \"HEAD\"), you need to run the following command:\n",
    "\n"
   ]
  },
  {
   "cell_type": "markdown",
   "metadata": {
    "slideshow": {
     "slide_type": "fragment"
    }
   },
   "source": [
    "```bash\n",
    "$ git commit -m \"Please remember this file at this time\"\n",
    "```\n",
    "\n"
   ]
  },
  {
   "cell_type": "markdown",
   "metadata": {
    "slideshow": {
     "slide_type": "subslide"
    }
   },
   "source": [
    "You should now get:\n",
    "\n",
    "```bash\n",
    "[master (root-commit) b4faebd] Please remember this file at this time\n",
    " 1 file changed, 0 insertions(+), 0 deletions(-)\n",
    " create mode 100644 a.txt\n",
    "```"
   ]
  },
  {
   "cell_type": "markdown",
   "metadata": {
    "slideshow": {
     "slide_type": "subslide"
    }
   },
   "source": [
    "#### Checking the log\n",
    "\n"
   ]
  },
  {
   "cell_type": "markdown",
   "metadata": {
    "slideshow": {
     "slide_type": "subslide"
    }
   },
   "source": [
    "If we want to view the commit history, we can run:\n",
    "\n"
   ]
  },
  {
   "cell_type": "markdown",
   "metadata": {
    "slideshow": {
     "slide_type": "fragment"
    }
   },
   "source": [
    "```bash\n",
    "git log\n",
    "```\n",
    "\n"
   ]
  },
  {
   "cell_type": "markdown",
   "metadata": {
    "slideshow": {
     "slide_type": "subslide"
    }
   },
   "source": [
    "As a result, you should see something similar to this:\n",
    "\n"
   ]
  },
  {
   "cell_type": "markdown",
   "metadata": {
    "slideshow": {
     "slide_type": "fragment"
    }
   },
   "source": [
    "```bash\n",
    "* b4faebd (HEAD, master) Please remember this file at this time\n",
    "```"
   ]
  },
  {
   "cell_type": "markdown",
   "metadata": {
    "slideshow": {
     "slide_type": "slide"
    }
   },
   "source": [
    "\n",
    "<a id=\"github_basics\"></a>\n",
    "## <font style = 'color:blue'>c) GitHub Basics</font>"
   ]
  },
  {
   "cell_type": "markdown",
   "metadata": {
    "slideshow": {
     "slide_type": "subslide"
    }
   },
   "source": [
    "Another reason that that version control is so important for software developers is that they need to be able to work with others on the same code, with everyone able to make changes at different times...\n"
   ]
  },
  {
   "cell_type": "markdown",
   "metadata": {
    "slideshow": {
     "slide_type": "subslide"
    }
   },
   "source": [
    "<img src=\"assets/git_multiple_tracking.png\" style=\"width: 700px;\">"
   ]
  },
  {
   "cell_type": "markdown",
   "metadata": {
    "slideshow": {
     "slide_type": "subslide"
    }
   },
   "source": [
    "<img src=\"assets/git_collaborative_tracking.png\" style=\"width: 700px;\">\n",
    "<br />\n",
    "\n",
    "Source: https://git-scm.com/video/what-is-version-control"
   ]
  },
  {
   "cell_type": "markdown",
   "metadata": {
    "slideshow": {
     "slide_type": "fragment"
    }
   },
   "source": [
    "This is where GitHub comes in."
   ]
  },
  {
   "cell_type": "markdown",
   "metadata": {
    "slideshow": {
     "slide_type": "subslide"
    }
   },
   "source": [
    "### <font style = 'color:red'>What is GitHub?</font>\n",
    "\n"
   ]
  },
  {
   "cell_type": "markdown",
   "metadata": {
    "slideshow": {
     "slide_type": "subslide"
    }
   },
   "source": [
    "[GitHub](https://github.com/) is:\n",
    "\n",
    "\n"
   ]
  },
  {
   "cell_type": "markdown",
   "metadata": {
    "slideshow": {
     "slide_type": "fragment"
    }
   },
   "source": [
    "- A hosting service for Git repositories\n",
    "- A web interface to explore Git repositories\n",
    "- A social network of programmers\n"
   ]
  },
  {
   "cell_type": "markdown",
   "metadata": {
    "slideshow": {
     "slide_type": "subslide"
    }
   },
   "source": [
    "Some other points to note: \n",
    "\n"
   ]
  },
  {
   "cell_type": "markdown",
   "metadata": {
    "slideshow": {
     "slide_type": "fragment"
    }
   },
   "source": [
    "- It's good to have an individual GitHub account to store code that you work on\n",
    "- You can follow users and star your favorite projects\n",
    "- Developers frequently use Github to share and collaborate on open-source code\n",
    "- GitHub uses Git"
   ]
  },
  {
   "cell_type": "markdown",
   "metadata": {
    "slideshow": {
     "slide_type": "subslide"
    }
   },
   "source": [
    "#### Can you use Git without GitHub?"
   ]
  },
  {
   "cell_type": "markdown",
   "metadata": {
    "slideshow": {
     "slide_type": "fragment"
    }
   },
   "source": [
    "\n",
    "Think about this quote: “Git is software. GitHub is a company that happens to use Git software.” So yes, you can certainly use Git without GitHub!"
   ]
  },
  {
   "cell_type": "markdown",
   "metadata": {
    "slideshow": {
     "slide_type": "subslide"
    }
   },
   "source": [
    "#### How do Git and GitHub interact?\n",
    "\n"
   ]
  },
  {
   "cell_type": "markdown",
   "metadata": {
    "slideshow": {
     "slide_type": "fragment"
    }
   },
   "source": [
    "<img src=\"assets/github_process.png\" style=\"width: 700px;\">"
   ]
  },
  {
   "cell_type": "markdown",
   "metadata": {
    "slideshow": {
     "slide_type": "subslide"
    }
   },
   "source": [
    "### <font style = 'color:red'>What is GitHub Enterprise (GHE)?</font>"
   ]
  },
  {
   "cell_type": "markdown",
   "metadata": {
    "slideshow": {
     "slide_type": "subslide"
    }
   },
   "source": [
    "[GitHub Enterprise](https://enterprise.github.com/home):\n",
    "\n",
    "- A professional application of GitHub\n",
    "- All repository data is stored on private and/or local machines and networks\n",
    "\n"
   ]
  },
  {
   "cell_type": "markdown",
   "metadata": {
    "slideshow": {
     "slide_type": "fragment"
    }
   },
   "source": [
    "Where GitHub is the _public_, 'Social Network' for programming and programmers, Github Enterprise is the _private_, professional application of GitHub.  Because, GitHub and GitHub Enterprise have a similar structure and are based off the `git` language, interacting with the two is is almost identical."
   ]
  },
  {
   "cell_type": "markdown",
   "metadata": {
    "slideshow": {
     "slide_type": "subslide"
    }
   },
   "source": [
    "<font style = 'color:green'>**Question:** In your own words, what is the difference between Git, GitHub, and GitHub Enterprise?</font>"
   ]
  },
  {
   "cell_type": "markdown",
   "metadata": {
    "slideshow": {
     "slide_type": "subslide"
    }
   },
   "source": [
    "**More information on [GitHub vs GitHub Enterprise](https://enterprise.github.com/downloads/en/comvsenterprise-082415.pdf)**\n"
   ]
  },
  {
   "cell_type": "markdown",
   "metadata": {
    "slideshow": {
     "slide_type": "subslide"
    }
   },
   "source": [
    "During the course we will be interacting with both GitHub and GitHub Enterprise (GHE).  You have set up a GHE account to gather course materials and as a private repo for you to store your own works-in-progress.  \n",
    "\n",
    "You should also setup a [GitHub](http://github.com) account as a location for you to host projects and work that you want to exhibit or share. "
   ]
  },
  {
   "cell_type": "markdown",
   "metadata": {
    "slideshow": {
     "slide_type": "slide"
    }
   },
   "source": [
    "\n",
    "<a id=\"gh_ghe_accounts\"></a>\n",
    "## <font style = 'color:blue'>d) Git on GitHub and GitHub Enterprise</font>\n",
    "\n",
    "\n"
   ]
  },
  {
   "cell_type": "markdown",
   "metadata": {
    "slideshow": {
     "slide_type": "subslide"
    }
   },
   "source": [
    "For those of you that have not already set up your GitHub and GitHub Enterprise accounts, lets take a minute to do that now.\n"
   ]
  },
  {
   "cell_type": "markdown",
   "metadata": {
    "slideshow": {
     "slide_type": "fragment"
    }
   },
   "source": [
    "Account creation for both is simple.  Create a _Username_, and provide an _email_ & _password_.\n",
    "\n"
   ]
  },
  {
   "cell_type": "markdown",
   "metadata": {
    "slideshow": {
     "slide_type": "subslide"
    }
   },
   "source": [
    "_Keep in mind while you **can** use the same email, username and password for both accounts, they are **wholly separate**._\n",
    "\n",
    "- **[GitHub](https://github.com/)**\n",
    " _This is yours_\n",
    " \n",
    "- **[GitHub Enterprise for General Assembly](https://git.generalassemb.ly/join?source=header)**\n",
    "_This is ours_\n",
    "\n"
   ]
  },
  {
   "cell_type": "markdown",
   "metadata": {
    "slideshow": {
     "slide_type": "fragment"
    }
   },
   "source": [
    "You can use a GitHub account to create a GitHub Enterprise account, but that will be **your** enterprise; in that, you will not be able to use it to access the General Assembly Enterprise GitHub.\n",
    "\n",
    "If in the future you join another GitHub Enterprise you will also need to create another account for said enterprise. "
   ]
  },
  {
   "cell_type": "markdown",
   "metadata": {
    "slideshow": {
     "slide_type": "slide"
    }
   },
   "source": [
    "\n",
    "<a id=\"making_cloning\"></a>\n",
    "## <font style = 'color:green'>e) Creating and Cloning Remote Repositories: CodeAlong</font>\n",
    "\n",
    "\n",
    "\n"
   ]
  },
  {
   "cell_type": "markdown",
   "metadata": {
    "slideshow": {
     "slide_type": "subslide"
    }
   },
   "source": [
    "When using Git, GitHub and GHE it is common to have your repositories in several locations.  Typically when we use GitHub and GHE we will have two repository locations, **Remote** and **Local**.\n"
   ]
  },
  {
   "cell_type": "markdown",
   "metadata": {
    "slideshow": {
     "slide_type": "fragment"
    }
   },
   "source": [
    "- **Remote:** Repositories that are not stored in our current location/machine. Usually where we store the repo.\n",
    "- **Local:** Repositories that are stored on our current machine. Usually where we work on the repo.\n"
   ]
  },
  {
   "cell_type": "markdown",
   "metadata": {
    "slideshow": {
     "slide_type": "subslide"
    }
   },
   "source": [
    "**Let's do this together:**\n",
    "\n",
    "1. Go to your GitHub Enterprise (GHE) account.\n",
    "2. On the left hand side, hit the `New` button in the `Repositories` section.\n",
    "3. Name your repository `hello-world`.\n",
    "    - **DO NOT initialize the repository with a `README`, `.gitignore`, or license.**\n",
    "\n",
    "4. Click the big, green `Create Repository` button.\n",
    "\n"
   ]
  },
  {
   "cell_type": "markdown",
   "metadata": {
    "slideshow": {
     "slide_type": "subslide"
    }
   },
   "source": [
    "We now need to connect our local Git repository with our newly created remote repository on GitHub. We have to add a \"remote\" repository, an address where we can send our local files to be stored.\n",
    "\n"
   ]
  },
  {
   "cell_type": "markdown",
   "metadata": {
    "slideshow": {
     "slide_type": "fragment"
    }
   },
   "source": [
    "On the right hand side of your GitHub repo in the `Quick setup — if you’ve done this kind of thing before` section, click on the copy button (looks like a clipboard) to the right of the http address.  This copies the URL of the repo (which will be our remote repo). \n",
    "\n",
    "\n"
   ]
  },
  {
   "cell_type": "markdown",
   "metadata": {
    "slideshow": {
     "slide_type": "fragment"
    }
   },
   "source": [
    "_Make sure you changed directories into `hello-world` prior to running this_\n",
    "```bash\n",
    "git remote add origin https://github.com/<GITHUB-NAME>/hello-world.git\n",
    "```\n",
    "\n"
   ]
  },
  {
   "cell_type": "markdown",
   "metadata": {
    "slideshow": {
     "slide_type": "fragment"
    }
   },
   "source": [
    "_At this point you **may** be prompted for a password, especially when using GHE_"
   ]
  },
  {
   "cell_type": "markdown",
   "metadata": {
    "slideshow": {
     "slide_type": "subslide"
    }
   },
   "source": [
    "#### Pushing to GitHub"
   ]
  },
  {
   "cell_type": "markdown",
   "metadata": {
    "slideshow": {
     "slide_type": "subslide"
    }
   },
   "source": [
    "\n",
    "\n",
    "In order to send files from our local machine to our remote repository on GitHub, we need to use the command `git push`. \n",
    "\n",
    "\n",
    "However, you also need to add the name of the remote repo — in this case, we called it `origin` — and the name of the branch, in this case `master`.\n"
   ]
  },
  {
   "cell_type": "markdown",
   "metadata": {
    "slideshow": {
     "slide_type": "fragment"
    }
   },
   "source": [
    "```bash\n",
    "git push origin master\n",
    "```\n"
   ]
  },
  {
   "cell_type": "markdown",
   "metadata": {
    "slideshow": {
     "slide_type": "fragment"
    }
   },
   "source": [
    "\n",
    "\n",
    "Refresh your GitHub web page, and your files should appear."
   ]
  },
  {
   "cell_type": "markdown",
   "metadata": {
    "slideshow": {
     "slide_type": "subslide"
    }
   },
   "source": [
    "#### Creating a README.md file"
   ]
  },
  {
   "cell_type": "markdown",
   "metadata": {
    "slideshow": {
     "slide_type": "subslide"
    }
   },
   "source": [
    "\n",
    "\n",
    "Let's create a `README.md` file and push it to GitHub! \n",
    "\n",
    "\n"
   ]
  },
  {
   "cell_type": "markdown",
   "metadata": {
    "slideshow": {
     "slide_type": "fragment"
    }
   },
   "source": [
    "Any file ending with `.md` is a Markdown file -- a text file with optional [Markdown formatting](https://daringfireball.net/projects/markdown/syntax). On GitHub, the contents of the displayed directory's `README.md` is automatically displayed.\n"
   ]
  },
  {
   "cell_type": "markdown",
   "metadata": {
    "slideshow": {
     "slide_type": "subslide"
    }
   },
   "source": [
    "Create a new `README.md` text file and add some text. (We'll try the command-line text editor `nano` this time!)\n",
    "\n",
    "```bash\n",
    "nano README.md\n",
    "```\n",
    "\n"
   ]
  },
  {
   "cell_type": "markdown",
   "metadata": {
    "slideshow": {
     "slide_type": "subslide"
    }
   },
   "source": [
    "<font style='color:green'>Now, try using the same procedure as before to:</font>"
   ]
  },
  {
   "cell_type": "markdown",
   "metadata": {
    "slideshow": {
     "slide_type": "fragment"
    }
   },
   "source": [
    "\n",
    "\n",
    "\n",
    "\n",
    "* Add the new file to the staging area.  ```git add README.md```\n"
   ]
  },
  {
   "cell_type": "markdown",
   "metadata": {
    "slideshow": {
     "slide_type": "fragment"
    }
   },
   "source": [
    "* Verify the file is in the staging area, ready to be committed.  ```git status```\n"
   ]
  },
  {
   "cell_type": "markdown",
   "metadata": {
    "slideshow": {
     "slide_type": "fragment"
    }
   },
   "source": [
    "* Commit the file.  ```git commit -m'put a message here'```\n"
   ]
  },
  {
   "cell_type": "markdown",
   "metadata": {
    "slideshow": {
     "slide_type": "fragment"
    }
   },
   "source": [
    "* Push the commits to GitHub.  ```git push origin master```\n",
    "\n"
   ]
  },
  {
   "cell_type": "markdown",
   "metadata": {
    "slideshow": {
     "slide_type": "fragment"
    }
   },
   "source": [
    "Refresh your GitHub web page, and the new `README.md` file should appear. Take a look underneath the directory tree, and its contents will be automatically displayed."
   ]
  },
  {
   "cell_type": "markdown",
   "metadata": {
    "slideshow": {
     "slide_type": "slide"
    }
   },
   "source": [
    "<a name=\"pulling\"></a>\n",
    "## <font style = 'color:blue'>f) Pulling from GitHub</font>\n"
   ]
  },
  {
   "cell_type": "markdown",
   "metadata": {
    "slideshow": {
     "slide_type": "subslide"
    }
   },
   "source": [
    "\n",
    "\n",
    "Sometimes, other people will make commits and push them to GitHub. Locally, we will need to `fetch` these changes and `merge` them with our local files. To do both of these steps at once, run the `pull` command:\n",
    "\n",
    "```bash\n",
    "git pull origin master\n",
    "```\n"
   ]
  },
  {
   "cell_type": "markdown",
   "metadata": {
    "slideshow": {
     "slide_type": "subslide"
    }
   },
   "source": [
    "This pulls from our remote `origin` to our local `master` branch.\n",
    "\n",
    "Since our remote repo contains the same commits as we do locally, it will tell us everything is up-to-date."
   ]
  },
  {
   "cell_type": "markdown",
   "metadata": {
    "slideshow": {
     "slide_type": "subslide"
    }
   },
   "source": [
    "By now, you have have noticed that you are being prompted quite a bit for your password when interacting with GitHub or GitHub Enterprise via Git.  There are two ways to work around this. \n",
    "\n"
   ]
  },
  {
   "cell_type": "markdown",
   "metadata": {
    "slideshow": {
     "slide_type": "fragment"
    }
   },
   "source": [
    "**[Caching your password in Git](https://help.github.com/articles/caching-your-github-password-in-git/)**\n",
    "\n",
    "or\n",
    "\n",
    "**Using SSH and SSH Agent** (_recommended_)\n"
   ]
  },
  {
   "cell_type": "markdown",
   "metadata": {
    "slideshow": {
     "slide_type": "subslide"
    }
   },
   "source": [
    "You can use [this guide](../01-welcome-to-data-science/02a_SSH-setup.ipynb) to get it sorted, or those available on GitHub:\n",
    "\n",
    "- [Working with SSH key passphrases](https://help.github.com/articles/working-with-ssh-key-passphrases/)\n",
    "- [Generating a new SSH key and adding it to the ssh-agent](https://help.github.com/articles/generating-a-new-ssh-key-and-adding-it-to-the-ssh-agent/)\n",
    "- [Adding a new SSH key to your GitHub account](https://help.github.com/articles/adding-a-new-ssh-key-to-your-github-account/)"
   ]
  },
  {
   "cell_type": "markdown",
   "metadata": {
    "slideshow": {
     "slide_type": "slide"
    }
   },
   "source": [
    "<a id=\"ssh\"></a>\n",
    "## <font style = 'color:blue'>g) Secure Shell (SSH)</font>"
   ]
  },
  {
   "cell_type": "markdown",
   "metadata": {
    "slideshow": {
     "slide_type": "subslide"
    }
   },
   "source": [
    "\n",
    "\n",
    "\n",
    "SSH, or Secure SHell, is a common means of adding an additional layer of security.  Simply put, SSH is used to establish authenticity between a client and a server so that a secure connection can be formed.  This can be useful for secure file sharing or remote application access.  \n",
    "\n"
   ]
  },
  {
   "cell_type": "markdown",
   "metadata": {
    "slideshow": {
     "slide_type": "subslide"
    }
   },
   "source": [
    "#### How SSH works\n",
    "\n"
   ]
  },
  {
   "cell_type": "markdown",
   "metadata": {
    "slideshow": {
     "slide_type": "subslide"
    }
   },
   "source": [
    "The SSH process at a high level is relatively simple.  \n",
    "1. Client makes a request to the server.\n",
    "2. Server responds asking for authentication.\n",
    "3. Client provides authentication.\n",
    "4. If authentication is correct, a connection is established.\n",
    "\n"
   ]
  },
  {
   "cell_type": "markdown",
   "metadata": {
    "slideshow": {
     "slide_type": "fragment"
    }
   },
   "source": [
    "**Note:** An SSH Agent can be used to avoid being prompted for a password every time you push or pull to Github."
   ]
  },
  {
   "cell_type": "markdown",
   "metadata": {
    "slideshow": {
     "slide_type": "slide"
    }
   },
   "source": [
    "\n",
    "<a id=\"independent_practice3\"></a>\n",
    "## <font style='color:green'>h) Independent Practice</font>\n",
    "\n",
    "Repeat the steps above, starting from the creation of the remote repo, to create a _local_ and _remote_ repository within your GitHub Enterprise account.  \n",
    "\n",
    "\n",
    "If you have extra time and you haven't done it already, feel free to try to set up an SSH.  If you have any issues there are [SSH troubleshooting guides](#ssh_trouble) at the end of the lesson."
   ]
  },
  {
   "cell_type": "markdown",
   "metadata": {
    "slideshow": {
     "slide_type": "slide"
    }
   },
   "source": [
    "<a id=\"clone_repo\"></a>\n",
    "## <font style='color:green'>j) Cloning your first repository</font>"
   ]
  },
  {
   "cell_type": "markdown",
   "metadata": {
    "slideshow": {
     "slide_type": "subslide"
    }
   },
   "source": [
    "\n",
    "\n",
    "\n",
    "If you have a `repo` already in GitHub and want to create a local repo on your machine with it in, you can `clone` that repo from your GitHub link to have it automatically configured in a new directory (instead of going through the set up procedure in e) above).\n",
    "\n",
    "```\n",
    "git clone https://github.com/<github-username>/hello-world.git\n",
    "```\n",
    "\n"
   ]
  },
  {
   "cell_type": "markdown",
   "metadata": {
    "slideshow": {
     "slide_type": "subslide"
    }
   },
   "source": [
    "Now that everyone has a repository on GitHub, let's clone one!\n",
    "\n",
    "Cloning allows you to make a local copy of a remote repository.\n",
    "\n"
   ]
  },
  {
   "cell_type": "markdown",
   "metadata": {
    "slideshow": {
     "slide_type": "subslide"
    }
   },
   "source": [
    "Navigate back to your Desktop, and **delete your `hello-world` repository**.\n",
    "\n",
    "```bash\n",
    "cd ~/Desktop\n",
    "rm -rf hello-world\n",
    "```\n",
    "\n",
    "<font style='color:green'>Now, everyone please post their **GitHub usernames in Slack** under the thread that we'll start.\n",
    "    \n"
   ]
  },
  {
   "cell_type": "markdown",
   "metadata": {
    "slideshow": {
     "slide_type": "subslide"
    }
   },
   "source": [
    "Navigate to someone else's repository on GitHub:\n",
    "\n",
    "```bash\n",
    "https://www.github.com/<github-username>/hello-world\n",
    "```\n",
    "\n",
    "On the right-hand side, you will see the green button 'Clone or download'.</font>"
   ]
  },
  {
   "cell_type": "markdown",
   "metadata": {
    "slideshow": {
     "slide_type": "subslide"
    }
   },
   "source": [
    "#### Clone that repo!"
   ]
  },
  {
   "cell_type": "markdown",
   "metadata": {
    "slideshow": {
     "slide_type": "subslide"
    }
   },
   "source": [
    "\n",
    "\n",
    "To retrieve the contents of the repo, all you need to do is:\n",
    "\n",
    "```bash\n",
    "$ git clone git@github.com/<partners-github-username>/hello-world.git\n",
    "```\n",
    "\n"
   ]
  },
  {
   "cell_type": "markdown",
   "metadata": {
    "slideshow": {
     "slide_type": "subslide"
    }
   },
   "source": [
    "Git should reply:\n",
    "\n",
    "```bash\n",
    "Cloning into 'hello-world'...\n",
    "remote: Counting objects: 3, done.\n",
    "remote: Total 3 (delta 0), reused 3 (delta 0), pack-reused 0\n",
    "Receiving objects: 100% (3/3), done.\n",
    "Checking connectivity... done.\n",
    "```\n",
    "\n"
   ]
  },
  {
   "cell_type": "markdown",
   "metadata": {
    "slideshow": {
     "slide_type": "subslide"
    }
   },
   "source": [
    "You've now cloned your first repository!   The process will be the same with GitHub Enterprise.  \n",
    "\n",
    "Cloning is most useful when there is a repo that exists remotely that we want on our local machines. "
   ]
  },
  {
   "cell_type": "markdown",
   "metadata": {
    "slideshow": {
     "slide_type": "slide"
    }
   },
   "source": [
    "<a id=\"use_github\"></a>\n",
    "## <font style = 'color:green'>k) How we will use GitHub in this course</font>"
   ]
  },
  {
   "cell_type": "markdown",
   "metadata": {
    "slideshow": {
     "slide_type": "subslide"
    }
   },
   "source": [
    "\n",
    "\n",
    "\n",
    "For the most part, our use of GitHub in this class will be much more linear.  \n",
    "\n",
    "We will have a central class repository where all of the lesson materials are housed:\n",
    "\n",
    "\n",
    "https://git.generalassemb.ly/GADS-BOH/ds50_repo\n"
   ]
  },
  {
   "cell_type": "markdown",
   "metadata": {
    "slideshow": {
     "slide_type": "subslide"
    }
   },
   "source": [
    "You will create a `Forked` version of the master repo which will be yours to do what you want with.  \n",
    "![fork](assets/fork.png)\n",
    "\n"
   ]
  },
  {
   "cell_type": "markdown",
   "metadata": {
    "slideshow": {
     "slide_type": "fragment"
    }
   },
   "source": [
    "- Forked repos are essentially personal copies of others' repositories\n",
    "- You can't change someone else's repo without their authorisation, but if you `fork` their repo you can make any changes you want to that\n",
    "- Once you've forked a repo, if the original is updated you can pull those changes to your copy via ```git pull upstream master```\n",
    "\n"
   ]
  },
  {
   "cell_type": "markdown",
   "metadata": {
    "slideshow": {
     "slide_type": "fragment"
    }
   },
   "source": [
    "Once we have a forked copy, we will clone the fork to our machines to make a local copy.\n",
    "\n",
    "Most of your git commands will be pulling updates from the main class repo to your local and pushing changes make on your local to your remote version.\n"
   ]
  },
  {
   "cell_type": "markdown",
   "metadata": {
    "slideshow": {
     "slide_type": "subslide"
    }
   },
   "source": [
    "### <font style='color:green'>Setting up our class repo on your machine</font>\n",
    "\n",
    "1) Go to the class GitHub repo: https://git.generalassemb.ly/GADS-BOH/ds50_repo <br />\n",
    "2) Click on `Fork` <br />\n",
    "3) Choose a location for the forked repo to go in (in your GitHub Enterprise account) <br />\n",
    "4) Copy the url (`Code` then `Code with HTTPS` then copy the URL there) <br />\n",
    "5) Create a folder for the course somewhere on your machine <br />\n",
    "6) Navigate to that folder in the command line <br />\n",
    "7) In the command line, type `git clone` and then paste the URL <br />\n",
    "\n",
    "You now have the class repo on your local machine, and you can open the notebook files through Anaconda!"
   ]
  },
  {
   "cell_type": "markdown",
   "metadata": {
    "slideshow": {
     "slide_type": "subslide"
    }
   },
   "source": [
    "### But... what happens when updates are made to the original repo that we forked?  (And we want to get those updates)"
   ]
  },
  {
   "cell_type": "markdown",
   "metadata": {
    "slideshow": {
     "slide_type": "fragment"
    }
   },
   "source": [
    "\n",
    " \n",
    "We can add a link to the original repo that we forked, and `pull` any changes and merge them with our personal local and remote repos.\n",
    "\n",
    "In the command line type `git remote add upstream` and then the URL of the course repo:\n",
    "\n",
    "https://git.generalassemb.ly/GADS-BOH/ds50_repo\n",
    "\n",
    "This enables you to connect directly to the original class repo to get updates before each session (see below).\n",
    "\n",
    "\n"
   ]
  },
  {
   "cell_type": "markdown",
   "metadata": {
    "slideshow": {
     "slide_type": "subslide"
    }
   },
   "source": [
    "#### <font style='color:red'>What you need to do regularly</font>\n",
    "\n",
    "\n",
    "\n",
    "\n"
   ]
  },
  {
   "cell_type": "markdown",
   "metadata": {
    "slideshow": {
     "slide_type": "fragment"
    }
   },
   "source": [
    "At the end of session when you've worked on files in the repo, track your file changes:\n",
    "\n",
    "- Verify which files have changed: \n",
    "    \n",
    "    `git status`\n",
    "    <br />\n",
    "\n",
    "- Add all changes\n",
    "\n",
    "    `git add <file name>` (or `git add .` if you're _sure_ there aren't any files you don't want to be uploaded)\n",
    "    <br />\n",
    "\n",
    "- Commit your changes with a meaningful message (no novels, but make different stages recognizable):\n",
    "\n",
    "    `git commit -m '<your meaningful message>'`\n",
    "    <br />\n",
    "    \n",
    "- Push your changes to your repo:\n",
    "\n",
    "    `git push origin master`\n",
    "    <br />"
   ]
  },
  {
   "cell_type": "markdown",
   "metadata": {
    "slideshow": {
     "slide_type": "subslide"
    }
   },
   "source": [
    "In order to get each lesson's files before each session, you will need to (from the lessons repository):\n"
   ]
  },
  {
   "cell_type": "markdown",
   "metadata": {
    "slideshow": {
     "slide_type": "fragment"
    }
   },
   "source": [
    "- Navigate to your lessons folder in the command line\n",
    "- Then pull the current version of the course repo:\n",
    "\n",
    "    `git pull upstream master`\n",
    "    <br />\n",
    "    \n"
   ]
  },
  {
   "cell_type": "markdown",
   "metadata": {
    "slideshow": {
     "slide_type": "fragment"
    }
   },
   "source": [
    "- Then push your updated local repo (which should have your version of the lessons' files, merged with any updated and new lessons' files) into your own individual repo (where you forked the files to originally):\n",
    "\n",
    "    `git push origin master`\n",
    "    <br />\n",
    "    \n",
    "The keyword `master` refers to a particular branch (the default one). With git, not only different users can have different file versions, but also on your own you can have different file versions on different branches (more on that at a later stage).    \n",
    "    \n"
   ]
  },
  {
   "cell_type": "markdown",
   "metadata": {
    "slideshow": {
     "slide_type": "fragment"
    }
   },
   "source": [
    "<font style='color:green'>**Question:** Why does one command refers to `upstream master` and the other one to `origin master`? In other words, what's the difference between `upstream` and `origin`?</font>"
   ]
  },
  {
   "cell_type": "markdown",
   "metadata": {
    "slideshow": {
     "slide_type": "slide"
    }
   },
   "source": [
    "<img src=\"assets/upstream_updates.png\" style=\"width: 700px;\"><br />"
   ]
  },
  {
   "cell_type": "markdown",
   "metadata": {
    "slideshow": {
     "slide_type": "subslide"
    }
   },
   "source": [
    "We will manage the projects through a different repo - we'll cover this in a future class."
   ]
  },
  {
   "cell_type": "markdown",
   "metadata": {
    "slideshow": {
     "slide_type": "slide"
    }
   },
   "source": [
    "<a name=\"create_pull\"></a>\n",
    "## <font style = 'color:green'>m) Practice outside of class: Create a Pull Request on GitHub</font>\n"
   ]
  },
  {
   "cell_type": "markdown",
   "metadata": {
    "slideshow": {
     "slide_type": "subslide"
    }
   },
   "source": [
    "#### What's a \"Pull Request\"?"
   ]
  },
  {
   "cell_type": "markdown",
   "metadata": {
    "slideshow": {
     "slide_type": "fragment"
    }
   },
   "source": [
    "Often times when we are working on a project with other collaborators we all can't work on the same repo at the same time so we have these things called _branches_.  \n",
    "\n",
    "\n",
    "With branches we can create a branch off of the main repo or \"Master Branch\", perform our work whether that be additions or alterations and then merge the changes we made on _our_ branch back into the master.  \n",
    "\n"
   ]
  },
  {
   "cell_type": "markdown",
   "metadata": {
    "slideshow": {
     "slide_type": "subslide"
    }
   },
   "source": [
    "You can probably think of a few ways that multiple people trying to merge their work can get messy.  Fortunately, we have Pull Requests as means of queing and validating merges.  \n",
    "\n",
    "\n",
    "Rather than having your branch merge automatically, your request will go through an administrator who can review your changes and additions and approve or deny your request.  \n",
    "\n"
   ]
  },
  {
   "cell_type": "markdown",
   "metadata": {
    "slideshow": {
     "slide_type": "fragment"
    }
   },
   "source": [
    "<img src=\"assets/branches.jpg\" style=\"width: 500px;\"><br />\n",
    "\n",
    "_Even though we are trying to **push** our information into the master, it is called a pull request because we are making a request to the administrator to **pull** or branch into the master._"
   ]
  },
  {
   "cell_type": "markdown",
   "metadata": {
    "slideshow": {
     "slide_type": "subslide"
    }
   },
   "source": [
    "#### <font color styler='color:green'>Creating a Pull Request</font>\n"
   ]
  },
  {
   "cell_type": "markdown",
   "metadata": {
    "slideshow": {
     "slide_type": "subslide"
    }
   },
   "source": [
    "Before you can open a `Pull Request`, you must create a branch in your local repository, commit to it, and push that branch to a repository or fork on GitHub.\n",
    "\n"
   ]
  },
  {
   "cell_type": "markdown",
   "metadata": {
    "slideshow": {
     "slide_type": "subslide"
    }
   },
   "source": [
    "* Go to the GitHub page for a repo of yours\n",
    "\n",
    "\n",
    "* Click the button labeled 'Master' on the left towards the top and create a branch called 'branch-edits' by typing in the box and hitting enter.  This should put you on your new branches page\n",
    "\n",
    "\n",
    "* Make sure you're on your new branch and in GitHub create a new '.md' or '.txt' file:\n",
    "    - Click on the 'Add file' button on the right towards the top\n",
    "    - Select 'Create new file'\n",
    "    - Call it what you like and place some text in it\n",
    "\n",
    "\n",
    "* Click the 'Compare & pull request' button in the repository (if you can't see one, look for a link called '+- Compare' just below the green 'Code' button)\n",
    "![pr](assets/pr.jpg)\n",
    "\n"
   ]
  },
  {
   "cell_type": "markdown",
   "metadata": {
    "slideshow": {
     "slide_type": "subslide"
    }
   },
   "source": [
    "* You'll land right onto the Compare page. Next, above the filename you should see two boxes labeled 'base:master' and 'compare: branch-edits'.  You can change these but they are correct by default: your new 'branch-edits' branch is being compared with the 'master' branch.\n",
    "\n",
    "\n",
    "* Select the target branch that your branch should be merged to using the \"Base Branch\" dropdown menu\n",
    "\n",
    "\n",
    "* Review your proposed change\n",
    "\n",
    "\n",
    "* Hit 'Click to create a pull request' for this comparison\n"
   ]
  },
  {
   "cell_type": "markdown",
   "metadata": {
    "slideshow": {
     "slide_type": "subslide"
    }
   },
   "source": [
    "As you are working on your own repo in your own GitHub you will be able to merge the branch at your leisure by clicking the 'Merge pull request' button.\n",
    "\n",
    "If you were working on a shared repo, there may be security in place to stop you merging until someone else has reviewed it and approved it."
   ]
  },
  {
   "cell_type": "markdown",
   "metadata": {
    "slideshow": {
     "slide_type": "subslide"
    }
   },
   "source": [
    "#### How it works in practice: a GitHub Example Project\n"
   ]
  },
  {
   "cell_type": "markdown",
   "metadata": {
    "slideshow": {
     "slide_type": "subslide"
    }
   },
   "source": [
    "\n",
    "A company is building onto their website and adding a few new features.  They are assigning a team of engineers to complete the task.  \n",
    "\n",
    "- Engineer 1 is responsible for re-doing the home page.\n",
    "- Engineer 2 is responsible for re-working content pages 1 & 2\n",
    "- Engineer 3 is responsible for re-working content pages 3 & 4\n",
    "\n",
    "In this situation the `master` branch would probably be a copy of the files and scripts for the original website.  As this is the master copy it is best not to make any edits to it until those changes have been vetted."
   ]
  },
  {
   "cell_type": "markdown",
   "metadata": {
    "slideshow": {
     "slide_type": "subslide"
    }
   },
   "source": [
    "The engineer team starts by making a branch off of the master called '`project_1`'.\n",
    "\n",
    "From '`project_1`' the team of engineers would probably create their own branches to perform their tasks in.\n",
    "\n",
    "- Engineer 1 : '`project_1_homepage`'\n",
    "- Engineer 2 : '`project_1_content1_2`'\n",
    "- Engineer 3 : '`project_1_content3_4`'\n",
    "\n",
    "\n",
    "Once each engineer completed their task they would merge the changes from their branch into '`project_1`'.  \n",
    "\n",
    "Now that all of the individual work has been compiled they can test the website and make sure that there are no bugs or issues then merge '`project_1`' back into the master copy."
   ]
  },
  {
   "cell_type": "markdown",
   "metadata": {
    "slideshow": {
     "slide_type": "slide"
    }
   },
   "source": [
    "\n",
    "<a id=\"independent_practice4\"></a>\n",
    "## <font style = 'color:green'>n) Practice outside of class</font>\n",
    "- Explain the following commands in your own words.  Imagine that the audience are unfamiliar with Git and this is their first exposure to it.\n",
    "- `init`, `add`, `commit`, `push`, `pull`, `clone`, and `fork`.\n"
   ]
  },
  {
   "cell_type": "markdown",
   "metadata": {
    "slideshow": {
     "slide_type": "slide"
    }
   },
   "source": [
    "\n",
    "<a id=\"git_tips\"></a>\n",
    "## <font style='color: blue'>o) Useful Git commands</font>\n",
    "\n",
    "<font style='color: SlateBlue'>*Initiate a git repo locally for the folder you're in*\n",
    "```\n",
    "git init\n",
    "```\n",
    "\n"
   ]
  },
  {
   "cell_type": "markdown",
   "metadata": {
    "slideshow": {
     "slide_type": "subslide"
    }
   },
   "source": [
    "*Clone a remote repo*\n",
    "```\n",
    "git clone <url taken from the remote repo>\n",
    "```\n",
    "\n",
    "<br />\n",
    "\n"
   ]
  },
  {
   "cell_type": "markdown",
   "metadata": {
    "slideshow": {
     "slide_type": "subslide"
    }
   },
   "source": [
    "*Upload your changes to a remote repo*<br />\n",
    "**This is the most frequently used git sequence**\n",
    "```\n",
    "git add <folder or filename>\n",
    "git commit -m'your brief message about what's changed'\n",
    "git push origin master\n",
    "```\n",
    "\n",
    "<br />\n",
    "\n"
   ]
  },
  {
   "cell_type": "markdown",
   "metadata": {
    "slideshow": {
     "slide_type": "subslide"
    }
   },
   "source": [
    "*Pull updates from a remote repo*<br />\n",
    "**Watch out as this will overwrite any local changes you've made (if you're pulling `origin`)**\n",
    "```\n",
    "git pull origin master\n",
    "```\n",
    "\n"
   ]
  },
  {
   "cell_type": "markdown",
   "metadata": {
    "slideshow": {
     "slide_type": "subslide"
    }
   },
   "source": [
    "*Get the status relative to the remote version*\n",
    "\n",
    "```\n",
    "git remote update\n",
    "git status\n",
    "```\n",
    "\n"
   ]
  },
  {
   "cell_type": "markdown",
   "metadata": {
    "slideshow": {
     "slide_type": "subslide"
    }
   },
   "source": [
    "*Setup the upstream remote*\n",
    "\n",
    "```\n",
    "git remote add upstream <origin URL>\n",
    "```\n",
    "\n"
   ]
  },
  {
   "cell_type": "markdown",
   "metadata": {
    "slideshow": {
     "slide_type": "subslide"
    }
   },
   "source": [
    "*Configure your name and email address*\n",
    "\n",
    "```\n",
    "git config --global user.name \"John Doe\"\n",
    "git config --global user.email johndoe@example.com\n",
    "```\n",
    "\n"
   ]
  },
  {
   "cell_type": "markdown",
   "metadata": {
    "slideshow": {
     "slide_type": "subslide"
    }
   },
   "source": [
    "*Remove link between local and remote repos (you can just delete the folder; this is if you want to keep the folder but disconnect it from the remote repo)*\n",
    "```\n",
    "git remote rm origin\n",
    "```\n",
    "<br />\n",
    "\n"
   ]
  },
  {
   "cell_type": "markdown",
   "metadata": {
    "slideshow": {
     "slide_type": "subslide"
    }
   },
   "source": [
    "**Other commands to look up**:\n",
    "- How to move between git branches\n",
    "- How to rename a git branch (locally and remotely)\n"
   ]
  },
  {
   "cell_type": "markdown",
   "metadata": {
    "slideshow": {
     "slide_type": "slide"
    }
   },
   "source": [
    "\n",
    "<a id=\"conclusion2\"></a>\n",
    "## <font style=\"color:blue\">p) Lesson Review : Git and GitHub</font>\n",
    "\n",
    "Do you feel comfortable with Git, GitHub and GitHub Enterprise? As we'll be using them in alot a lot of our coursework, let's make sure you are! \n",
    "\n",
    "We understand that Git and GitHub can be difficult to mentally grasp initially, so if you have an questions about the following or other Git aspects please ask now.\n",
    "\n",
    "- Basic Git commands, `init`, `add`, `commit`, `push`, `pull`, and `clone`\n",
    "- Local and Remote repositories\n",
    "- Cloning, Branching, Merging and Pull Requests\n",
    "- Installing Git"
   ]
  }
 ],
 "metadata": {
  "celltoolbar": "Slideshow",
  "kernelspec": {
   "display_name": "Python 3",
   "language": "python",
   "name": "python3"
  },
  "language_info": {
   "codemirror_mode": {
    "name": "ipython",
    "version": 3
   },
   "file_extension": ".py",
   "mimetype": "text/x-python",
   "name": "python",
   "nbconvert_exporter": "python",
   "pygments_lexer": "ipython3",
   "version": "3.8.5"
  }
 },
 "nbformat": 4,
 "nbformat_minor": 1
}
