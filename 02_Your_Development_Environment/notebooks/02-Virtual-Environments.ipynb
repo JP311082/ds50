{
 "cells": [
  {
   "cell_type": "markdown",
   "id": "359d53d2",
   "metadata": {},
   "source": [
    "<img src=\"./assets/1ZcRyrc.png\" style=\"float: left; margin: 20px; height: 55px\">\n",
    "\n",
    "## Creating and using virtual environments\n"
   ]
  },
  {
   "cell_type": "markdown",
   "id": "a9fe6027",
   "metadata": {
    "slideshow": {
     "slide_type": "slide"
    }
   },
   "source": [
    "<a id=\"home\"></a>\n",
    "\n",
    "## Lesson Guide\n",
    "\n",
    "---\n",
    "### Part 2: Creating and using virtual environments\n",
    "\n",
    "- The problem of putting all your eggs in one basket\n",
    "- conda\n",
    "- pip\n",
    "- Independent Practice\n",
    "- Conclusion"
   ]
  },
  {
   "cell_type": "markdown",
   "id": "b8c97514",
   "metadata": {
    "slideshow": {
     "slide_type": "slide"
    }
   },
   "source": [
    "## The problem of putting all your eggs in one basket\n",
    "---"
   ]
  },
  {
   "cell_type": "markdown",
   "id": "63bd2b98",
   "metadata": {
    "slideshow": {
     "slide_type": "subslide"
    }
   },
   "source": [
    "Python, like most other modern programming languages, has its own unique way of downloading, storing, and resolving packages (or modules). \n",
    "\n"
   ]
  },
  {
   "cell_type": "markdown",
   "id": "5cdd5fb1",
   "metadata": {
    "slideshow": {
     "slide_type": "fragment"
    }
   },
   "source": [
    "While this has its advantages, there were some interesting decisions made about package storage and resolution, which has lead to some problems—particularly with how and where packages are stored."
   ]
  },
  {
   "cell_type": "markdown",
   "id": "f1952ea3",
   "metadata": {
    "slideshow": {
     "slide_type": "subslide"
    }
   },
   "source": [
    "So, why do all of these little details matter?\n",
    "\n"
   ]
  },
  {
   "cell_type": "markdown",
   "id": "c65ee925",
   "metadata": {
    "slideshow": {
     "slide_type": "fragment"
    }
   },
   "source": [
    "It’s important to know this because, by default, every project on your system will use these same directories to store and retrieve site packages (third party libraries). \n",
    "\n"
   ]
  },
  {
   "cell_type": "markdown",
   "id": "b7fc1ae4",
   "metadata": {
    "slideshow": {
     "slide_type": "fragment"
    }
   },
   "source": [
    "* At first glance, this may not seem like a big deal, and it isn’t really, for system packages (packages that are part of the standard Python library), but it does matter for site packages."
   ]
  },
  {
   "cell_type": "markdown",
   "id": "a70230f9",
   "metadata": {
    "slideshow": {
     "slide_type": "subslide"
    }
   },
   "source": [
    "Consider the following scenario where you have two projects: ProjectA and ProjectB, both of which have a dependency on the same library, ProjectC. \n",
    "\n"
   ]
  },
  {
   "cell_type": "markdown",
   "id": "a0da6aaf",
   "metadata": {
    "slideshow": {
     "slide_type": "subslide"
    }
   },
   "source": [
    "The problem becomes apparent when we start requiring different versions of ProjectC. \n",
    "\n"
   ]
  },
  {
   "cell_type": "markdown",
   "id": "8e849517",
   "metadata": {
    "slideshow": {
     "slide_type": "fragment"
    }
   },
   "source": [
    "* Maybe ProjectA needs v1.0.0, while ProjectB requires the newer v2.0.0, for example.\n",
    "\n"
   ]
  },
  {
   "cell_type": "markdown",
   "id": "9f5fb0a3",
   "metadata": {
    "slideshow": {
     "slide_type": "fragment"
    }
   },
   "source": [
    "* This is a real problem for Python since it can’t differentiate between versions in the site-packages directory. \n",
    "\n"
   ]
  },
  {
   "cell_type": "markdown",
   "id": "c6929290",
   "metadata": {
    "slideshow": {
     "slide_type": "fragment"
    }
   },
   "source": [
    "* So both v1.0.0 and v2.0.0 would reside in the same directory with the same name:"
   ]
  },
  {
   "cell_type": "markdown",
   "id": "9c1f3446",
   "metadata": {
    "slideshow": {
     "slide_type": "fragment"
    }
   },
   "source": [
    "```bash\n",
    "/System/Library/Frameworks/Python.framework/Versions/3.9/Extras/lib/python/ProjectC\n",
    "```"
   ]
  },
  {
   "cell_type": "markdown",
   "id": "d652ce04",
   "metadata": {
    "slideshow": {
     "slide_type": "subslide"
    }
   },
   "source": [
    "Since projects are stored according to just their name, there is no differentiation between versions. \n",
    "\n"
   ]
  },
  {
   "cell_type": "markdown",
   "id": "690fc079",
   "metadata": {
    "slideshow": {
     "slide_type": "fragment"
    }
   },
   "source": [
    "Thus, both projects, ProjectA and ProjectB, would be required to use the same version, which is unacceptable in many cases.\n",
    "\n",
    "This is where virtual environments come into play…"
   ]
  },
  {
   "cell_type": "markdown",
   "id": "0b4ee300",
   "metadata": {
    "slideshow": {
     "slide_type": "slide"
    }
   },
   "source": [
    "## What Is a Virtual Environment?\n",
    "---------"
   ]
  },
  {
   "cell_type": "markdown",
   "id": "1d34a505",
   "metadata": {
    "slideshow": {
     "slide_type": "subslide"
    }
   },
   "source": [
    "\n",
    "\n",
    "At its core, the main purpose of Python virtual environments is to create an isolated environment for Python projects. \n",
    "\n",
    "This means that each project can have its own dependencies, regardless of what dependencies every other project has.\n",
    "\n",
    "\n",
    "\n"
   ]
  },
  {
   "cell_type": "markdown",
   "id": "50643cfe",
   "metadata": {
    "slideshow": {
     "slide_type": "subslide"
    }
   },
   "source": [
    "In our little example, we’d just need to create a separate virtual environment for both ProjectA and ProjectB, and we’d be good to go. \n",
    "\n",
    "Each environment, in turn, would be able to depend on whatever version of ProjectC they choose, independent of the other."
   ]
  },
  {
   "cell_type": "markdown",
   "id": "1c992242",
   "metadata": {
    "slideshow": {
     "slide_type": "fragment"
    }
   },
   "source": [
    "The great thing about this is that there are no limits to the number of environments you can have since they’re just directories containing a few scripts. \n",
    "\n",
    "\n"
   ]
  },
  {
   "cell_type": "markdown",
   "id": "136e702c",
   "metadata": {
    "slideshow": {
     "slide_type": "slide"
    }
   },
   "source": [
    "## Conda\n",
    "------"
   ]
  },
  {
   "cell_type": "markdown",
   "id": "07c45161",
   "metadata": {
    "slideshow": {
     "slide_type": "subslide"
    }
   },
   "source": [
    "We'll be using **conda** to create our virtual environments.\n",
    "\n"
   ]
  },
  {
   "cell_type": "markdown",
   "id": "e2965c30",
   "metadata": {
    "slideshow": {
     "slide_type": "subslide"
    }
   },
   "source": [
    "Conda is a language-agnostic tool for package management and environment management. As a package manager, Conda can install, update and remove packages. As an environment manager, it can manage virtual environments.\n",
    "\n",
    "It is installed as part of your Anaconda installation."
   ]
  },
  {
   "cell_type": "markdown",
   "id": "32a7bcac",
   "metadata": {
    "slideshow": {
     "slide_type": "subslide"
    }
   },
   "source": [
    "Here, we the terminal in macOS. \n",
    "\n",
    "\n",
    "* Windows users will have to use Anaconda Prompt if you've not added the Conda environment path to your Windows environment variable."
   ]
  },
  {
   "cell_type": "markdown",
   "id": "075ae70a",
   "metadata": {
    "slideshow": {
     "slide_type": "subslide"
    }
   },
   "source": [
    "#### Display Conda environment information"
   ]
  },
  {
   "cell_type": "markdown",
   "id": "0a129037",
   "metadata": {
    "slideshow": {
     "slide_type": "subslide"
    }
   },
   "source": [
    "To show information about your current Conda install:\n",
    "\n",
    "```bash\n",
    "% conda info\n",
    "```\n"
   ]
  },
  {
   "cell_type": "markdown",
   "id": "b18e1b73",
   "metadata": {
    "slideshow": {
     "slide_type": "fragment"
    }
   },
   "source": [
    "<img src=\"assets/conda_info.png\" width=\"800\">"
   ]
  },
  {
   "cell_type": "markdown",
   "id": "4bdc7894",
   "metadata": {
    "slideshow": {
     "slide_type": "subslide"
    }
   },
   "source": [
    "#### List all existing environments"
   ]
  },
  {
   "cell_type": "markdown",
   "id": "f611d281",
   "metadata": {
    "slideshow": {
     "slide_type": "subslide"
    }
   },
   "source": [
    "We can use conda env list to list all existing Python environments. \n",
    "\n",
    "The * will point to the current active environment. \n",
    "\n",
    "**base** is always the default active environment when you open your terminal."
   ]
  },
  {
   "cell_type": "markdown",
   "id": "4daa321e",
   "metadata": {
    "slideshow": {
     "slide_type": "fragment"
    }
   },
   "source": [
    "```bash\n",
    "% conda env list\n",
    "```\n"
   ]
  },
  {
   "cell_type": "markdown",
   "id": "def7420a",
   "metadata": {
    "slideshow": {
     "slide_type": "fragment"
    }
   },
   "source": [
    "<img src=\"assets/conda_env_list.png\" width=\"1000\">"
   ]
  },
  {
   "cell_type": "markdown",
   "id": "1178dac0",
   "metadata": {
    "slideshow": {
     "slide_type": "subslide"
    }
   },
   "source": [
    "#### Create a new environment"
   ]
  },
  {
   "cell_type": "markdown",
   "id": "10ac5ca1",
   "metadata": {
    "slideshow": {
     "slide_type": "subslide"
    }
   },
   "source": [
    "Let’s say you want to create a virtual environment for your new project, we can use conda create to create a new environment named project-env. \n",
    "\n",
    "We can also specify the Python version when creating the environment.\n",
    "\n"
   ]
  },
  {
   "cell_type": "markdown",
   "id": "a9dc3510",
   "metadata": {
    "slideshow": {
     "slide_type": "fragment"
    }
   },
   "source": [
    "```bash\n",
    "(base) username % conda create --name project-env python=3.9\n",
    "```"
   ]
  },
  {
   "cell_type": "markdown",
   "id": "97af8742",
   "metadata": {
    "slideshow": {
     "slide_type": "subslide"
    }
   },
   "source": [
    "conda will install a number of initial packages: press 'y' when prompted."
   ]
  },
  {
   "cell_type": "markdown",
   "id": "432acb1b",
   "metadata": {},
   "source": [
    "<img src=\"assets/conda_create.png\" width=\"700\">"
   ]
  },
  {
   "cell_type": "markdown",
   "id": "d16a2912",
   "metadata": {
    "slideshow": {
     "slide_type": "fragment"
    }
   },
   "source": [
    "After creating your new environment, you can run conda env list to check your new environment."
   ]
  },
  {
   "cell_type": "markdown",
   "id": "9ed7b659",
   "metadata": {
    "slideshow": {
     "slide_type": "fragment"
    }
   },
   "source": [
    "The environments created by Conda is always located in */Users/.../anaconda3/envs/*"
   ]
  },
  {
   "cell_type": "markdown",
   "id": "8f384fe5",
   "metadata": {
    "slideshow": {
     "slide_type": "subslide"
    }
   },
   "source": [
    "#### Activate your new environment"
   ]
  },
  {
   "cell_type": "markdown",
   "id": "3e46889a",
   "metadata": {
    "slideshow": {
     "slide_type": "subslide"
    }
   },
   "source": [
    "You have successfully created your new Python environment. \n",
    "\n",
    "Now we have to activate and use it."
   ]
  },
  {
   "cell_type": "markdown",
   "id": "dec7ea33",
   "metadata": {
    "slideshow": {
     "slide_type": "fragment"
    }
   },
   "source": [
    "```bash\n",
    "(base) username % conda activate project-env\n",
    "```\n",
    "```bash\n",
    "(project-env) username %\n",
    "```"
   ]
  },
  {
   "cell_type": "markdown",
   "id": "9e970298",
   "metadata": {
    "slideshow": {
     "slide_type": "fragment"
    }
   },
   "source": [
    "The (project-env) indicates the current active environment.\n",
    "\n"
   ]
  },
  {
   "cell_type": "markdown",
   "id": "43530217",
   "metadata": {
    "slideshow": {
     "slide_type": "subslide"
    }
   },
   "source": [
    "You can use conda list to display all packages in this environment."
   ]
  },
  {
   "cell_type": "markdown",
   "id": "8328f8fe",
   "metadata": {},
   "source": [
    "<img src=\"assets/conda_list.png\" width=\"700\">"
   ]
  },
  {
   "cell_type": "markdown",
   "id": "04cba6e0",
   "metadata": {
    "slideshow": {
     "slide_type": "subslide"
    }
   },
   "source": [
    "#### Deactivate/Change your active environment"
   ]
  },
  {
   "cell_type": "markdown",
   "id": "d787b305",
   "metadata": {
    "slideshow": {
     "slide_type": "subslide"
    }
   },
   "source": [
    "You can always use ***conda activate*** or ***conda deactivate*** to switch between your environments. \n",
    "\n",
    "You can directly activate the environment you wish to use by using ***conda activate***."
   ]
  },
  {
   "cell_type": "markdown",
   "id": "cb8d0b39",
   "metadata": {
    "slideshow": {
     "slide_type": "fragment"
    }
   },
   "source": [
    "```bash\n",
    "(project-env) username ~ % conda activate base\n",
    "(base) username ~ %\n",
    "```"
   ]
  },
  {
   "cell_type": "markdown",
   "id": "0ab65ea4",
   "metadata": {
    "slideshow": {
     "slide_type": "subslide"
    }
   },
   "source": [
    "***conda deactivate*** will deactivate your current active environment and change to the default environment which is the base environment."
   ]
  },
  {
   "cell_type": "markdown",
   "id": "d0f63ee1",
   "metadata": {
    "slideshow": {
     "slide_type": "fragment"
    }
   },
   "source": [
    "```bash\n",
    "(project-env) username ~ % conda deactivate\n",
    "(base) username ~ %\n",
    "```"
   ]
  },
  {
   "cell_type": "markdown",
   "id": "aa80306b",
   "metadata": {
    "slideshow": {
     "slide_type": "subslide"
    }
   },
   "source": [
    "#### Removing your environment"
   ]
  },
  {
   "cell_type": "markdown",
   "id": "7aea8eb6",
   "metadata": {
    "slideshow": {
     "slide_type": "subslide"
    }
   },
   "source": [
    "While you are done with this environment and wish to remove it. \n",
    "\n",
    "You can use ***conda env remove*** to remove the environment."
   ]
  },
  {
   "cell_type": "markdown",
   "id": "a3a4a8be",
   "metadata": {
    "slideshow": {
     "slide_type": "fragment"
    }
   },
   "source": [
    "```bash\n",
    "(base) username ~ % conda env remove --name project-env\n",
    "```"
   ]
  },
  {
   "cell_type": "markdown",
   "id": "17b73fe2",
   "metadata": {
    "slideshow": {
     "slide_type": "slide"
    }
   },
   "source": [
    "## Installing packages with pip\n",
    "-----"
   ]
  },
  {
   "cell_type": "markdown",
   "id": "6fb37ce3",
   "metadata": {
    "slideshow": {
     "slide_type": "subslide"
    }
   },
   "source": [
    "We usually use ***pip*** to install further Python packages in a newly created environment. \n",
    "\n",
    "So, what exactly does pip do? pip is a package manager for Python. \n",
    "\n",
    "That means it’s a tool that allows you to install and manage libraries and dependencies that aren’t distributed as part of the Python standard library."
   ]
  },
  {
   "cell_type": "markdown",
   "id": "8ae0a4d0",
   "metadata": {
    "slideshow": {
     "slide_type": "subslide"
    }
   },
   "source": [
    "Python has an active community that contributes an extensive set of packages that can help you with your development needs. \n",
    "\n",
    "These packages are published to the Python Package Index, also known as **PyPI** (pronounced Pie Pea Eye), and can be accessed via pip\n",
    "\n"
   ]
  },
  {
   "cell_type": "markdown",
   "id": "864e83b1",
   "metadata": {
    "slideshow": {
     "slide_type": "subslide"
    }
   },
   "source": [
    "PyPI hosts an extensive collection of packages, including development frameworks, tools, and libraries. \n",
    "\n",
    "Many of these packages provide friendly interfaces to the Python standard library’s functionality."
   ]
  },
  {
   "cell_type": "markdown",
   "id": "785679b3",
   "metadata": {
    "slideshow": {
     "slide_type": "subslide"
    }
   },
   "source": [
    "#### Installing packages"
   ]
  },
  {
   "cell_type": "markdown",
   "id": "1e67c761",
   "metadata": {
    "slideshow": {
     "slide_type": "subslide"
    }
   },
   "source": [
    "To install a package, run:"
   ]
  },
  {
   "cell_type": "markdown",
   "id": "34a51593",
   "metadata": {
    "slideshow": {
     "slide_type": "fragment"
    }
   },
   "source": [
    "```bash\n",
    "(project-env) username ~ % pip install (package name)\n",
    "```"
   ]
  },
  {
   "cell_type": "markdown",
   "id": "5163a33a",
   "metadata": {
    "slideshow": {
     "slide_type": "fragment"
    }
   },
   "source": [
    "<img src=\"assets/pip_install.png\" width=\"700\">"
   ]
  },
  {
   "cell_type": "markdown",
   "id": "072e12c4",
   "metadata": {
    "slideshow": {
     "slide_type": "subslide"
    }
   },
   "source": [
    "You can install multiple packages on the command line:"
   ]
  },
  {
   "cell_type": "markdown",
   "id": "86a3cb9e",
   "metadata": {
    "slideshow": {
     "slide_type": "fragment"
    }
   },
   "source": [
    "```bash\n",
    "(project-env) username ~ % pip install pandas tensorflow seaborn\n",
    "```"
   ]
  },
  {
   "cell_type": "markdown",
   "id": "15ec8ea4",
   "metadata": {
    "slideshow": {
     "slide_type": "subslide"
    }
   },
   "source": [
    "#### Removing packages"
   ]
  },
  {
   "cell_type": "markdown",
   "id": "79b0a8b4",
   "metadata": {
    "slideshow": {
     "slide_type": "subslide"
    }
   },
   "source": [
    "You can remove a Python package via pip by typing:"
   ]
  },
  {
   "cell_type": "markdown",
   "id": "add88776",
   "metadata": {
    "slideshow": {
     "slide_type": "fragment"
    }
   },
   "source": [
    "```bash\n",
    "(project-env) username ~ % pip uninstall pandas \n",
    "```"
   ]
  },
  {
   "cell_type": "markdown",
   "id": "a9d4403e",
   "metadata": {
    "slideshow": {
     "slide_type": "fragment"
    }
   },
   "source": [
    "<img src=\"assets/pip_remove.png\" width=\"700\">"
   ]
  },
  {
   "cell_type": "markdown",
   "id": "0f14c3ec",
   "metadata": {
    "slideshow": {
     "slide_type": "slide"
    }
   },
   "source": [
    "## Independent Practice\n",
    "----"
   ]
  },
  {
   "cell_type": "markdown",
   "id": "d477266a",
   "metadata": {
    "slideshow": {
     "slide_type": "subslide"
    }
   },
   "source": [
    "Using conda and pip, create a new virtual environment for use and then populate it with the following packages:\n",
    "    \n",
    "    scikit-learn\n",
    "    pandas\n",
    "    seaborn"
   ]
  },
  {
   "cell_type": "markdown",
   "id": "4a2af0ee",
   "metadata": {
    "slideshow": {
     "slide_type": "slide"
    }
   },
   "source": [
    "<a id='conclusion'></a>\n",
    "##  <font style = 'color:blue'> Lesson Review : Virtual Environments</font>\n",
    "---\n",
    "\n",
    "In this session we learned about virtual environments, how to create and manage them, and how to populate them with new Python packages."
   ]
  }
 ],
 "metadata": {
  "celltoolbar": "Slideshow",
  "kernelspec": {
   "display_name": "Python 3",
   "language": "python",
   "name": "python3"
  },
  "language_info": {
   "codemirror_mode": {
    "name": "ipython",
    "version": 3
   },
   "file_extension": ".py",
   "mimetype": "text/x-python",
   "name": "python",
   "nbconvert_exporter": "python",
   "pygments_lexer": "ipython3",
   "version": "3.8.5"
  }
 },
 "nbformat": 4,
 "nbformat_minor": 5
}
