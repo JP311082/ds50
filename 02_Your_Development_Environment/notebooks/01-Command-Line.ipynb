{
 "cells": [
  {
   "cell_type": "markdown",
   "metadata": {
    "slideshow": {
     "slide_type": "slide"
    }
   },
   "source": [
    "<img src=\"./assets/1ZcRyrc.png\" style=\"float: left; margin: 20px; height: 55px\">\n",
    "\n",
    "## Your Development Environment\n"
   ]
  },
  {
   "cell_type": "markdown",
   "metadata": {
    "slideshow": {
     "slide_type": "slide"
    }
   },
   "source": [
    "## Student Pre-Work \n",
    "\n",
    "**Mac**\n",
    "- Install [Homebrew](http://brew.sh/).\n",
    "- Install Git (after installing Homebrew, type \"brew install git\").  \n",
    "\n",
    "**Windows**  \n",
    "- Install [Git Bash](https://git-for-windows.github.io/)\n",
    "\n",
    "\n",
    "\n",
    "\n",
    "\n",
    "\n"
   ]
  },
  {
   "cell_type": "markdown",
   "metadata": {
    "slideshow": {
     "slide_type": "slide"
    }
   },
   "source": [
    "## <font style = 'color:blue'>Learning Objectives</font>\n",
    "\n",
    "#### **Part 1: Using the Command Line**\n",
    "_After this lesson, you will be able to:_\n",
    "- Create folders and files using the command line (`mkdir`, `touch`).\n",
    "- Change directories and list directory content (`cd`, `ls`).\n",
    "- Check the current working directory (`pwd`).\n",
    "\n",
    "\n"
   ]
  },
  {
   "cell_type": "markdown",
   "metadata": {
    "slideshow": {
     "slide_type": "subslide"
    }
   },
   "source": [
    "#### **Part 2: Creating and using virtual environments**\n",
    "_After this lesson, you will be able to:_\n",
    "- Create and use a new Python virtual environment using the command line (`conda`).\n",
    "- Populate the virtual environment with new Python packages (`pip`).\n"
   ]
  },
  {
   "cell_type": "markdown",
   "metadata": {
    "slideshow": {
     "slide_type": "subslide"
    }
   },
   "source": [
    "#### **Part 3: Git and GitHub**\n",
    "*After this lesson, you will be able to:*\n",
    "- Use and explain common Git commands, including `init`, `add`, `commit`, `push`, `pull`, and `clone`.\n",
    "- Distinguish between local and remote repositories.\n",
    "- Create, copy, and delete repositories locally or on GitHub.\n",
    "- Clone remote repositories.\n",
    "- Establish Secure Shell connections to remote repositories."
   ]
  },
  {
   "cell_type": "markdown",
   "metadata": {
    "slideshow": {
     "slide_type": "subslide"
    }
   },
   "source": [
    "### FYI\n",
    "\n",
    "To convert the Jupyter notebooks into HTML slides, from a terminal:"
   ]
  },
  {
   "cell_type": "markdown",
   "metadata": {
    "slideshow": {
     "slide_type": "fragment"
    }
   },
   "source": [
    "```bash\n",
    "jupyter nbconvert name_of_file --to slides --post serve\n",
    "```"
   ]
  },
  {
   "cell_type": "markdown",
   "metadata": {
    "slideshow": {
     "slide_type": "slide"
    }
   },
   "source": [
    "<a id=\"home\"></a>\n",
    "\n",
    "## Lesson Guide\n",
    "\n",
    "---\n",
    "### [Part 1: Using the Command Line](#command)\n",
    "- [Introduction](#introduction)\n",
    "- [a) Command Line](#command_line)\n",
    "- [b) Paths](#paths)\n",
    "- [c) Editing and Examining Files](#editing_files)\n",
    "- [d) Finding Files](#finding_files)\n",
    "- [e) Independent Practice](#independent_practice)\n",
    "- [f) Environments for Data Science](#ide)\n",
    "- [g) Independent Practice: Jupyter Notebook](#independent_practice2)\n",
    "- [h) Conclusion](#conclusion)\n"
   ]
  },
  {
   "cell_type": "markdown",
   "metadata": {
    "slideshow": {
     "slide_type": "slide"
    }
   },
   "source": [
    "<a id='command'></a>\n",
    "# <font style = 'color:blue'>Part 1: Using the Command Line</font>\n"
   ]
  },
  {
   "cell_type": "markdown",
   "metadata": {
    "slideshow": {
     "slide_type": "subslide"
    }
   },
   "source": [
    "<a id='introduction'></a>\n",
    "\n",
    "###  What is a GUI?\n",
    "\n",
    "---\n"
   ]
  },
  {
   "cell_type": "markdown",
   "metadata": {
    "slideshow": {
     "slide_type": "fragment"
    }
   },
   "source": [
    "\n",
    "\n",
    "There was a time when computers didn't come with a graphical user interface (GUI, pronounced \"gooey\"). Instead, everyone interacted with the computer using text commands in what we call a command-line interface (CLI).\n",
    "\n",
    "\n",
    "<img src=\"assets/dos_wikimedia.png\" width=\"500\">\n"
   ]
  },
  {
   "cell_type": "markdown",
   "metadata": {
    "slideshow": {
     "slide_type": "subslide"
    }
   },
   "source": [
    "<a id='command_line'></a>\n",
    "## <font style = 'color:blue'>a) Why Command Line?</font>\n",
    "\n",
    "---"
   ]
  },
  {
   "cell_type": "markdown",
   "metadata": {
    "slideshow": {
     "slide_type": "subslide"
    }
   },
   "source": [
    "\n",
    "\n",
    "\n",
    "Everything you can do in a windowed environment, you can do in the terminal — and faster. When you use the mouse, click on buttons, confirm operations, or wait for windows to load, you waste time! Terminal commands can assist you with:\n",
    "\n",
    "* Running processes\n",
    "* Finding files\n",
    "* Substring match of file contents\n",
    "* Assessing performance\n",
    "* Remote operations\n",
    "* Web browsing\n",
    "* Installing packages\n",
    "* Managing your development environment"
   ]
  },
  {
   "cell_type": "markdown",
   "metadata": {
    "slideshow": {
     "slide_type": "subslide"
    }
   },
   "source": [
    "### What Is a Shell?\n",
    "\n"
   ]
  },
  {
   "cell_type": "markdown",
   "metadata": {
    "slideshow": {
     "slide_type": "subslide"
    }
   },
   "source": [
    "A <font style=\"color: red\">**shell**</font> is a type of command-line program that contains a simple, text-based user interface, enabling us to access all of an operating system's services. It is, put simply, <font style=\"color: red\">**a program that accepts text as an input and translates that text into the appropriate functions you want your computer to run**</font>.\n",
    "\n",
    "*Taken from Just for Fun: [Type like a hacker](http://hackertyper.com/)*\n",
    "\n",
    "Running applications, checking settings such as free hard drive space, and even web browsing can all happen from the shell."
   ]
  },
  {
   "cell_type": "markdown",
   "metadata": {
    "slideshow": {
     "slide_type": "subslide"
    }
   },
   "source": [
    "**Windows Users**\n",
    "\n",
    "In Windows, you can access a shell in several ways:\n",
    "+ **Windows Command Prompt:** A legacy DOS-based shell. Press `Win-R` to open a Run dialog. Then, enter `cmd` to open the shell.\n",
    "+ **Windows PowerShell:** The official Windows-native shell and scripting language, intended to replace the antiquated Command Prompt.\n",
    "+ **Windows Subsystem for Linux:** New to Windows 10, this allows you to run Ubuntu (a popular Linux distribution) natively in Windows. [You must turn on this Windows feature manually.](https://docs.microsoft.com/en-us/windows/wsl/install-win10)"
   ]
  },
  {
   "cell_type": "markdown",
   "metadata": {
    "slideshow": {
     "slide_type": "subslide"
    }
   },
   "source": [
    "**Windows Users**\n",
    "\n",
    "In this class, we will use a popular UNIX shell called `bash`. If you have not already, we recommend installing [Git Bash](https://git-for-windows.github.io/).\n",
    "\n",
    "**What Is Git Bash?**\n",
    "Git Bash provides a set of executables that emulate `bash` commands in the Windows shells.\n",
    "\n",
    "**Why?**\n",
    "Since UNIX is the prefered operating system for programmers and developers alike, almost all of the lessons at GA have been written for interaction with UNIX.  \n",
    "\n",
    "**Pro Tip:** UNIX commands and Windows commands are not polar opposites — in fact, most of their commands and interactions are quite similar."
   ]
  },
  {
   "cell_type": "markdown",
   "metadata": {
    "slideshow": {
     "slide_type": "subslide"
    }
   },
   "source": [
    "### Forget Finder...Get Fast at Using Your Laptop\n",
    "\n"
   ]
  },
  {
   "cell_type": "markdown",
   "metadata": {
    "slideshow": {
     "slide_type": "subslide"
    }
   },
   "source": [
    "\n",
    "#### Opening and Closing Terminal\n",
    "\n",
    "First, we need to launch the command prompt. We do this by using Spotlight:\n",
    "\n",
    "- ⌘ (Command) + `Space`\n",
    "- \"Terminal\"\n",
    "- `Enter`\n",
    "\n"
   ]
  },
  {
   "cell_type": "markdown",
   "metadata": {
    "slideshow": {
     "slide_type": "subslide"
    }
   },
   "source": [
    "Notice that you can actually hit `Enter` as soon as the field autocompletes.  Get used to taking shortcuts: don't type the whole word out if you don't have to, and avoid using your mouse if you can open or use an app with just keyboard shortcuts. It may seem hard right now, but, when you get used to it, it will save you hours of time cumulatively."
   ]
  },
  {
   "cell_type": "markdown",
   "metadata": {
    "slideshow": {
     "slide_type": "slide"
    }
   },
   "source": [
    "<a id='paths'></a>\n",
    "## <font style = 'color:blue'>b) Paths</font>\n",
    "\n",
    "---"
   ]
  },
  {
   "cell_type": "markdown",
   "metadata": {
    "slideshow": {
     "slide_type": "subslide"
    }
   },
   "source": [
    "\n",
    "\n",
    "\n",
    "Every file or folder in a file system can be read, written, and deleted by referencing its position inside that system. When we talk about the position of a file or a folder in a file system, we refer to its \"path.\" There are two different kinds of paths we can use to refer to a file — <font style = 'color:red'>**absolute paths**</font> and <font style = 'color:red'>**relative paths**</font>.\n",
    "\n"
   ]
  },
  {
   "cell_type": "markdown",
   "metadata": {
    "slideshow": {
     "slide_type": "subslide"
    }
   },
   "source": [
    "<font style = 'color:red'>**Directory**</font> is an important term that is typically used interchangeably with *folder*. Technically, a folder contains the files themselves, whereas a directory is just a listing of them (e.g. a student directory). That said, when we say \"navigate to your project directory,\" think of it as \"navigate to your project folder.\""
   ]
  },
  {
   "cell_type": "markdown",
   "metadata": {
    "slideshow": {
     "slide_type": "subslide"
    }
   },
   "source": [
    "### What Is an Absolute Path?"
   ]
  },
  {
   "cell_type": "markdown",
   "metadata": {
    "slideshow": {
     "slide_type": "fragment"
    }
   },
   "source": [
    "\n",
    "\n",
    "All files can be created, updated, or deleted using the command line interface. We do this by referencing <font style = 'color:red'>**paths**</font>, either relative or absolute.\n",
    "\n",
    "An <font style = 'color:red'>**absolute path**</font> is the specific location of a file or folder as accessed from the root directory, typically shown as `/`.\n",
    "\n",
    "The <font style = 'color:red'>**root directory**</font> is the starting point from which all other folders are defined and is not usually the same as your **home** directory, which is normally found at `/Users/[Your Username]`."
   ]
  },
  {
   "cell_type": "markdown",
   "metadata": {
    "slideshow": {
     "slide_type": "subslide"
    }
   },
   "source": [
    "### Working With UNIX Commands and File Paths"
   ]
  },
  {
   "cell_type": "markdown",
   "metadata": {
    "slideshow": {
     "slide_type": "fragment"
    }
   },
   "source": [
    "\n",
    "\n",
    "Typing **`cd`** — a command for \"change directory\" — with no parameters takes us to our home directory.\n",
    "\n",
    "```bash\n",
    "cd\n",
    "```\n",
    "\n",
    "If we type in `pwd` — a command for \"print working directory\" — from that folder, we can see where we are in relation to the root directory. The `pwd` command will always give you the absolute path of your current location.\n",
    "\n"
   ]
  },
  {
   "cell_type": "markdown",
   "metadata": {
    "slideshow": {
     "slide_type": "subslide"
    }
   },
   "source": [
    "Here's an example of an absolute path:\n",
    "\n",
    "```bash\n",
    "open /Users/Brian/desktop/a/b/c/file.txt\n",
    "```\n",
    "\n",
    "Notice that this path starts from `/` directory, which is the root directory for every Linux/Unix machine."
   ]
  },
  {
   "cell_type": "markdown",
   "metadata": {
    "slideshow": {
     "slide_type": "subslide"
    }
   },
   "source": [
    "### What Is a Relative Path?"
   ]
  },
  {
   "cell_type": "markdown",
   "metadata": {
    "slideshow": {
     "slide_type": "fragment"
    }
   },
   "source": [
    "\n",
    "\n",
    "A <font style = 'color:red'>**relative path**</font> is a reference to a file or folder **relative** to your current position or the present working directory. If we are in the folder `/a/b/` and we want to open the file that has the absolute path `/a/b/c/file.txt`, we can simply type:\n",
    "\n",
    "```bash\n",
    "open c/file.txt\n",
    "```\n",
    "\n",
    "or\n",
    "\n",
    "```bash\n",
    "open ./c/file.txt\n",
    "```\n",
    "\n"
   ]
  },
  {
   "cell_type": "markdown",
   "metadata": {
    "slideshow": {
     "slide_type": "subslide"
    }
   },
   "source": [
    "We can also use the absolute path at any time by adding a slash to the beginning of the relative path. The absolute path is the same for a file or a folder, regardless of the current working directory, but relative paths differ based on directory. Directory structures are laid out like so: `directory/subdirectory/subsubdirectory`.\n",
    "\n",
    "<font style = 'color:green'>**Question:** In your own words, what is the difference between an absolute path and a relative path?</font>"
   ]
  },
  {
   "cell_type": "markdown",
   "metadata": {
    "slideshow": {
     "slide_type": "subslide"
    }
   },
   "source": [
    "### Navigating Using the Command Prompt"
   ]
  },
  {
   "cell_type": "markdown",
   "metadata": {
    "slideshow": {
     "slide_type": "fragment"
    }
   },
   "source": [
    "\n",
    "\n",
    "\n",
    "* Changing directories\n",
    "* Listing files\n",
    "* Creating directories and files\n",
    "* Removing files\n",
    "\n"
   ]
  },
  {
   "cell_type": "markdown",
   "metadata": {
    "slideshow": {
     "slide_type": "subslide"
    }
   },
   "source": [
    "The tilde (`~`) character is an alias for your home directory. Use it to quickly return home.\n",
    "\n",
    "```bash\n",
    "cd ~\n",
    "```\n",
    "\n",
    "Or, even more simply, you can type:\n",
    "\n",
    "```bash\n",
    "cd\n",
    "```\n",
    "\n",
    "The tilde is useful for shortening paths that would otherwise be absolute. For example, to navigate to your desktop, you can type:\n",
    "\n",
    "```bash\n",
    "cd ~/Desktop\n",
    "```\n"
   ]
  },
  {
   "cell_type": "markdown",
   "metadata": {
    "slideshow": {
     "slide_type": "subslide"
    }
   },
   "source": [
    "The `ls` command lists files and directories in the current folder.\n",
    "```bash\n",
    "ls\n",
    "```\n",
    "\n",
    "It can also be used to list files located in any directory. For example, to list your applications, you can type:\n",
    "```bash\n",
    "ls /Applications\n",
    "```"
   ]
  },
  {
   "cell_type": "markdown",
   "metadata": {
    "slideshow": {
     "slide_type": "subslide"
    }
   },
   "source": [
    "To make a new directory, type:\n",
    "```bash\n",
    "mkdir folder\n",
    "```\n",
    "\n",
    "To create a new file, type:\n",
    "```bash\n",
    "touch file1\n",
    "```\n",
    "\n",
    "To remove a file, type:\n",
    "```bash\n",
    "rm file1\n",
    "```\n",
    "\n",
    "<font style = 'color:red'>**WARNING:** be **very** careful when using `rm` as it deletes the file or folder from your machine **completely** (it's not stored in the `Trash`).</font>"
   ]
  },
  {
   "cell_type": "markdown",
   "metadata": {
    "slideshow": {
     "slide_type": "subslide"
    }
   },
   "source": [
    "### General Format for Commands"
   ]
  },
  {
   "cell_type": "markdown",
   "metadata": {
    "slideshow": {
     "slide_type": "subslide"
    }
   },
   "source": [
    "\n",
    "\n",
    "`<command> -<options> <arguments>`\n",
    "* `<command>` is the action we want the computer to take.\n",
    "* `<options>` (or \"flags\") modify the behavior of the command.\n",
    "* `<arguments>` are the things we want the command to act on.\n",
    "\n",
    "Example: `ls -a ~/Desktop` would list all files and folders, including hidden ones (`-a`), in the Desktop folder"
   ]
  },
  {
   "cell_type": "markdown",
   "metadata": {
    "slideshow": {
     "slide_type": "subslide"
    }
   },
   "source": [
    "### Using Wildcards in the Command Prompt"
   ]
  },
  {
   "cell_type": "markdown",
   "metadata": {
    "slideshow": {
     "slide_type": "subslide"
    }
   },
   "source": [
    "\n",
    "\n",
    "The wildcard symbol (`*`) is useful for using commands to operate on multiple\n",
    "files.\n",
    "\n",
    "\n",
    "\n"
   ]
  },
  {
   "cell_type": "markdown",
   "metadata": {
    "slideshow": {
     "slide_type": "subslide"
    }
   },
   "source": [
    "<font style = 'color:green'>**To provide an example**</font>, first create a folder on your desktop and add some\n",
    "files.\n",
    "```bash\n",
    "mkdir ~/Desktop/example_folder\n",
    "cd ~/Desktop/example_folder\n",
    "touch cat.txt\n",
    "touch dog.txt\n",
    "touch bird.txt\n",
    "touch fish.txt\n",
    "```\n",
    "\n"
   ]
  },
  {
   "cell_type": "markdown",
   "metadata": {
    "slideshow": {
     "slide_type": "subslide"
    }
   },
   "source": [
    "You can then use the wildcard `*` to operate on subsets of files. List any\n",
    "file with \"i\" in the file name, for example:\n",
    "```bash\n",
    "ls *i*\n",
    "```\n",
    "\n"
   ]
  },
  {
   "cell_type": "markdown",
   "metadata": {
    "slideshow": {
     "slide_type": "fragment"
    }
   },
   "source": [
    "Or, remove any file with \"d\":\n",
    "```bash\n",
    "rm *d*\n",
    "ls\n",
    "```"
   ]
  },
  {
   "cell_type": "markdown",
   "metadata": {
    "slideshow": {
     "slide_type": "subslide"
    }
   },
   "source": [
    "### Hidden Directories Can Also Be Found"
   ]
  },
  {
   "cell_type": "markdown",
   "metadata": {
    "slideshow": {
     "slide_type": "subslide"
    }
   },
   "source": [
    "\n",
    "\n",
    "There are hidden directories all over your file system — mainly to save you from youself. Using the parameters `-lha` to `ls`, we can find these directories.\n",
    "\n",
    "```bash\n",
    "ls -lha\n",
    "```\n",
    "<pre>\n",
    "-l: &nbsp;&nbsp; One entry per line.\n",
    "-h: &nbsp;&nbsp; When used with the -l option, use unit suffixes: byte, kilobyte, megabyte, etc.\n",
    "-a: &nbsp;&nbsp; Include directory entries whose names begin with a dot (.).\n",
    "</pre>\n",
    "\n"
   ]
  },
  {
   "cell_type": "markdown",
   "metadata": {
    "slideshow": {
     "slide_type": "fragment"
    }
   },
   "source": [
    "**Sidenote**: you can view all hidden files by going to Finder and pressing ```cmd + shift + .``` .  Just do it again to re-hide hidden files <font style = 'color:red'>(it's good practice to keep them hidden unless you're working on them)</font>.\n",
    "Other ways to do it are in [this guide](http://ianlunn.co.uk/articles/quickly-showhide-hidden-files-mac-os-x-mavericks/).\n"
   ]
  },
  {
   "cell_type": "markdown",
   "metadata": {
    "slideshow": {
     "slide_type": "slide"
    }
   },
   "source": [
    "<a id='editing_files'></a>\n",
    "## <font style = 'color:blue'>c) Editing and Examining Files</font>\n",
    "\n",
    "---"
   ]
  },
  {
   "cell_type": "markdown",
   "metadata": {
    "slideshow": {
     "slide_type": "subslide"
    }
   },
   "source": [
    "\n",
    "\n",
    "\n",
    "At times it's helpful to edit files in a pinch. We can accomplish this by using the terminal editor `nano`.\n",
    "\n",
    "Use the following syntax to edit files from the terminal with `nano`:\n",
    "\n",
    "`nano [filename]`\n",
    "\n",
    "These hotkeys are available:\n",
    "\n",
    "* **ctrl-w**: Search within file.\n",
    "* **ctrl-o**: Save file as [filename].\n",
    "* **ctrl-x**: Exit editor.\n",
    "\n",
    "*The bottom of the editor contains the most common operations.  (`^` means `control`)*"
   ]
  },
  {
   "cell_type": "markdown",
   "metadata": {
    "slideshow": {
     "slide_type": "subslide"
    }
   },
   "source": [
    "### Echo File Content to the Terminal"
   ]
  },
  {
   "cell_type": "markdown",
   "metadata": {
    "slideshow": {
     "slide_type": "subslide"
    }
   },
   "source": [
    "\n",
    "\n",
    "Sometimes it's nice to view the contents of files as text. There are a variety of ways to do this. The commands `cat`, `head`, and `tail` will allow us to view the entire or partial contents of a target file.\n",
    "\n"
   ]
  },
  {
   "cell_type": "markdown",
   "metadata": {
    "slideshow": {
     "slide_type": "subslide"
    }
   },
   "source": [
    "The `cat` command is typically used to quickly display short files. (`cat` is also used for concatenating files, hence its name!)\n",
    "\n",
    "```\n",
    "cat /etc/passwd\n",
    "```\n",
    "\n",
    "Traditionally, the /etc/passwd file is used to keep track of every registered user with access to a system.\n"
   ]
  },
  {
   "cell_type": "markdown",
   "metadata": {
    "slideshow": {
     "slide_type": "subslide"
    }
   },
   "source": [
    "**Only the first few lines of a file**\n",
    "\n",
    "This command is useful when looking at files that might be too large to open in a traditional editor such as Sublime or Atom.\n",
    "```\n",
    "head /etc/passwd\n",
    "```\n",
    "\n"
   ]
  },
  {
   "cell_type": "markdown",
   "metadata": {
    "slideshow": {
     "slide_type": "subslide"
    }
   },
   "source": [
    "**Only the last few lines of a file**\n",
    "```\n",
    "tail /etc/passwd\n",
    "```\n",
    "\n",
    "You can also pass the paramter `-n` to `head` and `tail` to control the amount of output displayed.  `head -n5` will dispay the first 5 paragraphs of a file."
   ]
  },
  {
   "cell_type": "markdown",
   "metadata": {
    "slideshow": {
     "slide_type": "subslide"
    }
   },
   "source": [
    "### Searching Inside Files: `grep`"
   ]
  },
  {
   "cell_type": "markdown",
   "metadata": {
    "slideshow": {
     "slide_type": "subslide"
    }
   },
   "source": [
    "\n",
    "\n",
    "The `grep` command will search within files and traverse within subdirectories.\n",
    "\n",
    "**Find all files with the word \"them\" inside.**\n",
    "```\n",
    "grep -r \"them\" *\n",
    "```\n",
    "\n"
   ]
  },
  {
   "cell_type": "markdown",
   "metadata": {
    "slideshow": {
     "slide_type": "fragment"
    }
   },
   "source": [
    "Omitting `-r` will cause `grep` to only look within the current subdirectory.\n",
    "Using `-i` will make `grep` ignore the casing of characters, but at the expense of efficiency.\n",
    "\n",
    "<font style = 'color:green'>**Question:** What would the flags be to search all files and folders for \"the\", whilst ignoring the cassing of characters?</font>"
   ]
  },
  {
   "cell_type": "markdown",
   "metadata": {
    "slideshow": {
     "slide_type": "slide"
    }
   },
   "source": [
    "\n",
    "<a id='finding_files'></a>\n",
    "## <font style = 'color:blue'>d) Finding Files</font>\n",
    "\n",
    "---\n",
    "\n"
   ]
  },
  {
   "cell_type": "markdown",
   "metadata": {
    "slideshow": {
     "slide_type": "subslide"
    }
   },
   "source": [
    "By far, the most useful operation from the terminal is finding files. `locate` finds files all over your file system.  The `find` command will find files relative to the current working directory but needs to be used in conjunction with a pipe operation.\n"
   ]
  },
  {
   "cell_type": "markdown",
   "metadata": {
    "slideshow": {
     "slide_type": "subslide"
    }
   },
   "source": [
    "### Finding Specific File(s) Within the Entire System\n",
    "`locate nanorc`\n",
    "\n"
   ]
  },
  {
   "cell_type": "markdown",
   "metadata": {
    "slideshow": {
     "slide_type": "fragment"
    }
   },
   "source": [
    "### Finding Specific File(s) With a Substring Match\n",
    "`locate log`\n",
    "\n",
    "\n"
   ]
  },
  {
   "cell_type": "markdown",
   "metadata": {
    "slideshow": {
     "slide_type": "subslide"
    }
   },
   "source": [
    "**Note:** you may get this message when you try to use `locate`.  If so, copy the suggested command and run it:\n",
    "\n",
    "![locate_install](assets/locate_install.png)"
   ]
  },
  {
   "cell_type": "markdown",
   "metadata": {
    "slideshow": {
     "slide_type": "subslide"
    }
   },
   "source": [
    "### Miscellaneous Trick: Counting the Number of Lines in a File"
   ]
  },
  {
   "cell_type": "markdown",
   "metadata": {
    "slideshow": {
     "slide_type": "subslide"
    }
   },
   "source": [
    "\n",
    "\n",
    "At times, you may not want to load an entire file in memory. Using a combination of `head`, `tail`, `cat`, and a new command, `wc`, you can quickly assess the various size characteristics of any file.  This is called 'piping'.\n",
    "\n",
    "#### Find the number of lines in a file:\n",
    "```bash\n",
    "cat /etc/passwd | wc -l\n",
    "```\n",
    "\n"
   ]
  },
  {
   "cell_type": "markdown",
   "metadata": {
    "slideshow": {
     "slide_type": "subslide"
    }
   },
   "source": [
    "#### Find the number of words in a file:\n",
    "```bash\n",
    "cat /etc/test.txt | wc -w\n",
    "```"
   ]
  },
  {
   "cell_type": "markdown",
   "metadata": {
    "slideshow": {
     "slide_type": "subslide"
    }
   },
   "source": [
    "### Have Questions About \"piping\"?\n",
    "Here's some optional (but highly recommended) reading about pipe and I/O redirection on the command line:\n",
    "\n",
    "\n",
    "* [I/O redirection](http://linuxcommand.org/lc3_lts0070.php)\n",
    "* [Good examples of piping commands together](http://unix.stackexchange.com/questions/30759/whats-a-good-example-of-piping-commands-together)\n"
   ]
  },
  {
   "cell_type": "markdown",
   "metadata": {
    "slideshow": {
     "slide_type": "slide"
    }
   },
   "source": [
    "\n",
    "<a id='independent_practice'></a>\n",
    "## <font style = 'color:green'>e) Independent Practice</font>\n",
    "\n",
    "---\n",
    "\n",
    "Try out the `mkdir`, `touch`, `cd`, `pwd`, and `ls` commands on your own. If you want, try out using the wildcard command as well.\n",
    "\n",
    "**Stretch**: see if you can create a folder, a file within it, write to the file, create another folder and copy the file to it, then delete the original file."
   ]
  },
  {
   "cell_type": "markdown",
   "metadata": {
    "slideshow": {
     "slide_type": "slide"
    }
   },
   "source": [
    "<a id='ide'></a>\n",
    "## <font style = 'color:blue'>f) Intro to Development Environments</font>\n",
    "---"
   ]
  },
  {
   "cell_type": "markdown",
   "metadata": {
    "slideshow": {
     "slide_type": "subslide"
    }
   },
   "source": [
    "\n",
    "\n",
    "In addition to being able to write commands in the Unix OS (Mac) or Windows OS (PC) command language in the terminal, we can also execute commands in a variety of languages like Python, Java and Git in terminal/command line as well.\n",
    "\n",
    "In your terminal, you can enter into a Python shell by simply typing `python`.\n",
    "\n",
    "\n"
   ]
  },
  {
   "cell_type": "markdown",
   "metadata": {
    "slideshow": {
     "slide_type": "subslide"
    }
   },
   "source": [
    "Within the Python shell, we can execute Python expressions\n",
    "\n",
    "```python\n",
    ">>> # assigning a variable\n",
    ">>> x = 'hello world'\n",
    "\n",
    ">>> # printing a variables contents\n",
    ">>> print(x)\n",
    "hello world\n",
    "```\n",
    "\n"
   ]
  },
  {
   "cell_type": "markdown",
   "metadata": {
    "slideshow": {
     "slide_type": "subslide"
    }
   },
   "source": [
    "Writing and trouble-shooting a lot of code in the terminal can be tedious, as it is hard to write several line scripts.  Almost all developers don't actually write their scripts in the command line; instead they use text editors or development environments to write their code.\n"
   ]
  },
  {
   "cell_type": "markdown",
   "metadata": {
    "slideshow": {
     "slide_type": "subslide"
    }
   },
   "source": [
    "Try writing a `for loop` in the Python shell\n",
    "\n",
    "```python\n",
    "listo = [1, 5, 9]\n",
    "\n",
    "for item in listo:\n",
    "    print(itm)\n",
    "```\n",
    "\n"
   ]
  },
  {
   "cell_type": "markdown",
   "metadata": {
    "slideshow": {
     "slide_type": "subslide"
    }
   },
   "source": [
    "We made an error in the second line of the `for loop` but we still have to rewrite the entire loop and we can't go back and just edit out mistake inline.\n",
    "\n",
    "You'll need to type `exit()` or `Ctrl + d` to get out of the Python shell and back to the bash command line."
   ]
  },
  {
   "cell_type": "markdown",
   "metadata": {
    "slideshow": {
     "slide_type": "subslide"
    }
   },
   "source": [
    "## Common Environments for Data Science"
   ]
  },
  {
   "cell_type": "markdown",
   "metadata": {
    "slideshow": {
     "slide_type": "subslide"
    }
   },
   "source": [
    "\n",
    "\n",
    "The Anaconda distribution we installed earlier comes with two useful Python-based development environments, `Spyder` and `Jupyter`. A common third-party environment is `PyCharm`.\n",
    "\n"
   ]
  },
  {
   "cell_type": "markdown",
   "metadata": {
    "slideshow": {
     "slide_type": "subslide"
    }
   },
   "source": [
    "**Jupyter Notebooks**\n",
    "\n",
    "Jupyter uses cell based execution, which means you can run all the code in a cell simultaneously. Jupyter notebooks also have markdown and slide show integration, which means they make great blog and instructional resources!  <font style='color:red'>_All of the lessons in this class have been written in a Jupyter Notebook_.</font>\n",
    "\n",
    "Jupyter Notebooks open in your default browser and can be opened from the Anaconda Navigator or from the command line by executing ```jupyter notebook```.\n",
    "\n",
    "- [28 Jupyter Notebook tips, tricks and shortcuts](https://www.dataquest.io/blog/jupyter-notebook-tips-tricks-shortcuts/)\n",
    "- [Markdown Cheatsheet](https://github.com/adam-p/markdown-here/wiki/Markdown-Here-Cheatsheet)\n",
    "\n"
   ]
  },
  {
   "cell_type": "markdown",
   "metadata": {
    "slideshow": {
     "slide_type": "subslide"
    }
   },
   "source": [
    "\n",
    "**Spyder IDE (Integrated Development Environment)**\n",
    "\n",
    "Spyder has a selection-based execution which allows you to run all the code that you have _selected_ simultaneously.  Spyder is very similar to R Studio, supports Jupyter notebooks, and has several customizable windows for displaying output, variables, and computer usage.\n",
    "\n",
    "Spyder is desktop software that opens in its own window. It can be opened from the Anaconda Navigator or from the command line by executing ```spyder```.\n",
    "\n",
    "- [Introduction to Spyder (Video)](https://www.youtube.com/watch?v=8JiWEZEnJ40)"
   ]
  },
  {
   "cell_type": "markdown",
   "metadata": {
    "slideshow": {
     "slide_type": "subslide"
    }
   },
   "source": [
    "**PyCharm IDE (by JetBrains)**\n",
    "\n",
    "PyCharm is an excellent fully-featured commercial IDE for writing Python code files. It has a free-of-charge Community Edition which has no restrictions. PyCharm is often used for developing larger Python applications. However, it offers powerful features that other environments lack such as debugging capabilities, intelligent code refactoring, and integration with Git.\n",
    "\n",
    "- [Free PyCharm Community Edition](https://www.jetbrains.com/pycharm/download)"
   ]
  },
  {
   "cell_type": "markdown",
   "metadata": {
    "slideshow": {
     "slide_type": "subslide"
    }
   },
   "source": [
    "### A quick note on IDEs"
   ]
  },
  {
   "cell_type": "markdown",
   "metadata": {
    "slideshow": {
     "slide_type": "subslide"
    }
   },
   "source": [
    "\n",
    "\n",
    "> An IDE (Integrated Development Environment) is a program that provides an all-in-one environment to programmers. For example, often in development you will open many programs all at once, e.g. Finder, a text editor, debugging terminal, a terminal window for displaying output, and a graphics editor. An IDE will provide all of these (and more!) inside a single application. That said, IDEs are often sluggish. So, many professional Python programmers prefer a plain text editor.\n",
    "\n"
   ]
  },
  {
   "cell_type": "markdown",
   "metadata": {
    "slideshow": {
     "slide_type": "fragment"
    }
   },
   "source": [
    "None of these environments is better than the other; you will even find many Python developers who only use a text editor to edit their code! That said, often Jupyter Notebook is preferred for quick experimentation and initial data exploration, whereas Spyder and Pycharm are preferred for writing non-notebook code files."
   ]
  },
  {
   "cell_type": "markdown",
   "metadata": {
    "slideshow": {
     "slide_type": "subslide"
    }
   },
   "source": [
    "### Text Editors"
   ]
  },
  {
   "cell_type": "markdown",
   "metadata": {
    "slideshow": {
     "slide_type": "subslide"
    }
   },
   "source": [
    "\n",
    "\n",
    "In addition to IDEs, developers also use text editors to create or edit code and files. Text editors or more commonly used for files that are executed via the command line, as well as for software and website development.  \n",
    "\n"
   ]
  },
  {
   "cell_type": "markdown",
   "metadata": {
    "slideshow": {
     "slide_type": "fragment"
    }
   },
   "source": [
    "Some common text editors that you may see or use include:\n",
    "- [Sublime](https://www.sublimetext.com/)\n",
    "- [Atom](https://atom.io/)\n",
    "- [Notepad++](https://notepad-plus-plus.org/) (Windows)\n",
    "- [Vim](http://www.vim.org/)\n",
    "- [VS Code](https://code.visualstudio.com/)\n"
   ]
  },
  {
   "cell_type": "markdown",
   "metadata": {
    "slideshow": {
     "slide_type": "slide"
    }
   },
   "source": [
    "\n",
    "<a id='independent_practice2'></a>\n",
    "## <font style = 'color:green'>g) Independent Practice: Jupyter Notebook</font>\n",
    "\n",
    "---\n",
    "\n",
    "Open up a Jupyter Notebook with the Anaconda Navigator or command line and familiarize yourself with environment.\n",
    "- Execute some Python code\n",
    "- Add and remove cells\n",
    "- Change cell type\n",
    "- Look at the Cell, Kernel and Insert tabs\n",
    "\n",
    "Open up a Spyder Notebook with the Anaconda Navigator or command line and familiarize yourself with environment.\n",
    "- Execute some Python code\n",
    "- Look at the Editor, iPython Console and Variable Explorer pane\n",
    "> _if you don't see them go to `view` -> `panes`_\n",
    "\n"
   ]
  },
  {
   "cell_type": "markdown",
   "metadata": {
    "slideshow": {
     "slide_type": "subslide"
    }
   },
   "source": [
    "\n",
    "**Python Version** \n",
    "\n",
    "Please use this time to also check which version of Python you are running.  In your terminal type:\n",
    "\n",
    "```bash\n",
    "python -V\n",
    "```\n",
    "Check the upper right hand corner of your Jupyter Notebook as well for Python 3\n"
   ]
  },
  {
   "cell_type": "markdown",
   "metadata": {
    "slideshow": {
     "slide_type": "slide"
    }
   },
   "source": [
    "<a id='conclusion'></a>\n",
    "##  <font style = 'color:blue'>h) Lesson Review : Command Line</font>\n",
    "---\n",
    "\n",
    "In this session we learned about the <font style = 'color:red'>**command line**</font> and some of its common commands.  We also learned about <font style = 'color:red'>**file structures, absolute paths, and relative paths**</font>.\n",
    "\n",
    "Additionally, we reviewed running Python in the command line as well as in other environments. There is a [Jupyter Notebook exercise](./practice/ipynb_practice.ipynb) available if you want to practice working in the Jupyter IDE.\n",
    "\n",
    "In time, you might find that simple operations are actually faster to perform from the command line."
   ]
  }
 ],
 "metadata": {
  "celltoolbar": "Slideshow",
  "kernelspec": {
   "display_name": "Python 3",
   "language": "python",
   "name": "python3"
  },
  "language_info": {
   "codemirror_mode": {
    "name": "ipython",
    "version": 3
   },
   "file_extension": ".py",
   "mimetype": "text/x-python",
   "name": "python",
   "nbconvert_exporter": "python",
   "pygments_lexer": "ipython3",
   "version": "3.8.5"
  }
 },
 "nbformat": 4,
 "nbformat_minor": 1
}
