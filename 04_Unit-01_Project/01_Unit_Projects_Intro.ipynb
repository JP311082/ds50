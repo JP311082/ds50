{
 "cells": [
  {
   "cell_type": "markdown",
   "id": "6ce58fa2",
   "metadata": {
    "slideshow": {
     "slide_type": "slide"
    }
   },
   "source": [
    "<img src=\"figs/1ZcRyrc.png\" style=\"float: left; margin: 20px; height: 55px\">\n",
    "\n",
    "# Session 4: Unit 1 Project"
   ]
  },
  {
   "cell_type": "markdown",
   "id": "2f2ff78c",
   "metadata": {
    "slideshow": {
     "slide_type": "subslide"
    }
   },
   "source": [
    "## Agenda\n",
    "\n",
    "#### Standup\n",
    "\n",
    "#### Part 1: Unit Projects Intro\n",
    "\n",
    "#### Part 2: In class unit project\n"
   ]
  },
  {
   "cell_type": "markdown",
   "id": "450b230a",
   "metadata": {
    "slideshow": {
     "slide_type": "slide"
    }
   },
   "source": [
    "## Unit Projects Intro\n",
    "\n",
    "Tonight we'll be kicking off the Unit Projects.\n",
    "\n",
    "You'll work on short structured projects. These will test your understanding of that unit’s most important concepts with in-class practise and instructor support.\n",
    "\n"
   ]
  },
  {
   "cell_type": "markdown",
   "id": "3463928b",
   "metadata": {
    "slideshow": {
     "slide_type": "fragment"
    }
   },
   "source": [
    "#### **Project 1:** Python Technical Code Challenges \n",
    "    \n",
    "    Due @ end Unit 1\n",
    "\n",
    "#### **Project 2:** Exploratory Data Analysis \n",
    "\n",
    "    Due @ end Unit 2\n",
    "\n",
    "#### **Project 3:** Modeling Practice \n",
    "\n",
    "    Due @ end Unit 3\n",
    "\n",
    "    \n",
    "**Feedback:** We’ll give you feedback on these projects by the Thursdays eveing class following your submission.\n"
   ]
  },
  {
   "cell_type": "markdown",
   "id": "6382b92a",
   "metadata": {
    "slideshow": {
     "slide_type": "fragment"
    }
   },
   "source": [
    "We'll work on the Unit 1 challenges tonight. Ideally you'll submit at the end of the evening, but we'll set a deadline of **9am UK time on Feb 14th**."
   ]
  },
  {
   "cell_type": "markdown",
   "id": "a68687b4",
   "metadata": {
    "slideshow": {
     "slide_type": "slide"
    }
   },
   "source": [
    "## In-class Unit Project"
   ]
  },
  {
   "cell_type": "markdown",
   "id": "d708dd90",
   "metadata": {
    "slideshow": {
     "slide_type": "subslide"
    }
   },
   "source": [
    "\n",
    "### Project Objective\n",
    "\n",
    "We've provided a Jupyter notebook (*02_Project_01_Code_Challenge.ipynb*) that contains the kinds of coding challenges that often come up in data science job interviews. \n",
    "\n",
    "There are 5 questions in the unit challenge, along with 4 bonus questions.\n",
    "\n",
    "In addition to preparing you for interviews, completing challenges like these is a fun way to develop your Python skills.\n",
    "\n"
   ]
  },
  {
   "cell_type": "markdown",
   "id": "c060df82",
   "metadata": {
    "slideshow": {
     "slide_type": "subslide"
    }
   },
   "source": [
    "### Project Requirements\n",
    "\n",
    "Create working solutions for all questions. Your notebook should include:\n",
    "\n",
    "1. Text for each question.\n",
    "2. A working solution to each problem. Do not include test, practice, or broken code unless you were unable to create a working solution.\n",
    "3. Comments for all of your code that explain your steps and describe any assumptions you made in order to solve these problems.\n",
    "4. **Bonus**: In programming (and life), there may be multiple ways to solve a problem. After completing our challenges, go back and see if you can think of any other valid methods!\n",
    "\n"
   ]
  },
  {
   "cell_type": "markdown",
   "id": "a960b04d",
   "metadata": {
    "slideshow": {
     "slide_type": "subslide"
    }
   },
   "source": [
    "### Rubric\n",
    "\n",
    "For all projects, requirements will be evaluated on a simple point scale of 0, 1, or 2. Additionally, instructors will provide you with feedback on required portions of your project.\n",
    "\n",
    "Score | Expectations\n",
    ":--- | :---\n",
    "**0** | _Incomplete._\n",
    "**1** | _Does not meet expectations._\n",
    "**2** | _Meets expectations, good job!_\n",
    "**3** | _Surpasses our wildest expectations!_\n",
    "\n",
    "> Note: Scores of `2` mean that a requirement has been completely fulfilled, while `3` is typically reserved for bonus objectives.\n",
    "\n"
   ]
  },
  {
   "cell_type": "markdown",
   "id": "be292050",
   "metadata": {
    "slideshow": {
     "slide_type": "subslide"
    }
   },
   "source": [
    "### Submission\n",
    "\n",
    "To submit your assignment:\n",
    "\n",
    "- Create a repository in your github profile, hosting your materials, and share with the instructor team.\n",
    "- You need to add us as collaborators to your private repos:\n",
    "\n",
    "    - https://docs.github.com/en/account-and-profile/setting-up-and-managing-your-github-user-account/managing-access-to-your-personal-repositories/inviting-collaborators-to-a-personal-repository\n"
   ]
  },
  {
   "cell_type": "code",
   "execution_count": null,
   "id": "b94258e5",
   "metadata": {},
   "outputs": [],
   "source": []
  }
 ],
 "metadata": {
  "celltoolbar": "Slideshow",
  "kernelspec": {
   "display_name": "Python 3 (ipykernel)",
   "language": "python",
   "name": "python3"
  },
  "language_info": {
   "codemirror_mode": {
    "name": "ipython",
    "version": 3
   },
   "file_extension": ".py",
   "mimetype": "text/x-python",
   "name": "python",
   "nbconvert_exporter": "python",
   "pygments_lexer": "ipython3",
   "version": "3.9.7"
  }
 },
 "nbformat": 4,
 "nbformat_minor": 5
}
