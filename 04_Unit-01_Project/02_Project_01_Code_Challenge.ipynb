{
 "cells": [
  {
   "cell_type": "markdown",
   "metadata": {},
   "source": [
    "<img src=\"http://imgur.com/1ZcRyrc.png\" style=\"float: left; margin: 20px; height: 55px\">\n",
    "\n",
    "# Project 1: Python Coding Exercises\n",
    "\n",
    "\n",
    "---"
   ]
  },
  {
   "cell_type": "markdown",
   "metadata": {},
   "source": [
    "The following code challenges are drawn from common exercises used in technical interviews.\n",
    "\n",
    "Please note that there may be several ways to approach each challenge. If you get stuck, try mapping out your approach in pseudocode first. \n",
    "\n",
    "\n",
    "Finally, while solutions to problems like these may be found online, remember that if you copy/paste code that you can't explain, you'll be missing out on the point of the project. \n",
    "\n",
    "The only way to truly learn a new skill is through practice, trial, and error - we can only help you improve by understanding where you are having trouble."
   ]
  },
  {
   "cell_type": "markdown",
   "metadata": {},
   "source": [
    "## Project Challenges"
   ]
  },
  {
   "cell_type": "markdown",
   "metadata": {},
   "source": [
    "### Challenge 1: Largest Palindrome\n",
    "\n",
    "A palindromic number reads the same both ways. For example, 1234321 is a palindrome. The largest palindrome made from the product of two two-digit numbers is 9009 = 91 × 99. \n",
    "\n",
    "Find the largest palindrome made from the product of two three-digit numbers. \n",
    "\n",
    "Afterward, write a brief explanation walking through your code's logic in markdown."
   ]
  },
  {
   "cell_type": "code",
   "execution_count": null,
   "metadata": {},
   "outputs": [],
   "source": [
    "#create a list to store all palindromes \n",
    "palindromes = []\n",
    "\n",
    "#create 2 for loops to mulitply all 3 digit numbers\n",
    "for x in range (100,999):\n",
    "    for y in range(100,999):\n",
    "        #convert the results to str in order to check if each result is a palindrome\n",
    "        result = str(x * y)\n",
    "        \n",
    "        #Check if result is a palindrome \n",
    "        if result == result[::-1]:\n",
    "            # Store all palindromes to the list and convert to type int for sorting\n",
    "            palindromes.append(int(result))\n",
    "            \n",
    "#sort the results highest to lowest and return the tpo result\n",
    "palindromes = sorted(palindromes,reverse=True)\n",
    "palindromes[0]"
   ]
  },
  {
   "cell_type": "markdown",
   "metadata": {},
   "source": [
    "### Challenge 2: Summation of Primes\n",
    "\n",
    "The sum of the primes below 10 is 2 + 3 + 5 + 7 = 17. \n",
    "\n",
    "Find the sum of all the primes below 2,000. \n",
    "\n",
    "Afterward, write a brief explanation walking through your code's logic in markdown."
   ]
  },
  {
   "cell_type": "code",
   "execution_count": null,
   "metadata": {},
   "outputs": [],
   "source": [
    "#set the lower and upper bounds for the calc, exclude 1\n",
    "lower_value = 2\n",
    "upper_value = 2000\n",
    "\n",
    "# initalise variable answer and assign it to 0\n",
    "answer = 0\n",
    "\n",
    "#iterate over the range of potential prime numbers\n",
    "for number in range (lower_value, upper_value + 1):\n",
    "    \n",
    "    #check if any number has a factor between 2 and itself,if it does then break and move to the next number\n",
    "    for i in range (2, number):\n",
    "        if number % i == 0:\n",
    "            break\n",
    "    #prime number is identified and added to answer\n",
    "    else:\n",
    "        answer += number\n",
    "        \n",
    "print(f'The sum of prime numbers between 1 and {upper_value} is {answer}')"
   ]
  },
  {
   "cell_type": "markdown",
   "metadata": {},
   "source": [
    "### Challenge 3: Multiples of 3 and 5\n",
    "\n",
    "If we list all of the natural numbers below 10 that are multiples of 3 or 5, we get 3, 5, 6, and 9. The sum of these multiples is 23. \n",
    "\n",
    "Find the sum of all the multiples of 3 and 5 below 1,000. \n",
    "\n",
    "Afterward, write a brief explanation walking through your code's logic in markdown."
   ]
  },
  {
   "cell_type": "code",
   "execution_count": null,
   "metadata": {},
   "outputs": [],
   "source": [
    "# initalise variable answer and assign it to 0\n",
    "answer = 0\n",
    "\n",
    "#define the range of values from which you wish to identify the natural numbers divisible by 3 and 5\n",
    "for i in range (1, 1001):\n",
    "    if i % 3 == 0 or i % 5 == 0:\n",
    "        \n",
    "        #add the applicable values to answer\n",
    "        answer += i\n",
    "print(answer)"
   ]
  },
  {
   "cell_type": "markdown",
   "metadata": {},
   "source": [
    "### Challenge 4: Rock-Paper-Scissors\n",
    "\n",
    "Make a two-player Rock-Paper-Scissors game. (Hint: Ask for player plays (using input), compare them, print out a message of congratulations to the winner, and ask if the players want to start a new game)\n",
    "\n",
    "Remember the rules:\n",
    "\n",
    "    Rock beats scissors\n",
    "    Scissors beats paper\n",
    "    Paper beats rock\n",
    "\n",
    "We've given you some code to start off with."
   ]
  },
  {
   "cell_type": "code",
   "execution_count": null,
   "metadata": {},
   "outputs": [],
   "source": [
    "play_again = \"y\"\n",
    "\n",
    "# continue the game until the player types n\n",
    "while play_again != 'n':\n",
    "    #print the menu of options to the player\n",
    "    print(\"Please select a number from the options below:\")\n",
    "    print('1: Rock \\n2: Paper \\n3: Scissors')\n",
    "    \n",
    "    #player_1 input, and validation that the input is correct\n",
    "    player_1 = input('Player 1, please select your option: ')\n",
    "    while player_1 not in \"123\":\n",
    "        print('1: Rock \\n2: Paper \\n3: Scissors')\n",
    "        player_1 = input('Player 1, please select your option: ')\n",
    "    \n",
    "    #player_2 input, and validation that the input is correct\n",
    "    player_2 = input('Player 2, please select your option: ')\n",
    "    while player_2 not in \"123\":\n",
    "        print('1: Rock \\n2: Paper \\n3: Scissors')\n",
    "        player_2 = input('Player 2, please select your option: ')\n",
    "    \n",
    "    # Conditional rules of the game\n",
    "    if player_1 == player_2:\n",
    "        play_again = input('Its a draw!!! Would you like to play again? Press \"n\" to exit: ').lower()\n",
    "    elif player_1  ==  '1' and  player_2 == '2':\n",
    "        play_again = input('Player 2 wins! Would you like to play again? Press \"n\" to exit: ').lower()\n",
    "    elif player_1  ==  '2' and  player_2 == '1':\n",
    "        play_again = input('Player 1 wins! Would you like to play again? Press \"n\" to exit: ').lower()  \n",
    "    elif player_1  ==  '1' and  player_2 == '3':\n",
    "        play_again = input('Player 1 wins! Would you like to play again? Press \"n\" to exit: ').lower()   \n",
    "    elif player_1  ==  '3' and  player_2 == '1':\n",
    "        play_again = input('Player 2 wins! Would you like to play again? Press \"n\" to exit: ').lower()\n",
    "    elif player_1  ==  '3' and  player_2 == '2':\n",
    "        play_again = input('Player 1 wins! Would you like to play again? Press \"n\" to exit: ').lower()\n",
    "    elif player_1  ==  '2' and  player_2 == '3':\n",
    "        play_again = input('Player 2 wins! Would you like to play again? Press \"n\" to exit: ').lower()\n",
    "    \n",
    "        \n"
   ]
  },
  {
   "cell_type": "markdown",
   "metadata": {},
   "source": [
    "### Challenge 5: String Compressor\n",
    "\n",
    "Implement a method to perform basic string compression using the counts of repeated characters. (This is called run-length encoding.) \n",
    "\n",
    "For example, the string \"aabcccccaaa\" would become a2b1c5a3. If the “compressed” string would not become smaller than the original string, your method should return the original string. \n",
    "\n",
    "You can assume the string has only uppercase and lowercase letters (a–z). \n",
    "\n",
    "\n",
    "\n",
    "Specify whether your solution is case sensitive or case insensitive and what you would need to change to make it the other. \n",
    "\n",
    "\n",
    "Afterward, write a brief explanation walking through your code's logic in markdown."
   ]
  },
  {
   "cell_type": "code",
   "execution_count": 1,
   "metadata": {},
   "outputs": [],
   "source": [
    "def compressor(letters):\n",
    "    \n",
    "    #initalise results variable to capture compressed values\n",
    "    result = ''\n",
    "    #position variable used to track position as the program steps through the letters\n",
    "    position = 1\n",
    "    #counts the number of times character is repeated\n",
    "    counter = 1\n",
    "       \n",
    "    for letter in letters:\n",
    "        #ensures that the position character is never greater than the last index postion of letters\n",
    "        if position < len(letters):\n",
    "            #checks if 2 seqential characters are the same, if they are, increase the counter by 1\n",
    "            if letter == letters[position]:\n",
    "                counter += 1\n",
    "                position += 1\n",
    "            # if 2 seq chars are not the same, then add the character to the results string, then add the counter,\n",
    "            #then reset the counter\n",
    "            else:\n",
    "                result = result + letter + str(counter)\n",
    "                counter = 1\n",
    "                position += 1\n",
    "        else:\n",
    "            # when the final character of letters is reached, add the final letter(s) and count for the letter(s)\n",
    "            result = result + letter + str(counter)\n",
    "    return result"
   ]
  },
  {
   "cell_type": "markdown",
   "metadata": {},
   "source": [
    "----"
   ]
  },
  {
   "cell_type": "markdown",
   "metadata": {
    "collapsed": true
   },
   "source": [
    "## Bonus Challenges"
   ]
  },
  {
   "cell_type": "markdown",
   "metadata": {},
   "source": [
    "Try these challenges for extra practice if you've finished the project challenges."
   ]
  },
  {
   "cell_type": "markdown",
   "metadata": {},
   "source": [
    "### Bonus Challenge 1:\n",
    "\n",
    "Write a function to check whether a number is perfect or not.\n",
    "\n",
    "According to Wikipedia : In number theory, a perfect number is a positive integer that is equal to the sum of its proper positive divisors, that is, the sum of its positive divisors excluding the number itself (also known as its aliquot sum). \n",
    "\n",
    "Equivalently, a perfect number is a number that is half the sum of all of its positive divisors (including itself).\n",
    "\n",
    "**Example :** The first perfect number is 6, because 1, 2, and 3 are its proper positive divisors, and 1 + 2 + 3 = 6. \n",
    "\n",
    "Equivalently, the number 6 is equal to half the sum of all its positive divisors: ( 1 + 2 + 3 + 6 ) / 2 = 6. The next perfect number is 28 = 1 + 2 + 4 + 7 + 14. This is followed by the perfect numbers 496 and 8128.\n",
    "\n"
   ]
  },
  {
   "cell_type": "code",
   "execution_count": null,
   "metadata": {},
   "outputs": [],
   "source": [
    "def perfect_number(number):\n",
    "    # initialise sum variable\n",
    "    sum = 0\n",
    "    for i in range(1, number):\n",
    "        # if the i is a proper divisor add it to sum\n",
    "        if number % i == 0:\n",
    "            sum += i\n",
    "            # return true if the number attribute matches the summ of the positive divisors\n",
    "    return number == sum"
   ]
  },
  {
   "cell_type": "markdown",
   "metadata": {},
   "source": [
    "### Bonus Challenge 2:\n",
    "\n",
    "Write a program to find numbers between 100 and 400 (both included) where each digit of a number is an even number. \n",
    "\n",
    "The numbers obtained should be printed in a comma-separated sequence.\n",
    "\n"
   ]
  },
  {
   "cell_type": "code",
   "execution_count": null,
   "metadata": {},
   "outputs": [],
   "source": [
    "# wrote this as a function first time out for some reason, other option below\n",
    "def even_numbers(num_1, num_2):\n",
    "    list_of_even_numbers = []\n",
    "    for number in range(num_1, num_2 + 1):\n",
    "        number = (str(number))\n",
    "        count = 0\n",
    "        for i in number:\n",
    "            if int(i) % 2 == 0:\n",
    "                count += 1\n",
    "                if count > 2:\n",
    "                    count = 0\n",
    "                    list_of_even_numbers.append(int(number))\n",
    "            else:\n",
    "                break\n",
    "    return list_of_even_numbers"
   ]
  },
  {
   "cell_type": "code",
   "execution_count": 9,
   "metadata": {},
   "outputs": [
    {
     "name": "stdout",
     "output_type": "stream",
     "text": [
      "[200, 202, 204, 206, 208, 220, 222, 224, 226, 228, 240, 242, 244, 246, 248, 260, 262, 264, 266, 268, 280, 282, 284, 286, 288, 400]\n"
     ]
    }
   ],
   "source": [
    "num_1 = 100\n",
    "num_2 = 401\n",
    "list_of_even_numbers = []\n",
    "for number in range(num_1, num_2):\n",
    "    number = (str(number))\n",
    "    count = 0\n",
    "    for i in number:\n",
    "        if int(i) % 2 == 0:\n",
    "            count += 1\n",
    "            if count > 2:\n",
    "                count = 0\n",
    "                list_of_even_numbers.append(int(number))\n",
    "        else:\n",
    "            break\n",
    "print(list_of_even_numbers)"
   ]
  },
  {
   "cell_type": "markdown",
   "metadata": {},
   "source": [
    "### Bonus Challenge 3:\n",
    "\n",
    "Generate a random number between 1 and 9 (including 1 and 9). \n",
    "\n",
    "Ask the user to guess the number, then tell them whether they guessed too low, too high, or exactly right. \n",
    "\n",
    "Extras:\n",
    "\n",
    "    Keep the game going until the user types “exit”\n",
    "    Keep track of how many guesses the user has taken, and when the game ends, print this out.\n",
    "\n",
    "We'll give you a bit of initial code - we use the `random` library to generate a random number."
   ]
  },
  {
   "cell_type": "code",
   "execution_count": 30,
   "metadata": {},
   "outputs": [
    {
     "name": "stdout",
     "output_type": "stream",
     "text": [
      "6\n",
      "Please guess a number between 1 and 9 or type 0 to exit: dsf\n",
      "Please guess a number between 1 and 9 or type 0 to exit: 1\n",
      "You have guessed too low, try again or type 0 to exit: 2\n",
      "You have guessed too low, try again or type 0 to exit: 3\n",
      "You have guessed too low, try again or type 0 to exit: 9\n",
      "You have guessed too high, try again or type 0 to exit: 8\n",
      "Well done you have guessed correctly, it has taken you 5\n"
     ]
    }
   ],
   "source": [
    "import random\n",
    "\n",
    "rd = random.randint(1,9)\n",
    "\n",
    "# initalise guesses and assign to 1\n",
    "guesses = 1\n",
    "# initalise guess to the users input and convert from a str to an int\n",
    "guess = '-'\n",
    "#ensure that the user enters a number\n",
    "while guess not in \"1234567890\":\n",
    "    guess = input('Please guess a number between 1 and 9 or type 0 to exit: ')\n",
    "\n",
    "#convert guess from string to int\n",
    "guess = int(guess)\n",
    "while guess !=0:\n",
    "    if guess > rd:\n",
    "        guesses += 1\n",
    "        guess = int(input('You have guessed too high, try again or type 0 to exit: '))\n",
    "    if guess < rd:\n",
    "        guesses += 1\n",
    "        guess = int(input('You have guessed too low, try again or type 0 to exit: '))\n",
    "    else:\n",
    "        print(f'Well done you have guessed correctly, it has taken you {guesses} guesses')\n",
    "        break"
   ]
  },
  {
   "cell_type": "markdown",
   "metadata": {},
   "source": [
    "###### Bonus Challenge 4: \n",
    "\n",
    "Write a program to check the validity of a password (input from users).\n",
    "\n",
    "Validation :\n",
    "\n",
    "    * At least 1 letter between [a-z] and 1 letter between [A-Z].\n",
    "    * At least 1 number between [0-9].\n",
    "    * At least 1 character from [$#@].\n",
    "    * Minimum length 6 characters.\n",
    "    * Maximum length 16 characters.\n",
    "    \n",
    "You'll be using the `re` Python library, along with `input`:\n",
    "\n",
    "```\n",
    "import re\n",
    "p= input(\"Input your password: \")\n",
    "```\n"
   ]
  },
  {
   "cell_type": "code",
   "execution_count": 22,
   "metadata": {},
   "outputs": [
    {
     "name": "stdout",
     "output_type": "stream",
     "text": [
      "Enter you password: adf\n",
      "The password must be no shorter than 6 characters and no longer than 16 chraacters \n",
      "Sorry you must enter at least one upper case letter\n",
      "Sorry you must enter at least one number\n",
      "You must enter at least one special character: $ or # or @ \n"
     ]
    }
   ],
   "source": [
    "import re\n",
    "password = input('Enter you password: ')\n",
    "\n",
    "alphabet_check_lower = re.findall('[a-z]', password)\n",
    "alphabet_check_upper = re.findall('[A-Z]', password)\n",
    "number_check = re.findall('[0-9]', password)\n",
    "special_char_check = re.findall('[$#@]', password)\n",
    "\n",
    "if len(password) > 16 or len(password) < 6:\n",
    "    print('The password must be no shorter than 6 characters and no longer than 16 chraacters ')\n",
    "if not alphabet_check_lower:\n",
    "    print('Sorry you must enter at least one lower letter')\n",
    "\n",
    "if not alphabet_check_upper:\n",
    "    print('Sorry you must enter at least one upper case letter')\n",
    "if not number_check:\n",
    "    print('Sorry you must enter at least one number')\n",
    "if not special_char_check:\n",
    "    print('You must enter at least one special character: $ or # or @ ')"
   ]
  },
  {
   "cell_type": "code",
   "execution_count": null,
   "metadata": {},
   "outputs": [],
   "source": []
  }
 ],
 "metadata": {
  "anaconda-cloud": {},
  "kernelspec": {
   "display_name": "Python 3",
   "language": "python",
   "name": "python3"
  },
  "language_info": {
   "codemirror_mode": {
    "name": "ipython",
    "version": 3
   },
   "file_extension": ".py",
   "mimetype": "text/x-python",
   "name": "python",
   "nbconvert_exporter": "python",
   "pygments_lexer": "ipython3",
   "version": "3.8.8"
  }
 },
 "nbformat": 4,
 "nbformat_minor": 2
}
