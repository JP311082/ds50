{
 "cells": [
  {
   "cell_type": "code",
   "execution_count": 120,
   "id": "12ab5ddc",
   "metadata": {},
   "outputs": [],
   "source": [
    "import warnings\n",
    "warnings.filterwarnings(\"ignore\")\n",
    "import pandas as pd\n",
    "import numpy as np\n",
    "import matplotlib.pyplot as plt\n",
    "import seaborn as sns\n",
    "from sklearn.metrics import r2_score"
   ]
  },
  {
   "cell_type": "code",
   "execution_count": 127,
   "id": "b6d5fc62",
   "metadata": {},
   "outputs": [],
   "source": [
    "DATA_FILE = r'../Data/rm_working_files/rm_working_files/right_move_data_final1.csv'\n",
    "DATA_READY = r'../Data/rm_working_files/right_move_data_final2.csv'"
   ]
  },
  {
   "cell_type": "code",
   "execution_count": 115,
   "id": "0cc4fed4",
   "metadata": {},
   "outputs": [],
   "source": [
    "df = pd.read_csv(DATA_FILE, thousands=' ')"
   ]
  },
  {
   "cell_type": "code",
   "execution_count": 105,
   "id": "f6d6db1c",
   "metadata": {},
   "outputs": [
    {
     "data": {
      "text/plain": [
       "0        33700\n",
       "1        26800\n",
       "2        28700\n",
       "3        25900\n",
       "4        25100\n",
       "         ...  \n",
       "17060    26800\n",
       "17061    27000\n",
       "17062    27000\n",
       "17063    24800\n",
       "17064    53200\n",
       "Name: median wage, Length: 17065, dtype: int64"
      ]
     },
     "execution_count": 105,
     "metadata": {},
     "output_type": "execute_result"
    }
   ],
   "source": [
    "df['median wage'].replace(',' , '')"
   ]
  },
  {
   "cell_type": "code",
   "execution_count": 92,
   "id": "63440635",
   "metadata": {},
   "outputs": [
    {
     "data": {
      "text/plain": [
       "0        1331.846920\n",
       "1        1300.427155\n",
       "2        1128.468311\n",
       "3        1195.378497\n",
       "4        1633.120974\n",
       "            ...     \n",
       "19878     169.950557\n",
       "19879     514.073892\n",
       "19880     183.652644\n",
       "19881     183.652644\n",
       "19882      94.658002\n",
       "Name: nearest stattion, Length: 19883, dtype: float64"
      ]
     },
     "execution_count": 92,
     "metadata": {},
     "output_type": "execute_result"
    }
   ],
   "source": [
    "#df[\"a\"] = pd.to_numeric(df[\"a\"])\n",
    "df['nearest stattion'] = df['nearest stattion'].replace('Nothing within a 2km radius', 0)\n",
    "df['nearest stattion'].astype(float)"
   ]
  },
  {
   "cell_type": "code",
   "execution_count": 93,
   "id": "dd1c9153",
   "metadata": {},
   "outputs": [
    {
     "data": {
      "text/plain": [
       "28000    1981\n",
       "25900    1175\n",
       "28800     993\n",
       "24000     993\n",
       "28600     993\n",
       "28700     991\n",
       "31600     990\n",
       "31400     989\n",
       "25700     985\n",
       "33700     985\n",
       "25600     980\n",
       "35400     967\n",
       "25100     953\n",
       "25400     725\n",
       "25300     699\n",
       "27600     681\n",
       "24500     654\n",
       "22800     568\n",
       "27000     507\n",
       "26800     460\n",
       "31900     370\n",
       "30300     362\n",
       "32600     338\n",
       "24800     280\n",
       "53200     149\n",
       "26300      91\n",
       "30700      24\n",
       "Name: median wage, dtype: int64"
      ]
     },
     "execution_count": 93,
     "metadata": {},
     "output_type": "execute_result"
    }
   ],
   "source": [
    "df['median wage'].value_counts()"
   ]
  },
  {
   "cell_type": "code",
   "execution_count": 94,
   "id": "63de6061",
   "metadata": {},
   "outputs": [
    {
     "data": {
      "text/plain": [
       "0    356400\n",
       "1    356400\n",
       "2    356400\n",
       "3    356400\n",
       "4    356400\n",
       "Name: population, dtype: int64"
      ]
     },
     "execution_count": 94,
     "metadata": {},
     "output_type": "execute_result"
    }
   ],
   "source": [
    "df['population'].head()"
   ]
  },
  {
   "cell_type": "code",
   "execution_count": 95,
   "id": "7a485bc8",
   "metadata": {},
   "outputs": [
    {
     "data": {
      "text/plain": [
       "0        356400\n",
       "1        356400\n",
       "2        356400\n",
       "3        356400\n",
       "4        356400\n",
       "          ...  \n",
       "19878    219400\n",
       "19879    219400\n",
       "19880    219400\n",
       "19881    219400\n",
       "19882    219400\n",
       "Name: population, Length: 19883, dtype: int32"
      ]
     },
     "execution_count": 95,
     "metadata": {},
     "output_type": "execute_result"
    }
   ],
   "source": [
    "df['population'].astype(int)"
   ]
  },
  {
   "cell_type": "code",
   "execution_count": 96,
   "id": "654e9565",
   "metadata": {},
   "outputs": [
    {
     "name": "stdout",
     "output_type": "stream",
     "text": [
      "<class 'pandas.core.frame.DataFrame'>\n",
      "RangeIndex: 19883 entries, 0 to 19882\n",
      "Data columns (total 18 columns):\n",
      " #   Column                               Non-Null Count  Dtype  \n",
      "---  ------                               --------------  -----  \n",
      " 0   Unnamed: 0                           19883 non-null  int64  \n",
      " 1   price                                19883 non-null  int64  \n",
      " 2   bedrooms                             19883 non-null  int64  \n",
      " 3   address                              19883 non-null  object \n",
      " 4   latitude                             19883 non-null  float64\n",
      " 5   longitude                            19883 non-null  float64\n",
      " 6   propertyType                         19883 non-null  object \n",
      " 7   summary                              19883 non-null  object \n",
      " 8   bourough                             19883 non-null  object \n",
      " 9   outdoor space                        19883 non-null  bool   \n",
      " 10  postcode                             19883 non-null  object \n",
      " 11  postcode first section               19881 non-null  object \n",
      " 12  nearest stattion                     19883 non-null  float64\n",
      " 13  number of stops within 2kms          19883 non-null  int64  \n",
      " 14  population                           19883 non-null  int64  \n",
      " 15  median wage                          19883 non-null  int64  \n",
      " 16  total number of schools_y            19883 non-null  int64  \n",
      " 17  percentage attedning private school  19883 non-null  float64\n",
      "dtypes: bool(1), float64(4), int64(7), object(6)\n",
      "memory usage: 2.6+ MB\n"
     ]
    }
   ],
   "source": [
    "df.info()"
   ]
  },
  {
   "cell_type": "code",
   "execution_count": 124,
   "id": "efe0d5ad",
   "metadata": {},
   "outputs": [],
   "source": [
    "df.drop_duplicates(subset=['postcode','price'], inplace=True)"
   ]
  },
  {
   "cell_type": "code",
   "execution_count": 126,
   "id": "da770596",
   "metadata": {},
   "outputs": [],
   "source": [
    "df.to_csv(DATA_READY)"
   ]
  },
  {
   "cell_type": "code",
   "execution_count": null,
   "id": "3f638347",
   "metadata": {},
   "outputs": [],
   "source": []
  },
  {
   "cell_type": "code",
   "execution_count": null,
   "id": "1b91141b",
   "metadata": {},
   "outputs": [],
   "source": []
  },
  {
   "cell_type": "code",
   "execution_count": null,
   "id": "0573b2d6",
   "metadata": {},
   "outputs": [],
   "source": []
  },
  {
   "cell_type": "code",
   "execution_count": null,
   "id": "1258af3c",
   "metadata": {},
   "outputs": [],
   "source": []
  }
 ],
 "metadata": {
  "kernelspec": {
   "display_name": "Python 3",
   "language": "python",
   "name": "python3"
  },
  "language_info": {
   "codemirror_mode": {
    "name": "ipython",
    "version": 3
   },
   "file_extension": ".py",
   "mimetype": "text/x-python",
   "name": "python",
   "nbconvert_exporter": "python",
   "pygments_lexer": "ipython3",
   "version": "3.8.8"
  }
 },
 "nbformat": 4,
 "nbformat_minor": 5
}
