{
 "cells": [
  {
   "cell_type": "code",
   "execution_count": null,
   "id": "5c95022c",
   "metadata": {},
   "outputs": [],
   "source": [
    "# The purpose of this notebook is to combine the rightmove json files that were generated from the rightmove script\n",
    "# The script leverages the Borough.xlsx file to add a borough column to the dataset\n",
    "\n",
    "import pandas as pd\n",
    "from pathlib import Path\n",
    "import numpy as np\n",
    "import re\n",
    "\n",
    "\n",
    "#Path to the list of London boroughs that are being modelled\n",
    "PATH_BOROUGHS = Path(r'..\\Rightmove Dumps JSON\\Boroughs.xlsx')\n",
    "#Path to the list of JSON files pulled from Rightmove.co.uk\n",
    "PATH_JSON = r'..\\Rightmove Dumps JSON'\n",
    "#Name of the concatenated file that will be used for analysis\n",
    "RIGHTMOVE_FILE = 'right_move_data_eda.csv'\n",
    "FINAL_DATA_PATH = r'../Data'\n",
    "\n",
    "#Read in the list of London boroughs as a dataframe and convert it to a list\n",
    "boroughs = pd.read_excel(PATH_BOROUGHS)\n",
    "boroughs = boroughs.values.tolist()\n",
    "\n",
    "\n",
    "#Append .json to the end of each borough name\n",
    "new_borough = []\n",
    "for borough in boroughs:\n",
    "    new_borough.append(borough[0] + '.json')\n",
    "\n",
    "#concatenate the list of list of .JSON files into a single dataframe\n",
    "dfs = []\n",
    "for file in new_borough:\n",
    "    data = pd.read_json(Path(PATH_JSON)/file)\n",
    "    # knowing the bourough of each property may be useful\n",
    "    data['bourough'] = file\n",
    "    dfs.append(data)\n",
    "df = pd.concat(dfs, ignore_index=True)\n",
    "df.bouroughv(Path(FINAL_DATA_PATH)/RIGHTMOVE_FILE)"
   ]
  }
 ],
 "metadata": {
  "kernelspec": {
   "display_name": "Python 3",
   "language": "python",
   "name": "python3"
  },
  "language_info": {
   "codemirror_mode": {
    "name": "ipython",
    "version": 3
   },
   "file_extension": ".py",
   "mimetype": "text/x-python",
   "name": "python",
   "nbconvert_exporter": "python",
   "pygments_lexer": "ipython3",
   "version": "3.8.8"
  }
 },
 "nbformat": 4,
 "nbformat_minor": 5
}
