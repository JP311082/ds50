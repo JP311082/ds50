{
 "cells": [
  {
   "cell_type": "code",
   "execution_count": 35,
   "id": "dc8ee382",
   "metadata": {},
   "outputs": [],
   "source": [
    "import pandas as pd\n",
    "from pathlib import Path\n",
    "import numpy as np\n",
    "import re\n",
    "\n",
    "\n",
    "#Path to the list of London boroughs that are being modelled\n",
    "PATH_BOROUGHS = Path(r'..\\Data Dumps JSON\\Boroughs.xlsx')\n",
    "#Path to the list of JSON files pulled from Rightmove.co.uk\n",
    "PATH_JSON = r'..\\Data Dumps JSON'\n",
    "#Name of the concatenated file that will be used for analysis\n",
    "RIGHTMOVE_FILE = 'right_move_data.csv'\n",
    "\n",
    "#Read in the list of London boroughs as a dataframe and convert it to a list\n",
    "boroughs = pd.read_excel(PATH_BOROUGHS)\n",
    "boroughs = boroughs.values.tolist()\n",
    "\n",
    "\n",
    "#Append .json to the end of each borough name\n",
    "new_borough = []\n",
    "for borough in boroughs:\n",
    "    new_borough.append(borough[0] + '.json')\n",
    "\n",
    "#concatenate the list of list of .JSON files into a single dataframe\n",
    "dfs = []\n",
    "for file in new_borough:\n",
    "    data = pd.read_json(Path(PATH_JSON)/file)\n",
    "    dfs.append(data)\n",
    "df = pd.concat(dfs, ignore_index=True)\n",
    "df.to_csv(Path(PATH_JSON)/RIGHTMOVE_FILE)"
   ]
  }
 ],
 "metadata": {
  "kernelspec": {
   "display_name": "Python 3",
   "language": "python",
   "name": "python3"
  },
  "language_info": {
   "codemirror_mode": {
    "name": "ipython",
    "version": 3
   },
   "file_extension": ".py",
   "mimetype": "text/x-python",
   "name": "python",
   "nbconvert_exporter": "python",
   "pygments_lexer": "ipython3",
   "version": "3.8.8"
  }
 },
 "nbformat": 4,
 "nbformat_minor": 5
}
