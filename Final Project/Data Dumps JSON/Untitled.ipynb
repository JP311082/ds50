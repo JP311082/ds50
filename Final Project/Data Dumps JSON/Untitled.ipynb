{
 "cells": [
  {
   "cell_type": "code",
   "execution_count": 5,
   "id": "cc58044b",
   "metadata": {},
   "outputs": [],
   "source": [
    "import geopy.distance\n",
    "import pandas as pd"
   ]
  },
  {
   "cell_type": "code",
   "execution_count": 6,
   "id": "92cd347c",
   "metadata": {},
   "outputs": [],
   "source": [
    "tube_locs = pd.read_excel('tube_locations.xlsx')\n",
    "rm = pd.read_csv('right_move_data.csv')"
   ]
  },
  {
   "cell_type": "code",
   "execution_count": 20,
   "id": "c2c97009",
   "metadata": {},
   "outputs": [],
   "source": [
    "tube_lat = tube_locs['Latitude'].astype(float)\n",
    "tube_long = tube_locs['Longitude'].astype(float)\n",
    "property_lat = rm['latitude'].astype(float)\n",
    "property_long = rm['longitude'].astype(float)"
   ]
  },
  {
   "cell_type": "code",
   "execution_count": 21,
   "id": "8ca7d3b4",
   "metadata": {},
   "outputs": [
    {
     "data": {
      "text/plain": [
       "0      51.531952\n",
       "1      51.490784\n",
       "2      51.508758\n",
       "3      51.516887\n",
       "4      51.503071\n",
       "         ...    \n",
       "648    51.617868\n",
       "649    51.491578\n",
       "650    51.489907\n",
       "651    51.491108\n",
       "652    51.381104\n",
       "Name: Latitude, Length: 653, dtype: float64"
      ]
     },
     "execution_count": 21,
     "metadata": {},
     "output_type": "execute_result"
    }
   ],
   "source": [
    "tube_lat"
   ]
  },
  {
   "cell_type": "code",
   "execution_count": 23,
   "id": "c39dd743",
   "metadata": {},
   "outputs": [],
   "source": [
    "def nearest_tube(property_coords, tube_coords):\n",
    "    distance = []\n",
    "    for p_coords in property_coords:\n",
    "        for coords in tube_coords:\n",
    "            geopy.distance.distance(tube_coords, property).km\n",
    "    return min(distance)\n"
   ]
  },
  {
   "cell_type": "code",
   "execution_count": null,
   "id": "b566cb7a",
   "metadata": {},
   "outputs": [],
   "source": [
    "nearest = nearest_tube()"
   ]
  }
 ],
 "metadata": {
  "kernelspec": {
   "display_name": "Python 3",
   "language": "python",
   "name": "python3"
  },
  "language_info": {
   "codemirror_mode": {
    "name": "ipython",
    "version": 3
   },
   "file_extension": ".py",
   "mimetype": "text/x-python",
   "name": "python",
   "nbconvert_exporter": "python",
   "pygments_lexer": "ipython3",
   "version": "3.8.8"
  }
 },
 "nbformat": 4,
 "nbformat_minor": 5
}
