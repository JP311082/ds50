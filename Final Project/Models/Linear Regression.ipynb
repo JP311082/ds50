{
 "cells": [
  {
   "cell_type": "code",
   "execution_count": 98,
   "id": "df9bf46a",
   "metadata": {},
   "outputs": [],
   "source": [
    "import pandas as pd\n",
    "import numpy as np\n",
    "import matplotlib.pyplot as plt\n",
    "import seaborn as sns\n",
    "from sklearn import metrics\n",
    "from sklearn.metrics import r2_score\n",
    "from sklearn.preprocessing import StandardScaler\n",
    "from sklearn.model_selection import train_test_split\n",
    "from sklearn.linear_model import LinearRegression"
   ]
  },
  {
   "cell_type": "code",
   "execution_count": 99,
   "id": "37922c83",
   "metadata": {},
   "outputs": [],
   "source": [
    "DATA_FILE = r'..\\Data\\rm_working_files\\right_move_data_final2.csv'"
   ]
  },
  {
   "cell_type": "code",
   "execution_count": 100,
   "id": "490d53ee",
   "metadata": {},
   "outputs": [],
   "source": [
    "df = pd.read_csv(DATA_FILE,index_col=None)"
   ]
  },
  {
   "cell_type": "code",
   "execution_count": 101,
   "id": "3f38aaee",
   "metadata": {},
   "outputs": [],
   "source": [
    "feature_cols = ['bedrooms','propertyType','bourough','outdoor space','nearest stattion','number of stops within 2kms',\n",
    "                'population', 'median wage', 'total number of schools_y', 'percentage attedning private school']"
   ]
  },
  {
   "cell_type": "code",
   "execution_count": 102,
   "id": "9cbbbd1b",
   "metadata": {},
   "outputs": [],
   "source": [
    "X = pd.get_dummies(data=df[feature_cols], drop_first=True)\n",
    "y = df.price"
   ]
  },
  {
   "cell_type": "code",
   "execution_count": 103,
   "id": "8bc31f3a",
   "metadata": {},
   "outputs": [
    {
     "data": {
      "text/html": [
       "<div>\n",
       "<style scoped>\n",
       "    .dataframe tbody tr th:only-of-type {\n",
       "        vertical-align: middle;\n",
       "    }\n",
       "\n",
       "    .dataframe tbody tr th {\n",
       "        vertical-align: top;\n",
       "    }\n",
       "\n",
       "    .dataframe thead th {\n",
       "        text-align: right;\n",
       "    }\n",
       "</style>\n",
       "<table border=\"1\" class=\"dataframe\">\n",
       "  <thead>\n",
       "    <tr style=\"text-align: right;\">\n",
       "      <th></th>\n",
       "      <th>bedrooms</th>\n",
       "      <th>outdoor space</th>\n",
       "      <th>nearest stattion</th>\n",
       "      <th>number of stops within 2kms</th>\n",
       "      <th>population</th>\n",
       "      <th>median wage</th>\n",
       "      <th>total number of schools_y</th>\n",
       "      <th>percentage attedning private school</th>\n",
       "      <th>propertyType_bungalow</th>\n",
       "      <th>propertyType_cottage</th>\n",
       "      <th>...</th>\n",
       "      <th>bourough_lewisham</th>\n",
       "      <th>bourough_merton</th>\n",
       "      <th>bourough_newham</th>\n",
       "      <th>bourough_redbridge</th>\n",
       "      <th>bourough_richmond upon thames</th>\n",
       "      <th>bourough_southwark</th>\n",
       "      <th>bourough_sutton</th>\n",
       "      <th>bourough_tower hamlets</th>\n",
       "      <th>bourough_waltham forest</th>\n",
       "      <th>bourough_wandsworth</th>\n",
       "    </tr>\n",
       "  </thead>\n",
       "  <tbody>\n",
       "    <tr>\n",
       "      <th>0</th>\n",
       "      <td>3</td>\n",
       "      <td>True</td>\n",
       "      <td>354.186247</td>\n",
       "      <td>5</td>\n",
       "      <td>206100</td>\n",
       "      <td>31400</td>\n",
       "      <td>78</td>\n",
       "      <td>0.04</td>\n",
       "      <td>0</td>\n",
       "      <td>0</td>\n",
       "      <td>...</td>\n",
       "      <td>0</td>\n",
       "      <td>0</td>\n",
       "      <td>0</td>\n",
       "      <td>0</td>\n",
       "      <td>0</td>\n",
       "      <td>0</td>\n",
       "      <td>0</td>\n",
       "      <td>0</td>\n",
       "      <td>0</td>\n",
       "      <td>0</td>\n",
       "    </tr>\n",
       "    <tr>\n",
       "      <th>1</th>\n",
       "      <td>6</td>\n",
       "      <td>False</td>\n",
       "      <td>0.000000</td>\n",
       "      <td>0</td>\n",
       "      <td>190100</td>\n",
       "      <td>27000</td>\n",
       "      <td>71</td>\n",
       "      <td>0.04</td>\n",
       "      <td>0</td>\n",
       "      <td>0</td>\n",
       "      <td>...</td>\n",
       "      <td>0</td>\n",
       "      <td>0</td>\n",
       "      <td>0</td>\n",
       "      <td>0</td>\n",
       "      <td>0</td>\n",
       "      <td>0</td>\n",
       "      <td>1</td>\n",
       "      <td>0</td>\n",
       "      <td>0</td>\n",
       "      <td>0</td>\n",
       "    </tr>\n",
       "    <tr>\n",
       "      <th>2</th>\n",
       "      <td>5</td>\n",
       "      <td>False</td>\n",
       "      <td>0.000000</td>\n",
       "      <td>0</td>\n",
       "      <td>190100</td>\n",
       "      <td>27000</td>\n",
       "      <td>71</td>\n",
       "      <td>0.04</td>\n",
       "      <td>0</td>\n",
       "      <td>0</td>\n",
       "      <td>...</td>\n",
       "      <td>0</td>\n",
       "      <td>0</td>\n",
       "      <td>0</td>\n",
       "      <td>0</td>\n",
       "      <td>0</td>\n",
       "      <td>0</td>\n",
       "      <td>1</td>\n",
       "      <td>0</td>\n",
       "      <td>0</td>\n",
       "      <td>0</td>\n",
       "    </tr>\n",
       "    <tr>\n",
       "      <th>3</th>\n",
       "      <td>4</td>\n",
       "      <td>False</td>\n",
       "      <td>0.000000</td>\n",
       "      <td>0</td>\n",
       "      <td>311200</td>\n",
       "      <td>22800</td>\n",
       "      <td>103</td>\n",
       "      <td>0.05</td>\n",
       "      <td>0</td>\n",
       "      <td>0</td>\n",
       "      <td>...</td>\n",
       "      <td>0</td>\n",
       "      <td>0</td>\n",
       "      <td>0</td>\n",
       "      <td>0</td>\n",
       "      <td>0</td>\n",
       "      <td>0</td>\n",
       "      <td>0</td>\n",
       "      <td>0</td>\n",
       "      <td>0</td>\n",
       "      <td>0</td>\n",
       "    </tr>\n",
       "    <tr>\n",
       "      <th>4</th>\n",
       "      <td>2</td>\n",
       "      <td>False</td>\n",
       "      <td>0.000000</td>\n",
       "      <td>0</td>\n",
       "      <td>312500</td>\n",
       "      <td>25100</td>\n",
       "      <td>109</td>\n",
       "      <td>0.03</td>\n",
       "      <td>0</td>\n",
       "      <td>0</td>\n",
       "      <td>...</td>\n",
       "      <td>0</td>\n",
       "      <td>0</td>\n",
       "      <td>0</td>\n",
       "      <td>0</td>\n",
       "      <td>0</td>\n",
       "      <td>0</td>\n",
       "      <td>0</td>\n",
       "      <td>0</td>\n",
       "      <td>0</td>\n",
       "      <td>0</td>\n",
       "    </tr>\n",
       "  </tbody>\n",
       "</table>\n",
       "<p>5 rows × 48 columns</p>\n",
       "</div>"
      ],
      "text/plain": [
       "   bedrooms  outdoor space  nearest stattion  number of stops within 2kms  \\\n",
       "0         3           True        354.186247                            5   \n",
       "1         6          False          0.000000                            0   \n",
       "2         5          False          0.000000                            0   \n",
       "3         4          False          0.000000                            0   \n",
       "4         2          False          0.000000                            0   \n",
       "\n",
       "   population  median wage  total number of schools_y  \\\n",
       "0      206100        31400                         78   \n",
       "1      190100        27000                         71   \n",
       "2      190100        27000                         71   \n",
       "3      311200        22800                        103   \n",
       "4      312500        25100                        109   \n",
       "\n",
       "   percentage attedning private school  propertyType_bungalow  \\\n",
       "0                                 0.04                      0   \n",
       "1                                 0.04                      0   \n",
       "2                                 0.04                      0   \n",
       "3                                 0.05                      0   \n",
       "4                                 0.03                      0   \n",
       "\n",
       "   propertyType_cottage  ...  bourough_lewisham  bourough_merton  \\\n",
       "0                     0  ...                  0                0   \n",
       "1                     0  ...                  0                0   \n",
       "2                     0  ...                  0                0   \n",
       "3                     0  ...                  0                0   \n",
       "4                     0  ...                  0                0   \n",
       "\n",
       "   bourough_newham  bourough_redbridge  bourough_richmond upon thames  \\\n",
       "0                0                   0                              0   \n",
       "1                0                   0                              0   \n",
       "2                0                   0                              0   \n",
       "3                0                   0                              0   \n",
       "4                0                   0                              0   \n",
       "\n",
       "   bourough_southwark  bourough_sutton  bourough_tower hamlets  \\\n",
       "0                   0                0                       0   \n",
       "1                   0                1                       0   \n",
       "2                   0                1                       0   \n",
       "3                   0                0                       0   \n",
       "4                   0                0                       0   \n",
       "\n",
       "   bourough_waltham forest  bourough_wandsworth  \n",
       "0                        0                    0  \n",
       "1                        0                    0  \n",
       "2                        0                    0  \n",
       "3                        0                    0  \n",
       "4                        0                    0  \n",
       "\n",
       "[5 rows x 48 columns]"
      ]
     },
     "execution_count": 103,
     "metadata": {},
     "output_type": "execute_result"
    }
   ],
   "source": [
    "X.head()"
   ]
  },
  {
   "cell_type": "code",
   "execution_count": 104,
   "id": "e025be8b",
   "metadata": {},
   "outputs": [],
   "source": [
    "X_train, X_test, y_train, y_test = train_test_split(X,y, train_size=.7,shuffle=True,random_state=101)"
   ]
  },
  {
   "cell_type": "code",
   "execution_count": 105,
   "id": "3db45cd5",
   "metadata": {},
   "outputs": [
    {
     "name": "stdout",
     "output_type": "stream",
     "text": [
      "X_train shape (8673, 48) and size 416304\n",
      "X_test shape (3717, 48) and size 178416\n",
      "y_train shape (8673,) and size 8673\n",
      "y_test shape (3717,) and size 3717\n"
     ]
    }
   ],
   "source": [
    "print(\"X_train shape {} and size {}\".format(X_train.shape,X_train.size))\n",
    "print(\"X_test shape {} and size {}\".format(X_test.shape,X_test.size))\n",
    "print(\"y_train shape {} and size {}\".format(y_train.shape,y_train.size))\n",
    "print(\"y_test shape {} and size {}\".format(y_test.shape,y_test.size))"
   ]
  },
  {
   "cell_type": "code",
   "execution_count": 106,
   "id": "48d4d590",
   "metadata": {},
   "outputs": [],
   "source": [
    "linreg = LinearRegression()"
   ]
  },
  {
   "cell_type": "code",
   "execution_count": 107,
   "id": "ed5120bd",
   "metadata": {},
   "outputs": [
    {
     "data": {
      "text/plain": [
       "LinearRegression()"
      ]
     },
     "execution_count": 107,
     "metadata": {},
     "output_type": "execute_result"
    }
   ],
   "source": [
    "linreg.fit(X_train, y_train)"
   ]
  },
  {
   "cell_type": "code",
   "execution_count": 108,
   "id": "79d4c906",
   "metadata": {},
   "outputs": [],
   "source": [
    "y_pred = linreg.predict(X_test)"
   ]
  },
  {
   "cell_type": "code",
   "execution_count": 109,
   "id": "4b135d03",
   "metadata": {},
   "outputs": [
    {
     "data": {
      "text/plain": [
       "array([402986.36615883, 757701.45401489, 504916.76901181, ...,\n",
       "       414521.87601713, 479626.62429716, 547438.5295049 ])"
      ]
     },
     "execution_count": 109,
     "metadata": {},
     "output_type": "execute_result"
    }
   ],
   "source": [
    "y_pred"
   ]
  },
  {
   "cell_type": "code",
   "execution_count": 110,
   "id": "692fd8aa",
   "metadata": {},
   "outputs": [
    {
     "name": "stdout",
     "output_type": "stream",
     "text": [
      "y-intercept             :  -239114.5205318469\n",
      "beta coefficients       :  [ 8.29184308e+04  2.05789613e+04  3.45821090e+00  8.65644471e+03\n",
      " -1.11548522e+00  1.34034396e+01  4.50633991e+03 -2.29583606e+04\n",
      "  1.19733934e+05  9.24552500e+04  2.59951997e+04  1.14434736e+05\n",
      "  2.58973399e+04 -3.55642636e+04  6.79493724e+04  7.87909401e+04\n",
      " -2.16473617e+04  9.85379443e+04 -6.32087331e+03  3.21371611e+04\n",
      " -4.97640337e+04  3.22653509e+04 -4.54721026e+04  9.07099222e+03\n",
      " -9.80396476e+04 -2.46545158e+05  8.26157273e+04  9.46003265e+03\n",
      " -3.15460932e+04  1.01855319e+05  3.54293852e+04  3.03272609e+04\n",
      "  4.54116083e+04 -1.05337675e+05 -1.38310444e+05 -6.23594889e+04\n",
      "  1.94125482e+05  2.47913363e+05 -2.44734200e+04  3.61832911e+04\n",
      " -1.01474310e+04 -2.30605998e+05  1.26436386e+05  8.93828755e+04\n",
      " -1.46473802e+05  6.94109009e+04  3.96009783e+04  4.28963362e+04]\n",
      "Mean Abs Error   MAE    :  96131.28169535093\n",
      "Mean Sq  Error MSE      :  15295372283.156023\n",
      "Root Mean Sq Error RMSE :  123674.4609171838\n",
      "r2 value                :  0.638296252205655\n",
      "Model Score for Training data: 0.6632670452883463\n",
      "Model Score for Testing data: 0.638296252205655\n"
     ]
    }
   ],
   "source": [
    "# Model evaluation metrics for regression(degree=1)\n",
    "print('y-intercept             : ', linreg.intercept_)\n",
    "print('beta coefficients       : ', linreg.coef_)\n",
    "print('Mean Abs Error   MAE    : ', metrics.mean_absolute_error(y_test, y_pred))\n",
    "print('Mean Sq  Error MSE      : ', metrics.mean_squared_error(y_test, y_pred))\n",
    "print('Root Mean Sq Error RMSE : ', np.sqrt(metrics.mean_squared_error(y_test, y_pred)))\n",
    "print('r2 value                : ', metrics.r2_score(y_test, y_pred))\n",
    "print(\"Model Score for Training data: {}\".format(linreg.score(X_train,y_train)))\n",
    "print(\"Model Score for Testing data: {}\".format(r2_score(y_test,y_pred)))"
   ]
  },
  {
   "cell_type": "markdown",
   "id": "1143b270",
   "metadata": {},
   "source": [
    "So with linear regression,\n",
    "R-squared=0.638 indicates that the model has 64% information to make an accurate prediction about London house prices.\n",
    "RMSE=2058185 indicates that the model is 123674 which means that there's an average error of $123674 in prediction of house price."
   ]
  },
  {
   "cell_type": "code",
   "execution_count": 111,
   "id": "3fd47590",
   "metadata": {},
   "outputs": [
    {
     "name": "stderr",
     "output_type": "stream",
     "text": [
      "C:\\Users\\jwpow\\anaconda3\\lib\\site-packages\\seaborn\\_decorators.py:36: FutureWarning: Pass the following variables as keyword args: x, y. From version 0.12, the only valid positional argument will be `data`, and passing other arguments without an explicit keyword will result in an error or misinterpretation.\n",
      "  warnings.warn(\n"
     ]
    },
    {
     "data": {
      "text/plain": [
       "<AxesSubplot:ylabel='price'>"
      ]
     },
     "execution_count": 111,
     "metadata": {},
     "output_type": "execute_result"
    },
    {
     "data": {
      "image/png": "[encoded data removed]",
      "text/plain": [
       "<Figure size 432x288 with 1 Axes>"
      ]
     },
     "metadata": {
      "needs_background": "light"
     },
     "output_type": "display_data"
    }
   ],
   "source": [
    "sns.regplot(y_pred,y_test)"
   ]
  },
  {
   "cell_type": "code",
   "execution_count": 1,
   "id": "994b9e71",
   "metadata": {},
   "outputs": [
    {
     "ename": "NameError",
     "evalue": "name 'X_train' is not defined",
     "output_type": "error",
     "traceback": [
      "\u001b[1;31m---------------------------------------------------------------------------\u001b[0m",
      "\u001b[1;31mNameError\u001b[0m                                 Traceback (most recent call last)",
      "\u001b[1;32m<ipython-input-1-95cba13d708f>\u001b[0m in \u001b[0;36m<module>\u001b[1;34m\u001b[0m\n\u001b[0;32m      2\u001b[0m \u001b[1;33m\u001b[0m\u001b[0m\n\u001b[0;32m      3\u001b[0m \u001b[0mridgereg\u001b[0m \u001b[1;33m=\u001b[0m \u001b[0mRidge\u001b[0m\u001b[1;33m(\u001b[0m\u001b[0malpha\u001b[0m\u001b[1;33m=\u001b[0m\u001b[1;36m0.1\u001b[0m\u001b[1;33m,\u001b[0m \u001b[0mnormalize\u001b[0m\u001b[1;33m=\u001b[0m\u001b[1;32mTrue\u001b[0m\u001b[1;33m)\u001b[0m\u001b[1;33m\u001b[0m\u001b[1;33m\u001b[0m\u001b[0m\n\u001b[1;32m----> 4\u001b[1;33m \u001b[0mridgereg\u001b[0m\u001b[1;33m.\u001b[0m\u001b[0mfit\u001b[0m\u001b[1;33m(\u001b[0m\u001b[0mX_train\u001b[0m\u001b[1;33m,\u001b[0m \u001b[0my_train\u001b[0m\u001b[1;33m)\u001b[0m\u001b[1;33m\u001b[0m\u001b[1;33m\u001b[0m\u001b[0m\n\u001b[0m\u001b[0;32m      5\u001b[0m \u001b[0my_pred\u001b[0m \u001b[1;33m=\u001b[0m \u001b[0mridgereg\u001b[0m\u001b[1;33m.\u001b[0m\u001b[0mpredict\u001b[0m\u001b[1;33m(\u001b[0m\u001b[0mX_test\u001b[0m\u001b[1;33m)\u001b[0m\u001b[1;33m\u001b[0m\u001b[1;33m\u001b[0m\u001b[0m\n\u001b[0;32m      6\u001b[0m \u001b[0mprint\u001b[0m\u001b[1;33m(\u001b[0m\u001b[1;34m'y-intercept             : '\u001b[0m\u001b[1;33m,\u001b[0m \u001b[0mlinreg\u001b[0m\u001b[1;33m.\u001b[0m\u001b[0mintercept_\u001b[0m\u001b[1;33m)\u001b[0m\u001b[1;33m\u001b[0m\u001b[1;33m\u001b[0m\u001b[0m\n",
      "\u001b[1;31mNameError\u001b[0m: name 'X_train' is not defined"
     ]
    }
   ],
   "source": [
    "from sklearn.linear_model import Ridge\n",
    "\n",
    "ridgereg = Ridge(alpha=0.1, normalize=True)\n",
    "ridgereg.fit(X_train, y_train)\n",
    "y_pred = ridgereg.predict(X_test)\n",
    "print('y-intercept             : ', linreg.intercept_)\n",
    "print('beta coefficients       : ', linreg.coef_)\n",
    "print('Mean Abs Error   MAE    : ', metrics.mean_absolute_error(y_test, y_pred))\n",
    "print('Mean Sq  Error MSE      : ', metrics.mean_squared_error(y_test, y_pred))\n",
    "print('Root Mean Sq Error RMSE : ', np.sqrt(metrics.mean_squared_error(y_test, y_pred)))\n",
    "print('r2 value                : ', metrics.r2_score(y_test, y_pred))\n",
    "print(\"Model Score for Training data: {}\".format(linreg.score(X_train,y_train)))\n",
    "print(\"Model Score for Testing data: {}\".format(r2_score(y_test,y_pred)))"
   ]
  },
  {
   "cell_type": "code",
   "execution_count": null,
   "id": "3583ab2c",
   "metadata": {},
   "outputs": [],
   "source": [
    "# I will shuffle the data before rerunning the cross validation above\n",
    "from sklearn.model_selection import KFold\n",
    "from sklearn.model_selection import cross_val_score\n",
    "from sklearn.model_selection import cross_val_predict\n",
    "\n",
    "kf = KFold(10, shuffle=True, random_state=1)\n",
    "\n",
    " #instanciate the model\n",
    "lr = LinearRegression()\n",
    "    \n",
    "cv_score = cross_val_score(lr, X, y,cv=kf)\n",
    "print(f'Cross validation score: {cv_score}')\n",
    "print(f'Mean of cross validation: {np.mean(cv_score)}')\n",
    "print(f'Std deviation: {np.std(cv_score)}')\n",
    "    \n",
    "y_pred = cross_val_predict(lr, X, y, cv=kf)\n",
    "    \n",
    "R2 = metrics.r2_score(y, y_pred)\n",
    "print(f'Cross predicted R2:{R2}')\n",
    "print('Root Mean Sq Error RMSE : ', np.sqrt(metrics.mean_squared_error(y, y_pred)))"
   ]
  },
  {
   "cell_type": "code",
   "execution_count": null,
   "id": "99899c36",
   "metadata": {},
   "outputs": [],
   "source": [
    "# usig kfolds appears to improve the R2 and RMSE values somewhat"
   ]
  }
 ],
 "metadata": {
  "kernelspec": {
   "display_name": "Python 3",
   "language": "python",
   "name": "python3"
  },
  "language_info": {
   "codemirror_mode": {
    "name": "ipython",
    "version": 3
   },
   "file_extension": ".py",
   "mimetype": "text/x-python",
   "name": "python",
   "nbconvert_exporter": "python",
   "pygments_lexer": "ipython3",
   "version": "3.8.8"
  }
 },
 "nbformat": 4,
 "nbformat_minor": 5
}
