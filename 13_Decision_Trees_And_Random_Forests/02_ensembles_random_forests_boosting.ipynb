{
 "cells": [
  {
   "cell_type": "markdown",
   "metadata": {
    "slideshow": {
     "slide_type": "slide"
    }
   },
   "source": [
    "<img src=\"assets/images/1ZcRyrc.png\" style=\"float: left; margin: 20px; height: 55px\">\n",
    " \n",
    "# Ensembles, Random Forests and Boosting\n",
    " \n",
    "---"
   ]
  },
  {
   "cell_type": "markdown",
   "metadata": {
    "slideshow": {
     "slide_type": "subslide"
    }
   },
   "source": [
    "\n",
    "\n",
    "- Understand how and why decision trees can be improved using bagging and random forests.\n",
    "- Build random forest models for classification and regression.\n",
    "- Know how to extract the most important predictors in a random forest model.\n",
    "- Look at how to use weak learners (boosting) for classification\n",
    "- Tuning ML models\n"
   ]
  },
  {
   "cell_type": "code",
   "execution_count": 26,
   "metadata": {
    "slideshow": {
     "slide_type": "skip"
    }
   },
   "outputs": [],
   "source": [
    "import pandas as pd\n",
    "import numpy as np\n",
    "\n",
    "import matplotlib.pyplot as plt\n",
    "import warnings\n",
    "warnings.filterwarnings(\"ignore\")\n",
    "\n",
    "%matplotlib inline"
   ]
  },
  {
   "cell_type": "markdown",
   "metadata": {
    "slideshow": {
     "slide_type": "slide"
    }
   },
   "source": [
    "## <font style = 'color:blue'> What is Ensembling? </font>\n",
    "\n",
    "\n"
   ]
  },
  {
   "cell_type": "markdown",
   "metadata": {
    "slideshow": {
     "slide_type": "subslide"
    }
   },
   "source": [
    "<img src=\"assets/images/random_forest.png\" style=\"width:60%\" />\n",
    "\n",
    "Source: https://www.analyticsvidhya.com/blog/2020/05/decision-tree-vs-random-forest-algorithm/"
   ]
  },
  {
   "cell_type": "markdown",
   "metadata": {
    "slideshow": {
     "slide_type": "-"
    }
   },
   "source": [
    "**Ensemble learning (or \"ensembling\")** is the process of combining several predictive models in order to produce a combined model that is more accurate than any individual model. For example, given predictions from several models we could:\n",
    "\n",
    "- **Regression:** Take the average of the predictions.\n",
    "- **Classification:** Take a vote and use the most common prediction.\n"
   ]
  },
  {
   "cell_type": "markdown",
   "metadata": {
    "slideshow": {
     "slide_type": "subslide"
    }
   },
   "source": [
    "For ensembling to work well, the models must be:\n",
    "\n",
    "- **Accurate:** They outperform the null model.\n",
    "- **Independent:** Their predictions are generated using different processes.\n"
   ]
  },
  {
   "cell_type": "markdown",
   "metadata": {
    "slideshow": {
     "slide_type": "-"
    }
   },
   "source": [
    "**The big idea:** If you have a collection of individually imperfect (and independent) models, the \"one-off\" mistakes made by each model are probably not going to be made by the rest of the models, and thus the mistakes will be discarded when you average the models.\n",
    "\n"
   ]
  },
  {
   "cell_type": "markdown",
   "metadata": {
    "slideshow": {
     "slide_type": "subslide"
    }
   },
   "source": [
    "There are two basic **methods for ensembling:**\n",
    "\n",
    "- Manually ensembling your individual models.\n"
   ]
  },
  {
   "cell_type": "markdown",
   "metadata": {
    "slideshow": {
     "slide_type": "fragment"
    }
   },
   "source": [
    "- Using a model that ensembles for you."
   ]
  },
  {
   "cell_type": "markdown",
   "metadata": {
    "slideshow": {
     "slide_type": "subslide"
    }
   },
   "source": [
    "### Manual Ensembling\n",
    "\n"
   ]
  },
  {
   "cell_type": "markdown",
   "metadata": {
    "slideshow": {
     "slide_type": "subslide"
    }
   },
   "source": [
    "![Manual Ensemble Models](assets/images/ensemble_models.png)\n",
    "Source: https://towardsdatascience.com/ensemble-models-for-classification-d443ebed7efe\n"
   ]
  },
  {
   "cell_type": "markdown",
   "metadata": {
    "slideshow": {
     "slide_type": "-"
    }
   },
   "source": [
    "What makes an effective manual ensemble?"
   ]
  },
  {
   "cell_type": "markdown",
   "metadata": {
    "slideshow": {
     "slide_type": "fragment"
    }
   },
   "source": [
    "- Different types of **models**."
   ]
  },
  {
   "cell_type": "markdown",
   "metadata": {
    "slideshow": {
     "slide_type": "fragment"
    }
   },
   "source": [
    "- Different combinations of **features**."
   ]
  },
  {
   "cell_type": "markdown",
   "metadata": {
    "slideshow": {
     "slide_type": "fragment"
    }
   },
   "source": [
    "- Different **tuning parameters**.\n",
    "\n"
   ]
  },
  {
   "cell_type": "markdown",
   "metadata": {
    "slideshow": {
     "slide_type": "fragment"
    }
   },
   "source": [
    "- (and it's how you win Kaggle competitions)"
   ]
  },
  {
   "cell_type": "markdown",
   "metadata": {
    "slideshow": {
     "slide_type": "subslide"
    }
   },
   "source": [
    "![Machine learning flowchart](assets/images/crowdflower_ensembling.jpg)\n",
    "\n",
    "*Machine learning flowchart created by the [winner](https://github.com/ChenglongChen/Kaggle_CrowdFlower) of Kaggle's [CrowdFlower competition](https://www.kaggle.com/c/crowdflower-search-relevance)*."
   ]
  },
  {
   "cell_type": "markdown",
   "metadata": {
    "slideshow": {
     "slide_type": "subslide"
    }
   },
   "source": [
    "### Comparing Manual Ensembling With a Single Model Approach\n",
    "\n"
   ]
  },
  {
   "cell_type": "markdown",
   "metadata": {
    "slideshow": {
     "slide_type": "fragment"
    }
   },
   "source": [
    "**Advantages of manual ensembling:**\n",
    "\n",
    "- It increases predictive accuracy.\n",
    "- It's easy to get started.\n"
   ]
  },
  {
   "cell_type": "markdown",
   "metadata": {
    "slideshow": {
     "slide_type": "fragment"
    }
   },
   "source": [
    "**Disadvantages of manual ensembling:**\n",
    "\n",
    "- It decreases interpretability.\n",
    "- It takes longer to train.\n",
    "- It takes longer to predict.\n",
    "- It is more complex to automate and maintain.\n",
    "- Small gains in accuracy may not be worth the added complexity."
   ]
  },
  {
   "cell_type": "markdown",
   "metadata": {
    "slideshow": {
     "slide_type": "slide"
    }
   },
   "source": [
    "\n",
    "## <font style = 'color:blue'> Bagging </font>\n",
    "\n",
    "\n"
   ]
  },
  {
   "cell_type": "markdown",
   "metadata": {
    "slideshow": {
     "slide_type": "fragment"
    }
   },
   "source": [
    "The primary weakness of **decision trees** is that they don't tend to have the best predictive accuracy. This is partially because of **high variance**, meaning that different splits in the training data can lead to very different trees.\n"
   ]
  },
  {
   "cell_type": "markdown",
   "metadata": {
    "slideshow": {
     "slide_type": "fragment"
    }
   },
   "source": [
    "**Bagging** is a general-purpose procedure for reducing the variance of a machine learning method but is particularly useful for decision trees. Bagging is short for **bootstrap aggregation**, meaning the aggregation of bootstrap samples.\n"
   ]
  },
  {
   "cell_type": "markdown",
   "metadata": {
    "slideshow": {
     "slide_type": "fragment"
    }
   },
   "source": [
    "\n",
    "A **bootstrap sample** is a random sample with replacement. So, it has the same size as the original sample but might duplicate some of the original observations."
   ]
  },
  {
   "cell_type": "code",
   "execution_count": 27,
   "metadata": {
    "slideshow": {
     "slide_type": "subslide"
    }
   },
   "outputs": [
    {
     "name": "stdout",
     "output_type": "stream",
     "text": [
      "[ 1  2  3  4  5  6  7  8  9 10 11 12 13 14 15 16 17 18 19 20]\n",
      "[ 6 12 13  9 10 12  6 16  1 17  2 13  8 14  7 19  6 19 12 11]\n"
     ]
    }
   ],
   "source": [
    "# Set a seed for reproducibility.\n",
    "np.random.seed(1)\n",
    "\n",
    "# Create an array of 1 through 20.\n",
    "nums = np.arange(1, 21)\n",
    "print(nums)\n",
    "\n",
    "# Sample that array 20 times with replacement.\n",
    "print(np.random.choice(a=nums, size=20, replace=True))"
   ]
  },
  {
   "cell_type": "markdown",
   "metadata": {
    "slideshow": {
     "slide_type": "subslide"
    }
   },
   "source": [
    "**How does bagging work (for decision trees)?**\n",
    "\n"
   ]
  },
  {
   "cell_type": "markdown",
   "metadata": {
    "slideshow": {
     "slide_type": "fragment"
    }
   },
   "source": [
    "1. Grow B trees using B bootstrap samples from the training data.\n",
    "2. Train each tree on its bootstrap sample and make predictions.\n",
    "3. Combine the predictions:\n",
    "    - Average the predictions for **regression trees**.\n",
    "    - Take a vote for **classification trees**.\n"
   ]
  },
  {
   "cell_type": "markdown",
   "metadata": {
    "slideshow": {
     "slide_type": "fragment"
    }
   },
   "source": [
    "Notes:\n",
    "\n",
    "- **Each bootstrap sample** should be the same size as the original training set. (It may contain repeated rows.)\n",
    "- **B** should be a large enough value that the error seems to have \"stabilized\".\n",
    "- The trees are **grown deep** so that they have low bias/high variance.\n",
    "\n"
   ]
  },
  {
   "cell_type": "markdown",
   "metadata": {
    "slideshow": {
     "slide_type": "fragment"
    }
   },
   "source": [
    "Bagging increases predictive accuracy by **reducing the variance**, similar to how cross-validation reduces the variance associated with train/test split (for estimating out-of-sample error) by splitting many times an averaging the results."
   ]
  },
  {
   "cell_type": "markdown",
   "metadata": {
    "slideshow": {
     "slide_type": "subslide"
    }
   },
   "source": [
    "<a id=\"manual-bagged\"></a>\n",
    "### Manually Implementing Bagged Decision Trees (with B=10)"
   ]
  },
  {
   "cell_type": "code",
   "execution_count": 28,
   "metadata": {
    "slideshow": {
     "slide_type": "subslide"
    }
   },
   "outputs": [
    {
     "data": {
      "text/html": [
       "<div>\n",
       "<style scoped>\n",
       "    .dataframe tbody tr th:only-of-type {\n",
       "        vertical-align: middle;\n",
       "    }\n",
       "\n",
       "    .dataframe tbody tr th {\n",
       "        vertical-align: top;\n",
       "    }\n",
       "\n",
       "    .dataframe thead th {\n",
       "        text-align: right;\n",
       "    }\n",
       "</style>\n",
       "<table border=\"1\" class=\"dataframe\">\n",
       "  <thead>\n",
       "    <tr style=\"text-align: right;\">\n",
       "      <th></th>\n",
       "      <th>price</th>\n",
       "      <th>year</th>\n",
       "      <th>miles</th>\n",
       "      <th>doors</th>\n",
       "      <th>vtype</th>\n",
       "    </tr>\n",
       "  </thead>\n",
       "  <tbody>\n",
       "    <tr>\n",
       "      <th>0</th>\n",
       "      <td>22000</td>\n",
       "      <td>2012</td>\n",
       "      <td>13000</td>\n",
       "      <td>2</td>\n",
       "      <td>0</td>\n",
       "    </tr>\n",
       "    <tr>\n",
       "      <th>1</th>\n",
       "      <td>14000</td>\n",
       "      <td>2010</td>\n",
       "      <td>30000</td>\n",
       "      <td>2</td>\n",
       "      <td>0</td>\n",
       "    </tr>\n",
       "    <tr>\n",
       "      <th>2</th>\n",
       "      <td>13000</td>\n",
       "      <td>2010</td>\n",
       "      <td>73500</td>\n",
       "      <td>4</td>\n",
       "      <td>0</td>\n",
       "    </tr>\n",
       "  </tbody>\n",
       "</table>\n",
       "</div>"
      ],
      "text/plain": [
       "   price  year  miles  doors  vtype\n",
       "0  22000  2012  13000      2      0\n",
       "1  14000  2010  30000      2      0\n",
       "2  13000  2010  73500      4      0"
      ]
     },
     "execution_count": 28,
     "metadata": {},
     "output_type": "execute_result"
    }
   ],
   "source": [
    "path = 'assets/data/vehicles_train.csv'\n",
    "train = pd.read_csv(path)\n",
    "train['vtype'] = train.vtype.map({'car':0, 'truck':1})\n",
    "train.head(3)"
   ]
  },
  {
   "cell_type": "code",
   "execution_count": 29,
   "metadata": {
    "slideshow": {
     "slide_type": "subslide"
    }
   },
   "outputs": [
    {
     "data": {
      "text/plain": [
       "[array([13,  2, 12,  2,  6,  1,  3, 10, 11,  9,  6,  1,  0,  1]),\n",
       " array([ 9,  0,  0,  9,  3, 13,  4,  0,  0,  4,  1,  7,  3,  2]),\n",
       " array([ 4,  7,  2,  4,  8, 13,  0,  7,  9,  3, 12, 12,  4,  6]),\n",
       " array([ 1,  5,  6, 11,  2,  1, 12,  8,  3, 10,  5,  0, 11,  2]),\n",
       " array([10, 10,  6, 13,  2,  4, 11, 11, 13, 12,  4,  6, 13,  3]),\n",
       " array([10,  0,  6,  4,  7, 11,  6,  7,  1, 11, 10,  5,  7,  9]),\n",
       " array([ 2,  4,  8,  1, 12,  2,  1,  1,  3, 12,  5,  9,  0,  8]),\n",
       " array([11,  1,  6,  3,  3, 11,  5,  9,  7,  9,  2,  3, 11,  3]),\n",
       " array([ 3,  8,  6,  9,  7,  6,  3,  9,  6, 12,  6, 11,  6,  1]),\n",
       " array([13, 10,  3,  4,  3,  1, 13,  0,  5,  8, 13,  6, 11,  8])]"
      ]
     },
     "execution_count": 29,
     "metadata": {},
     "output_type": "execute_result"
    }
   ],
   "source": [
    "# Set a seed for reproducibility.\n",
    "np.random.seed(123)\n",
    "\n",
    "# Create ten bootstrap samples (which will be used to select rows from the DataFrame).\n",
    "samples = [np.random.choice(a=14, size=14, replace=True) for _ in range(1, 11)]\n",
    "samples"
   ]
  },
  {
   "cell_type": "code",
   "execution_count": 30,
   "metadata": {
    "slideshow": {
     "slide_type": "subslide"
    }
   },
   "outputs": [
    {
     "data": {
      "text/html": [
       "<div>\n",
       "<style scoped>\n",
       "    .dataframe tbody tr th:only-of-type {\n",
       "        vertical-align: middle;\n",
       "    }\n",
       "\n",
       "    .dataframe tbody tr th {\n",
       "        vertical-align: top;\n",
       "    }\n",
       "\n",
       "    .dataframe thead th {\n",
       "        text-align: right;\n",
       "    }\n",
       "</style>\n",
       "<table border=\"1\" class=\"dataframe\">\n",
       "  <thead>\n",
       "    <tr style=\"text-align: right;\">\n",
       "      <th></th>\n",
       "      <th>price</th>\n",
       "      <th>year</th>\n",
       "      <th>miles</th>\n",
       "      <th>doors</th>\n",
       "      <th>vtype</th>\n",
       "    </tr>\n",
       "  </thead>\n",
       "  <tbody>\n",
       "    <tr>\n",
       "      <th>13</th>\n",
       "      <td>1300</td>\n",
       "      <td>1997</td>\n",
       "      <td>138000</td>\n",
       "      <td>4</td>\n",
       "      <td>0</td>\n",
       "    </tr>\n",
       "    <tr>\n",
       "      <th>2</th>\n",
       "      <td>13000</td>\n",
       "      <td>2010</td>\n",
       "      <td>73500</td>\n",
       "      <td>4</td>\n",
       "      <td>0</td>\n",
       "    </tr>\n",
       "    <tr>\n",
       "      <th>12</th>\n",
       "      <td>1800</td>\n",
       "      <td>1999</td>\n",
       "      <td>163000</td>\n",
       "      <td>2</td>\n",
       "      <td>1</td>\n",
       "    </tr>\n",
       "    <tr>\n",
       "      <th>2</th>\n",
       "      <td>13000</td>\n",
       "      <td>2010</td>\n",
       "      <td>73500</td>\n",
       "      <td>4</td>\n",
       "      <td>0</td>\n",
       "    </tr>\n",
       "    <tr>\n",
       "      <th>6</th>\n",
       "      <td>3000</td>\n",
       "      <td>2004</td>\n",
       "      <td>177000</td>\n",
       "      <td>4</td>\n",
       "      <td>0</td>\n",
       "    </tr>\n",
       "    <tr>\n",
       "      <th>1</th>\n",
       "      <td>14000</td>\n",
       "      <td>2010</td>\n",
       "      <td>30000</td>\n",
       "      <td>2</td>\n",
       "      <td>0</td>\n",
       "    </tr>\n",
       "    <tr>\n",
       "      <th>3</th>\n",
       "      <td>9500</td>\n",
       "      <td>2009</td>\n",
       "      <td>78000</td>\n",
       "      <td>4</td>\n",
       "      <td>0</td>\n",
       "    </tr>\n",
       "    <tr>\n",
       "      <th>10</th>\n",
       "      <td>2500</td>\n",
       "      <td>2003</td>\n",
       "      <td>190000</td>\n",
       "      <td>2</td>\n",
       "      <td>1</td>\n",
       "    </tr>\n",
       "    <tr>\n",
       "      <th>11</th>\n",
       "      <td>5000</td>\n",
       "      <td>2001</td>\n",
       "      <td>62000</td>\n",
       "      <td>4</td>\n",
       "      <td>0</td>\n",
       "    </tr>\n",
       "    <tr>\n",
       "      <th>9</th>\n",
       "      <td>1900</td>\n",
       "      <td>2003</td>\n",
       "      <td>160000</td>\n",
       "      <td>4</td>\n",
       "      <td>0</td>\n",
       "    </tr>\n",
       "    <tr>\n",
       "      <th>6</th>\n",
       "      <td>3000</td>\n",
       "      <td>2004</td>\n",
       "      <td>177000</td>\n",
       "      <td>4</td>\n",
       "      <td>0</td>\n",
       "    </tr>\n",
       "    <tr>\n",
       "      <th>1</th>\n",
       "      <td>14000</td>\n",
       "      <td>2010</td>\n",
       "      <td>30000</td>\n",
       "      <td>2</td>\n",
       "      <td>0</td>\n",
       "    </tr>\n",
       "    <tr>\n",
       "      <th>0</th>\n",
       "      <td>22000</td>\n",
       "      <td>2012</td>\n",
       "      <td>13000</td>\n",
       "      <td>2</td>\n",
       "      <td>0</td>\n",
       "    </tr>\n",
       "    <tr>\n",
       "      <th>1</th>\n",
       "      <td>14000</td>\n",
       "      <td>2010</td>\n",
       "      <td>30000</td>\n",
       "      <td>2</td>\n",
       "      <td>0</td>\n",
       "    </tr>\n",
       "  </tbody>\n",
       "</table>\n",
       "</div>"
      ],
      "text/plain": [
       "    price  year   miles  doors  vtype\n",
       "13   1300  1997  138000      4      0\n",
       "2   13000  2010   73500      4      0\n",
       "12   1800  1999  163000      2      1\n",
       "2   13000  2010   73500      4      0\n",
       "6    3000  2004  177000      4      0\n",
       "1   14000  2010   30000      2      0\n",
       "3    9500  2009   78000      4      0\n",
       "10   2500  2003  190000      2      1\n",
       "11   5000  2001   62000      4      0\n",
       "9    1900  2003  160000      4      0\n",
       "6    3000  2004  177000      4      0\n",
       "1   14000  2010   30000      2      0\n",
       "0   22000  2012   13000      2      0\n",
       "1   14000  2010   30000      2      0"
      ]
     },
     "execution_count": 30,
     "metadata": {},
     "output_type": "execute_result"
    }
   ],
   "source": [
    "# Show the rows for the first decision tree.\n",
    "train.iloc[samples[0], :]"
   ]
  },
  {
   "cell_type": "code",
   "execution_count": 31,
   "metadata": {
    "slideshow": {
     "slide_type": "subslide"
    }
   },
   "outputs": [
    {
     "data": {
      "text/html": [
       "<div>\n",
       "<style scoped>\n",
       "    .dataframe tbody tr th:only-of-type {\n",
       "        vertical-align: middle;\n",
       "    }\n",
       "\n",
       "    .dataframe tbody tr th {\n",
       "        vertical-align: top;\n",
       "    }\n",
       "\n",
       "    .dataframe thead th {\n",
       "        text-align: right;\n",
       "    }\n",
       "</style>\n",
       "<table border=\"1\" class=\"dataframe\">\n",
       "  <thead>\n",
       "    <tr style=\"text-align: right;\">\n",
       "      <th></th>\n",
       "      <th>price</th>\n",
       "      <th>year</th>\n",
       "      <th>miles</th>\n",
       "      <th>doors</th>\n",
       "      <th>vtype</th>\n",
       "    </tr>\n",
       "  </thead>\n",
       "  <tbody>\n",
       "    <tr>\n",
       "      <th>0</th>\n",
       "      <td>3000</td>\n",
       "      <td>2003</td>\n",
       "      <td>130000</td>\n",
       "      <td>4</td>\n",
       "      <td>1</td>\n",
       "    </tr>\n",
       "    <tr>\n",
       "      <th>1</th>\n",
       "      <td>6000</td>\n",
       "      <td>2005</td>\n",
       "      <td>82500</td>\n",
       "      <td>4</td>\n",
       "      <td>0</td>\n",
       "    </tr>\n",
       "    <tr>\n",
       "      <th>2</th>\n",
       "      <td>12000</td>\n",
       "      <td>2010</td>\n",
       "      <td>60000</td>\n",
       "      <td>2</td>\n",
       "      <td>0</td>\n",
       "    </tr>\n",
       "  </tbody>\n",
       "</table>\n",
       "</div>"
      ],
      "text/plain": [
       "   price  year   miles  doors  vtype\n",
       "0   3000  2003  130000      4      1\n",
       "1   6000  2005   82500      4      0\n",
       "2  12000  2010   60000      2      0"
      ]
     },
     "execution_count": 31,
     "metadata": {},
     "output_type": "execute_result"
    }
   ],
   "source": [
    "# Read in and prepare the vehicle testing data.\n",
    "path = 'assets/data/vehicles_test.csv'\n",
    "test = pd.read_csv(path)\n",
    "test['vtype'] = test.vtype.map({'car':0, 'truck':1})\n",
    "test"
   ]
  },
  {
   "cell_type": "code",
   "execution_count": 32,
   "metadata": {
    "slideshow": {
     "slide_type": "subslide"
    }
   },
   "outputs": [],
   "source": [
    "from sklearn.tree import DecisionTreeRegressor\n",
    "\n",
    "# Grow each tree deep.\n",
    "treereg = DecisionTreeRegressor(max_depth=None, random_state=123)\n",
    "\n",
    "# List for storing predicted price from each tree:\n",
    "predictions = []\n",
    "\n",
    "# Define testing data.\n",
    "X_test = test.iloc[:, 1:]\n",
    "y_test = test.iloc[:, 0]\n",
    "\n"
   ]
  },
  {
   "cell_type": "code",
   "execution_count": 33,
   "metadata": {
    "slideshow": {
     "slide_type": "subslide"
    }
   },
   "outputs": [
    {
     "data": {
      "text/plain": [
       "array([[ 1300.,  5000., 14000.],\n",
       "       [ 1300.,  1300., 13000.],\n",
       "       [ 3000.,  3000., 13000.],\n",
       "       [ 4000.,  5000., 13000.],\n",
       "       [ 1300.,  5000., 13000.],\n",
       "       [ 4000.,  5000., 14000.],\n",
       "       [ 4000.,  4000., 13000.],\n",
       "       [ 4000.,  5000., 13000.],\n",
       "       [ 3000.,  5000.,  9500.],\n",
       "       [ 4000.,  5000.,  9000.]])"
      ]
     },
     "execution_count": 33,
     "metadata": {},
     "output_type": "execute_result"
    }
   ],
   "source": [
    "# Grow one tree for each bootstrap sample and make predictions on testing data.\n",
    "for sample in samples:\n",
    "    X_train = train.iloc[sample, 1:]\n",
    "    y_train = train.iloc[sample, 0]\n",
    "    treereg.fit(X_train, y_train)\n",
    "    y_pred = treereg.predict(X_test)\n",
    "    predictions.append(y_pred)\n",
    "\n",
    "# Convert predictions from list to NumPy array.\n",
    "predictions = np.array(predictions)\n",
    "predictions"
   ]
  },
  {
   "cell_type": "code",
   "execution_count": 34,
   "metadata": {
    "slideshow": {
     "slide_type": "subslide"
    }
   },
   "outputs": [
    {
     "data": {
      "text/plain": [
       "array([ 2990.,  4330., 12450.])"
      ]
     },
     "execution_count": 34,
     "metadata": {},
     "output_type": "execute_result"
    }
   ],
   "source": [
    "# Average predictions.\n",
    "np.mean(predictions, axis=0)"
   ]
  },
  {
   "cell_type": "code",
   "execution_count": 35,
   "metadata": {
    "slideshow": {
     "slide_type": "fragment"
    }
   },
   "outputs": [
    {
     "data": {
      "text/plain": [
       "998.5823284370031"
      ]
     },
     "execution_count": 35,
     "metadata": {},
     "output_type": "execute_result"
    }
   ],
   "source": [
    "# Calculate RMSE.\n",
    "from sklearn import metrics\n",
    "y_pred = np.mean(predictions, axis=0)\n",
    "np.sqrt(metrics.mean_squared_error(y_test, y_pred))"
   ]
  },
  {
   "cell_type": "markdown",
   "metadata": {
    "slideshow": {
     "slide_type": "subslide"
    }
   },
   "source": [
    "<a id=\"manual-sklearn\"></a>\n",
    "### Bagged Decision Trees in `scikit-learn` (with B=500)"
   ]
  },
  {
   "cell_type": "code",
   "execution_count": 36,
   "metadata": {
    "slideshow": {
     "slide_type": "fragment"
    }
   },
   "outputs": [],
   "source": [
    "# Define the training and testing sets.\n",
    "X_train = train.iloc[:, 1:]\n",
    "y_train = train.iloc[:, 0]\n",
    "X_test = test.iloc[:, 1:]\n",
    "y_test = test.iloc[:, 0]"
   ]
  },
  {
   "cell_type": "code",
   "execution_count": 37,
   "metadata": {
    "slideshow": {
     "slide_type": "subslide"
    }
   },
   "outputs": [],
   "source": [
    "# Instruct BaggingRegressor to use DecisionTreeRegressor as the \"base estimator.\"\n",
    "from sklearn.ensemble import BaggingRegressor\n",
    "bagreg = BaggingRegressor(DecisionTreeRegressor(), n_estimators=500, bootstrap=True, oob_score=True, random_state=1)"
   ]
  },
  {
   "cell_type": "code",
   "execution_count": 38,
   "metadata": {
    "slideshow": {
     "slide_type": "subslide"
    }
   },
   "outputs": [
    {
     "data": {
      "text/plain": [
       "array([ 3335. ,  5419.8, 12956. ])"
      ]
     },
     "execution_count": 38,
     "metadata": {},
     "output_type": "execute_result"
    }
   ],
   "source": [
    "# Fit and predict.\n",
    "bagreg.fit(X_train, y_train)\n",
    "y_pred = bagreg.predict(X_test)\n",
    "y_pred"
   ]
  },
  {
   "cell_type": "code",
   "execution_count": 39,
   "metadata": {
    "slideshow": {
     "slide_type": "fragment"
    }
   },
   "outputs": [
    {
     "data": {
      "text/plain": [
       "673.9913550385247"
      ]
     },
     "execution_count": 39,
     "metadata": {},
     "output_type": "execute_result"
    }
   ],
   "source": [
    "# Calculate RMSE.\n",
    "np.sqrt(metrics.mean_squared_error(y_test, y_pred))"
   ]
  },
  {
   "cell_type": "markdown",
   "metadata": {
    "slideshow": {
     "slide_type": "subslide"
    }
   },
   "source": [
    "### Estimating Out-of-Sample Error\n",
    "\n"
   ]
  },
  {
   "cell_type": "markdown",
   "metadata": {
    "slideshow": {
     "slide_type": "fragment"
    }
   },
   "source": [
    "For bagged models, out-of-sample error can be estimated without using **train/test split** or **cross-validation**!\n",
    "\n",
    "For each tree, the **unused observations** are called \"out-of-bag\" observations."
   ]
  },
  {
   "cell_type": "code",
   "execution_count": 40,
   "metadata": {
    "slideshow": {
     "slide_type": "subslide"
    }
   },
   "outputs": [
    {
     "data": {
      "text/plain": [
       "array([13,  2, 12,  2,  6,  1,  3, 10, 11,  9,  6,  1,  0,  1])"
      ]
     },
     "execution_count": 40,
     "metadata": {},
     "output_type": "execute_result"
    }
   ],
   "source": [
    "# Show the first bootstrap sample.\n",
    "samples[0]"
   ]
  },
  {
   "cell_type": "code",
   "execution_count": 41,
   "metadata": {
    "slideshow": {
     "slide_type": "subslide"
    }
   },
   "outputs": [
    {
     "name": "stdout",
     "output_type": "stream",
     "text": [
      "{0, 1, 2, 3, 6, 9, 10, 11, 12, 13}\n",
      "{0, 1, 2, 3, 4, 7, 9, 13}\n",
      "{0, 2, 3, 4, 6, 7, 8, 9, 12, 13}\n",
      "{0, 1, 2, 3, 5, 6, 8, 10, 11, 12}\n",
      "{2, 3, 4, 6, 10, 11, 12, 13}\n",
      "{0, 1, 4, 5, 6, 7, 9, 10, 11}\n",
      "{0, 1, 2, 3, 4, 5, 8, 9, 12}\n",
      "{1, 2, 3, 5, 6, 7, 9, 11}\n",
      "{1, 3, 6, 7, 8, 9, 11, 12}\n",
      "{0, 1, 3, 4, 5, 6, 8, 10, 11, 13}\n"
     ]
    }
   ],
   "source": [
    "# Show the \"in-bag\" observations for each sample.\n",
    "for sample in samples:\n",
    "    print(set(sample))"
   ]
  },
  {
   "cell_type": "code",
   "execution_count": 42,
   "metadata": {
    "slideshow": {
     "slide_type": "subslide"
    }
   },
   "outputs": [
    {
     "name": "stdout",
     "output_type": "stream",
     "text": [
      "[4, 5, 7, 8]\n",
      "[5, 6, 8, 10, 11, 12]\n",
      "[1, 5, 10, 11]\n",
      "[4, 7, 9, 13]\n",
      "[0, 1, 5, 7, 8, 9]\n",
      "[2, 3, 8, 12, 13]\n",
      "[6, 7, 10, 11, 13]\n",
      "[0, 4, 8, 10, 12, 13]\n",
      "[0, 2, 4, 5, 10, 13]\n",
      "[2, 7, 9, 12]\n"
     ]
    }
   ],
   "source": [
    "# Show the \"out-of-bag\" observations for each sample.\n",
    "for sample in samples:\n",
    "    print(sorted(set(range(14)) - set(sample)))"
   ]
  },
  {
   "cell_type": "markdown",
   "metadata": {
    "slideshow": {
     "slide_type": "subslide"
    }
   },
   "source": [
    "**Calculating \"out-of-bag error:\"**\n",
    "\n",
    "- For each observation in the training data, predict its response value using **only** the trees in which that observation was out-of-bag. Average those predictions (for regression) or take a vote (for classification).\n"
   ]
  },
  {
   "cell_type": "markdown",
   "metadata": {
    "slideshow": {
     "slide_type": "fragment"
    }
   },
   "source": [
    "- Compare all predictions to the actual response values in order to compute the out-of-bag error.\n"
   ]
  },
  {
   "cell_type": "markdown",
   "metadata": {
    "slideshow": {
     "slide_type": "fragment"
    }
   },
   "source": [
    "\n",
    "When B is sufficiently large, the **out-of-bag error** is an accurate estimate of **out-of-sample error**."
   ]
  },
  {
   "cell_type": "code",
   "execution_count": 43,
   "metadata": {
    "slideshow": {
     "slide_type": "fragment"
    }
   },
   "outputs": [
    {
     "data": {
      "text/plain": [
       "0.7662607997982768"
      ]
     },
     "execution_count": 43,
     "metadata": {},
     "output_type": "execute_result"
    }
   ],
   "source": [
    "# Compute the out-of-bag R-squared score (not MSE, unfortunately) for B=500.\n",
    "bagreg.oob_score_"
   ]
  },
  {
   "cell_type": "markdown",
   "metadata": {
    "slideshow": {
     "slide_type": "subslide"
    }
   },
   "source": [
    "### Estimating Feature Importance\n",
    "\n",
    "\n"
   ]
  },
  {
   "cell_type": "markdown",
   "metadata": {
    "slideshow": {
     "slide_type": "fragment"
    }
   },
   "source": [
    "Bagging increases **predictive accuracy** but decreases **model interpretability** because it's no longer possible to visualize the tree to understand the importance of each feature.\n"
   ]
  },
  {
   "cell_type": "markdown",
   "metadata": {
    "slideshow": {
     "slide_type": "fragment"
    }
   },
   "source": [
    "However, we can still obtain an overall summary of **feature importance** from bagged models:\n",
    "\n",
    "- **Bagged regression trees:** Calculate the total amount that **MSE** decreases due to splits over a given feature, averaged over all trees\n",
    "- **Bagged classification trees:** Calculate the total amount that **Gini index** decreases due to splits over a given feature, averaged over all trees"
   ]
  },
  {
   "cell_type": "markdown",
   "metadata": {
    "slideshow": {
     "slide_type": "slide"
    }
   },
   "source": [
    "\n",
    "## <font style = 'color:blue'> Random Forests </font>\n",
    "\n",
    "\n"
   ]
  },
  {
   "cell_type": "markdown",
   "metadata": {
    "slideshow": {
     "slide_type": "subslide"
    }
   },
   "source": [
    "![Random Forest](assets/images/random_forest_il.png)\n",
    "Source: https://medium.com/rapids-ai/accelerating-random-forests-up-to-45x-using-cuml-dfb782a31bea\n"
   ]
  },
  {
   "cell_type": "markdown",
   "metadata": {
    "slideshow": {
     "slide_type": "fragment"
    }
   },
   "source": [
    "Random Forests offer a **slight variation on bagged trees** with even better performance:\n",
    "\n",
    "- Exactly like bagging, we create an ensemble of decision trees using bootstrapped samples of the training set.\n"
   ]
  },
  {
   "cell_type": "markdown",
   "metadata": {
    "slideshow": {
     "slide_type": "fragment"
    }
   },
   "source": [
    "- However, when building each tree, each time a split is considered, a **random sample of m features** is chosen as split candidates from the **full set of p features**. The split is only allowed to use **one of those m features**.\n"
   ]
  },
  {
   "cell_type": "markdown",
   "metadata": {
    "slideshow": {
     "slide_type": "fragment"
    }
   },
   "source": [
    "   - A new random sample of features is chosen for **every single tree at every single split**.\n"
   ]
  },
  {
   "cell_type": "markdown",
   "metadata": {
    "slideshow": {
     "slide_type": "fragment"
    }
   },
   "source": [
    "   - For **classification**, m is typically chosen to be the square root of p.\n"
   ]
  },
  {
   "cell_type": "markdown",
   "metadata": {
    "slideshow": {
     "slide_type": "fragment"
    }
   },
   "source": [
    "   - For **regression**, m is typically chosen to be somewhere between p/3 and p.\n"
   ]
  },
  {
   "cell_type": "markdown",
   "metadata": {
    "slideshow": {
     "slide_type": "subslide"
    }
   },
   "source": [
    "What's the point?"
   ]
  },
  {
   "cell_type": "markdown",
   "metadata": {
    "slideshow": {
     "slide_type": "fragment"
    }
   },
   "source": [
    "- Suppose there is **one very strong feature** in the data set. When using bagged trees, most of the trees will use that feature as the top split, resulting in an ensemble of similar trees that are **highly correlated**.\n"
   ]
  },
  {
   "cell_type": "markdown",
   "metadata": {
    "slideshow": {
     "slide_type": "fragment"
    }
   },
   "source": [
    "- Averaging highly correlated quantities does not significantly reduce variance (which is the entire goal of bagging)."
   ]
  },
  {
   "cell_type": "markdown",
   "metadata": {
    "slideshow": {
     "slide_type": "fragment"
    }
   },
   "source": [
    "- By randomly leaving out candidate features from each split, **random forests \"decorrelate\" the trees** to the extent that the averaging process can reduce the variance of the resulting model.\n"
   ]
  },
  {
   "cell_type": "markdown",
   "metadata": {
    "slideshow": {
     "slide_type": "fragment"
    }
   },
   "source": [
    "- Another way of looking at it is that sometimes one or two strong features dominate every tree in bagging, resulting in essentially the same tree as every predictor. (This is what was meant when saying the trees could be highly correlated.) By using a subset of features to generate each tree, we get a wider variety of predictive trees that do not all use the same dominant features."
   ]
  },
  {
   "cell_type": "markdown",
   "metadata": {
    "slideshow": {
     "slide_type": "slide"
    }
   },
   "source": [
    "\n",
    "## <font style = 'color:blue'> Building and Tuning Decision Trees and Random Forests </font>\n",
    "\n"
   ]
  },
  {
   "cell_type": "markdown",
   "metadata": {
    "slideshow": {
     "slide_type": "fragment"
    }
   },
   "source": [
    "In this section, we will implement random forests in scikit-learn.\n",
    "\n",
    "- Major League Baseball player data from 1986-87: [data](https://github.com/justmarkham/DAT8/blob/master/data/hitters.csv), [data dictionary](https://cran.r-project.org/web/packages/ISLR/ISLR.pdf) (page 7)\n",
    "- Each observation represents a player.\n",
    "- **Goal:** Predict player salary."
   ]
  },
  {
   "cell_type": "markdown",
   "metadata": {
    "slideshow": {
     "slide_type": "subslide"
    }
   },
   "source": [
    "### Preparing the Data"
   ]
  },
  {
   "cell_type": "code",
   "execution_count": 44,
   "metadata": {
    "slideshow": {
     "slide_type": "fragment"
    }
   },
   "outputs": [],
   "source": [
    "# Read in the data.\n",
    "path ='assets/data/hitters.csv'\n",
    "\n",
    "# Remove rows with missing values.\n",
    "hitters.dropna(inplace=True)"
   ]
  },
  {
   "cell_type": "code",
   "execution_count": 45,
   "metadata": {
    "slideshow": {
     "slide_type": "subslide"
    }
   },
   "outputs": [
    {
     "data": {
      "text/html": [
       "<div>\n",
       "<style scoped>\n",
       "    .dataframe tbody tr th:only-of-type {\n",
       "        vertical-align: middle;\n",
       "    }\n",
       "\n",
       "    .dataframe tbody tr th {\n",
       "        vertical-align: top;\n",
       "    }\n",
       "\n",
       "    .dataframe thead th {\n",
       "        text-align: right;\n",
       "    }\n",
       "</style>\n",
       "<table border=\"1\" class=\"dataframe\">\n",
       "  <thead>\n",
       "    <tr style=\"text-align: right;\">\n",
       "      <th></th>\n",
       "      <th>AtBat</th>\n",
       "      <th>Hits</th>\n",
       "      <th>HmRun</th>\n",
       "      <th>Runs</th>\n",
       "      <th>RBI</th>\n",
       "      <th>Walks</th>\n",
       "      <th>Years</th>\n",
       "      <th>CAtBat</th>\n",
       "      <th>CHits</th>\n",
       "      <th>CHmRun</th>\n",
       "      <th>CRuns</th>\n",
       "      <th>CRBI</th>\n",
       "      <th>CWalks</th>\n",
       "      <th>League</th>\n",
       "      <th>Division</th>\n",
       "      <th>PutOuts</th>\n",
       "      <th>Assists</th>\n",
       "      <th>Errors</th>\n",
       "      <th>Salary</th>\n",
       "      <th>NewLeague</th>\n",
       "    </tr>\n",
       "  </thead>\n",
       "  <tbody>\n",
       "    <tr>\n",
       "      <th>1</th>\n",
       "      <td>315</td>\n",
       "      <td>81</td>\n",
       "      <td>7</td>\n",
       "      <td>24</td>\n",
       "      <td>38</td>\n",
       "      <td>39</td>\n",
       "      <td>14</td>\n",
       "      <td>3449</td>\n",
       "      <td>835</td>\n",
       "      <td>69</td>\n",
       "      <td>321</td>\n",
       "      <td>414</td>\n",
       "      <td>375</td>\n",
       "      <td>0</td>\n",
       "      <td>0</td>\n",
       "      <td>632</td>\n",
       "      <td>43</td>\n",
       "      <td>10</td>\n",
       "      <td>475.0</td>\n",
       "      <td>0</td>\n",
       "    </tr>\n",
       "    <tr>\n",
       "      <th>2</th>\n",
       "      <td>479</td>\n",
       "      <td>130</td>\n",
       "      <td>18</td>\n",
       "      <td>66</td>\n",
       "      <td>72</td>\n",
       "      <td>76</td>\n",
       "      <td>3</td>\n",
       "      <td>1624</td>\n",
       "      <td>457</td>\n",
       "      <td>63</td>\n",
       "      <td>224</td>\n",
       "      <td>266</td>\n",
       "      <td>263</td>\n",
       "      <td>1</td>\n",
       "      <td>0</td>\n",
       "      <td>880</td>\n",
       "      <td>82</td>\n",
       "      <td>14</td>\n",
       "      <td>480.0</td>\n",
       "      <td>1</td>\n",
       "    </tr>\n",
       "    <tr>\n",
       "      <th>3</th>\n",
       "      <td>496</td>\n",
       "      <td>141</td>\n",
       "      <td>20</td>\n",
       "      <td>65</td>\n",
       "      <td>78</td>\n",
       "      <td>37</td>\n",
       "      <td>11</td>\n",
       "      <td>5628</td>\n",
       "      <td>1575</td>\n",
       "      <td>225</td>\n",
       "      <td>828</td>\n",
       "      <td>838</td>\n",
       "      <td>354</td>\n",
       "      <td>0</td>\n",
       "      <td>1</td>\n",
       "      <td>200</td>\n",
       "      <td>11</td>\n",
       "      <td>3</td>\n",
       "      <td>500.0</td>\n",
       "      <td>0</td>\n",
       "    </tr>\n",
       "    <tr>\n",
       "      <th>4</th>\n",
       "      <td>321</td>\n",
       "      <td>87</td>\n",
       "      <td>10</td>\n",
       "      <td>39</td>\n",
       "      <td>42</td>\n",
       "      <td>30</td>\n",
       "      <td>2</td>\n",
       "      <td>396</td>\n",
       "      <td>101</td>\n",
       "      <td>12</td>\n",
       "      <td>48</td>\n",
       "      <td>46</td>\n",
       "      <td>33</td>\n",
       "      <td>0</td>\n",
       "      <td>1</td>\n",
       "      <td>805</td>\n",
       "      <td>40</td>\n",
       "      <td>4</td>\n",
       "      <td>91.5</td>\n",
       "      <td>0</td>\n",
       "    </tr>\n",
       "    <tr>\n",
       "      <th>5</th>\n",
       "      <td>594</td>\n",
       "      <td>169</td>\n",
       "      <td>4</td>\n",
       "      <td>74</td>\n",
       "      <td>51</td>\n",
       "      <td>35</td>\n",
       "      <td>11</td>\n",
       "      <td>4408</td>\n",
       "      <td>1133</td>\n",
       "      <td>19</td>\n",
       "      <td>501</td>\n",
       "      <td>336</td>\n",
       "      <td>194</td>\n",
       "      <td>1</td>\n",
       "      <td>0</td>\n",
       "      <td>282</td>\n",
       "      <td>421</td>\n",
       "      <td>25</td>\n",
       "      <td>750.0</td>\n",
       "      <td>1</td>\n",
       "    </tr>\n",
       "  </tbody>\n",
       "</table>\n",
       "</div>"
      ],
      "text/plain": [
       "   AtBat  Hits  HmRun  Runs  RBI  Walks  Years  CAtBat  CHits  CHmRun  CRuns  \\\n",
       "1    315    81      7    24   38     39     14    3449    835      69    321   \n",
       "2    479   130     18    66   72     76      3    1624    457      63    224   \n",
       "3    496   141     20    65   78     37     11    5628   1575     225    828   \n",
       "4    321    87     10    39   42     30      2     396    101      12     48   \n",
       "5    594   169      4    74   51     35     11    4408   1133      19    501   \n",
       "\n",
       "   CRBI  CWalks  League  Division  PutOuts  Assists  Errors  Salary  NewLeague  \n",
       "1   414     375       0         0      632       43      10   475.0          0  \n",
       "2   266     263       1         0      880       82      14   480.0          1  \n",
       "3   838     354       0         1      200       11       3   500.0          0  \n",
       "4    46      33       0         1      805       40       4    91.5          0  \n",
       "5   336     194       1         0      282      421      25   750.0          1  "
      ]
     },
     "execution_count": 45,
     "metadata": {},
     "output_type": "execute_result"
    }
   ],
   "source": [
    "hitters.head()"
   ]
  },
  {
   "cell_type": "code",
   "execution_count": 46,
   "metadata": {
    "slideshow": {
     "slide_type": "subslide"
    }
   },
   "outputs": [
    {
     "data": {
      "text/html": [
       "<div>\n",
       "<style scoped>\n",
       "    .dataframe tbody tr th:only-of-type {\n",
       "        vertical-align: middle;\n",
       "    }\n",
       "\n",
       "    .dataframe tbody tr th {\n",
       "        vertical-align: top;\n",
       "    }\n",
       "\n",
       "    .dataframe thead th {\n",
       "        text-align: right;\n",
       "    }\n",
       "</style>\n",
       "<table border=\"1\" class=\"dataframe\">\n",
       "  <thead>\n",
       "    <tr style=\"text-align: right;\">\n",
       "      <th></th>\n",
       "      <th>AtBat</th>\n",
       "      <th>Hits</th>\n",
       "      <th>HmRun</th>\n",
       "      <th>Runs</th>\n",
       "      <th>RBI</th>\n",
       "      <th>Walks</th>\n",
       "      <th>Years</th>\n",
       "      <th>CAtBat</th>\n",
       "      <th>CHits</th>\n",
       "      <th>CHmRun</th>\n",
       "      <th>CRuns</th>\n",
       "      <th>CRBI</th>\n",
       "      <th>CWalks</th>\n",
       "      <th>League</th>\n",
       "      <th>Division</th>\n",
       "      <th>PutOuts</th>\n",
       "      <th>Assists</th>\n",
       "      <th>Errors</th>\n",
       "      <th>Salary</th>\n",
       "      <th>NewLeague</th>\n",
       "    </tr>\n",
       "  </thead>\n",
       "  <tbody>\n",
       "    <tr>\n",
       "      <th>1</th>\n",
       "      <td>315</td>\n",
       "      <td>81</td>\n",
       "      <td>7</td>\n",
       "      <td>24</td>\n",
       "      <td>38</td>\n",
       "      <td>39</td>\n",
       "      <td>14</td>\n",
       "      <td>3449</td>\n",
       "      <td>835</td>\n",
       "      <td>69</td>\n",
       "      <td>321</td>\n",
       "      <td>414</td>\n",
       "      <td>375</td>\n",
       "      <td>0</td>\n",
       "      <td>0</td>\n",
       "      <td>632</td>\n",
       "      <td>43</td>\n",
       "      <td>10</td>\n",
       "      <td>475.0</td>\n",
       "      <td>0</td>\n",
       "    </tr>\n",
       "    <tr>\n",
       "      <th>2</th>\n",
       "      <td>479</td>\n",
       "      <td>130</td>\n",
       "      <td>18</td>\n",
       "      <td>66</td>\n",
       "      <td>72</td>\n",
       "      <td>76</td>\n",
       "      <td>3</td>\n",
       "      <td>1624</td>\n",
       "      <td>457</td>\n",
       "      <td>63</td>\n",
       "      <td>224</td>\n",
       "      <td>266</td>\n",
       "      <td>263</td>\n",
       "      <td>1</td>\n",
       "      <td>0</td>\n",
       "      <td>880</td>\n",
       "      <td>82</td>\n",
       "      <td>14</td>\n",
       "      <td>480.0</td>\n",
       "      <td>1</td>\n",
       "    </tr>\n",
       "    <tr>\n",
       "      <th>3</th>\n",
       "      <td>496</td>\n",
       "      <td>141</td>\n",
       "      <td>20</td>\n",
       "      <td>65</td>\n",
       "      <td>78</td>\n",
       "      <td>37</td>\n",
       "      <td>11</td>\n",
       "      <td>5628</td>\n",
       "      <td>1575</td>\n",
       "      <td>225</td>\n",
       "      <td>828</td>\n",
       "      <td>838</td>\n",
       "      <td>354</td>\n",
       "      <td>0</td>\n",
       "      <td>1</td>\n",
       "      <td>200</td>\n",
       "      <td>11</td>\n",
       "      <td>3</td>\n",
       "      <td>500.0</td>\n",
       "      <td>0</td>\n",
       "    </tr>\n",
       "    <tr>\n",
       "      <th>4</th>\n",
       "      <td>321</td>\n",
       "      <td>87</td>\n",
       "      <td>10</td>\n",
       "      <td>39</td>\n",
       "      <td>42</td>\n",
       "      <td>30</td>\n",
       "      <td>2</td>\n",
       "      <td>396</td>\n",
       "      <td>101</td>\n",
       "      <td>12</td>\n",
       "      <td>48</td>\n",
       "      <td>46</td>\n",
       "      <td>33</td>\n",
       "      <td>0</td>\n",
       "      <td>1</td>\n",
       "      <td>805</td>\n",
       "      <td>40</td>\n",
       "      <td>4</td>\n",
       "      <td>91.5</td>\n",
       "      <td>0</td>\n",
       "    </tr>\n",
       "    <tr>\n",
       "      <th>5</th>\n",
       "      <td>594</td>\n",
       "      <td>169</td>\n",
       "      <td>4</td>\n",
       "      <td>74</td>\n",
       "      <td>51</td>\n",
       "      <td>35</td>\n",
       "      <td>11</td>\n",
       "      <td>4408</td>\n",
       "      <td>1133</td>\n",
       "      <td>19</td>\n",
       "      <td>501</td>\n",
       "      <td>336</td>\n",
       "      <td>194</td>\n",
       "      <td>1</td>\n",
       "      <td>0</td>\n",
       "      <td>282</td>\n",
       "      <td>421</td>\n",
       "      <td>25</td>\n",
       "      <td>750.0</td>\n",
       "      <td>1</td>\n",
       "    </tr>\n",
       "  </tbody>\n",
       "</table>\n",
       "</div>"
      ],
      "text/plain": [
       "   AtBat  Hits  HmRun  Runs  RBI  Walks  Years  CAtBat  CHits  CHmRun  CRuns  \\\n",
       "1    315    81      7    24   38     39     14    3449    835      69    321   \n",
       "2    479   130     18    66   72     76      3    1624    457      63    224   \n",
       "3    496   141     20    65   78     37     11    5628   1575     225    828   \n",
       "4    321    87     10    39   42     30      2     396    101      12     48   \n",
       "5    594   169      4    74   51     35     11    4408   1133      19    501   \n",
       "\n",
       "   CRBI  CWalks  League  Division  PutOuts  Assists  Errors  Salary  NewLeague  \n",
       "1   414     375       0         0      632       43      10   475.0          0  \n",
       "2   266     263       1         0      880       82      14   480.0          1  \n",
       "3   838     354       0         1      200       11       3   500.0          0  \n",
       "4    46      33       0         1      805       40       4    91.5          0  \n",
       "5   336     194       1         0      282      421      25   750.0          1  "
      ]
     },
     "execution_count": 46,
     "metadata": {},
     "output_type": "execute_result"
    }
   ],
   "source": [
    "# Encode categorical variables as integers.\n",
    "hitters['League'] = pd.factorize(hitters.League)[0]\n",
    "hitters['Division'] = pd.factorize(hitters.Division)[0]\n",
    "hitters['NewLeague'] = pd.factorize(hitters.NewLeague)[0]\n",
    "hitters.head()"
   ]
  },
  {
   "cell_type": "code",
   "execution_count": 47,
   "metadata": {
    "slideshow": {
     "slide_type": "skip"
    }
   },
   "outputs": [],
   "source": [
    "# Allow plots to appear in the notebook.\n",
    "import matplotlib.pyplot as plt\n",
    "\n",
    "%matplotlib inline"
   ]
  },
  {
   "cell_type": "code",
   "execution_count": 48,
   "metadata": {
    "slideshow": {
     "slide_type": "subslide"
    }
   },
   "outputs": [
    {
     "data": {
      "image/png": "[encoded data removed]",
      "text/plain": [
       "<Figure size 432x288 with 2 Axes>"
      ]
     },
     "metadata": {
      "needs_background": "light"
     },
     "output_type": "display_data"
    }
   ],
   "source": [
    "# Create a scatter plot of hits vs years, colored by salary\n",
    "hitters.plot(kind='scatter', x='Years', y='Hits', c='Salary', colormap='jet', xlim=(0, 25), ylim=(0, 250));"
   ]
  },
  {
   "cell_type": "code",
   "execution_count": 49,
   "metadata": {
    "slideshow": {
     "slide_type": "subslide"
    }
   },
   "outputs": [
    {
     "data": {
      "text/plain": [
       "Index(['AtBat', 'Hits', 'HmRun', 'Runs', 'RBI', 'Walks', 'Years', 'League',\n",
       "       'Division', 'PutOuts', 'Assists', 'Errors', 'NewLeague'],\n",
       "      dtype='object')"
      ]
     },
     "execution_count": 49,
     "metadata": {},
     "output_type": "execute_result"
    }
   ],
   "source": [
    "# Define features: Exclude career statistics (which start with \"C\") and the response (salary).\n",
    "feature_cols = hitters.columns[hitters.columns.str.startswith('C') == False].drop('Salary')\n",
    "feature_cols"
   ]
  },
  {
   "cell_type": "code",
   "execution_count": 50,
   "metadata": {
    "slideshow": {
     "slide_type": "subslide"
    }
   },
   "outputs": [],
   "source": [
    "# Define X and y.\n",
    "X = hitters[feature_cols]\n",
    "y = hitters.Salary"
   ]
  },
  {
   "cell_type": "markdown",
   "metadata": {
    "slideshow": {
     "slide_type": "subslide"
    }
   },
   "source": [
    "\n",
    "### Predicting Salary With a Decision Tree\n",
    "\n",
    "Let's first recall how we might predict salary using a single decision tree.\n",
    "\n",
    "We'll first find the best **max_depth** for a decision tree using cross-validation:"
   ]
  },
  {
   "cell_type": "code",
   "execution_count": 51,
   "metadata": {
    "slideshow": {
     "slide_type": "fragment"
    }
   },
   "outputs": [],
   "source": [
    "# List of values to try for max_depth:\n",
    "max_depth_range = list(range(1, 21))\n",
    "\n",
    "# List to store the average RMSE for each value of max_depth:\n",
    "RMSE_scores = []\n",
    "\n",
    "# Use 10-fold cross-validation with each value of max_depth.\n",
    "from sklearn.model_selection import cross_val_score\n",
    "for depth in max_depth_range:\n",
    "    treereg = DecisionTreeRegressor(max_depth=depth, random_state=1)\n",
    "    MSE_scores = cross_val_score(treereg, X, y, cv=10, scoring='neg_mean_squared_error')\n",
    "    RMSE_scores.append(np.mean(np.sqrt(-MSE_scores)))"
   ]
  },
  {
   "cell_type": "code",
   "execution_count": 52,
   "metadata": {
    "slideshow": {
     "slide_type": "subslide"
    }
   },
   "outputs": [
    {
     "data": {
      "image/png": "[encoded data removed]",
      "text/plain": [
       "<Figure size 432x288 with 1 Axes>"
      ]
     },
     "metadata": {
      "needs_background": "light"
     },
     "output_type": "display_data"
    }
   ],
   "source": [
    "# Plot max_depth (x-axis) versus RMSE (y-axis).\n",
    "plt.plot(max_depth_range, RMSE_scores);\n",
    "plt.xlabel('max_depth');\n",
    "plt.ylabel('RMSE (lower is better)');"
   ]
  },
  {
   "cell_type": "code",
   "execution_count": 53,
   "metadata": {
    "slideshow": {
     "slide_type": "subslide"
    }
   },
   "outputs": [
    {
     "data": {
      "text/plain": [
       "(340.034168704752, 2)"
      ]
     },
     "execution_count": 53,
     "metadata": {},
     "output_type": "execute_result"
    }
   ],
   "source": [
    "# Show the best RMSE and the corresponding max_depth.\n",
    "sorted(zip(RMSE_scores, max_depth_range))[0]"
   ]
  },
  {
   "cell_type": "code",
   "execution_count": 54,
   "metadata": {
    "slideshow": {
     "slide_type": "subslide"
    }
   },
   "outputs": [
    {
     "data": {
      "text/plain": [
       "DecisionTreeRegressor(max_depth=2, random_state=1)"
      ]
     },
     "execution_count": 54,
     "metadata": {},
     "output_type": "execute_result"
    }
   ],
   "source": [
    "# max_depth=2 was best, so fit a tree using that parameter.\n",
    "treereg = DecisionTreeRegressor(max_depth=2, random_state=1)\n",
    "treereg.fit(X, y)"
   ]
  },
  {
   "cell_type": "code",
   "execution_count": 55,
   "metadata": {
    "slideshow": {
     "slide_type": "subslide"
    }
   },
   "outputs": [
    {
     "data": {
      "text/html": [
       "<div>\n",
       "<style scoped>\n",
       "    .dataframe tbody tr th:only-of-type {\n",
       "        vertical-align: middle;\n",
       "    }\n",
       "\n",
       "    .dataframe tbody tr th {\n",
       "        vertical-align: top;\n",
       "    }\n",
       "\n",
       "    .dataframe thead th {\n",
       "        text-align: right;\n",
       "    }\n",
       "</style>\n",
       "<table border=\"1\" class=\"dataframe\">\n",
       "  <thead>\n",
       "    <tr style=\"text-align: right;\">\n",
       "      <th></th>\n",
       "      <th>feature</th>\n",
       "      <th>importance</th>\n",
       "    </tr>\n",
       "  </thead>\n",
       "  <tbody>\n",
       "    <tr>\n",
       "      <th>1</th>\n",
       "      <td>Hits</td>\n",
       "      <td>0.511609</td>\n",
       "    </tr>\n",
       "    <tr>\n",
       "      <th>6</th>\n",
       "      <td>Years</td>\n",
       "      <td>0.488391</td>\n",
       "    </tr>\n",
       "    <tr>\n",
       "      <th>0</th>\n",
       "      <td>AtBat</td>\n",
       "      <td>0.000000</td>\n",
       "    </tr>\n",
       "    <tr>\n",
       "      <th>2</th>\n",
       "      <td>HmRun</td>\n",
       "      <td>0.000000</td>\n",
       "    </tr>\n",
       "    <tr>\n",
       "      <th>3</th>\n",
       "      <td>Runs</td>\n",
       "      <td>0.000000</td>\n",
       "    </tr>\n",
       "    <tr>\n",
       "      <th>4</th>\n",
       "      <td>RBI</td>\n",
       "      <td>0.000000</td>\n",
       "    </tr>\n",
       "    <tr>\n",
       "      <th>5</th>\n",
       "      <td>Walks</td>\n",
       "      <td>0.000000</td>\n",
       "    </tr>\n",
       "    <tr>\n",
       "      <th>7</th>\n",
       "      <td>League</td>\n",
       "      <td>0.000000</td>\n",
       "    </tr>\n",
       "    <tr>\n",
       "      <th>8</th>\n",
       "      <td>Division</td>\n",
       "      <td>0.000000</td>\n",
       "    </tr>\n",
       "    <tr>\n",
       "      <th>9</th>\n",
       "      <td>PutOuts</td>\n",
       "      <td>0.000000</td>\n",
       "    </tr>\n",
       "    <tr>\n",
       "      <th>10</th>\n",
       "      <td>Assists</td>\n",
       "      <td>0.000000</td>\n",
       "    </tr>\n",
       "    <tr>\n",
       "      <th>11</th>\n",
       "      <td>Errors</td>\n",
       "      <td>0.000000</td>\n",
       "    </tr>\n",
       "    <tr>\n",
       "      <th>12</th>\n",
       "      <td>NewLeague</td>\n",
       "      <td>0.000000</td>\n",
       "    </tr>\n",
       "  </tbody>\n",
       "</table>\n",
       "</div>"
      ],
      "text/plain": [
       "      feature  importance\n",
       "1        Hits    0.511609\n",
       "6       Years    0.488391\n",
       "0       AtBat    0.000000\n",
       "2       HmRun    0.000000\n",
       "3        Runs    0.000000\n",
       "4         RBI    0.000000\n",
       "5       Walks    0.000000\n",
       "7      League    0.000000\n",
       "8    Division    0.000000\n",
       "9     PutOuts    0.000000\n",
       "10    Assists    0.000000\n",
       "11     Errors    0.000000\n",
       "12  NewLeague    0.000000"
      ]
     },
     "execution_count": 55,
     "metadata": {},
     "output_type": "execute_result"
    }
   ],
   "source": [
    "# Compute feature importances.\n",
    "pd.DataFrame({'feature':feature_cols, 'importance':treereg.feature_importances_}).sort_values(by='importance', \n",
    "                                                                                              ascending=False)"
   ]
  },
  {
   "cell_type": "markdown",
   "metadata": {
    "slideshow": {
     "slide_type": "subslide"
    }
   },
   "source": [
    "<a id=\"random-forest-demo\"></a>\n",
    "### Predicting Salary With a Random Forest\n",
    "\n"
   ]
  },
  {
   "cell_type": "markdown",
   "metadata": {
    "slideshow": {
     "slide_type": "-"
    }
   },
   "source": [
    "#### Fitting a Random Forest With the Best Parameters"
   ]
  },
  {
   "cell_type": "code",
   "execution_count": 56,
   "metadata": {
    "slideshow": {
     "slide_type": "fragment"
    }
   },
   "outputs": [],
   "source": [
    "from sklearn.ensemble import RandomForestRegressor"
   ]
  },
  {
   "cell_type": "code",
   "execution_count": 57,
   "metadata": {
    "slideshow": {
     "slide_type": "fragment"
    }
   },
   "outputs": [
    {
     "data": {
      "text/plain": [
       "RandomForestRegressor(max_features=5, n_estimators=150, oob_score=True,\n",
       "                      random_state=1)"
      ]
     },
     "execution_count": 57,
     "metadata": {},
     "output_type": "execute_result"
    }
   ],
   "source": [
    "# max_features=5 is best and n_estimators=150 is sufficiently large.\n",
    "rfreg = RandomForestRegressor(n_estimators=150, max_features=5, oob_score=True, random_state=1)\n",
    "rfreg.fit(X, y)"
   ]
  },
  {
   "cell_type": "code",
   "execution_count": 58,
   "metadata": {
    "slideshow": {
     "slide_type": "subslide"
    }
   },
   "outputs": [
    {
     "data": {
      "text/html": [
       "<div>\n",
       "<style scoped>\n",
       "    .dataframe tbody tr th:only-of-type {\n",
       "        vertical-align: middle;\n",
       "    }\n",
       "\n",
       "    .dataframe tbody tr th {\n",
       "        vertical-align: top;\n",
       "    }\n",
       "\n",
       "    .dataframe thead th {\n",
       "        text-align: right;\n",
       "    }\n",
       "</style>\n",
       "<table border=\"1\" class=\"dataframe\">\n",
       "  <thead>\n",
       "    <tr style=\"text-align: right;\">\n",
       "      <th></th>\n",
       "      <th>feature</th>\n",
       "      <th>importance</th>\n",
       "    </tr>\n",
       "  </thead>\n",
       "  <tbody>\n",
       "    <tr>\n",
       "      <th>6</th>\n",
       "      <td>Years</td>\n",
       "      <td>0.224003</td>\n",
       "    </tr>\n",
       "    <tr>\n",
       "      <th>1</th>\n",
       "      <td>Hits</td>\n",
       "      <td>0.144096</td>\n",
       "    </tr>\n",
       "    <tr>\n",
       "      <th>5</th>\n",
       "      <td>Walks</td>\n",
       "      <td>0.139355</td>\n",
       "    </tr>\n",
       "    <tr>\n",
       "      <th>4</th>\n",
       "      <td>RBI</td>\n",
       "      <td>0.133207</td>\n",
       "    </tr>\n",
       "    <tr>\n",
       "      <th>0</th>\n",
       "      <td>AtBat</td>\n",
       "      <td>0.093446</td>\n",
       "    </tr>\n",
       "    <tr>\n",
       "      <th>3</th>\n",
       "      <td>Runs</td>\n",
       "      <td>0.079611</td>\n",
       "    </tr>\n",
       "    <tr>\n",
       "      <th>9</th>\n",
       "      <td>PutOuts</td>\n",
       "      <td>0.062130</td>\n",
       "    </tr>\n",
       "    <tr>\n",
       "      <th>2</th>\n",
       "      <td>HmRun</td>\n",
       "      <td>0.041608</td>\n",
       "    </tr>\n",
       "    <tr>\n",
       "      <th>11</th>\n",
       "      <td>Errors</td>\n",
       "      <td>0.036901</td>\n",
       "    </tr>\n",
       "    <tr>\n",
       "      <th>10</th>\n",
       "      <td>Assists</td>\n",
       "      <td>0.028667</td>\n",
       "    </tr>\n",
       "    <tr>\n",
       "      <th>8</th>\n",
       "      <td>Division</td>\n",
       "      <td>0.008536</td>\n",
       "    </tr>\n",
       "    <tr>\n",
       "      <th>7</th>\n",
       "      <td>League</td>\n",
       "      <td>0.004439</td>\n",
       "    </tr>\n",
       "    <tr>\n",
       "      <th>12</th>\n",
       "      <td>NewLeague</td>\n",
       "      <td>0.004000</td>\n",
       "    </tr>\n",
       "  </tbody>\n",
       "</table>\n",
       "</div>"
      ],
      "text/plain": [
       "      feature  importance\n",
       "6       Years    0.224003\n",
       "1        Hits    0.144096\n",
       "5       Walks    0.139355\n",
       "4         RBI    0.133207\n",
       "0       AtBat    0.093446\n",
       "3        Runs    0.079611\n",
       "9     PutOuts    0.062130\n",
       "2       HmRun    0.041608\n",
       "11     Errors    0.036901\n",
       "10    Assists    0.028667\n",
       "8    Division    0.008536\n",
       "7      League    0.004439\n",
       "12  NewLeague    0.004000"
      ]
     },
     "execution_count": 58,
     "metadata": {},
     "output_type": "execute_result"
    }
   ],
   "source": [
    "# Compute feature importances.\n",
    "pd.DataFrame({'feature':feature_cols, 'importance':rfreg.feature_importances_}).sort_values(by='importance', \n",
    "                                                                                            ascending=False)"
   ]
  },
  {
   "cell_type": "code",
   "execution_count": 59,
   "metadata": {
    "slideshow": {
     "slide_type": "subslide"
    }
   },
   "outputs": [
    {
     "name": "stdout",
     "output_type": "stream",
     "text": [
      "0.5174330883603366\n"
     ]
    },
    {
     "data": {
      "text/plain": [
       "295.47994138792376"
      ]
     },
     "execution_count": 59,
     "metadata": {},
     "output_type": "execute_result"
    }
   ],
   "source": [
    "# Compute the out-of-bag R-squared score.\n",
    "print((rfreg.oob_score_))\n",
    "\n",
    "# Find the average RMSE.\n",
    "scores = cross_val_score(rfreg, X, y, cv=10, scoring='neg_mean_squared_error')\n",
    "np.mean(np.sqrt(-scores))"
   ]
  },
  {
   "cell_type": "markdown",
   "metadata": {
    "slideshow": {
     "slide_type": "subslide"
    }
   },
   "source": [
    "#### Reducing X to its Most Important Features"
   ]
  },
  {
   "cell_type": "code",
   "execution_count": 60,
   "metadata": {
    "slideshow": {
     "slide_type": "fragment"
    }
   },
   "outputs": [
    {
     "data": {
      "text/plain": [
       "(263, 13)"
      ]
     },
     "execution_count": 60,
     "metadata": {},
     "output_type": "execute_result"
    }
   ],
   "source": [
    "# Check the shape of X.\n",
    "X.shape"
   ]
  },
  {
   "cell_type": "markdown",
   "metadata": {
    "slideshow": {
     "slide_type": "fragment"
    }
   },
   "source": [
    "It important not to select features before separating your train from your test otherwise you are selecting features based on all known observations and introducing more of the information in the test data to the model when you fit it on the training data."
   ]
  },
  {
   "cell_type": "code",
   "execution_count": 61,
   "metadata": {
    "slideshow": {
     "slide_type": "fragment"
    }
   },
   "outputs": [],
   "source": [
    "from sklearn.model_selection import train_test_split\n",
    "X_train, X_test, y_train, y_test = train_test_split(X,y, random_state = 89)"
   ]
  },
  {
   "cell_type": "code",
   "execution_count": 62,
   "metadata": {
    "slideshow": {
     "slide_type": "fragment"
    }
   },
   "outputs": [
    {
     "data": {
      "text/plain": [
       "RandomForestRegressor(max_features=5, n_estimators=150, oob_score=True,\n",
       "                      random_state=1)"
      ]
     },
     "execution_count": 62,
     "metadata": {},
     "output_type": "execute_result"
    }
   ],
   "source": [
    "# Fit the model on only the train data\n",
    "rfreg = RandomForestRegressor(n_estimators=150, max_features=5, oob_score=True, random_state=1)\n",
    "rfreg.fit(X_train, y_train)"
   ]
  },
  {
   "cell_type": "code",
   "execution_count": 63,
   "metadata": {
    "slideshow": {
     "slide_type": "subslide"
    }
   },
   "outputs": [
    {
     "name": "stdout",
     "output_type": "stream",
     "text": [
      "(197, 5)\n",
      "(197, 7)\n"
     ]
    }
   ],
   "source": [
    "# Set a threshold for which features to include.\n",
    "from sklearn.feature_selection import SelectFromModel\n",
    "\n",
    "print(SelectFromModel(rfreg, threshold='mean', prefit=True).transform(X_train).shape)\n",
    "print(SelectFromModel(rfreg, threshold='median', prefit=True).transform(X_train).shape)"
   ]
  },
  {
   "cell_type": "markdown",
   "metadata": {
    "slideshow": {
     "slide_type": "subslide"
    }
   },
   "source": [
    "Using the fit model and the features from the train data to transform the test data"
   ]
  },
  {
   "cell_type": "code",
   "execution_count": 64,
   "metadata": {
    "slideshow": {
     "slide_type": "fragment"
    }
   },
   "outputs": [],
   "source": [
    "# Create a new feature matrix that only includes important features.\n",
    "\n",
    "X_important =  SelectFromModel(rfreg, threshold='mean', prefit=True).transform(X_test)"
   ]
  },
  {
   "cell_type": "code",
   "execution_count": 65,
   "metadata": {
    "slideshow": {
     "slide_type": "subslide"
    }
   },
   "outputs": [
    {
     "data": {
      "text/plain": [
       "314.39051968316204"
      ]
     },
     "execution_count": 65,
     "metadata": {},
     "output_type": "execute_result"
    }
   ],
   "source": [
    "# Check the RMSE for a random forest that only includes important features.\n",
    "rfreg = RandomForestRegressor(n_estimators=150, max_features=3, random_state=1)\n",
    "\n",
    "scores = cross_val_score(rfreg, X_important, y_test, cv=10, scoring='neg_mean_squared_error')\n",
    "np.mean(np.sqrt(-scores))"
   ]
  },
  {
   "cell_type": "markdown",
   "metadata": {
    "slideshow": {
     "slide_type": "fragment"
    }
   },
   "source": [
    "In this case, the error worsened slightly. Often parameter tuning is required to achieve optimal results."
   ]
  },
  {
   "cell_type": "markdown",
   "metadata": {
    "slideshow": {
     "slide_type": "slide"
    }
   },
   "source": [
    "\n",
    "### Tuning Individual Parameters"
   ]
  },
  {
   "cell_type": "code",
   "execution_count": 66,
   "metadata": {
    "slideshow": {
     "slide_type": "fragment"
    }
   },
   "outputs": [
    {
     "data": {
      "text/plain": [
       "RandomForestRegressor()"
      ]
     },
     "execution_count": 66,
     "metadata": {},
     "output_type": "execute_result"
    }
   ],
   "source": [
    "from sklearn.ensemble import RandomForestRegressor\n",
    "rfreg = RandomForestRegressor()\n",
    "rfreg"
   ]
  },
  {
   "cell_type": "markdown",
   "metadata": {
    "slideshow": {
     "slide_type": "subslide"
    }
   },
   "source": [
    "### Tuning n_estimators\n",
    "\n",
    "One important tuning parameter is **n_estimators**, which represents the number of trees that should be grown. This should be a large enough value that the error seems to have \"stabilized.\""
   ]
  },
  {
   "cell_type": "code",
   "execution_count": 67,
   "metadata": {
    "slideshow": {
     "slide_type": "fragment"
    }
   },
   "outputs": [],
   "source": [
    "# List of values to try for n_estimators:\n",
    "estimator_range = list(range(10, 310, 10))\n",
    "\n",
    "# List to store the average RMSE for each value of n_estimators:\n",
    "RMSE_scores = []\n",
    "\n",
    "# Use five-fold cross-validation with each value of n_estimators (Warning: Slow!).\n",
    "for estimator in estimator_range:\n",
    "    rfreg = RandomForestRegressor(n_estimators=estimator, random_state=1)\n",
    "    MSE_scores = cross_val_score(rfreg, X, y, cv=5, scoring='neg_mean_squared_error')\n",
    "    RMSE_scores.append(np.mean(np.sqrt(-MSE_scores)))"
   ]
  },
  {
   "cell_type": "code",
   "execution_count": 43,
   "metadata": {
    "slideshow": {
     "slide_type": "subslide"
    }
   },
   "outputs": [
    {
     "data": {
      "image/png": "[encoded data removed]",
      "text/plain": [
       "<Figure size 432x288 with 1 Axes>"
      ]
     },
     "metadata": {
      "needs_background": "light"
     },
     "output_type": "display_data"
    }
   ],
   "source": [
    "# Plot RMSE (y-axis) versus n_estimators (x-axis).\n",
    "\n",
    "plt.plot(estimator_range, RMSE_scores);\n",
    "\n",
    "plt.xlabel('n_estimators');\n",
    "plt.ylabel('RMSE (lower is better)');"
   ]
  },
  {
   "cell_type": "markdown",
   "metadata": {
    "slideshow": {
     "slide_type": "fragment"
    }
   },
   "source": [
    "In theory, the RMSE will continue to decrease and eventually level out.  Adding more estimators will neither (noticably)increase or decrease the RMSE (or other loss metric). \n",
    "\n",
    "However, introduction of noise can lead to random spikes as the n_estimators changes. This example is particularly interesting as after about 120 estimators the RMSE seems to steadily rise as more estimators are added."
   ]
  },
  {
   "cell_type": "markdown",
   "metadata": {
    "slideshow": {
     "slide_type": "subslide"
    }
   },
   "source": [
    "### Tuning max_features\n",
    "\n",
    "The other important tuning parameter is **max_features**, which represents the number of features that should be considered at each split."
   ]
  },
  {
   "cell_type": "code",
   "execution_count": 70,
   "metadata": {
    "slideshow": {
     "slide_type": "fragment"
    }
   },
   "outputs": [],
   "source": [
    "# List of values to try for max_features:\n",
    "feature_range = list(range(1, len(feature_cols)+1))\n",
    "\n",
    "# List to store the average RMSE for each value of max_features:\n",
    "RMSE_scores = []\n",
    "\n",
    "# Use 10-fold cross-validation with each value of max_features (Warning: Super slow!).\n",
    "for feature in feature_range:\n",
    "    rfreg = RandomForestRegressor(n_estimators=150, max_features=feature, random_state=1)\n",
    "    MSE_scores = cross_val_score(rfreg, X, y, cv=10, scoring='neg_mean_squared_error')\n",
    "    RMSE_scores.append(np.mean(np.sqrt(-MSE_scores)))"
   ]
  },
  {
   "cell_type": "code",
   "execution_count": 71,
   "metadata": {
    "slideshow": {
     "slide_type": "subslide"
    }
   },
   "outputs": [
    {
     "data": {
      "image/png": "[encoded data removed]",
      "text/plain": [
       "<Figure size 432x288 with 1 Axes>"
      ]
     },
     "metadata": {
      "needs_background": "light"
     },
     "output_type": "display_data"
    }
   ],
   "source": [
    "# Plot max_features (x-axis) versus RMSE (y-axis).\n",
    "\n",
    "plt.plot(feature_range, RMSE_scores);\n",
    "\n",
    "plt.xlabel('max_features');\n",
    "plt.ylabel('RMSE (lower is better)');"
   ]
  },
  {
   "cell_type": "code",
   "execution_count": 74,
   "metadata": {
    "slideshow": {
     "slide_type": "fragment"
    }
   },
   "outputs": [
    {
     "data": {
      "text/plain": [
       "(289.1877447560242, 10)"
      ]
     },
     "execution_count": 74,
     "metadata": {},
     "output_type": "execute_result"
    }
   ],
   "source": [
    "# Show the best RMSE and the corresponding max_features.\n",
    "sorted(zip(RMSE_scores, feature_range))[0]"
   ]
  },
  {
   "cell_type": "markdown",
   "metadata": {
    "slideshow": {
     "slide_type": "subslide"
    }
   },
   "source": [
    "## <font style = 'color:blue'> Comparing Random Forests With Decision Trees </font>\n",
    "\n"
   ]
  },
  {
   "cell_type": "markdown",
   "metadata": {
    "slideshow": {
     "slide_type": "subslide"
    }
   },
   "source": [
    "**Advantages of random forests:**\n",
    "\n",
    "- Their performance is competitive with the best supervised learning methods.\n",
    "- They provide a more reliable estimate of feature importance.\n",
    "- They allow you to estimate out-of-sample error without using train/test split or cross-validation.\n"
   ]
  },
  {
   "cell_type": "markdown",
   "metadata": {
    "slideshow": {
     "slide_type": "subslide"
    }
   },
   "source": [
    "**Disadvantages of random forests:**\n",
    "\n",
    "- They are less interpretable.\n",
    "- They are slower to train.\n",
    "- They are slower to predict."
   ]
  },
  {
   "cell_type": "markdown",
   "metadata": {
    "slideshow": {
     "slide_type": "slide"
    }
   },
   "source": [
    "## <font style = 'color:blue'> Boosting </font>"
   ]
  },
  {
   "cell_type": "markdown",
   "metadata": {
    "slideshow": {
     "slide_type": "subslide"
    }
   },
   "source": [
    "\n",
    "**Boosted decision trees are weak learners (shallow trees) that are built sequentially.** \n",
    "\n",
    "This makes **Boosting the ideal algorithm to use when there is a large class imbalance** (e.g. Fraud detection). \n",
    "\n",
    "\n",
    "**After the first tree gets built, the algorithm analysis its performance and learns from it for the next tree.**\n",
    "\n"
   ]
  },
  {
   "cell_type": "markdown",
   "metadata": {
    "slideshow": {
     "slide_type": "subslide"
    }
   },
   "source": [
    "## AdaBoost (adaptive boosting)\n",
    "\n",
    "In the case of AdaBoost (https://scikit-learn.org/stable/modules/generated/sklearn.ensemble.AdaBoostClassifier.html) **misclassified observations get assigned higher weights.** Therefore the next weak learner will care more about the previously misclassified sample, than one it previously got right. The final prediction is a **weighted average** of the weak learners.\n",
    "\n",
    "![AdaBoost](assets/images/adaboost.png)\n",
    "\n",
    "Source: https://www.researchgate.net/figure/Illustration-of-AdaBoost-algorithm-for-creating-a-strong-classifier-based-on-multiple_fig9_288699540\n",
    "\n",
    "\n"
   ]
  },
  {
   "cell_type": "markdown",
   "metadata": {
    "slideshow": {
     "slide_type": "subslide"
    }
   },
   "source": [
    "## Gradient Boosting\n",
    "\n",
    "Gradient Boosting **does not modify the weights, but instead the wrongly predicted samples are used as input to the consecutive weak learner**, again giving more importance to the incorrectly classified samples. Again the final prediction is a **weighted average**.\n",
    "\n",
    "![Gradient Boosting](assets/images/gradient_boosting.png)\n",
    "\n",
    "Source :https://bradleyboehmke.github.io/HOML/gbm.html\n",
    "\n",
    "\n"
   ]
  },
  {
   "cell_type": "markdown",
   "metadata": {
    "slideshow": {
     "slide_type": "subslide"
    }
   },
   "source": [
    "The 3 most popular Gradient Boosting algorithms (and the original papers describing them) are listed below:\n",
    "- XGBoost: https://xgboost.readthedocs.io/en/latest/ (https://arxiv.org/pdf/1603.02754.pdf)\n",
    "- (Microsoft's) LightGBM: https://lightgbm.readthedocs.io/en/latest/ (https://papers.nips.cc/paper/6907-lightgbm-a-highly-efficient-gradient-boosting-decision-tree.pdf)\n",
    "- (Yandex's) CatBoost: https://catboost.ai/ (https://arxiv.org/pdf/1706.09516.pdf)\n",
    "\n",
    "**Not only are modern Boosting algorithms much quicker at building boosting trees than sklearn's `GradientBoostingClassifier`, but `LightGBM` and `CatBoost` also have inbuilt ways of dealing with categorical features so no `LabelEncoding` or `OneHotEncoding` has to be applied.**"
   ]
  },
  {
   "cell_type": "markdown",
   "metadata": {
    "slideshow": {
     "slide_type": "subslide"
    }
   },
   "source": [
    "### Example: Predicting Titanic Survival with Gradient Boosted Tree"
   ]
  },
  {
   "cell_type": "code",
   "execution_count": 75,
   "metadata": {
    "slideshow": {
     "slide_type": "subslide"
    }
   },
   "outputs": [
    {
     "data": {
      "text/html": [
       "<div>\n",
       "<style scoped>\n",
       "    .dataframe tbody tr th:only-of-type {\n",
       "        vertical-align: middle;\n",
       "    }\n",
       "\n",
       "    .dataframe tbody tr th {\n",
       "        vertical-align: top;\n",
       "    }\n",
       "\n",
       "    .dataframe thead th {\n",
       "        text-align: right;\n",
       "    }\n",
       "</style>\n",
       "<table border=\"1\" class=\"dataframe\">\n",
       "  <thead>\n",
       "    <tr style=\"text-align: right;\">\n",
       "      <th></th>\n",
       "      <th>PassengerId</th>\n",
       "      <th>Survived</th>\n",
       "      <th>Pclass</th>\n",
       "      <th>Name</th>\n",
       "      <th>Sex</th>\n",
       "      <th>Age</th>\n",
       "      <th>SibSp</th>\n",
       "      <th>Parch</th>\n",
       "      <th>Ticket</th>\n",
       "      <th>Fare</th>\n",
       "      <th>Cabin</th>\n",
       "      <th>Embarked</th>\n",
       "      <th>Embarked_Q</th>\n",
       "      <th>Embarked_S</th>\n",
       "    </tr>\n",
       "  </thead>\n",
       "  <tbody>\n",
       "    <tr>\n",
       "      <th>0</th>\n",
       "      <td>1</td>\n",
       "      <td>0</td>\n",
       "      <td>3</td>\n",
       "      <td>Braund, Mr. Owen Harris</td>\n",
       "      <td>1</td>\n",
       "      <td>22.0</td>\n",
       "      <td>1</td>\n",
       "      <td>0</td>\n",
       "      <td>A/5 21171</td>\n",
       "      <td>7.2500</td>\n",
       "      <td>NaN</td>\n",
       "      <td>S</td>\n",
       "      <td>0</td>\n",
       "      <td>1</td>\n",
       "    </tr>\n",
       "    <tr>\n",
       "      <th>1</th>\n",
       "      <td>2</td>\n",
       "      <td>1</td>\n",
       "      <td>1</td>\n",
       "      <td>Cumings, Mrs. John Bradley (Florence Briggs Th...</td>\n",
       "      <td>0</td>\n",
       "      <td>38.0</td>\n",
       "      <td>1</td>\n",
       "      <td>0</td>\n",
       "      <td>PC 17599</td>\n",
       "      <td>71.2833</td>\n",
       "      <td>C85</td>\n",
       "      <td>C</td>\n",
       "      <td>0</td>\n",
       "      <td>0</td>\n",
       "    </tr>\n",
       "    <tr>\n",
       "      <th>2</th>\n",
       "      <td>3</td>\n",
       "      <td>1</td>\n",
       "      <td>3</td>\n",
       "      <td>Heikkinen, Miss. Laina</td>\n",
       "      <td>0</td>\n",
       "      <td>26.0</td>\n",
       "      <td>0</td>\n",
       "      <td>0</td>\n",
       "      <td>STON/O2. 3101282</td>\n",
       "      <td>7.9250</td>\n",
       "      <td>NaN</td>\n",
       "      <td>S</td>\n",
       "      <td>0</td>\n",
       "      <td>1</td>\n",
       "    </tr>\n",
       "    <tr>\n",
       "      <th>3</th>\n",
       "      <td>4</td>\n",
       "      <td>1</td>\n",
       "      <td>1</td>\n",
       "      <td>Futrelle, Mrs. Jacques Heath (Lily May Peel)</td>\n",
       "      <td>0</td>\n",
       "      <td>35.0</td>\n",
       "      <td>1</td>\n",
       "      <td>0</td>\n",
       "      <td>113803</td>\n",
       "      <td>53.1000</td>\n",
       "      <td>C123</td>\n",
       "      <td>S</td>\n",
       "      <td>0</td>\n",
       "      <td>1</td>\n",
       "    </tr>\n",
       "    <tr>\n",
       "      <th>4</th>\n",
       "      <td>5</td>\n",
       "      <td>0</td>\n",
       "      <td>3</td>\n",
       "      <td>Allen, Mr. William Henry</td>\n",
       "      <td>1</td>\n",
       "      <td>35.0</td>\n",
       "      <td>0</td>\n",
       "      <td>0</td>\n",
       "      <td>373450</td>\n",
       "      <td>8.0500</td>\n",
       "      <td>NaN</td>\n",
       "      <td>S</td>\n",
       "      <td>0</td>\n",
       "      <td>1</td>\n",
       "    </tr>\n",
       "  </tbody>\n",
       "</table>\n",
       "</div>"
      ],
      "text/plain": [
       "   PassengerId  Survived  Pclass  \\\n",
       "0            1         0       3   \n",
       "1            2         1       1   \n",
       "2            3         1       3   \n",
       "3            4         1       1   \n",
       "4            5         0       3   \n",
       "\n",
       "                                                Name  Sex   Age  SibSp  Parch  \\\n",
       "0                            Braund, Mr. Owen Harris    1  22.0      1      0   \n",
       "1  Cumings, Mrs. John Bradley (Florence Briggs Th...    0  38.0      1      0   \n",
       "2                             Heikkinen, Miss. Laina    0  26.0      0      0   \n",
       "3       Futrelle, Mrs. Jacques Heath (Lily May Peel)    0  35.0      1      0   \n",
       "4                           Allen, Mr. William Henry    1  35.0      0      0   \n",
       "\n",
       "             Ticket     Fare Cabin Embarked  Embarked_Q  Embarked_S  \n",
       "0         A/5 21171   7.2500   NaN        S           0           1  \n",
       "1          PC 17599  71.2833   C85        C           0           0  \n",
       "2  STON/O2. 3101282   7.9250   NaN        S           0           1  \n",
       "3            113803  53.1000  C123        S           0           1  \n",
       "4            373450   8.0500   NaN        S           0           1  "
      ]
     },
     "execution_count": 75,
     "metadata": {},
     "output_type": "execute_result"
    }
   ],
   "source": [
    "# Read in the data.\n",
    "path = 'assets/data/titanic.csv'\n",
    "titanic = pd.read_csv(path)\n",
    "\n",
    "# Encode female as 0 and male as 1.\n",
    "titanic['Sex'] = titanic.Sex.map({'female':0, 'male':1})\n",
    "\n",
    "# Fill in the missing values for age with the median age.\n",
    "titanic.Age.fillna(titanic.Age.median(), inplace=True)\n",
    "\n",
    "# Create a DataFrame of dummy variables for Embarked.\n",
    "embarked_dummies = pd.get_dummies(titanic.Embarked, prefix='Embarked')\n",
    "embarked_dummies.drop(embarked_dummies.columns[0], axis=1, inplace=True)\n",
    "\n",
    "# Concatenate the original DataFrame and the dummy DataFrame.\n",
    "titanic = pd.concat([titanic, embarked_dummies], axis=1)\n",
    "\n",
    "# Print the updated DataFrame.\n",
    "titanic.head()"
   ]
  },
  {
   "cell_type": "markdown",
   "metadata": {
    "slideshow": {
     "slide_type": "subslide"
    }
   },
   "source": [
    "### `sklearn.GradientBoostingClassifier`"
   ]
  },
  {
   "cell_type": "code",
   "execution_count": 76,
   "metadata": {
    "slideshow": {
     "slide_type": "-"
    }
   },
   "outputs": [
    {
     "data": {
      "text/plain": [
       "Index(['PassengerId', 'Survived', 'Pclass', 'Sex', 'Age', 'SibSp', 'Parch',\n",
       "       'Fare', 'Embarked_Q', 'Embarked_S'],\n",
       "      dtype='object')"
      ]
     },
     "execution_count": 76,
     "metadata": {},
     "output_type": "execute_result"
    }
   ],
   "source": [
    "# selecting features by type \n",
    "titanic.select_dtypes(exclude=[\"object\", \"category\"]).columns"
   ]
  },
  {
   "cell_type": "code",
   "execution_count": 77,
   "metadata": {
    "slideshow": {
     "slide_type": "subslide"
    }
   },
   "outputs": [],
   "source": [
    "from sklearn.metrics import (\n",
    "    confusion_matrix, \n",
    "    accuracy_score, \n",
    "    recall_score, \n",
    "    precision_score, \n",
    "    f1_score, \n",
    "    r2_score, \n",
    "    mean_squared_error\n",
    ")"
   ]
  },
  {
   "cell_type": "code",
   "execution_count": 78,
   "metadata": {
    "slideshow": {
     "slide_type": "subslide"
    }
   },
   "outputs": [
    {
     "name": "stdout",
     "output_type": "stream",
     "text": [
      "Confusion Matrix:\n",
      " [[163  19]\n",
      " [ 39  74]] \n",
      "Accuracy: 80.34 % \n",
      "Precision: 79.57 % \n",
      "Recall: 65.49 % \n",
      "F1: 71.84 %\n"
     ]
    }
   ],
   "source": [
    "from sklearn.ensemble import GradientBoostingClassifier\n",
    "# Define X and y.\n",
    "feature_cols = ['Pclass', 'Sex', 'Age', 'Embarked_Q', 'Embarked_S']\n",
    "\n",
    "X = titanic[feature_cols]\n",
    "y = titanic.Survived\n",
    "\n",
    "X_train, X_test, y_train, y_test = train_test_split(X, y, test_size=0.33, random_state=42, stratify=y)\n",
    "\n",
    "gbc = GradientBoostingClassifier()\n",
    "gbc.fit(X_train, y_train)\n",
    "y_pred = gbc.predict(X_test)\n",
    "\n",
    "print(\"Confusion Matrix:\\n\", confusion_matrix(y_test, y_pred),\n",
    "      \"\\nAccuracy:\", round(accuracy_score(y_test, y_pred) * 100, 2), \"%\",\n",
    "      \"\\nPrecision:\", round(precision_score(y_test, y_pred) * 100, 2), \"%\",\n",
    "      \"\\nRecall:\", round(recall_score(y_test, y_pred) * 100, 2), \"%\",      \n",
    "      \"\\nF1:\", round(f1_score(y_test, y_pred) * 100, 2), \"%\")"
   ]
  },
  {
   "cell_type": "markdown",
   "metadata": {
    "slideshow": {
     "slide_type": "subslide"
    }
   },
   "source": [
    "### Newer Boosting Algorighms\n",
    "- Have **inbuilt ways of dealing with categorical features**.\n",
    "- Are optimised (in the form of a few very clever tricks - read the papers for more details) to **train very quickly**.\n",
    "- Have **inbuild logic to use training and validation sets for model builds**."
   ]
  },
  {
   "cell_type": "code",
   "execution_count": 79,
   "metadata": {
    "slideshow": {
     "slide_type": "subslide"
    }
   },
   "outputs": [],
   "source": [
    "titanic = titanic.dropna()\n",
    "\n",
    "feature_cols = [\"Pclass\", \"Sex\", \"Age\", \"Embarked\"]\n",
    "\n",
    "titanic[\"Embarked\"] = titanic[\"Embarked\"].astype('category')\n",
    "\n",
    "X = titanic[feature_cols]\n",
    "y = titanic.Survived\n",
    "\n",
    "X_train, X_test, y_train, y_test = train_test_split(X, y, test_size=0.33, random_state=42, stratify=y)\n",
    "\n",
    "\n",
    "X_train, X_validation, y_train, y_validation = train_test_split(\n",
    "    X_train, y_train, test_size=0.33, random_state=42, stratify=y_train\n",
    ")\n",
    "\n",
    "cat = [\"Embarked\"]"
   ]
  },
  {
   "cell_type": "markdown",
   "metadata": {
    "slideshow": {
     "slide_type": "subslide"
    }
   },
   "source": [
    "### LightGBM"
   ]
  },
  {
   "cell_type": "code",
   "execution_count": 52,
   "metadata": {
    "slideshow": {
     "slide_type": "-"
    }
   },
   "outputs": [],
   "source": [
    "#!brew install libomp\n",
    "#!pip install lightgbm"
   ]
  },
  {
   "cell_type": "code",
   "execution_count": 80,
   "metadata": {
    "slideshow": {
     "slide_type": "subslide"
    }
   },
   "outputs": [
    {
     "ename": "ModuleNotFoundError",
     "evalue": "No module named 'lightgbm'",
     "output_type": "error",
     "traceback": [
      "\u001b[1;31m---------------------------------------------------------------------------\u001b[0m",
      "\u001b[1;31mModuleNotFoundError\u001b[0m                       Traceback (most recent call last)",
      "\u001b[1;32m<ipython-input-80-aa7c6b077b04>\u001b[0m in \u001b[0;36m<module>\u001b[1;34m\u001b[0m\n\u001b[1;32m----> 1\u001b[1;33m \u001b[1;32mimport\u001b[0m \u001b[0mlightgbm\u001b[0m \u001b[1;32mas\u001b[0m \u001b[0mlgbm\u001b[0m\u001b[1;33m\u001b[0m\u001b[1;33m\u001b[0m\u001b[0m\n\u001b[0m\u001b[0;32m      2\u001b[0m \u001b[1;33m\u001b[0m\u001b[0m\n\u001b[0;32m      3\u001b[0m \u001b[1;31m# dataset for lightgbm\u001b[0m\u001b[1;33m\u001b[0m\u001b[1;33m\u001b[0m\u001b[1;33m\u001b[0m\u001b[0m\n\u001b[0;32m      4\u001b[0m train_set = lgbm.Dataset(data=X_train, \n\u001b[0;32m      5\u001b[0m                          \u001b[0mlabel\u001b[0m\u001b[1;33m=\u001b[0m\u001b[0my_train\u001b[0m\u001b[1;33m,\u001b[0m\u001b[1;33m\u001b[0m\u001b[1;33m\u001b[0m\u001b[0m\n",
      "\u001b[1;31mModuleNotFoundError\u001b[0m: No module named 'lightgbm'"
     ]
    }
   ],
   "source": [
    "import lightgbm as lgbm\n",
    "\n",
    "# dataset for lightgbm\n",
    "train_set = lgbm.Dataset(data=X_train, \n",
    "                         label=y_train,\n",
    "                         categorical_feature=cat, \n",
    "                         free_raw_data=False)\n",
    "\n",
    "validation_set = lgbm.Dataset(data=X_validation, \n",
    "                         label=y_validation,\n",
    "                         categorical_feature=cat, \n",
    "                         free_raw_data=False)\n",
    "\n",
    "test_set = lgbm.Dataset(data=X_test, \n",
    "                         label=y_test,\n",
    "                         categorical_feature=cat, \n",
    "                         free_raw_data=False) "
   ]
  },
  {
   "cell_type": "code",
   "execution_count": 54,
   "metadata": {
    "slideshow": {
     "slide_type": "subslide"
    }
   },
   "outputs": [],
   "source": [
    "# model parameters defined\n",
    "lgbm_params = {'max_depth': 3, \n",
    "               'learning_rate': 0.01, \n",
    "               'objective': 'binary', \n",
    "               'scale_pos_weight': y_train.value_counts()[0] / y_train.value_counts()[1] ,                    \n",
    "               'boost_from_average': False,\n",
    "               'feature_fraction' : 0.7,\n",
    "          }\n",
    "\n",
    "evaluation_results = {}"
   ]
  },
  {
   "cell_type": "code",
   "execution_count": 55,
   "metadata": {
    "slideshow": {
     "slide_type": "subslide"
    }
   },
   "outputs": [
    {
     "name": "stdout",
     "output_type": "stream",
     "text": [
      "[LightGBM] [Info] Number of positive: 60, number of negative: 30\n",
      "[LightGBM] [Warning] Auto-choosing row-wise multi-threading, the overhead of testing was 0.000116 seconds.\n",
      "You can set `force_row_wise=true` to remove the overhead.\n",
      "And if memory is not enough, you can set `force_col_wise=true`.\n",
      "[LightGBM] [Info] Total Bins 29\n",
      "[LightGBM] [Info] Number of data points in the train set: 90, number of used features: 3\n",
      "[LightGBM] [Warning] No further splits with positive gain, best gain: -inf\n",
      "[1]\tTrain's binary_logloss: 0.688608\tValidate's binary_logloss: 0.689085\n",
      "Training until validation scores don't improve for 50 rounds\n",
      "[LightGBM] [Warning] No further splits with positive gain, best gain: -inf\n",
      "[2]\tTrain's binary_logloss: 0.684164\tValidate's binary_logloss: 0.685118\n",
      "[LightGBM] [Warning] No further splits with positive gain, best gain: -inf\n",
      "[3]\tTrain's binary_logloss: 0.682806\tValidate's binary_logloss: 0.684971\n",
      "[LightGBM] [Warning] No further splits with positive gain, best gain: -inf\n",
      "[4]\tTrain's binary_logloss: 0.678472\tValidate's binary_logloss: 0.681112\n",
      "[LightGBM] [Warning] No further splits with positive gain, best gain: -inf\n",
      "[5]\tTrain's binary_logloss: 0.677158\tValidate's binary_logloss: 0.680987\n",
      "[LightGBM] [Warning] No further splits with positive gain, best gain: -inf\n",
      "[6]\tTrain's binary_logloss: 0.67293\tValidate's binary_logloss: 0.677232\n",
      "[LightGBM] [Warning] No further splits with positive gain, best gain: -inf\n",
      "[7]\tTrain's binary_logloss: 0.671659\tValidate's binary_logloss: 0.677128\n",
      "[LightGBM] [Warning] No further splits with positive gain, best gain: -inf\n",
      "[8]\tTrain's binary_logloss: 0.670412\tValidate's binary_logloss: 0.677038\n",
      "[LightGBM] [Warning] No further splits with positive gain, best gain: -inf\n",
      "[9]\tTrain's binary_logloss: 0.666302\tValidate's binary_logloss: 0.673399\n",
      "[LightGBM] [Warning] No further splits with positive gain, best gain: -inf\n",
      "[10]\tTrain's binary_logloss: 0.665096\tValidate's binary_logloss: 0.673328\n",
      "[LightGBM] [Warning] No further splits with positive gain, best gain: -inf\n",
      "[11]\tTrain's binary_logloss: 0.663913\tValidate's binary_logloss: 0.67327\n",
      "[LightGBM] [Warning] No further splits with positive gain, best gain: -inf\n",
      "[12]\tTrain's binary_logloss: 0.662755\tValidate's binary_logloss: 0.673225\n",
      "[LightGBM] [Warning] No further splits with positive gain, best gain: -inf\n",
      "[13]\tTrain's binary_logloss: 0.661619\tValidate's binary_logloss: 0.673192\n",
      "[LightGBM] [Warning] No further splits with positive gain, best gain: -inf\n",
      "[14]\tTrain's binary_logloss: 0.660506\tValidate's binary_logloss: 0.67317\n",
      "[LightGBM] [Warning] No further splits with positive gain, best gain: -inf\n",
      "[15]\tTrain's binary_logloss: 0.659415\tValidate's binary_logloss: 0.67316\n",
      "[LightGBM] [Warning] No further splits with positive gain, best gain: -inf\n",
      "[16]\tTrain's binary_logloss: 0.658345\tValidate's binary_logloss: 0.673161\n",
      "[LightGBM] [Warning] No further splits with positive gain, best gain: -inf\n",
      "[17]\tTrain's binary_logloss: 0.657297\tValidate's binary_logloss: 0.673173\n",
      "[LightGBM] [Warning] No further splits with positive gain, best gain: -inf\n",
      "[18]\tTrain's binary_logloss: 0.656269\tValidate's binary_logloss: 0.673196\n",
      "[LightGBM] [Warning] No further splits with positive gain, best gain: -inf\n",
      "[19]\tTrain's binary_logloss: 0.655262\tValidate's binary_logloss: 0.673228\n",
      "[LightGBM] [Warning] No further splits with positive gain, best gain: -inf\n",
      "[20]\tTrain's binary_logloss: 0.654274\tValidate's binary_logloss: 0.67327\n",
      "[LightGBM] [Warning] No further splits with positive gain, best gain: -inf\n",
      "[21]\tTrain's binary_logloss: 0.653306\tValidate's binary_logloss: 0.673322\n",
      "[LightGBM] [Warning] No further splits with positive gain, best gain: -inf\n",
      "[22]\tTrain's binary_logloss: 0.652357\tValidate's binary_logloss: 0.673383\n",
      "[LightGBM] [Warning] No further splits with positive gain, best gain: -inf\n",
      "[23]\tTrain's binary_logloss: 0.651426\tValidate's binary_logloss: 0.673453\n",
      "[LightGBM] [Warning] No further splits with positive gain, best gain: -inf\n",
      "[24]\tTrain's binary_logloss: 0.647576\tValidate's binary_logloss: 0.670061\n",
      "[LightGBM] [Warning] No further splits with positive gain, best gain: -inf\n",
      "[25]\tTrain's binary_logloss: 0.646675\tValidate's binary_logloss: 0.670142\n",
      "[LightGBM] [Warning] No further splits with positive gain, best gain: -inf\n",
      "[26]\tTrain's binary_logloss: 0.645792\tValidate's binary_logloss: 0.670233\n",
      "[LightGBM] [Warning] No further splits with positive gain, best gain: -inf\n",
      "[27]\tTrain's binary_logloss: 0.64204\tValidate's binary_logloss: 0.666936\n",
      "[LightGBM] [Warning] No further splits with positive gain, best gain: -inf\n",
      "[28]\tTrain's binary_logloss: 0.641185\tValidate's binary_logloss: 0.667037\n",
      "[LightGBM] [Warning] No further splits with positive gain, best gain: -inf\n",
      "[29]\tTrain's binary_logloss: 0.640347\tValidate's binary_logloss: 0.667145\n",
      "[LightGBM] [Warning] No further splits with positive gain, best gain: -inf\n",
      "[30]\tTrain's binary_logloss: 0.639525\tValidate's binary_logloss: 0.667261\n",
      "[LightGBM] [Warning] No further splits with positive gain, best gain: -inf\n",
      "[31]\tTrain's binary_logloss: 0.638719\tValidate's binary_logloss: 0.667384\n",
      "[LightGBM] [Warning] No further splits with positive gain, best gain: -inf\n",
      "[32]\tTrain's binary_logloss: 0.637928\tValidate's binary_logloss: 0.667514\n",
      "[LightGBM] [Warning] No further splits with positive gain, best gain: -inf\n",
      "[33]\tTrain's binary_logloss: 0.637153\tValidate's binary_logloss: 0.667651\n",
      "[LightGBM] [Warning] No further splits with positive gain, best gain: -inf\n",
      "[34]\tTrain's binary_logloss: 0.636393\tValidate's binary_logloss: 0.667794\n",
      "[LightGBM] [Warning] No further splits with positive gain, best gain: -inf\n",
      "[35]\tTrain's binary_logloss: 0.632781\tValidate's binary_logloss: 0.664631\n",
      "[LightGBM] [Warning] No further splits with positive gain, best gain: -inf\n",
      "[36]\tTrain's binary_logloss: 0.62924\tValidate's binary_logloss: 0.661538\n",
      "[LightGBM] [Warning] No further splits with positive gain, best gain: -inf\n",
      "[37]\tTrain's binary_logloss: 0.628514\tValidate's binary_logloss: 0.661691\n",
      "[LightGBM] [Warning] No further splits with positive gain, best gain: -inf\n",
      "[38]\tTrain's binary_logloss: 0.627801\tValidate's binary_logloss: 0.66185\n",
      "[LightGBM] [Warning] No further splits with positive gain, best gain: -inf\n",
      "[39]\tTrain's binary_logloss: 0.627102\tValidate's binary_logloss: 0.662015\n",
      "[LightGBM] [Warning] No further splits with positive gain, best gain: -inf\n",
      "[40]\tTrain's binary_logloss: 0.626417\tValidate's binary_logloss: 0.662185\n",
      "[LightGBM] [Warning] No further splits with positive gain, best gain: -inf\n",
      "[41]\tTrain's binary_logloss: 0.625745\tValidate's binary_logloss: 0.66236\n",
      "[LightGBM] [Warning] No further splits with positive gain, best gain: -inf\n",
      "[42]\tTrain's binary_logloss: 0.625086\tValidate's binary_logloss: 0.66254\n",
      "[LightGBM] [Warning] No further splits with positive gain, best gain: -inf\n",
      "[43]\tTrain's binary_logloss: 0.621662\tValidate's binary_logloss: 0.659558\n",
      "[LightGBM] [Warning] No further splits with positive gain, best gain: -inf\n",
      "[44]\tTrain's binary_logloss: 0.618305\tValidate's binary_logloss: 0.656643\n",
      "[LightGBM] [Warning] No further splits with positive gain, best gain: -inf\n",
      "[45]\tTrain's binary_logloss: 0.617675\tValidate's binary_logloss: 0.65683\n",
      "[LightGBM] [Warning] No further splits with positive gain, best gain: -inf\n",
      "[46]\tTrain's binary_logloss: 0.617057\tValidate's binary_logloss: 0.657022\n",
      "[LightGBM] [Warning] No further splits with positive gain, best gain: -inf\n",
      "[47]\tTrain's binary_logloss: 0.616451\tValidate's binary_logloss: 0.657219\n",
      "[LightGBM] [Warning] No further splits with positive gain, best gain: -inf\n",
      "[48]\tTrain's binary_logloss: 0.615856\tValidate's binary_logloss: 0.657419\n",
      "[LightGBM] [Warning] No further splits with positive gain, best gain: -inf\n",
      "[49]\tTrain's binary_logloss: 0.615273\tValidate's binary_logloss: 0.657624\n",
      "[LightGBM] [Warning] No further splits with positive gain, best gain: -inf\n",
      "[50]\tTrain's binary_logloss: 0.612015\tValidate's binary_logloss: 0.654803\n",
      "[LightGBM] [Warning] No further splits with positive gain, best gain: -inf\n",
      "[51]\tTrain's binary_logloss: 0.61145\tValidate's binary_logloss: 0.655012\n",
      "[LightGBM] [Warning] No further splits with positive gain, best gain: -inf\n",
      "[52]\tTrain's binary_logloss: 0.610896\tValidate's binary_logloss: 0.655225\n",
      "[LightGBM] [Warning] No further splits with positive gain, best gain: -inf\n",
      "[53]\tTrain's binary_logloss: 0.610353\tValidate's binary_logloss: 0.655441\n",
      "[LightGBM] [Warning] No further splits with positive gain, best gain: -inf\n",
      "[54]\tTrain's binary_logloss: 0.607176\tValidate's binary_logloss: 0.652698\n",
      "[LightGBM] [Warning] No further splits with positive gain, best gain: -inf\n",
      "[55]\tTrain's binary_logloss: 0.60665\tValidate's binary_logloss: 0.652918\n",
      "[LightGBM] [Warning] No further splits with positive gain, best gain: -inf\n",
      "[56]\tTrain's binary_logloss: 0.606134\tValidate's binary_logloss: 0.653141\n",
      "[LightGBM] [Warning] No further splits with positive gain, best gain: -inf\n",
      "[57]\tTrain's binary_logloss: 0.605628\tValidate's binary_logloss: 0.653368\n",
      "[LightGBM] [Warning] No further splits with positive gain, best gain: -inf\n",
      "[58]\tTrain's binary_logloss: 0.605132\tValidate's binary_logloss: 0.653597\n",
      "[LightGBM] [Warning] No further splits with positive gain, best gain: -inf\n",
      "[59]\tTrain's binary_logloss: 0.602038\tValidate's binary_logloss: 0.650934\n",
      "[LightGBM] [Warning] No further splits with positive gain, best gain: -inf\n",
      "[60]\tTrain's binary_logloss: 0.601557\tValidate's binary_logloss: 0.651166\n",
      "[LightGBM] [Warning] No further splits with positive gain, best gain: -inf\n",
      "[61]\tTrain's binary_logloss: 0.601086\tValidate's binary_logloss: 0.651401\n",
      "[LightGBM] [Warning] No further splits with positive gain, best gain: -inf\n",
      "[62]\tTrain's binary_logloss: 0.600623\tValidate's binary_logloss: 0.651638\n",
      "[LightGBM] [Warning] No further splits with positive gain, best gain: -inf\n",
      "[63]\tTrain's binary_logloss: 0.60017\tValidate's binary_logloss: 0.651877\n",
      "[LightGBM] [Warning] No further splits with positive gain, best gain: -inf\n",
      "[64]\tTrain's binary_logloss: 0.597155\tValidate's binary_logloss: 0.649291\n",
      "[LightGBM] [Warning] No further splits with positive gain, best gain: -inf\n",
      "[65]\tTrain's binary_logloss: 0.596716\tValidate's binary_logloss: 0.649532\n",
      "[LightGBM] [Warning] No further splits with positive gain, best gain: -inf\n",
      "[66]\tTrain's binary_logloss: 0.596285\tValidate's binary_logloss: 0.649776\n",
      "[LightGBM] [Warning] No further splits with positive gain, best gain: -inf\n",
      "[67]\tTrain's binary_logloss: 0.595862\tValidate's binary_logloss: 0.650021\n",
      "[LightGBM] [Warning] No further splits with positive gain, best gain: -inf\n",
      "[68]\tTrain's binary_logloss: 0.595448\tValidate's binary_logloss: 0.650269\n",
      "[LightGBM] [Warning] No further splits with positive gain, best gain: -inf\n",
      "[69]\tTrain's binary_logloss: 0.595041\tValidate's binary_logloss: 0.650518\n",
      "[LightGBM] [Warning] No further splits with positive gain, best gain: -inf\n",
      "[70]\tTrain's binary_logloss: 0.594642\tValidate's binary_logloss: 0.650769\n",
      "[LightGBM] [Warning] No further splits with positive gain, best gain: -inf\n",
      "[71]\tTrain's binary_logloss: 0.59425\tValidate's binary_logloss: 0.651022\n",
      "[LightGBM] [Warning] No further splits with positive gain, best gain: -inf\n",
      "[72]\tTrain's binary_logloss: 0.593866\tValidate's binary_logloss: 0.651276\n",
      "[LightGBM] [Warning] No further splits with positive gain, best gain: -inf\n",
      "[73]\tTrain's binary_logloss: 0.593489\tValidate's binary_logloss: 0.651531\n",
      "[LightGBM] [Warning] No further splits with positive gain, best gain: -inf\n",
      "[74]\tTrain's binary_logloss: 0.59312\tValidate's binary_logloss: 0.651788\n",
      "[LightGBM] [Warning] No further splits with positive gain, best gain: -inf\n",
      "[75]\tTrain's binary_logloss: 0.592757\tValidate's binary_logloss: 0.652047\n",
      "[LightGBM] [Warning] No further splits with positive gain, best gain: -inf\n",
      "[76]\tTrain's binary_logloss: 0.589846\tValidate's binary_logloss: 0.649557\n",
      "[LightGBM] [Warning] No further splits with positive gain, best gain: -inf\n",
      "[77]\tTrain's binary_logloss: 0.589458\tValidate's binary_logloss: 0.649603\n",
      "[LightGBM] [Warning] No further splits with positive gain, best gain: -inf\n",
      "[78]\tTrain's binary_logloss: 0.589077\tValidate's binary_logloss: 0.649652\n",
      "[LightGBM] [Warning] No further splits with positive gain, best gain: -inf\n",
      "[79]\tTrain's binary_logloss: 0.586228\tValidate's binary_logloss: 0.647221\n",
      "[LightGBM] [Warning] No further splits with positive gain, best gain: -inf\n",
      "[80]\tTrain's binary_logloss: 0.585858\tValidate's binary_logloss: 0.647273\n",
      "[LightGBM] [Warning] No further splits with positive gain, best gain: -inf\n",
      "[81]\tTrain's binary_logloss: 0.583066\tValidate's binary_logloss: 0.644898\n",
      "[LightGBM] [Warning] No further splits with positive gain, best gain: -inf\n",
      "[82]\tTrain's binary_logloss: 0.582738\tValidate's binary_logloss: 0.645161\n",
      "[LightGBM] [Warning] No further splits with positive gain, best gain: -inf\n",
      "[83]\tTrain's binary_logloss: 0.580003\tValidate's binary_logloss: 0.642839\n",
      "[LightGBM] [Warning] No further splits with positive gain, best gain: -inf\n",
      "[84]\tTrain's binary_logloss: 0.579651\tValidate's binary_logloss: 0.642896\n",
      "[LightGBM] [Warning] No further splits with positive gain, best gain: -inf\n",
      "[85]\tTrain's binary_logloss: 0.579306\tValidate's binary_logloss: 0.642956\n",
      "[LightGBM] [Warning] No further splits with positive gain, best gain: -inf\n",
      "[86]\tTrain's binary_logloss: 0.576628\tValidate's binary_logloss: 0.640688\n",
      "[LightGBM] [Warning] No further splits with positive gain, best gain: -inf\n",
      "[87]\tTrain's binary_logloss: 0.574\tValidate's binary_logloss: 0.63847\n",
      "[LightGBM] [Warning] No further splits with positive gain, best gain: -inf\n",
      "[88]\tTrain's binary_logloss: 0.571421\tValidate's binary_logloss: 0.636299\n",
      "[LightGBM] [Warning] No further splits with positive gain, best gain: -inf\n",
      "[89]\tTrain's binary_logloss: 0.571092\tValidate's binary_logloss: 0.636362\n",
      "[LightGBM] [Warning] No further splits with positive gain, best gain: -inf\n",
      "[90]\tTrain's binary_logloss: 0.570769\tValidate's binary_logloss: 0.636427\n",
      "[LightGBM] [Warning] No further splits with positive gain, best gain: -inf\n",
      "[91]\tTrain's binary_logloss: 0.570482\tValidate's binary_logloss: 0.636693\n",
      "[LightGBM] [Warning] No further splits with positive gain, best gain: -inf\n",
      "[92]\tTrain's binary_logloss: 0.567959\tValidate's binary_logloss: 0.634575\n",
      "[LightGBM] [Warning] No further splits with positive gain, best gain: -inf\n",
      "[93]\tTrain's binary_logloss: 0.567649\tValidate's binary_logloss: 0.634644\n",
      "[LightGBM] [Warning] No further splits with positive gain, best gain: -inf\n",
      "[94]\tTrain's binary_logloss: 0.565176\tValidate's binary_logloss: 0.632573\n",
      "[LightGBM] [Warning] No further splits with positive gain, best gain: -inf\n",
      "[95]\tTrain's binary_logloss: 0.564897\tValidate's binary_logloss: 0.63242\n",
      "[LightGBM] [Warning] No further splits with positive gain, best gain: -inf\n",
      "[96]\tTrain's binary_logloss: 0.564599\tValidate's binary_logloss: 0.632494\n",
      "[LightGBM] [Warning] No further splits with positive gain, best gain: -inf\n",
      "[97]\tTrain's binary_logloss: 0.564328\tValidate's binary_logloss: 0.632346\n",
      "[LightGBM] [Warning] No further splits with positive gain, best gain: -inf\n",
      "[98]\tTrain's binary_logloss: 0.564039\tValidate's binary_logloss: 0.632424\n",
      "[LightGBM] [Warning] No further splits with positive gain, best gain: -inf\n",
      "[99]\tTrain's binary_logloss: 0.563777\tValidate's binary_logloss: 0.632282\n",
      "[LightGBM] [Warning] No further splits with positive gain, best gain: -inf\n",
      "[100]\tTrain's binary_logloss: 0.563497\tValidate's binary_logloss: 0.632364\n",
      "[LightGBM] [Warning] No further splits with positive gain, best gain: -inf\n",
      "[101]\tTrain's binary_logloss: 0.563247\tValidate's binary_logloss: 0.632639\n",
      "[LightGBM] [Warning] No further splits with positive gain, best gain: -inf\n",
      "[102]\tTrain's binary_logloss: 0.562975\tValidate's binary_logloss: 0.632724\n",
      "[LightGBM] [Warning] No further splits with positive gain, best gain: -inf\n",
      "[103]\tTrain's binary_logloss: 0.562727\tValidate's binary_logloss: 0.632588\n",
      "[LightGBM] [Warning] No further splits with positive gain, best gain: -inf\n",
      "[104]\tTrain's binary_logloss: 0.562463\tValidate's binary_logloss: 0.632677\n",
      "[LightGBM] [Warning] No further splits with positive gain, best gain: -inf\n",
      "[105]\tTrain's binary_logloss: 0.562227\tValidate's binary_logloss: 0.632956\n",
      "[LightGBM] [Warning] No further splits with positive gain, best gain: -inf\n",
      "[106]\tTrain's binary_logloss: 0.56199\tValidate's binary_logloss: 0.632825\n",
      "[LightGBM] [Warning] No further splits with positive gain, best gain: -inf\n",
      "[107]\tTrain's binary_logloss: 0.561762\tValidate's binary_logloss: 0.632982\n",
      "[LightGBM] [Warning] No further splits with positive gain, best gain: -inf\n",
      "[108]\tTrain's binary_logloss: 0.56073\tValidate's binary_logloss: 0.632734\n",
      "[LightGBM] [Warning] No further splits with positive gain, best gain: -inf\n",
      "[109]\tTrain's binary_logloss: 0.560507\tValidate's binary_logloss: 0.633015\n",
      "[LightGBM] [Warning] No further splits with positive gain, best gain: -inf\n",
      "[110]\tTrain's binary_logloss: 0.559498\tValidate's binary_logloss: 0.632782\n",
      "[LightGBM] [Warning] No further splits with positive gain, best gain: -inf\n",
      "[111]\tTrain's binary_logloss: 0.558507\tValidate's binary_logloss: 0.632562\n",
      "[LightGBM] [Warning] No further splits with positive gain, best gain: -inf\n",
      "[112]\tTrain's binary_logloss: 0.557536\tValidate's binary_logloss: 0.632354\n",
      "[LightGBM] [Warning] No further splits with positive gain, best gain: -inf\n",
      "[113]\tTrain's binary_logloss: 0.555161\tValidate's binary_logloss: 0.630376\n",
      "[LightGBM] [Warning] No further splits with positive gain, best gain: -inf\n",
      "[114]\tTrain's binary_logloss: 0.554214\tValidate's binary_logloss: 0.630183\n",
      "[LightGBM] [Warning] No further splits with positive gain, best gain: -inf\n",
      "[115]\tTrain's binary_logloss: 0.553285\tValidate's binary_logloss: 0.630002\n",
      "[LightGBM] [Warning] No further splits with positive gain, best gain: -inf\n",
      "[116]\tTrain's binary_logloss: 0.550964\tValidate's binary_logloss: 0.628076\n",
      "[LightGBM] [Warning] No further splits with positive gain, best gain: -inf\n",
      "[117]\tTrain's binary_logloss: 0.548687\tValidate's binary_logloss: 0.626192\n",
      "[LightGBM] [Warning] No further splits with positive gain, best gain: -inf\n",
      "[118]\tTrain's binary_logloss: 0.547785\tValidate's binary_logloss: 0.626028\n",
      "[LightGBM] [Warning] No further splits with positive gain, best gain: -inf\n",
      "[119]\tTrain's binary_logloss: 0.547086\tValidate's binary_logloss: 0.626004\n",
      "[LightGBM] [Warning] No further splits with positive gain, best gain: -inf\n",
      "[120]\tTrain's binary_logloss: 0.546399\tValidate's binary_logloss: 0.625988\n",
      "[LightGBM] [Warning] No further splits with positive gain, best gain: -inf\n",
      "[121]\tTrain's binary_logloss: 0.545726\tValidate's binary_logloss: 0.625978\n",
      "[LightGBM] [Warning] No further splits with positive gain, best gain: -inf\n",
      "[122]\tTrain's binary_logloss: 0.545066\tValidate's binary_logloss: 0.625974\n",
      "[LightGBM] [Warning] No further splits with positive gain, best gain: -inf\n",
      "[123]\tTrain's binary_logloss: 0.542851\tValidate's binary_logloss: 0.624144\n",
      "[LightGBM] [Warning] No further splits with positive gain, best gain: -inf\n",
      "[124]\tTrain's binary_logloss: 0.542158\tValidate's binary_logloss: 0.624355\n",
      "[LightGBM] [Warning] No further splits with positive gain, best gain: -inf\n",
      "[125]\tTrain's binary_logloss: 0.539987\tValidate's binary_logloss: 0.622567\n",
      "[LightGBM] [Warning] No further splits with positive gain, best gain: -inf\n",
      "[126]\tTrain's binary_logloss: 0.53931\tValidate's binary_logloss: 0.622784\n",
      "[LightGBM] [Warning] No further splits with positive gain, best gain: -inf\n",
      "[127]\tTrain's binary_logloss: 0.537182\tValidate's binary_logloss: 0.621036\n",
      "[LightGBM] [Warning] No further splits with positive gain, best gain: -inf\n",
      "[128]\tTrain's binary_logloss: 0.536522\tValidate's binary_logloss: 0.621258\n",
      "[LightGBM] [Warning] No further splits with positive gain, best gain: -inf\n",
      "[129]\tTrain's binary_logloss: 0.535874\tValidate's binary_logloss: 0.621484\n",
      "[LightGBM] [Warning] No further splits with positive gain, best gain: -inf\n",
      "[130]\tTrain's binary_logloss: 0.535239\tValidate's binary_logloss: 0.621713\n",
      "[LightGBM] [Warning] No further splits with positive gain, best gain: -inf\n",
      "[131]\tTrain's binary_logloss: 0.533159\tValidate's binary_logloss: 0.620011\n",
      "[LightGBM] [Warning] No further splits with positive gain, best gain: -inf\n",
      "[132]\tTrain's binary_logloss: 0.532539\tValidate's binary_logloss: 0.620245\n",
      "[LightGBM] [Warning] No further splits with positive gain, best gain: -inf\n",
      "[133]\tTrain's binary_logloss: 0.531975\tValidate's binary_logloss: 0.620279\n",
      "[LightGBM] [Warning] No further splits with positive gain, best gain: -inf\n",
      "[134]\tTrain's binary_logloss: 0.529938\tValidate's binary_logloss: 0.618617\n",
      "[LightGBM] [Warning] No further splits with positive gain, best gain: -inf\n",
      "[135]\tTrain's binary_logloss: 0.527938\tValidate's binary_logloss: 0.616991\n",
      "[LightGBM] [Warning] No further splits with positive gain, best gain: -inf\n",
      "[136]\tTrain's binary_logloss: 0.527346\tValidate's binary_logloss: 0.617232\n",
      "[LightGBM] [Warning] No further splits with positive gain, best gain: -inf\n",
      "[137]\tTrain's binary_logloss: 0.526766\tValidate's binary_logloss: 0.617476\n",
      "[LightGBM] [Warning] No further splits with positive gain, best gain: -inf\n",
      "[138]\tTrain's binary_logloss: 0.526196\tValidate's binary_logloss: 0.617724\n",
      "[LightGBM] [Warning] No further splits with positive gain, best gain: -inf\n",
      "[139]\tTrain's binary_logloss: 0.52424\tValidate's binary_logloss: 0.616138\n",
      "[LightGBM] [Warning] No further splits with positive gain, best gain: -inf\n",
      "[140]\tTrain's binary_logloss: 0.522318\tValidate's binary_logloss: 0.614586\n",
      "[LightGBM] [Warning] No further splits with positive gain, best gain: -inf\n",
      "[141]\tTrain's binary_logloss: 0.521765\tValidate's binary_logloss: 0.614838\n",
      "[LightGBM] [Warning] No further splits with positive gain, best gain: -inf\n",
      "[142]\tTrain's binary_logloss: 0.521223\tValidate's binary_logloss: 0.615092\n",
      "[LightGBM] [Warning] No further splits with positive gain, best gain: -inf\n",
      "[143]\tTrain's binary_logloss: 0.52069\tValidate's binary_logloss: 0.615348\n",
      "[LightGBM] [Warning] No further splits with positive gain, best gain: -inf\n",
      "[144]\tTrain's binary_logloss: 0.520168\tValidate's binary_logloss: 0.615607\n",
      "[LightGBM] [Warning] No further splits with positive gain, best gain: -inf\n",
      "[145]\tTrain's binary_logloss: 0.519655\tValidate's binary_logloss: 0.615869\n",
      "[LightGBM] [Warning] No further splits with positive gain, best gain: -inf\n",
      "[146]\tTrain's binary_logloss: 0.519153\tValidate's binary_logloss: 0.616132\n",
      "[LightGBM] [Warning] No further splits with positive gain, best gain: -inf\n",
      "[147]\tTrain's binary_logloss: 0.517279\tValidate's binary_logloss: 0.614625\n",
      "[LightGBM] [Warning] No further splits with positive gain, best gain: -inf\n",
      "[148]\tTrain's binary_logloss: 0.515438\tValidate's binary_logloss: 0.613149\n",
      "[LightGBM] [Warning] No further splits with positive gain, best gain: -inf\n",
      "[149]\tTrain's binary_logloss: 0.513629\tValidate's binary_logloss: 0.611705\n",
      "[LightGBM] [Warning] No further splits with positive gain, best gain: -inf\n",
      "[150]\tTrain's binary_logloss: 0.513143\tValidate's binary_logloss: 0.611972\n",
      "[LightGBM] [Warning] No further splits with positive gain, best gain: -inf\n",
      "[151]\tTrain's binary_logloss: 0.512666\tValidate's binary_logloss: 0.61224\n",
      "[LightGBM] [Warning] No further splits with positive gain, best gain: -inf\n",
      "[152]\tTrain's binary_logloss: 0.512198\tValidate's binary_logloss: 0.612511\n",
      "[LightGBM] [Warning] No further splits with positive gain, best gain: -inf\n",
      "[153]\tTrain's binary_logloss: 0.511739\tValidate's binary_logloss: 0.612783\n",
      "[LightGBM] [Warning] No further splits with positive gain, best gain: -inf\n",
      "[154]\tTrain's binary_logloss: 0.50997\tValidate's binary_logloss: 0.611376\n",
      "[LightGBM] [Warning] No further splits with positive gain, best gain: -inf\n",
      "[155]\tTrain's binary_logloss: 0.508232\tValidate's binary_logloss: 0.609998\n",
      "[LightGBM] [Warning] No further splits with positive gain, best gain: -inf\n",
      "[156]\tTrain's binary_logloss: 0.507785\tValidate's binary_logloss: 0.610273\n",
      "[LightGBM] [Warning] No further splits with positive gain, best gain: -inf\n",
      "[157]\tTrain's binary_logloss: 0.507348\tValidate's binary_logloss: 0.610548\n",
      "[LightGBM] [Warning] No further splits with positive gain, best gain: -inf\n",
      "[158]\tTrain's binary_logloss: 0.506918\tValidate's binary_logloss: 0.610826\n",
      "[LightGBM] [Warning] No further splits with positive gain, best gain: -inf\n",
      "[159]\tTrain's binary_logloss: 0.505215\tValidate's binary_logloss: 0.609482\n",
      "[LightGBM] [Warning] No further splits with positive gain, best gain: -inf\n",
      "[160]\tTrain's binary_logloss: 0.504795\tValidate's binary_logloss: 0.60976\n",
      "[LightGBM] [Warning] No further splits with positive gain, best gain: -inf\n",
      "[161]\tTrain's binary_logloss: 0.504383\tValidate's binary_logloss: 0.61004\n",
      "[LightGBM] [Warning] No further splits with positive gain, best gain: -inf\n",
      "[162]\tTrain's binary_logloss: 0.503979\tValidate's binary_logloss: 0.610321\n",
      "[LightGBM] [Warning] No further splits with positive gain, best gain: -inf\n",
      "[163]\tTrain's binary_logloss: 0.50231\tValidate's binary_logloss: 0.609009\n",
      "[LightGBM] [Warning] No further splits with positive gain, best gain: -inf\n",
      "[164]\tTrain's binary_logloss: 0.501916\tValidate's binary_logloss: 0.609291\n",
      "[LightGBM] [Warning] No further splits with positive gain, best gain: -inf\n",
      "[165]\tTrain's binary_logloss: 0.501528\tValidate's binary_logloss: 0.609574\n",
      "[LightGBM] [Warning] No further splits with positive gain, best gain: -inf\n",
      "[166]\tTrain's binary_logloss: 0.499891\tValidate's binary_logloss: 0.608292\n"
     ]
    },
    {
     "name": "stdout",
     "output_type": "stream",
     "text": [
      "[LightGBM] [Warning] No further splits with positive gain, best gain: -inf\n",
      "[167]\tTrain's binary_logloss: 0.499513\tValidate's binary_logloss: 0.608576\n",
      "[LightGBM] [Warning] No further splits with positive gain, best gain: -inf\n",
      "[168]\tTrain's binary_logloss: 0.499141\tValidate's binary_logloss: 0.60886\n",
      "[LightGBM] [Warning] No further splits with positive gain, best gain: -inf\n",
      "[169]\tTrain's binary_logloss: 0.498777\tValidate's binary_logloss: 0.609146\n",
      "[LightGBM] [Warning] No further splits with positive gain, best gain: -inf\n",
      "[170]\tTrain's binary_logloss: 0.49842\tValidate's binary_logloss: 0.609431\n",
      "[LightGBM] [Warning] No further splits with positive gain, best gain: -inf\n",
      "[171]\tTrain's binary_logloss: 0.498069\tValidate's binary_logloss: 0.609718\n",
      "[LightGBM] [Warning] No further splits with positive gain, best gain: -inf\n",
      "[172]\tTrain's binary_logloss: 0.497725\tValidate's binary_logloss: 0.610005\n",
      "[LightGBM] [Warning] No further splits with positive gain, best gain: -inf\n",
      "[173]\tTrain's binary_logloss: 0.497387\tValidate's binary_logloss: 0.610292\n",
      "[LightGBM] [Warning] No further splits with positive gain, best gain: -inf\n",
      "[174]\tTrain's binary_logloss: 0.497055\tValidate's binary_logloss: 0.610579\n",
      "[LightGBM] [Warning] No further splits with positive gain, best gain: -inf\n",
      "[175]\tTrain's binary_logloss: 0.496755\tValidate's binary_logloss: 0.610694\n",
      "[LightGBM] [Warning] No further splits with positive gain, best gain: -inf\n",
      "[176]\tTrain's binary_logloss: 0.496435\tValidate's binary_logloss: 0.610982\n",
      "[LightGBM] [Warning] No further splits with positive gain, best gain: -inf\n",
      "[177]\tTrain's binary_logloss: 0.496121\tValidate's binary_logloss: 0.611269\n",
      "[LightGBM] [Warning] No further splits with positive gain, best gain: -inf\n",
      "[178]\tTrain's binary_logloss: 0.495813\tValidate's binary_logloss: 0.611557\n",
      "[LightGBM] [Warning] No further splits with positive gain, best gain: -inf\n",
      "[179]\tTrain's binary_logloss: 0.495534\tValidate's binary_logloss: 0.611678\n",
      "[LightGBM] [Warning] No further splits with positive gain, best gain: -inf\n",
      "[180]\tTrain's binary_logloss: 0.495237\tValidate's binary_logloss: 0.611965\n",
      "[LightGBM] [Warning] No further splits with positive gain, best gain: -inf\n",
      "[181]\tTrain's binary_logloss: 0.494945\tValidate's binary_logloss: 0.612253\n",
      "[LightGBM] [Warning] No further splits with positive gain, best gain: -inf\n",
      "[182]\tTrain's binary_logloss: 0.494659\tValidate's binary_logloss: 0.612541\n",
      "[LightGBM] [Warning] No further splits with positive gain, best gain: -inf\n",
      "[183]\tTrain's binary_logloss: 0.4944\tValidate's binary_logloss: 0.612665\n",
      "[LightGBM] [Warning] No further splits with positive gain, best gain: -inf\n",
      "[184]\tTrain's binary_logloss: 0.494124\tValidate's binary_logloss: 0.612952\n",
      "[LightGBM] [Warning] No further splits with positive gain, best gain: -inf\n",
      "[185]\tTrain's binary_logloss: 0.493853\tValidate's binary_logloss: 0.613239\n",
      "[LightGBM] [Warning] No further splits with positive gain, best gain: -inf\n",
      "[186]\tTrain's binary_logloss: 0.493587\tValidate's binary_logloss: 0.613526\n",
      "[LightGBM] [Warning] No further splits with positive gain, best gain: -inf\n",
      "[187]\tTrain's binary_logloss: 0.493346\tValidate's binary_logloss: 0.613654\n",
      "[LightGBM] [Warning] No further splits with positive gain, best gain: -inf\n",
      "[188]\tTrain's binary_logloss: 0.49309\tValidate's binary_logloss: 0.61394\n",
      "[LightGBM] [Warning] No further splits with positive gain, best gain: -inf\n",
      "[189]\tTrain's binary_logloss: 0.491501\tValidate's binary_logloss: 0.6127\n",
      "[LightGBM] [Warning] No further splits with positive gain, best gain: -inf\n",
      "[190]\tTrain's binary_logloss: 0.489939\tValidate's binary_logloss: 0.611487\n",
      "[LightGBM] [Warning] No further splits with positive gain, best gain: -inf\n",
      "[191]\tTrain's binary_logloss: 0.489689\tValidate's binary_logloss: 0.611771\n",
      "[LightGBM] [Warning] No further splits with positive gain, best gain: -inf\n",
      "[192]\tTrain's binary_logloss: 0.488154\tValidate's binary_logloss: 0.610584\n",
      "[LightGBM] [Warning] No further splits with positive gain, best gain: -inf\n",
      "[193]\tTrain's binary_logloss: 0.486646\tValidate's binary_logloss: 0.609423\n",
      "[LightGBM] [Warning] No further splits with positive gain, best gain: -inf\n",
      "[194]\tTrain's binary_logloss: 0.485163\tValidate's binary_logloss: 0.608286\n",
      "[LightGBM] [Warning] No further splits with positive gain, best gain: -inf\n",
      "[195]\tTrain's binary_logloss: 0.483705\tValidate's binary_logloss: 0.607173\n",
      "[LightGBM] [Warning] No further splits with positive gain, best gain: -inf\n",
      "[196]\tTrain's binary_logloss: 0.482272\tValidate's binary_logloss: 0.606085\n",
      "[LightGBM] [Warning] No further splits with positive gain, best gain: -inf\n",
      "[197]\tTrain's binary_logloss: 0.482031\tValidate's binary_logloss: 0.606367\n",
      "[LightGBM] [Warning] No further splits with positive gain, best gain: -inf\n",
      "[198]\tTrain's binary_logloss: 0.481795\tValidate's binary_logloss: 0.60665\n",
      "[LightGBM] [Warning] No further splits with positive gain, best gain: -inf\n",
      "[199]\tTrain's binary_logloss: 0.480387\tValidate's binary_logloss: 0.605585\n",
      "[LightGBM] [Warning] No further splits with positive gain, best gain: -inf\n",
      "[200]\tTrain's binary_logloss: 0.479002\tValidate's binary_logloss: 0.604544\n",
      "[LightGBM] [Warning] No further splits with positive gain, best gain: -inf\n",
      "[201]\tTrain's binary_logloss: 0.478771\tValidate's binary_logloss: 0.604825\n",
      "[LightGBM] [Warning] No further splits with positive gain, best gain: -inf\n",
      "[202]\tTrain's binary_logloss: 0.478545\tValidate's binary_logloss: 0.605106\n",
      "[LightGBM] [Warning] No further splits with positive gain, best gain: -inf\n",
      "[203]\tTrain's binary_logloss: 0.478323\tValidate's binary_logloss: 0.605386\n",
      "[LightGBM] [Warning] No further splits with positive gain, best gain: -inf\n",
      "[204]\tTrain's binary_logloss: 0.478104\tValidate's binary_logloss: 0.605665\n",
      "[LightGBM] [Warning] No further splits with positive gain, best gain: -inf\n",
      "[205]\tTrain's binary_logloss: 0.476744\tValidate's binary_logloss: 0.604647\n",
      "[LightGBM] [Warning] No further splits with positive gain, best gain: -inf\n",
      "[206]\tTrain's binary_logloss: 0.476627\tValidate's binary_logloss: 0.604697\n",
      "[LightGBM] [Warning] No further splits with positive gain, best gain: -inf\n",
      "[207]\tTrain's binary_logloss: 0.475297\tValidate's binary_logloss: 0.603725\n",
      "[LightGBM] [Warning] No further splits with positive gain, best gain: -inf\n",
      "[208]\tTrain's binary_logloss: 0.47399\tValidate's binary_logloss: 0.602775\n",
      "[LightGBM] [Warning] No further splits with positive gain, best gain: -inf\n",
      "[209]\tTrain's binary_logloss: 0.472704\tValidate's binary_logloss: 0.601846\n",
      "[LightGBM] [Warning] No further splits with positive gain, best gain: -inf\n",
      "[210]\tTrain's binary_logloss: 0.471439\tValidate's binary_logloss: 0.600937\n",
      "[LightGBM] [Warning] No further splits with positive gain, best gain: -inf\n",
      "[211]\tTrain's binary_logloss: 0.471229\tValidate's binary_logloss: 0.601215\n",
      "[LightGBM] [Warning] No further splits with positive gain, best gain: -inf\n",
      "[212]\tTrain's binary_logloss: 0.469986\tValidate's binary_logloss: 0.600326\n",
      "[LightGBM] [Warning] No further splits with positive gain, best gain: -inf\n",
      "[213]\tTrain's binary_logloss: 0.469871\tValidate's binary_logloss: 0.600379\n",
      "[LightGBM] [Warning] No further splits with positive gain, best gain: -inf\n",
      "[214]\tTrain's binary_logloss: 0.469666\tValidate's binary_logloss: 0.600656\n",
      "[LightGBM] [Warning] No further splits with positive gain, best gain: -inf\n",
      "[215]\tTrain's binary_logloss: 0.469554\tValidate's binary_logloss: 0.600709\n",
      "[LightGBM] [Warning] No further splits with positive gain, best gain: -inf\n",
      "[216]\tTrain's binary_logloss: 0.469353\tValidate's binary_logloss: 0.600985\n",
      "[LightGBM] [Warning] No further splits with positive gain, best gain: -inf\n",
      "[217]\tTrain's binary_logloss: 0.468131\tValidate's binary_logloss: 0.600118\n",
      "[LightGBM] [Warning] No further splits with positive gain, best gain: -inf\n",
      "[218]\tTrain's binary_logloss: 0.468022\tValidate's binary_logloss: 0.600173\n",
      "[LightGBM] [Warning] No further splits with positive gain, best gain: -inf\n",
      "[219]\tTrain's binary_logloss: 0.467826\tValidate's binary_logloss: 0.600448\n",
      "[LightGBM] [Warning] No further splits with positive gain, best gain: -inf\n",
      "[220]\tTrain's binary_logloss: 0.467719\tValidate's binary_logloss: 0.600503\n",
      "[LightGBM] [Warning] No further splits with positive gain, best gain: -inf\n",
      "[221]\tTrain's binary_logloss: 0.467527\tValidate's binary_logloss: 0.600777\n",
      "[LightGBM] [Warning] No further splits with positive gain, best gain: -inf\n",
      "[222]\tTrain's binary_logloss: 0.467423\tValidate's binary_logloss: 0.600833\n",
      "[LightGBM] [Warning] No further splits with positive gain, best gain: -inf\n",
      "[223]\tTrain's binary_logloss: 0.467235\tValidate's binary_logloss: 0.601106\n",
      "[LightGBM] [Warning] No further splits with positive gain, best gain: -inf\n",
      "[224]\tTrain's binary_logloss: 0.467133\tValidate's binary_logloss: 0.601163\n",
      "[LightGBM] [Warning] No further splits with positive gain, best gain: -inf\n",
      "[225]\tTrain's binary_logloss: 0.465932\tValidate's binary_logloss: 0.600317\n",
      "[LightGBM] [Warning] No further splits with positive gain, best gain: -inf\n",
      "[226]\tTrain's binary_logloss: 0.464751\tValidate's binary_logloss: 0.599491\n",
      "[LightGBM] [Warning] No further splits with positive gain, best gain: -inf\n",
      "[227]\tTrain's binary_logloss: 0.464567\tValidate's binary_logloss: 0.599763\n",
      "[LightGBM] [Warning] No further splits with positive gain, best gain: -inf\n",
      "[228]\tTrain's binary_logloss: 0.463406\tValidate's binary_logloss: 0.598955\n",
      "[LightGBM] [Warning] No further splits with positive gain, best gain: -inf\n",
      "[229]\tTrain's binary_logloss: 0.463306\tValidate's binary_logloss: 0.599014\n",
      "[LightGBM] [Warning] No further splits with positive gain, best gain: -inf\n",
      "[230]\tTrain's binary_logloss: 0.463127\tValidate's binary_logloss: 0.599284\n",
      "[LightGBM] [Warning] No further splits with positive gain, best gain: -inf\n",
      "[231]\tTrain's binary_logloss: 0.461984\tValidate's binary_logloss: 0.598495\n",
      "[LightGBM] [Warning] No further splits with positive gain, best gain: -inf\n",
      "[232]\tTrain's binary_logloss: 0.461887\tValidate's binary_logloss: 0.598554\n",
      "[LightGBM] [Warning] No further splits with positive gain, best gain: -inf\n",
      "[233]\tTrain's binary_logloss: 0.461712\tValidate's binary_logloss: 0.598824\n",
      "[LightGBM] [Warning] No further splits with positive gain, best gain: -inf\n",
      "[234]\tTrain's binary_logloss: 0.460588\tValidate's binary_logloss: 0.598053\n",
      "[LightGBM] [Warning] No further splits with positive gain, best gain: -inf\n",
      "[235]\tTrain's binary_logloss: 0.460493\tValidate's binary_logloss: 0.598113\n",
      "[LightGBM] [Warning] No further splits with positive gain, best gain: -inf\n",
      "[236]\tTrain's binary_logloss: 0.460322\tValidate's binary_logloss: 0.598381\n",
      "[LightGBM] [Warning] No further splits with positive gain, best gain: -inf\n",
      "[237]\tTrain's binary_logloss: 0.460229\tValidate's binary_logloss: 0.598441\n",
      "[LightGBM] [Warning] No further splits with positive gain, best gain: -inf\n",
      "[238]\tTrain's binary_logloss: 0.460061\tValidate's binary_logloss: 0.598708\n",
      "[LightGBM] [Warning] No further splits with positive gain, best gain: -inf\n",
      "[239]\tTrain's binary_logloss: 0.45997\tValidate's binary_logloss: 0.598768\n",
      "[LightGBM] [Warning] No further splits with positive gain, best gain: -inf\n",
      "[240]\tTrain's binary_logloss: 0.459806\tValidate's binary_logloss: 0.599034\n",
      "[LightGBM] [Warning] No further splits with positive gain, best gain: -inf\n",
      "[241]\tTrain's binary_logloss: 0.458701\tValidate's binary_logloss: 0.598283\n",
      "[LightGBM] [Warning] No further splits with positive gain, best gain: -inf\n",
      "[242]\tTrain's binary_logloss: 0.458612\tValidate's binary_logloss: 0.598344\n",
      "[LightGBM] [Warning] No further splits with positive gain, best gain: -inf\n",
      "[243]\tTrain's binary_logloss: 0.458452\tValidate's binary_logloss: 0.598608\n",
      "[LightGBM] [Warning] No further splits with positive gain, best gain: -inf\n",
      "[244]\tTrain's binary_logloss: 0.458365\tValidate's binary_logloss: 0.598669\n",
      "[LightGBM] [Warning] No further splits with positive gain, best gain: -inf\n",
      "[245]\tTrain's binary_logloss: 0.457277\tValidate's binary_logloss: 0.597936\n",
      "[LightGBM] [Warning] No further splits with positive gain, best gain: -inf\n",
      "[246]\tTrain's binary_logloss: 0.456208\tValidate's binary_logloss: 0.59722\n",
      "[LightGBM] [Warning] No further splits with positive gain, best gain: -inf\n",
      "[247]\tTrain's binary_logloss: 0.456051\tValidate's binary_logloss: 0.597483\n",
      "[LightGBM] [Warning] No further splits with positive gain, best gain: -inf\n",
      "[248]\tTrain's binary_logloss: 0.454999\tValidate's binary_logloss: 0.596783\n",
      "[LightGBM] [Warning] No further splits with positive gain, best gain: -inf\n",
      "[249]\tTrain's binary_logloss: 0.454914\tValidate's binary_logloss: 0.596845\n",
      "[LightGBM] [Warning] No further splits with positive gain, best gain: -inf\n",
      "[250]\tTrain's binary_logloss: 0.453879\tValidate's binary_logloss: 0.596162\n",
      "[LightGBM] [Warning] No further splits with positive gain, best gain: -inf\n",
      "[251]\tTrain's binary_logloss: 0.45286\tValidate's binary_logloss: 0.595495\n",
      "[LightGBM] [Warning] No further splits with positive gain, best gain: -inf\n",
      "[252]\tTrain's binary_logloss: 0.451859\tValidate's binary_logloss: 0.594843\n",
      "[LightGBM] [Warning] No further splits with positive gain, best gain: -inf\n",
      "[253]\tTrain's binary_logloss: 0.451706\tValidate's binary_logloss: 0.595104\n",
      "[LightGBM] [Warning] No further splits with positive gain, best gain: -inf\n",
      "[254]\tTrain's binary_logloss: 0.450721\tValidate's binary_logloss: 0.594468\n",
      "[LightGBM] [Warning] No further splits with positive gain, best gain: -inf\n",
      "[255]\tTrain's binary_logloss: 0.449751\tValidate's binary_logloss: 0.593847\n",
      "[LightGBM] [Warning] No further splits with positive gain, best gain: -inf\n",
      "[256]\tTrain's binary_logloss: 0.449602\tValidate's binary_logloss: 0.594105\n",
      "[LightGBM] [Warning] No further splits with positive gain, best gain: -inf\n",
      "[257]\tTrain's binary_logloss: 0.449518\tValidate's binary_logloss: 0.59417\n",
      "[LightGBM] [Warning] No further splits with positive gain, best gain: -inf\n",
      "[258]\tTrain's binary_logloss: 0.449372\tValidate's binary_logloss: 0.594427\n",
      "[LightGBM] [Warning] No further splits with positive gain, best gain: -inf\n",
      "[259]\tTrain's binary_logloss: 0.448418\tValidate's binary_logloss: 0.593821\n",
      "[LightGBM] [Warning] No further splits with positive gain, best gain: -inf\n",
      "[260]\tTrain's binary_logloss: 0.447479\tValidate's binary_logloss: 0.59323\n",
      "[LightGBM] [Warning] No further splits with positive gain, best gain: -inf\n",
      "[261]\tTrain's binary_logloss: 0.447396\tValidate's binary_logloss: 0.593295\n",
      "[LightGBM] [Warning] No further splits with positive gain, best gain: -inf\n",
      "[262]\tTrain's binary_logloss: 0.446472\tValidate's binary_logloss: 0.592719\n",
      "[LightGBM] [Warning] No further splits with positive gain, best gain: -inf\n",
      "[263]\tTrain's binary_logloss: 0.44633\tValidate's binary_logloss: 0.592974\n",
      "[LightGBM] [Warning] No further splits with positive gain, best gain: -inf\n",
      "[264]\tTrain's binary_logloss: 0.445421\tValidate's binary_logloss: 0.592411\n",
      "[LightGBM] [Warning] No further splits with positive gain, best gain: -inf\n",
      "[265]\tTrain's binary_logloss: 0.445339\tValidate's binary_logloss: 0.592477\n"
     ]
    },
    {
     "name": "stdout",
     "output_type": "stream",
     "text": [
      "[LightGBM] [Warning] No further splits with positive gain, best gain: -inf\n",
      "[266]\tTrain's binary_logloss: 0.445199\tValidate's binary_logloss: 0.59273\n",
      "[LightGBM] [Warning] No further splits with positive gain, best gain: -inf\n",
      "[267]\tTrain's binary_logloss: 0.44512\tValidate's binary_logloss: 0.592796\n",
      "[LightGBM] [Warning] No further splits with positive gain, best gain: -inf\n",
      "[268]\tTrain's binary_logloss: 0.444983\tValidate's binary_logloss: 0.593048\n",
      "[LightGBM] [Warning] No further splits with positive gain, best gain: -inf\n",
      "[269]\tTrain's binary_logloss: 0.444905\tValidate's binary_logloss: 0.593114\n",
      "[LightGBM] [Warning] No further splits with positive gain, best gain: -inf\n",
      "[270]\tTrain's binary_logloss: 0.444011\tValidate's binary_logloss: 0.592566\n",
      "[LightGBM] [Warning] No further splits with positive gain, best gain: -inf\n",
      "[271]\tTrain's binary_logloss: 0.443876\tValidate's binary_logloss: 0.592817\n",
      "[LightGBM] [Warning] No further splits with positive gain, best gain: -inf\n",
      "[272]\tTrain's binary_logloss: 0.4438\tValidate's binary_logloss: 0.592882\n",
      "[LightGBM] [Warning] No further splits with positive gain, best gain: -inf\n",
      "[273]\tTrain's binary_logloss: 0.44292\tValidate's binary_logloss: 0.592348\n",
      "[LightGBM] [Warning] No further splits with positive gain, best gain: -inf\n",
      "[274]\tTrain's binary_logloss: 0.442788\tValidate's binary_logloss: 0.592598\n",
      "[LightGBM] [Warning] No further splits with positive gain, best gain: -inf\n",
      "[275]\tTrain's binary_logloss: 0.442713\tValidate's binary_logloss: 0.592663\n",
      "[LightGBM] [Warning] No further splits with positive gain, best gain: -inf\n",
      "[276]\tTrain's binary_logloss: 0.442584\tValidate's binary_logloss: 0.592911\n",
      "[LightGBM] [Warning] No further splits with positive gain, best gain: -inf\n",
      "[277]\tTrain's binary_logloss: 0.441718\tValidate's binary_logloss: 0.592391\n",
      "[LightGBM] [Warning] No further splits with positive gain, best gain: -inf\n",
      "[278]\tTrain's binary_logloss: 0.441644\tValidate's binary_logloss: 0.592457\n",
      "[LightGBM] [Warning] No further splits with positive gain, best gain: -inf\n",
      "[279]\tTrain's binary_logloss: 0.441518\tValidate's binary_logloss: 0.592703\n",
      "[LightGBM] [Warning] No further splits with positive gain, best gain: -inf\n",
      "[280]\tTrain's binary_logloss: 0.441446\tValidate's binary_logloss: 0.592769\n",
      "[LightGBM] [Warning] No further splits with positive gain, best gain: -inf\n",
      "[281]\tTrain's binary_logloss: 0.441323\tValidate's binary_logloss: 0.593014\n",
      "[LightGBM] [Warning] No further splits with positive gain, best gain: -inf\n",
      "[282]\tTrain's binary_logloss: 0.440469\tValidate's binary_logloss: 0.592507\n",
      "[LightGBM] [Warning] No further splits with positive gain, best gain: -inf\n",
      "[283]\tTrain's binary_logloss: 0.440399\tValidate's binary_logloss: 0.592572\n",
      "[LightGBM] [Warning] No further splits with positive gain, best gain: -inf\n",
      "[284]\tTrain's binary_logloss: 0.440278\tValidate's binary_logloss: 0.592815\n",
      "[LightGBM] [Warning] No further splits with positive gain, best gain: -inf\n",
      "[285]\tTrain's binary_logloss: 0.440209\tValidate's binary_logloss: 0.59288\n",
      "[LightGBM] [Warning] No further splits with positive gain, best gain: -inf\n",
      "[286]\tTrain's binary_logloss: 0.44009\tValidate's binary_logloss: 0.593122\n",
      "[LightGBM] [Warning] No further splits with positive gain, best gain: -inf\n",
      "[287]\tTrain's binary_logloss: 0.439241\tValidate's binary_logloss: 0.592606\n",
      "[LightGBM] [Warning] No further splits with positive gain, best gain: -inf\n",
      "[288]\tTrain's binary_logloss: 0.438406\tValidate's binary_logloss: 0.592103\n",
      "[LightGBM] [Warning] No further splits with positive gain, best gain: -inf\n",
      "[289]\tTrain's binary_logloss: 0.438338\tValidate's binary_logloss: 0.592168\n",
      "[LightGBM] [Warning] No further splits with positive gain, best gain: -inf\n",
      "[290]\tTrain's binary_logloss: 0.438222\tValidate's binary_logloss: 0.592408\n",
      "[LightGBM] [Warning] No further splits with positive gain, best gain: -inf\n",
      "[291]\tTrain's binary_logloss: 0.438155\tValidate's binary_logloss: 0.592474\n",
      "[LightGBM] [Warning] No further splits with positive gain, best gain: -inf\n",
      "[292]\tTrain's binary_logloss: 0.438056\tValidate's binary_logloss: 0.592589\n",
      "[LightGBM] [Warning] No further splits with positive gain, best gain: -inf\n",
      "[293]\tTrain's binary_logloss: 0.437991\tValidate's binary_logloss: 0.592654\n",
      "[LightGBM] [Warning] No further splits with positive gain, best gain: -inf\n",
      "[294]\tTrain's binary_logloss: 0.437894\tValidate's binary_logloss: 0.59277\n",
      "[LightGBM] [Warning] No further splits with positive gain, best gain: -inf\n",
      "[295]\tTrain's binary_logloss: 0.437798\tValidate's binary_logloss: 0.592885\n",
      "[LightGBM] [Warning] No further splits with positive gain, best gain: -inf\n",
      "[296]\tTrain's binary_logloss: 0.437705\tValidate's binary_logloss: 0.593\n",
      "[LightGBM] [Warning] No further splits with positive gain, best gain: -inf\n",
      "[297]\tTrain's binary_logloss: 0.437613\tValidate's binary_logloss: 0.593115\n",
      "[LightGBM] [Warning] No further splits with positive gain, best gain: -inf\n",
      "[298]\tTrain's binary_logloss: 0.437522\tValidate's binary_logloss: 0.59323\n",
      "[LightGBM] [Warning] No further splits with positive gain, best gain: -inf\n",
      "[299]\tTrain's binary_logloss: 0.437459\tValidate's binary_logloss: 0.593295\n",
      "[LightGBM] [Warning] No further splits with positive gain, best gain: -inf\n",
      "[300]\tTrain's binary_logloss: 0.436635\tValidate's binary_logloss: 0.592803\n",
      "[LightGBM] [Warning] No further splits with positive gain, best gain: -inf\n",
      "[301]\tTrain's binary_logloss: 0.435825\tValidate's binary_logloss: 0.592324\n",
      "[LightGBM] [Warning] No further splits with positive gain, best gain: -inf\n",
      "[302]\tTrain's binary_logloss: 0.435028\tValidate's binary_logloss: 0.591857\n",
      "[LightGBM] [Warning] No further splits with positive gain, best gain: -inf\n",
      "[303]\tTrain's binary_logloss: 0.43494\tValidate's binary_logloss: 0.591969\n",
      "[LightGBM] [Warning] No further splits with positive gain, best gain: -inf\n",
      "[304]\tTrain's binary_logloss: 0.434853\tValidate's binary_logloss: 0.592082\n",
      "[LightGBM] [Warning] No further splits with positive gain, best gain: -inf\n",
      "[305]\tTrain's binary_logloss: 0.434068\tValidate's binary_logloss: 0.591626\n",
      "[LightGBM] [Warning] No further splits with positive gain, best gain: -inf\n",
      "[306]\tTrain's binary_logloss: 0.433295\tValidate's binary_logloss: 0.591183\n",
      "[LightGBM] [Warning] No further splits with positive gain, best gain: -inf\n",
      "[307]\tTrain's binary_logloss: 0.43321\tValidate's binary_logloss: 0.591293\n",
      "[LightGBM] [Warning] No further splits with positive gain, best gain: -inf\n",
      "[308]\tTrain's binary_logloss: 0.433127\tValidate's binary_logloss: 0.591403\n",
      "[LightGBM] [Warning] No further splits with positive gain, best gain: -inf\n",
      "[309]\tTrain's binary_logloss: 0.433045\tValidate's binary_logloss: 0.591513\n",
      "[LightGBM] [Warning] No further splits with positive gain, best gain: -inf\n",
      "[310]\tTrain's binary_logloss: 0.432965\tValidate's binary_logloss: 0.591623\n",
      "[LightGBM] [Warning] No further splits with positive gain, best gain: -inf\n",
      "[311]\tTrain's binary_logloss: 0.432886\tValidate's binary_logloss: 0.591733\n",
      "[LightGBM] [Warning] No further splits with positive gain, best gain: -inf\n",
      "[312]\tTrain's binary_logloss: 0.432854\tValidate's binary_logloss: 0.591763\n",
      "[LightGBM] [Warning] No further splits with positive gain, best gain: -inf\n",
      "[313]\tTrain's binary_logloss: 0.432093\tValidate's binary_logloss: 0.59133\n",
      "[LightGBM] [Warning] No further splits with positive gain, best gain: -inf\n",
      "[314]\tTrain's binary_logloss: 0.431345\tValidate's binary_logloss: 0.590908\n",
      "[LightGBM] [Warning] No further splits with positive gain, best gain: -inf\n",
      "[315]\tTrain's binary_logloss: 0.431267\tValidate's binary_logloss: 0.591015\n",
      "[LightGBM] [Warning] No further splits with positive gain, best gain: -inf\n",
      "[316]\tTrain's binary_logloss: 0.431191\tValidate's binary_logloss: 0.591122\n",
      "[LightGBM] [Warning] No further splits with positive gain, best gain: -inf\n",
      "[317]\tTrain's binary_logloss: 0.431159\tValidate's binary_logloss: 0.591149\n",
      "[LightGBM] [Warning] No further splits with positive gain, best gain: -inf\n",
      "[318]\tTrain's binary_logloss: 0.431084\tValidate's binary_logloss: 0.591255\n",
      "[LightGBM] [Warning] No further splits with positive gain, best gain: -inf\n",
      "[319]\tTrain's binary_logloss: 0.430347\tValidate's binary_logloss: 0.590843\n",
      "[LightGBM] [Warning] No further splits with positive gain, best gain: -inf\n",
      "[320]\tTrain's binary_logloss: 0.430316\tValidate's binary_logloss: 0.590869\n",
      "[LightGBM] [Warning] No further splits with positive gain, best gain: -inf\n",
      "[321]\tTrain's binary_logloss: 0.430242\tValidate's binary_logloss: 0.590973\n",
      "[LightGBM] [Warning] No further splits with positive gain, best gain: -inf\n",
      "[322]\tTrain's binary_logloss: 0.430211\tValidate's binary_logloss: 0.590997\n",
      "[LightGBM] [Warning] No further splits with positive gain, best gain: -inf\n",
      "[323]\tTrain's binary_logloss: 0.430146\tValidate's binary_logloss: 0.591063\n",
      "[LightGBM] [Warning] No further splits with positive gain, best gain: -inf\n",
      "[324]\tTrain's binary_logloss: 0.429421\tValidate's binary_logloss: 0.590663\n",
      "[LightGBM] [Warning] No further splits with positive gain, best gain: -inf\n",
      "[325]\tTrain's binary_logloss: 0.428708\tValidate's binary_logloss: 0.590273\n",
      "[LightGBM] [Warning] No further splits with positive gain, best gain: -inf\n",
      "[326]\tTrain's binary_logloss: 0.428635\tValidate's binary_logloss: 0.590375\n",
      "[LightGBM] [Warning] No further splits with positive gain, best gain: -inf\n",
      "[327]\tTrain's binary_logloss: 0.428563\tValidate's binary_logloss: 0.590477\n",
      "[LightGBM] [Warning] No further splits with positive gain, best gain: -inf\n",
      "[328]\tTrain's binary_logloss: 0.428532\tValidate's binary_logloss: 0.590498\n",
      "[LightGBM] [Warning] No further splits with positive gain, best gain: -inf\n",
      "[329]\tTrain's binary_logloss: 0.427864\tValidate's binary_logloss: 0.590063\n",
      "[LightGBM] [Warning] No further splits with positive gain, best gain: -inf\n",
      "[330]\tTrain's binary_logloss: 0.427793\tValidate's binary_logloss: 0.590163\n",
      "[LightGBM] [Warning] No further splits with positive gain, best gain: -inf\n",
      "[331]\tTrain's binary_logloss: 0.427135\tValidate's binary_logloss: 0.589738\n",
      "[LightGBM] [Warning] No further splits with positive gain, best gain: -inf\n",
      "[332]\tTrain's binary_logloss: 0.427066\tValidate's binary_logloss: 0.589837\n",
      "[LightGBM] [Warning] No further splits with positive gain, best gain: -inf\n",
      "[333]\tTrain's binary_logloss: 0.427036\tValidate's binary_logloss: 0.589855\n",
      "[LightGBM] [Warning] No further splits with positive gain, best gain: -inf\n",
      "[334]\tTrain's binary_logloss: 0.426967\tValidate's binary_logloss: 0.589952\n",
      "[LightGBM] [Warning] No further splits with positive gain, best gain: -inf\n",
      "[335]\tTrain's binary_logloss: 0.426938\tValidate's binary_logloss: 0.589969\n",
      "[LightGBM] [Warning] No further splits with positive gain, best gain: -inf\n",
      "[336]\tTrain's binary_logloss: 0.42687\tValidate's binary_logloss: 0.590066\n",
      "[LightGBM] [Warning] No further splits with positive gain, best gain: -inf\n",
      "[337]\tTrain's binary_logloss: 0.426841\tValidate's binary_logloss: 0.590081\n",
      "[LightGBM] [Warning] No further splits with positive gain, best gain: -inf\n",
      "[338]\tTrain's binary_logloss: 0.426774\tValidate's binary_logloss: 0.590177\n",
      "[LightGBM] [Warning] No further splits with positive gain, best gain: -inf\n",
      "[339]\tTrain's binary_logloss: 0.426744\tValidate's binary_logloss: 0.590192\n",
      "[LightGBM] [Warning] No further splits with positive gain, best gain: -inf\n",
      "[340]\tTrain's binary_logloss: 0.426098\tValidate's binary_logloss: 0.589777\n",
      "[LightGBM] [Warning] No further splits with positive gain, best gain: -inf\n",
      "[341]\tTrain's binary_logloss: 0.425461\tValidate's binary_logloss: 0.589371\n",
      "[LightGBM] [Warning] No further splits with positive gain, best gain: -inf\n",
      "[342]\tTrain's binary_logloss: 0.425395\tValidate's binary_logloss: 0.589464\n",
      "[LightGBM] [Warning] No further splits with positive gain, best gain: -inf\n",
      "[343]\tTrain's binary_logloss: 0.42533\tValidate's binary_logloss: 0.589557\n",
      "[LightGBM] [Warning] No further splits with positive gain, best gain: -inf\n",
      "[344]\tTrain's binary_logloss: 0.424703\tValidate's binary_logloss: 0.589161\n",
      "[LightGBM] [Warning] No further splits with positive gain, best gain: -inf\n",
      "[345]\tTrain's binary_logloss: 0.424639\tValidate's binary_logloss: 0.589253\n",
      "[LightGBM] [Warning] No further splits with positive gain, best gain: -inf\n",
      "[346]\tTrain's binary_logloss: 0.424023\tValidate's binary_logloss: 0.588866\n",
      "[LightGBM] [Warning] No further splits with positive gain, best gain: -inf\n",
      "[347]\tTrain's binary_logloss: 0.423994\tValidate's binary_logloss: 0.588875\n",
      "[LightGBM] [Warning] No further splits with positive gain, best gain: -inf\n",
      "[348]\tTrain's binary_logloss: 0.423931\tValidate's binary_logloss: 0.588965\n",
      "[LightGBM] [Warning] No further splits with positive gain, best gain: -inf\n",
      "[349]\tTrain's binary_logloss: 0.423903\tValidate's binary_logloss: 0.588973\n",
      "[LightGBM] [Warning] No further splits with positive gain, best gain: -inf\n",
      "[350]\tTrain's binary_logloss: 0.42384\tValidate's binary_logloss: 0.589062\n",
      "[LightGBM] [Warning] No further splits with positive gain, best gain: -inf\n",
      "[351]\tTrain's binary_logloss: 0.423234\tValidate's binary_logloss: 0.588685\n",
      "[LightGBM] [Warning] No further splits with positive gain, best gain: -inf\n",
      "[352]\tTrain's binary_logloss: 0.422637\tValidate's binary_logloss: 0.588317\n",
      "[LightGBM] [Warning] No further splits with positive gain, best gain: -inf\n",
      "[353]\tTrain's binary_logloss: 0.422575\tValidate's binary_logloss: 0.588404\n",
      "[LightGBM] [Warning] No further splits with positive gain, best gain: -inf\n",
      "[354]\tTrain's binary_logloss: 0.422515\tValidate's binary_logloss: 0.58849\n",
      "[LightGBM] [Warning] No further splits with positive gain, best gain: -inf\n",
      "[355]\tTrain's binary_logloss: 0.421927\tValidate's binary_logloss: 0.588131\n",
      "[LightGBM] [Warning] No further splits with positive gain, best gain: -inf\n",
      "[356]\tTrain's binary_logloss: 0.421899\tValidate's binary_logloss: 0.588135\n",
      "[LightGBM] [Warning] No further splits with positive gain, best gain: -inf\n",
      "[357]\tTrain's binary_logloss: 0.421839\tValidate's binary_logloss: 0.588219\n",
      "[LightGBM] [Warning] No further splits with positive gain, best gain: -inf\n",
      "[358]\tTrain's binary_logloss: 0.421811\tValidate's binary_logloss: 0.588222\n",
      "[LightGBM] [Warning] No further splits with positive gain, best gain: -inf\n",
      "[359]\tTrain's binary_logloss: 0.421233\tValidate's binary_logloss: 0.587872\n",
      "[LightGBM] [Warning] No further splits with positive gain, best gain: -inf\n",
      "[360]\tTrain's binary_logloss: 0.421174\tValidate's binary_logloss: 0.587955\n",
      "[LightGBM] [Warning] No further splits with positive gain, best gain: -inf\n",
      "[361]\tTrain's binary_logloss: 0.421115\tValidate's binary_logloss: 0.588038\n",
      "[LightGBM] [Warning] No further splits with positive gain, best gain: -inf\n",
      "[362]\tTrain's binary_logloss: 0.421026\tValidate's binary_logloss: 0.588101\n",
      "[LightGBM] [Warning] No further splits with positive gain, best gain: -inf\n",
      "[363]\tTrain's binary_logloss: 0.420422\tValidate's binary_logloss: 0.587817\n",
      "[LightGBM] [Warning] No further splits with positive gain, best gain: -inf\n",
      "[364]\tTrain's binary_logloss: 0.420365\tValidate's binary_logloss: 0.587899\n",
      "[LightGBM] [Warning] No further splits with positive gain, best gain: -inf\n",
      "[365]\tTrain's binary_logloss: 0.41977\tValidate's binary_logloss: 0.587624\n",
      "[LightGBM] [Warning] No further splits with positive gain, best gain: -inf\n",
      "[366]\tTrain's binary_logloss: 0.419185\tValidate's binary_logloss: 0.587358\n",
      "[LightGBM] [Warning] No further splits with positive gain, best gain: -inf\n",
      "[367]\tTrain's binary_logloss: 0.419097\tValidate's binary_logloss: 0.587421\n",
      "[LightGBM] [Warning] No further splits with positive gain, best gain: -inf\n",
      "[368]\tTrain's binary_logloss: 0.419041\tValidate's binary_logloss: 0.587502\n",
      "[LightGBM] [Warning] No further splits with positive gain, best gain: -inf\n",
      "[369]\tTrain's binary_logloss: 0.419013\tValidate's binary_logloss: 0.5875\n",
      "[LightGBM] [Warning] No further splits with positive gain, best gain: -inf\n",
      "[370]\tTrain's binary_logloss: 0.418957\tValidate's binary_logloss: 0.58758\n",
      "[LightGBM] [Warning] No further splits with positive gain, best gain: -inf\n",
      "[371]\tTrain's binary_logloss: 0.418929\tValidate's binary_logloss: 0.587577\n",
      "[LightGBM] [Warning] No further splits with positive gain, best gain: -inf\n",
      "[372]\tTrain's binary_logloss: 0.418843\tValidate's binary_logloss: 0.58764\n",
      "[LightGBM] [Warning] No further splits with positive gain, best gain: -inf\n",
      "[373]\tTrain's binary_logloss: 0.418787\tValidate's binary_logloss: 0.58772\n",
      "[LightGBM] [Warning] No further splits with positive gain, best gain: -inf\n",
      "[374]\tTrain's binary_logloss: 0.418212\tValidate's binary_logloss: 0.587463\n",
      "[LightGBM] [Warning] No further splits with positive gain, best gain: -inf\n",
      "[375]\tTrain's binary_logloss: 0.417645\tValidate's binary_logloss: 0.587214\n",
      "[LightGBM] [Warning] No further splits with positive gain, best gain: -inf\n",
      "[376]\tTrain's binary_logloss: 0.417561\tValidate's binary_logloss: 0.587277\n",
      "[LightGBM] [Warning] No further splits with positive gain, best gain: -inf\n",
      "[377]\tTrain's binary_logloss: 0.417004\tValidate's binary_logloss: 0.587036\n",
      "[LightGBM] [Warning] No further splits with positive gain, best gain: -inf\n",
      "[378]\tTrain's binary_logloss: 0.416948\tValidate's binary_logloss: 0.587114\n",
      "[LightGBM] [Warning] No further splits with positive gain, best gain: -inf\n",
      "[379]\tTrain's binary_logloss: 0.416894\tValidate's binary_logloss: 0.587192\n",
      "[LightGBM] [Warning] No further splits with positive gain, best gain: -inf\n",
      "[380]\tTrain's binary_logloss: 0.416867\tValidate's binary_logloss: 0.587186\n",
      "[LightGBM] [Warning] No further splits with positive gain, best gain: -inf\n",
      "[381]\tTrain's binary_logloss: 0.416317\tValidate's binary_logloss: 0.586954\n",
      "[LightGBM] [Warning] No further splits with positive gain, best gain: -inf\n",
      "[382]\tTrain's binary_logloss: 0.416235\tValidate's binary_logloss: 0.587016\n",
      "[LightGBM] [Warning] No further splits with positive gain, best gain: -inf\n",
      "[383]\tTrain's binary_logloss: 0.415695\tValidate's binary_logloss: 0.586792\n",
      "[LightGBM] [Warning] No further splits with positive gain, best gain: -inf\n",
      "[384]\tTrain's binary_logloss: 0.415163\tValidate's binary_logloss: 0.586575\n",
      "[LightGBM] [Warning] No further splits with positive gain, best gain: -inf\n",
      "[385]\tTrain's binary_logloss: 0.415108\tValidate's binary_logloss: 0.586651\n",
      "[LightGBM] [Warning] No further splits with positive gain, best gain: -inf\n",
      "[386]\tTrain's binary_logloss: 0.414584\tValidate's binary_logloss: 0.586442\n",
      "[LightGBM] [Warning] No further splits with positive gain, best gain: -inf\n",
      "[387]\tTrain's binary_logloss: 0.414068\tValidate's binary_logloss: 0.58624\n",
      "[LightGBM] [Warning] No further splits with positive gain, best gain: -inf\n",
      "[388]\tTrain's binary_logloss: 0.41356\tValidate's binary_logloss: 0.586046\n",
      "[LightGBM] [Warning] No further splits with positive gain, best gain: -inf\n",
      "[389]\tTrain's binary_logloss: 0.41348\tValidate's binary_logloss: 0.586108\n",
      "[LightGBM] [Warning] No further splits with positive gain, best gain: -inf\n",
      "[390]\tTrain's binary_logloss: 0.413426\tValidate's binary_logloss: 0.586182\n",
      "[LightGBM] [Warning] No further splits with positive gain, best gain: -inf\n",
      "[391]\tTrain's binary_logloss: 0.413347\tValidate's binary_logloss: 0.586244\n",
      "[LightGBM] [Warning] No further splits with positive gain, best gain: -inf\n",
      "[392]\tTrain's binary_logloss: 0.412847\tValidate's binary_logloss: 0.586058\n",
      "[LightGBM] [Warning] No further splits with positive gain, best gain: -inf\n",
      "[393]\tTrain's binary_logloss: 0.412794\tValidate's binary_logloss: 0.586131\n",
      "[LightGBM] [Warning] No further splits with positive gain, best gain: -inf\n",
      "[394]\tTrain's binary_logloss: 0.412301\tValidate's binary_logloss: 0.585952\n",
      "[LightGBM] [Warning] No further splits with positive gain, best gain: -inf\n",
      "[395]\tTrain's binary_logloss: 0.412224\tValidate's binary_logloss: 0.586014\n",
      "[LightGBM] [Warning] No further splits with positive gain, best gain: -inf\n",
      "[396]\tTrain's binary_logloss: 0.411739\tValidate's binary_logloss: 0.585841\n",
      "[LightGBM] [Warning] No further splits with positive gain, best gain: -inf\n",
      "[397]\tTrain's binary_logloss: 0.411262\tValidate's binary_logloss: 0.585676\n",
      "[LightGBM] [Warning] No further splits with positive gain, best gain: -inf\n",
      "[398]\tTrain's binary_logloss: 0.411209\tValidate's binary_logloss: 0.585748\n",
      "[LightGBM] [Warning] No further splits with positive gain, best gain: -inf\n",
      "[399]\tTrain's binary_logloss: 0.410739\tValidate's binary_logloss: 0.585589\n",
      "[LightGBM] [Warning] No further splits with positive gain, best gain: -inf\n",
      "[400]\tTrain's binary_logloss: 0.410663\tValidate's binary_logloss: 0.585651\n",
      "[LightGBM] [Warning] No further splits with positive gain, best gain: -inf\n",
      "[401]\tTrain's binary_logloss: 0.410611\tValidate's binary_logloss: 0.585722\n",
      "[LightGBM] [Warning] No further splits with positive gain, best gain: -inf\n",
      "[402]\tTrain's binary_logloss: 0.410559\tValidate's binary_logloss: 0.585793\n",
      "[LightGBM] [Warning] No further splits with positive gain, best gain: -inf\n"
     ]
    },
    {
     "name": "stdout",
     "output_type": "stream",
     "text": [
      "[403]\tTrain's binary_logloss: 0.410485\tValidate's binary_logloss: 0.585855\n",
      "[LightGBM] [Warning] No further splits with positive gain, best gain: -inf\n",
      "[404]\tTrain's binary_logloss: 0.410022\tValidate's binary_logloss: 0.585703\n",
      "[LightGBM] [Warning] No further splits with positive gain, best gain: -inf\n",
      "[405]\tTrain's binary_logloss: 0.409971\tValidate's binary_logloss: 0.585773\n",
      "[LightGBM] [Warning] No further splits with positive gain, best gain: -inf\n",
      "[406]\tTrain's binary_logloss: 0.409897\tValidate's binary_logloss: 0.585835\n",
      "[LightGBM] [Warning] No further splits with positive gain, best gain: -inf\n",
      "[407]\tTrain's binary_logloss: 0.409441\tValidate's binary_logloss: 0.58569\n",
      "[LightGBM] [Warning] No further splits with positive gain, best gain: -inf\n",
      "[408]\tTrain's binary_logloss: 0.409391\tValidate's binary_logloss: 0.58576\n",
      "[LightGBM] [Warning] No further splits with positive gain, best gain: -inf\n",
      "[409]\tTrain's binary_logloss: 0.409318\tValidate's binary_logloss: 0.585749\n",
      "[LightGBM] [Warning] No further splits with positive gain, best gain: -inf\n",
      "[410]\tTrain's binary_logloss: 0.409291\tValidate's binary_logloss: 0.585734\n",
      "[LightGBM] [Warning] No further splits with positive gain, best gain: -inf\n",
      "[411]\tTrain's binary_logloss: 0.409241\tValidate's binary_logloss: 0.585804\n",
      "[LightGBM] [Warning] No further splits with positive gain, best gain: -inf\n",
      "[412]\tTrain's binary_logloss: 0.408792\tValidate's binary_logloss: 0.585665\n",
      "[LightGBM] [Warning] No further splits with positive gain, best gain: -inf\n",
      "[413]\tTrain's binary_logloss: 0.408349\tValidate's binary_logloss: 0.585532\n",
      "[LightGBM] [Warning] No further splits with positive gain, best gain: -inf\n",
      "[414]\tTrain's binary_logloss: 0.408277\tValidate's binary_logloss: 0.585594\n",
      "[LightGBM] [Warning] No further splits with positive gain, best gain: -inf\n",
      "[415]\tTrain's binary_logloss: 0.408228\tValidate's binary_logloss: 0.585663\n",
      "[LightGBM] [Warning] No further splits with positive gain, best gain: -inf\n",
      "[416]\tTrain's binary_logloss: 0.407792\tValidate's binary_logloss: 0.585536\n",
      "[LightGBM] [Warning] No further splits with positive gain, best gain: -inf\n",
      "[417]\tTrain's binary_logloss: 0.40772\tValidate's binary_logloss: 0.585525\n",
      "[LightGBM] [Warning] No further splits with positive gain, best gain: -inf\n",
      "[418]\tTrain's binary_logloss: 0.407291\tValidate's binary_logloss: 0.585404\n",
      "[LightGBM] [Warning] No further splits with positive gain, best gain: -inf\n",
      "[419]\tTrain's binary_logloss: 0.407241\tValidate's binary_logloss: 0.585472\n",
      "[LightGBM] [Warning] No further splits with positive gain, best gain: -inf\n",
      "[420]\tTrain's binary_logloss: 0.407171\tValidate's binary_logloss: 0.585462\n",
      "[LightGBM] [Warning] No further splits with positive gain, best gain: -inf\n",
      "[421]\tTrain's binary_logloss: 0.407102\tValidate's binary_logloss: 0.585453\n",
      "[LightGBM] [Warning] No further splits with positive gain, best gain: -inf\n",
      "[422]\tTrain's binary_logloss: 0.407034\tValidate's binary_logloss: 0.585444\n",
      "[LightGBM] [Warning] No further splits with positive gain, best gain: -inf\n",
      "[423]\tTrain's binary_logloss: 0.406968\tValidate's binary_logloss: 0.585436\n",
      "[LightGBM] [Warning] No further splits with positive gain, best gain: -inf\n",
      "[424]\tTrain's binary_logloss: 0.406942\tValidate's binary_logloss: 0.585421\n",
      "[LightGBM] [Warning] No further splits with positive gain, best gain: -inf\n",
      "[425]\tTrain's binary_logloss: 0.406518\tValidate's binary_logloss: 0.585307\n",
      "[LightGBM] [Warning] No further splits with positive gain, best gain: -inf\n",
      "[426]\tTrain's binary_logloss: 0.406101\tValidate's binary_logloss: 0.585198\n",
      "[LightGBM] [Warning] No further splits with positive gain, best gain: -inf\n",
      "[427]\tTrain's binary_logloss: 0.406051\tValidate's binary_logloss: 0.585265\n",
      "[LightGBM] [Warning] No further splits with positive gain, best gain: -inf\n",
      "[428]\tTrain's binary_logloss: 0.406003\tValidate's binary_logloss: 0.585332\n",
      "[LightGBM] [Warning] No further splits with positive gain, best gain: -inf\n",
      "[429]\tTrain's binary_logloss: 0.405591\tValidate's binary_logloss: 0.585229\n",
      "[LightGBM] [Warning] No further splits with positive gain, best gain: -inf\n",
      "[430]\tTrain's binary_logloss: 0.405526\tValidate's binary_logloss: 0.585221\n",
      "[LightGBM] [Warning] No further splits with positive gain, best gain: -inf\n",
      "[431]\tTrain's binary_logloss: 0.405478\tValidate's binary_logloss: 0.585288\n",
      "[LightGBM] [Warning] No further splits with positive gain, best gain: -inf\n",
      "[432]\tTrain's binary_logloss: 0.405451\tValidate's binary_logloss: 0.585271\n",
      "[LightGBM] [Warning] No further splits with positive gain, best gain: -inf\n",
      "[433]\tTrain's binary_logloss: 0.405046\tValidate's binary_logloss: 0.585173\n",
      "[LightGBM] [Warning] No further splits with positive gain, best gain: -inf\n",
      "[434]\tTrain's binary_logloss: 0.404978\tValidate's binary_logloss: 0.585238\n",
      "[LightGBM] [Warning] No further splits with positive gain, best gain: -inf\n",
      "[435]\tTrain's binary_logloss: 0.40493\tValidate's binary_logloss: 0.585304\n",
      "[LightGBM] [Warning] No further splits with positive gain, best gain: -inf\n",
      "[436]\tTrain's binary_logloss: 0.404865\tValidate's binary_logloss: 0.585297\n",
      "[LightGBM] [Warning] No further splits with positive gain, best gain: -inf\n",
      "[437]\tTrain's binary_logloss: 0.404466\tValidate's binary_logloss: 0.585205\n",
      "[LightGBM] [Warning] No further splits with positive gain, best gain: -inf\n",
      "[438]\tTrain's binary_logloss: 0.404073\tValidate's binary_logloss: 0.585118\n",
      "[LightGBM] [Warning] No further splits with positive gain, best gain: -inf\n",
      "[439]\tTrain's binary_logloss: 0.404025\tValidate's binary_logloss: 0.585183\n",
      "[LightGBM] [Warning] No further splits with positive gain, best gain: -inf\n",
      "[440]\tTrain's binary_logloss: 0.403962\tValidate's binary_logloss: 0.585177\n",
      "[LightGBM] [Warning] No further splits with positive gain, best gain: -inf\n",
      "[441]\tTrain's binary_logloss: 0.403574\tValidate's binary_logloss: 0.585095\n",
      "[LightGBM] [Warning] No further splits with positive gain, best gain: -inf\n",
      "[442]\tTrain's binary_logloss: 0.403512\tValidate's binary_logloss: 0.585089\n",
      "[LightGBM] [Warning] No further splits with positive gain, best gain: -inf\n",
      "[443]\tTrain's binary_logloss: 0.403464\tValidate's binary_logloss: 0.585154\n",
      "[LightGBM] [Warning] No further splits with positive gain, best gain: -inf\n",
      "[444]\tTrain's binary_logloss: 0.403403\tValidate's binary_logloss: 0.585148\n",
      "[LightGBM] [Warning] No further splits with positive gain, best gain: -inf\n",
      "[445]\tTrain's binary_logloss: 0.403021\tValidate's binary_logloss: 0.585072\n",
      "[LightGBM] [Warning] No further splits with positive gain, best gain: -inf\n",
      "[446]\tTrain's binary_logloss: 0.40296\tValidate's binary_logloss: 0.585067\n",
      "[LightGBM] [Warning] No further splits with positive gain, best gain: -inf\n",
      "[447]\tTrain's binary_logloss: 0.402902\tValidate's binary_logloss: 0.585062\n",
      "[LightGBM] [Warning] No further splits with positive gain, best gain: -inf\n",
      "[448]\tTrain's binary_logloss: 0.402524\tValidate's binary_logloss: 0.584991\n",
      "[LightGBM] [Warning] No further splits with positive gain, best gain: -inf\n",
      "[449]\tTrain's binary_logloss: 0.402477\tValidate's binary_logloss: 0.585056\n",
      "[LightGBM] [Warning] No further splits with positive gain, best gain: -inf\n",
      "[450]\tTrain's binary_logloss: 0.402105\tValidate's binary_logloss: 0.58499\n",
      "[LightGBM] [Warning] No further splits with positive gain, best gain: -inf\n",
      "[451]\tTrain's binary_logloss: 0.401739\tValidate's binary_logloss: 0.584929\n",
      "[LightGBM] [Warning] No further splits with positive gain, best gain: -inf\n",
      "[452]\tTrain's binary_logloss: 0.401692\tValidate's binary_logloss: 0.584993\n",
      "[LightGBM] [Warning] No further splits with positive gain, best gain: -inf\n",
      "[453]\tTrain's binary_logloss: 0.401331\tValidate's binary_logloss: 0.584936\n",
      "[LightGBM] [Warning] No further splits with positive gain, best gain: -inf\n",
      "[454]\tTrain's binary_logloss: 0.401267\tValidate's binary_logloss: 0.585005\n",
      "[LightGBM] [Warning] No further splits with positive gain, best gain: -inf\n",
      "[455]\tTrain's binary_logloss: 0.401209\tValidate's binary_logloss: 0.585001\n",
      "[LightGBM] [Warning] No further splits with positive gain, best gain: -inf\n",
      "[456]\tTrain's binary_logloss: 0.401162\tValidate's binary_logloss: 0.585064\n",
      "[LightGBM] [Warning] No further splits with positive gain, best gain: -inf\n",
      "[457]\tTrain's binary_logloss: 0.400806\tValidate's binary_logloss: 0.585013\n",
      "[LightGBM] [Warning] No further splits with positive gain, best gain: -inf\n",
      "[458]\tTrain's binary_logloss: 0.400456\tValidate's binary_logloss: 0.584966\n",
      "[LightGBM] [Warning] No further splits with positive gain, best gain: -inf\n",
      "[459]\tTrain's binary_logloss: 0.40011\tValidate's binary_logloss: 0.584925\n",
      "[LightGBM] [Warning] No further splits with positive gain, best gain: -inf\n",
      "[460]\tTrain's binary_logloss: 0.400064\tValidate's binary_logloss: 0.584987\n",
      "[LightGBM] [Warning] No further splits with positive gain, best gain: -inf\n",
      "[461]\tTrain's binary_logloss: 0.399724\tValidate's binary_logloss: 0.584949\n",
      "[LightGBM] [Warning] No further splits with positive gain, best gain: -inf\n",
      "[462]\tTrain's binary_logloss: 0.399388\tValidate's binary_logloss: 0.584917\n",
      "[LightGBM] [Warning] No further splits with positive gain, best gain: -inf\n",
      "[463]\tTrain's binary_logloss: 0.399058\tValidate's binary_logloss: 0.584889\n",
      "[LightGBM] [Warning] No further splits with positive gain, best gain: -inf\n",
      "[464]\tTrain's binary_logloss: 0.398995\tValidate's binary_logloss: 0.584957\n",
      "[LightGBM] [Warning] No further splits with positive gain, best gain: -inf\n",
      "[465]\tTrain's binary_logloss: 0.398949\tValidate's binary_logloss: 0.585018\n",
      "[LightGBM] [Warning] No further splits with positive gain, best gain: -inf\n",
      "[466]\tTrain's binary_logloss: 0.398624\tValidate's binary_logloss: 0.584994\n",
      "[LightGBM] [Warning] No further splits with positive gain, best gain: -inf\n",
      "[467]\tTrain's binary_logloss: 0.398303\tValidate's binary_logloss: 0.584975\n",
      "[LightGBM] [Warning] No further splits with positive gain, best gain: -inf\n",
      "[468]\tTrain's binary_logloss: 0.398241\tValidate's binary_logloss: 0.585043\n",
      "[LightGBM] [Warning] No further splits with positive gain, best gain: -inf\n",
      "[469]\tTrain's binary_logloss: 0.398195\tValidate's binary_logloss: 0.585102\n",
      "[LightGBM] [Warning] No further splits with positive gain, best gain: -inf\n",
      "[470]\tTrain's binary_logloss: 0.398137\tValidate's binary_logloss: 0.585096\n",
      "[LightGBM] [Warning] No further splits with positive gain, best gain: -inf\n",
      "[471]\tTrain's binary_logloss: 0.39808\tValidate's binary_logloss: 0.58509\n",
      "[LightGBM] [Warning] No further splits with positive gain, best gain: -inf\n",
      "[472]\tTrain's binary_logloss: 0.398025\tValidate's binary_logloss: 0.585085\n",
      "[LightGBM] [Warning] No further splits with positive gain, best gain: -inf\n",
      "[473]\tTrain's binary_logloss: 0.397979\tValidate's binary_logloss: 0.585145\n",
      "[LightGBM] [Warning] No further splits with positive gain, best gain: -inf\n",
      "[474]\tTrain's binary_logloss: 0.397924\tValidate's binary_logloss: 0.58514\n",
      "[LightGBM] [Warning] No further splits with positive gain, best gain: -inf\n",
      "[475]\tTrain's binary_logloss: 0.397871\tValidate's binary_logloss: 0.585136\n",
      "[LightGBM] [Warning] No further splits with positive gain, best gain: -inf\n",
      "[476]\tTrain's binary_logloss: 0.397818\tValidate's binary_logloss: 0.585133\n",
      "[LightGBM] [Warning] No further splits with positive gain, best gain: -inf\n",
      "[477]\tTrain's binary_logloss: 0.397767\tValidate's binary_logloss: 0.58513\n",
      "[LightGBM] [Warning] No further splits with positive gain, best gain: -inf\n",
      "[478]\tTrain's binary_logloss: 0.397716\tValidate's binary_logloss: 0.585127\n",
      "[LightGBM] [Warning] No further splits with positive gain, best gain: -inf\n",
      "[479]\tTrain's binary_logloss: 0.397671\tValidate's binary_logloss: 0.585189\n",
      "[LightGBM] [Warning] No further splits with positive gain, best gain: -inf\n",
      "[480]\tTrain's binary_logloss: 0.397644\tValidate's binary_logloss: 0.585168\n",
      "[LightGBM] [Warning] No further splits with positive gain, best gain: -inf\n",
      "[481]\tTrain's binary_logloss: 0.397595\tValidate's binary_logloss: 0.585166\n",
      "[LightGBM] [Warning] No further splits with positive gain, best gain: -inf\n",
      "[482]\tTrain's binary_logloss: 0.397546\tValidate's binary_logloss: 0.585164\n",
      "[LightGBM] [Warning] No further splits with positive gain, best gain: -inf\n",
      "[483]\tTrain's binary_logloss: 0.397501\tValidate's binary_logloss: 0.585226\n",
      "[LightGBM] [Warning] No further splits with positive gain, best gain: -inf\n",
      "[484]\tTrain's binary_logloss: 0.397183\tValidate's binary_logloss: 0.585211\n",
      "[LightGBM] [Warning] No further splits with positive gain, best gain: -inf\n",
      "[485]\tTrain's binary_logloss: 0.397157\tValidate's binary_logloss: 0.58519\n",
      "[LightGBM] [Warning] No further splits with positive gain, best gain: -inf\n",
      "[486]\tTrain's binary_logloss: 0.397112\tValidate's binary_logloss: 0.585251\n",
      "[LightGBM] [Warning] No further splits with positive gain, best gain: -inf\n",
      "[487]\tTrain's binary_logloss: 0.396799\tValidate's binary_logloss: 0.58524\n",
      "[LightGBM] [Warning] No further splits with positive gain, best gain: -inf\n",
      "[488]\tTrain's binary_logloss: 0.39649\tValidate's binary_logloss: 0.585233\n",
      "[LightGBM] [Warning] No further splits with positive gain, best gain: -inf\n",
      "[489]\tTrain's binary_logloss: 0.396186\tValidate's binary_logloss: 0.58523\n",
      "[LightGBM] [Warning] No further splits with positive gain, best gain: -inf\n",
      "[490]\tTrain's binary_logloss: 0.396141\tValidate's binary_logloss: 0.585289\n",
      "[LightGBM] [Warning] No further splits with positive gain, best gain: -inf\n",
      "[491]\tTrain's binary_logloss: 0.396092\tValidate's binary_logloss: 0.585288\n",
      "[LightGBM] [Warning] No further splits with positive gain, best gain: -inf\n",
      "[492]\tTrain's binary_logloss: 0.395792\tValidate's binary_logloss: 0.585289\n",
      "[LightGBM] [Warning] No further splits with positive gain, best gain: -inf\n",
      "[493]\tTrain's binary_logloss: 0.395496\tValidate's binary_logloss: 0.585294\n",
      "[LightGBM] [Warning] No further splits with positive gain, best gain: -inf\n",
      "[494]\tTrain's binary_logloss: 0.395428\tValidate's binary_logloss: 0.585473\n",
      "[LightGBM] [Warning] No further splits with positive gain, best gain: -inf\n",
      "[495]\tTrain's binary_logloss: 0.395379\tValidate's binary_logloss: 0.585472\n",
      "[LightGBM] [Warning] No further splits with positive gain, best gain: -inf\n",
      "[496]\tTrain's binary_logloss: 0.395087\tValidate's binary_logloss: 0.585481\n",
      "[LightGBM] [Warning] No further splits with positive gain, best gain: -inf\n",
      "[497]\tTrain's binary_logloss: 0.3948\tValidate's binary_logloss: 0.585493\n",
      "[LightGBM] [Warning] No further splits with positive gain, best gain: -inf\n",
      "[498]\tTrain's binary_logloss: 0.394731\tValidate's binary_logloss: 0.585673\n",
      "[LightGBM] [Warning] No further splits with positive gain, best gain: -inf\n",
      "[499]\tTrain's binary_logloss: 0.394683\tValidate's binary_logloss: 0.585671\n",
      "[LightGBM] [Warning] No further splits with positive gain, best gain: -inf\n",
      "[500]\tTrain's binary_logloss: 0.394616\tValidate's binary_logloss: 0.585849\n",
      "[LightGBM] [Warning] No further splits with positive gain, best gain: -inf\n",
      "[501]\tTrain's binary_logloss: 0.394549\tValidate's binary_logloss: 0.586027\n",
      "[LightGBM] [Warning] No further splits with positive gain, best gain: -inf\n",
      "[502]\tTrain's binary_logloss: 0.394265\tValidate's binary_logloss: 0.586043\n",
      "[LightGBM] [Warning] No further splits with positive gain, best gain: -inf\n",
      "[503]\tTrain's binary_logloss: 0.394218\tValidate's binary_logloss: 0.586041\n",
      "[LightGBM] [Warning] No further splits with positive gain, best gain: -inf\n",
      "[504]\tTrain's binary_logloss: 0.393937\tValidate's binary_logloss: 0.586061\n",
      "[LightGBM] [Warning] No further splits with positive gain, best gain: -inf\n",
      "[505]\tTrain's binary_logloss: 0.39366\tValidate's binary_logloss: 0.586085\n",
      "[LightGBM] [Warning] No further splits with positive gain, best gain: -inf\n",
      "[506]\tTrain's binary_logloss: 0.393594\tValidate's binary_logloss: 0.586263\n",
      "[LightGBM] [Warning] No further splits with positive gain, best gain: -inf\n",
      "[507]\tTrain's binary_logloss: 0.393547\tValidate's binary_logloss: 0.58626\n",
      "[LightGBM] [Warning] No further splits with positive gain, best gain: -inf\n",
      "[508]\tTrain's binary_logloss: 0.393482\tValidate's binary_logloss: 0.586437\n",
      "[LightGBM] [Warning] No further splits with positive gain, best gain: -inf\n",
      "[509]\tTrain's binary_logloss: 0.393436\tValidate's binary_logloss: 0.586435\n",
      "[LightGBM] [Warning] No further splits with positive gain, best gain: -inf\n",
      "[510]\tTrain's binary_logloss: 0.393371\tValidate's binary_logloss: 0.586611\n",
      "[LightGBM] [Warning] No further splits with positive gain, best gain: -inf\n",
      "[511]\tTrain's binary_logloss: 0.393097\tValidate's binary_logloss: 0.586638\n",
      "[LightGBM] [Warning] No further splits with positive gain, best gain: -inf\n",
      "[512]\tTrain's binary_logloss: 0.393052\tValidate's binary_logloss: 0.586636\n",
      "[LightGBM] [Warning] No further splits with positive gain, best gain: -inf\n",
      "[513]\tTrain's binary_logloss: 0.392988\tValidate's binary_logloss: 0.586812\n",
      "Early stopping, best iteration is:\n",
      "[463]\tTrain's binary_logloss: 0.399058\tValidate's binary_logloss: 0.584889\n"
     ]
    }
   ],
   "source": [
    "model = lgbm.train(train_set = train_set, \n",
    "                   params = lgbm_params,\n",
    "                   num_boost_round = 1000,\n",
    "                   valid_sets = [train_set, validation_set],\n",
    "                   valid_names = ['Train', 'Validate'], \n",
    "                   evals_result = evaluation_results,\n",
    "                   verbose_eval = 1,\n",
    "                   early_stopping_rounds=50,\n",
    "                   )\n",
    "\n",
    "y_pred_proba = model.predict(X_test)\n",
    "y_pred = np.where(y_pred_proba > 0.5, 1, 0)\n",
    "# saving model\n",
    "# dump(model, 'model_lgbm.joblib')  \n",
    "# dump(evaluation_results, 'evaluation_results_lgbm.joblib')"
   ]
  },
  {
   "cell_type": "code",
   "execution_count": 56,
   "metadata": {
    "slideshow": {
     "slide_type": "subslide"
    }
   },
   "outputs": [
    {
     "data": {
      "text/plain": [
       "{'Train': OrderedDict([('binary_logloss',\n",
       "               [0.6886078213421075,\n",
       "                0.684164137209993,\n",
       "                0.6828059785264805,\n",
       "                0.6784722061226739,\n",
       "                0.6771580037000169,\n",
       "                0.6729304327641041,\n",
       "                0.6716585376916088,\n",
       "                0.6704121593034365,\n",
       "                0.666302334796062,\n",
       "                0.6650958614274769,\n",
       "                0.6639134733995409,\n",
       "                0.6627546498850793,\n",
       "                0.6616188831810212,\n",
       "                0.6605056783163934,\n",
       "                0.6594145527571926,\n",
       "                0.6583450357778479,\n",
       "                0.6572966683165528,\n",
       "                0.6562690024232056,\n",
       "                0.6552616011995599,\n",
       "                0.6542740382009723,\n",
       "                0.6533058972314862,\n",
       "                0.6523567721867244,\n",
       "                0.6514262664870075,\n",
       "                0.6475760643063317,\n",
       "                0.6466752843019679,\n",
       "                0.6457921155099233,\n",
       "                0.6420402556608777,\n",
       "                0.6411852058387358,\n",
       "                0.640346820296352,\n",
       "                0.6395247573660285,\n",
       "                0.6387186832676477,\n",
       "                0.637928271833941,\n",
       "                0.6371532043122393,\n",
       "                0.636393169055926,\n",
       "                0.6327805848001631,\n",
       "                0.6292400522458899,\n",
       "                0.6285135306781341,\n",
       "                0.6278010511963947,\n",
       "                0.6271023313441693,\n",
       "                0.6264170948485558,\n",
       "                0.6257450716463718,\n",
       "                0.6250859974478619,\n",
       "                0.6216615170178719,\n",
       "                0.6183045565657425,\n",
       "                0.6176745210396454,\n",
       "                0.6170565898421014,\n",
       "                0.6164505227496981,\n",
       "                0.6158560848293296,\n",
       "                0.6152730462246615,\n",
       "                0.6120146300809495,\n",
       "                0.6114500851026389,\n",
       "                0.610896346018377,\n",
       "                0.610353200392471,\n",
       "                0.6071760632299159,\n",
       "                0.6066501419847161,\n",
       "                0.6061342648092837,\n",
       "                0.6056282353424828,\n",
       "                0.605131861273805,\n",
       "                0.6020379505715828,\n",
       "                0.6015573422772473,\n",
       "                0.6010858902940586,\n",
       "                0.6006234166019588,\n",
       "                0.6001697468664072,\n",
       "                0.5971550914926362,\n",
       "                0.5967158599242007,\n",
       "                0.5962849783552577,\n",
       "                0.5958622853059838,\n",
       "                0.5954476226402504,\n",
       "                0.5950408352152314,\n",
       "                0.5946417712703741,\n",
       "                0.5942502820237903,\n",
       "                0.593866221624663,\n",
       "                0.5934894471981669,\n",
       "                0.5931198187322198,\n",
       "                0.5927571990430481,\n",
       "                0.5898457691729617,\n",
       "                0.5894577047444545,\n",
       "                0.5890769652324672,\n",
       "                0.5862276233791285,\n",
       "                0.5858576542728937,\n",
       "                0.58306568345028,\n",
       "                0.5827383717900618,\n",
       "                0.5800027475299785,\n",
       "                0.5796510816631648,\n",
       "                0.5793060375155384,\n",
       "                0.5766277314249516,\n",
       "                0.5739998604397496,\n",
       "                0.5714212627223154,\n",
       "                0.5710921491029357,\n",
       "                0.5707692207753179,\n",
       "                0.570481513603622,\n",
       "                0.5679590606761538,\n",
       "                0.5676490222510361,\n",
       "                0.565175905587908,\n",
       "                0.5648967161450662,\n",
       "                0.5645988551656734,\n",
       "                0.5643282742335036,\n",
       "                0.5640393928917656,\n",
       "                0.5637771136177739,\n",
       "                0.5634969005256764,\n",
       "                0.5632466788201272,\n",
       "                0.5629750093857476,\n",
       "                0.5627269063562547,\n",
       "                0.5624633252560394,\n",
       "                0.5622272409755772,\n",
       "                0.5619895161684305,\n",
       "                0.5617615907840298,\n",
       "                0.5607298455351853,\n",
       "                0.560507196992262,\n",
       "                0.5594976268121157,\n",
       "                0.5585074523713702,\n",
       "                0.5575362841296849,\n",
       "                0.5551614423326283,\n",
       "                0.5542141062911342,\n",
       "                0.553284918357204,\n",
       "                0.5509644698074397,\n",
       "                0.5486866532588686,\n",
       "                0.5477850248335586,\n",
       "                0.5470855793369076,\n",
       "                0.5463994216970521,\n",
       "                0.5457262910934243,\n",
       "                0.5450659323391952,\n",
       "                0.5428512429009071,\n",
       "                0.5421578106821249,\n",
       "                0.5399869702380055,\n",
       "                0.5393103840368707,\n",
       "                0.5371822876425999,\n",
       "                0.5365220739061368,\n",
       "                0.5358744446310915,\n",
       "                0.5352391499185323,\n",
       "                0.5331590357588258,\n",
       "                0.5325390676946147,\n",
       "                0.531974709292852,\n",
       "                0.5299381412508931,\n",
       "                0.5279380087686752,\n",
       "                0.5273463418650567,\n",
       "                0.5267659018725472,\n",
       "                0.5261964681217266,\n",
       "                0.5242400339872739,\n",
       "                0.5223183397161038,\n",
       "                0.5217652298065822,\n",
       "                0.5212225882033809,\n",
       "                0.5206902103221994,\n",
       "                0.5201678958823774,\n",
       "                0.5196554488036628,\n",
       "                0.5191526771221989,\n",
       "                0.5172788344768788,\n",
       "                0.5154379988898924,\n",
       "                0.5136294921380332,\n",
       "                0.5131433633869672,\n",
       "                0.512666396235812,\n",
       "                0.5121984133192422,\n",
       "                0.5117392409695903,\n",
       "                0.509970057156944,\n",
       "                0.5082317314382286,\n",
       "                0.5077854207914346,\n",
       "                0.5073475006727021,\n",
       "                0.5069178095614911,\n",
       "                0.505214753471119,\n",
       "                0.5047950764494271,\n",
       "                0.5043832769045709,\n",
       "                0.5039792036750821,\n",
       "                0.5023102242218174,\n",
       "                0.5019155425936394,\n",
       "                0.5015282585025722,\n",
       "                0.49989089310494905,\n",
       "                0.4995125800810309,\n",
       "                0.4991413508725946,\n",
       "                0.4987770702788274,\n",
       "                0.498419605794438,\n",
       "                0.4980688275648808,\n",
       "                0.49772460829753806,\n",
       "                0.49738682319651584,\n",
       "                0.4970553499668262,\n",
       "                0.49675474254364027,\n",
       "                0.4964349632937482,\n",
       "                0.4961211547684786,\n",
       "                0.4958132038391287,\n",
       "                0.49553404917847427,\n",
       "                0.4952369521321084,\n",
       "                0.4949453968042816,\n",
       "                0.49465927840419127,\n",
       "                0.4944000375891101,\n",
       "                0.49412399507335164,\n",
       "                0.4938530969595134,\n",
       "                0.4935872461489155,\n",
       "                0.49334649272340264,\n",
       "                0.4930899969163567,\n",
       "                0.4915008576114933,\n",
       "                0.4899389742860463,\n",
       "                0.4896891772360321,\n",
       "                0.48815442700949574,\n",
       "                0.48664586790049497,\n",
       "                0.4851629918598083,\n",
       "                0.48370530254772365,\n",
       "                0.4822723153394081,\n",
       "                0.4820312734733818,\n",
       "                0.48179471487250886,\n",
       "                0.48038656068436936,\n",
       "                0.4790021562547144,\n",
       "                0.47877135918755365,\n",
       "                0.478544852043614,\n",
       "                0.478322554076807,\n",
       "                0.4781043860582541,\n",
       "                0.47674418276980596,\n",
       "                0.4766273942969628,\n",
       "                0.4752974850346189,\n",
       "                0.4739898074945368,\n",
       "                0.4727039470436909,\n",
       "                0.47143949822751186,\n",
       "                0.47122911080905927,\n",
       "                0.4699858456343788,\n",
       "                0.46987135342862213,\n",
       "                0.46966601184663603,\n",
       "                0.46955425644928556,\n",
       "                0.4693532935961616,\n",
       "                0.4681311606525221,\n",
       "                0.46802194604249175,\n",
       "                0.46782575348391997,\n",
       "                0.4677191252502742,\n",
       "                0.4675270878084425,\n",
       "                0.467422974056834,\n",
       "                0.467234989692668,\n",
       "                0.4671333207712221,\n",
       "                0.4659320380312042,\n",
       "                0.4647506009147117,\n",
       "                0.46456744818710166,\n",
       "                0.4634055335172348,\n",
       "                0.46330583539183673,\n",
       "                0.46312691832614367,\n",
       "                0.46198421559709935,\n",
       "                0.46188669199103516,\n",
       "                0.4617118800642301,\n",
       "                0.4605880109473123,\n",
       "                0.46049259645441065,\n",
       "                0.46032176369807387,\n",
       "                0.46022854489763826,\n",
       "                0.4600612611212829,\n",
       "                0.45997017857643213,\n",
       "                0.4598063585761829,\n",
       "                0.45870096436401553,\n",
       "                0.4586118074817483,\n",
       "                0.45845166634402135,\n",
       "                0.4583645348066026,\n",
       "                0.45727723488273586,\n",
       "                0.45620770543909095,\n",
       "                0.45605138383127725,\n",
       "                0.4549992220778397,\n",
       "                0.4549135869492196,\n",
       "                0.4538785862913708,\n",
       "                0.4528604184737835,\n",
       "                0.4518587835927071,\n",
       "                0.4517064679225634,\n",
       "                0.450720951538713,\n",
       "                0.4497513872350868,\n",
       "                0.449602164220154,\n",
       "                0.4495178785374413,\n",
       "                0.4493717123573845,\n",
       "                0.448417552497255,\n",
       "                0.4474787890051577,\n",
       "                0.44739604645384545,\n",
       "                0.44647242621564076,\n",
       "                0.446329523357193,\n",
       "                0.4454205927110413,\n",
       "                0.44533934653082147,\n",
       "                0.4451994147372912,\n",
       "                0.44511996584553326,\n",
       "                0.4449828776346273,\n",
       "                0.44490517941681695,\n",
       "                0.4440105102239387,\n",
       "                0.44387623861164827,\n",
       "                0.44380007275348504,\n",
       "                0.4429195586879945,\n",
       "                0.44278802295685027,\n",
       "                0.44271334828974673,\n",
       "                0.4425844629888399,\n",
       "                0.441717632630073,\n",
       "                0.4416444086099787,\n",
       "                0.4415181182215415,\n",
       "                0.4414464827653892,\n",
       "                0.4413227227743359,\n",
       "                0.4404692969954763,\n",
       "                0.44039903008076625,\n",
       "                0.44027775151025217,\n",
       "                0.4402090084433717,\n",
       "                0.4400901630767885,\n",
       "                0.43924126887508586,\n",
       "                0.4384059294918626,\n",
       "                0.4383381889345015,\n",
       "                0.43822150570650276,\n",
       "                0.4381552155597276,\n",
       "                0.43805603005916516,\n",
       "                0.4379910489387099,\n",
       "                0.43789377060481266,\n",
       "                0.4377982971864106,\n",
       "                0.4377045949943249,\n",
       "                0.4376126309588252,\n",
       "                0.43752237264402255,\n",
       "                0.4374587030875789,\n",
       "                0.43663538313892647,\n",
       "                0.43582517044174496,\n",
       "                0.43502783737588085,\n",
       "                0.43493955934048817,\n",
       "                0.43485291766070444,\n",
       "                0.4340679344549851,\n",
       "                0.4332953932527217,\n",
       "                0.43321046838899663,\n",
       "                0.43312711705467044,\n",
       "                0.43304530988209916,\n",
       "                0.4329650179771248,\n",
       "                0.432886213107719,\n",
       "                0.432854011576198,\n",
       "                0.4320932712310915,\n",
       "                0.43134455322550047,\n",
       "                0.43126692231999414,\n",
       "                0.4311907292245082,\n",
       "                0.4311591182027744,\n",
       "                0.4310839846048588,\n",
       "                0.4303469407267531,\n",
       "                0.430315900701253,\n",
       "                0.43024180528698136,\n",
       "                0.43021099251033457,\n",
       "                0.43014599224672734,\n",
       "                0.4294211210910422,\n",
       "                0.4287076561314013,\n",
       "                0.42863459195051984,\n",
       "                0.42856288182964936,\n",
       "                0.42853239859347053,\n",
       "                0.4278640466346859,\n",
       "                0.4277932343668745,\n",
       "                0.42713540895698543,\n",
       "                0.4270658430956428,\n",
       "                0.4270360694017692,\n",
       "                0.4269674013863879,\n",
       "                0.4269378054143291,\n",
       "                0.42687001486470727,\n",
       "                0.42684058944479375,\n",
       "                0.4267736565014504,\n",
       "                0.4267443948170357,\n",
       "                0.42609765154947477,\n",
       "                0.42546132732476943,\n",
       "                0.4253950505627503,\n",
       "                0.4253300049224535,\n",
       "                0.4247033879723533,\n",
       "                0.42463944261557807,\n",
       "                0.4240226384962315,\n",
       "                0.42399436994801926,\n",
       "                0.42393107052316437,\n",
       "                0.4239029274993432,\n",
       "                0.42384037826593685,\n",
       "                0.423233648458556,\n",
       "                0.42263668009596284,\n",
       "                0.4225750225553946,\n",
       "                0.42251451193235434,\n",
       "                0.4219265679572244,\n",
       "                0.4218988616389494,\n",
       "                0.421838886674351,\n",
       "                0.4218112844764106,\n",
       "                0.42123318345142835,\n",
       "                0.421173721968068,\n",
       "                0.42111536778431885,\n",
       "                0.42102584908138235,\n",
       "                0.4204221351025318,\n",
       "                0.4203645821764066,\n",
       "                0.4197699792850653,\n",
       "                0.41918458164441375,\n",
       "                0.41909745106924184,\n",
       "                0.41904054977705857,\n",
       "                0.41901301016853126,\n",
       "                0.41895671877300406,\n",
       "                0.4189292781362283,\n",
       "                0.41884333550710107,\n",
       "                0.41878745892889985,\n",
       "                0.4182119049260247,\n",
       "                0.4176452376277834,\n",
       "                0.4175612354000215,\n",
       "                0.4170037145380269,\n",
       "                0.4169482964447051,\n",
       "                0.4168939116677689,\n",
       "                0.41686655215174634,\n",
       "                0.4163174395321546,\n",
       "                0.41623502872430895,\n",
       "                0.41569475281167084,\n",
       "                0.41516277546070784,\n",
       "                0.4151083257049909,\n",
       "                0.41458425258576675,\n",
       "                0.41406820878843686,\n",
       "                0.41356006107527066,\n",
       "                0.4134800652323036,\n",
       "                0.4134259622945238,\n",
       "                0.4133472395541008,\n",
       "                0.4128473117727367,\n",
       "                0.4127938544087496,\n",
       "                0.41230129841491386,\n",
       "                0.41222419149566986,\n",
       "                0.4117394808702078,\n",
       "                0.4112621493773211,\n",
       "                0.4112089767323288,\n",
       "                0.41073864366676427,\n",
       "                0.41066324321559566,\n",
       "                0.41061067783989796,\n",
       "                0.41055909435921795,\n",
       "                0.4104845846226449,\n",
       "                0.41002150837202617,\n",
       "                0.40997050086935877,\n",
       "                0.40989729850887374,\n",
       "                0.4094412915063729,\n",
       "                0.4093908447110416,\n",
       "                0.4093179892913133,\n",
       "                0.4092910667901672,\n",
       "                0.4092410003688373,\n",
       "                0.4087915519551424,\n",
       "                0.40834890370990656,\n",
       "                0.40827742132601075,\n",
       "                0.4082277084548923,\n",
       "                0.4077917828844607,\n",
       "                0.40772021104471334,\n",
       "                0.4072907391650837,\n",
       "                0.4072414683634264,\n",
       "                0.40717106952818233,\n",
       "                0.407102076637934,\n",
       "                0.4070344614085314,\n",
       "                0.40696819612604657,\n",
       "                0.4069416366677432,\n",
       "                0.4065181453780289,\n",
       "                0.40610102774723567,\n",
       "                0.4060513779194973,\n",
       "                0.4060026540212518,\n",
       "                0.4055912839055819,\n",
       "                0.40552566945736496,\n",
       "                0.40547753754003985,\n",
       "                0.40545094721769814,\n",
       "                0.4050456461780041,\n",
       "                0.4049776565682139,\n",
       "                0.40492955893664023,\n",
       "                0.4048653912656617,\n",
       "                0.4044660675963247,\n",
       "                0.4040727250870827,\n",
       "                0.4040249925818804,\n",
       "                0.4039616520868558,\n",
       "                0.4035737945180527,\n",
       "                0.40351152526465073,\n",
       "                0.40346424269876563,\n",
       "                0.40340313570525144,\n",
       "                0.4030205322772481,\n",
       "                0.40296045055725116,\n",
       "                0.40290156226894475,\n",
       "                0.40252438411555036,\n",
       "                0.402477198281197,\n",
       "                0.40210538292959214,\n",
       "                0.40173910415195474,\n",
       "                0.40169235085617466,\n",
       "                0.4013312605007785,\n",
       "                0.4012668752210774,\n",
       "                0.4012086427015455,\n",
       "                0.40116224068641976,\n",
       "                0.4008064061433907,\n",
       "                0.40045585168339365,\n",
       "                0.4001104926296139,\n",
       "                0.40006427018531243,\n",
       "                0.3997237658169117,\n",
       "                0.3993882963500584,\n",
       "                0.399057781268664,\n",
       "                0.39899537045183464,\n",
       "                0.3989491292190984,\n",
       "                0.3986235055678697,\n",
       "                0.39830267922032553,\n",
       "                0.39824147853555747,\n",
       "                0.3981954433237166,\n",
       "                0.39813739252780417,\n",
       "                0.3980804892673938,\n",
       "                0.39802471066335143,\n",
       "                0.39797920380600715,\n",
       "                0.3979244547509682,\n",
       "                0.39787078741507775,\n",
       "                0.39781818026172117,\n",
       "                0.397766612154498,\n",
       "                0.39771606242745544,\n",
       "                0.3976708330262044,\n",
       "                0.3976444773026707,\n",
       "                0.3975948781728498,\n",
       "                0.39754625814882627,\n",
       "                0.3975011619633482,\n",
       "                0.39718312173666204,\n",
       "                0.39715710833319456,\n",
       "                0.39711213704263315,\n",
       "                0.39679879734707485,\n",
       "                0.396490060632827,\n",
       "                0.3961858537807443,\n",
       "                0.39614099015948717,\n",
       "                0.39609240012648994,\n",
       "                0.3957922510556598,\n",
       "                0.3954964963533671,\n",
       "                0.39542751108559243,\n",
       "                0.39537938032905295,\n",
       "                0.3950874719416962,\n",
       "                0.39479982824161497,\n",
       "                0.3947310888306418,\n",
       "                0.394683408844896,\n",
       "                0.39461574268776606,\n",
       "                0.3945493286578276,\n",
       "                0.39426475827000645,\n",
       "                0.39421755443975415,\n",
       "                0.3939369829824671,\n",
       "                0.39366049940068065,\n",
       "                0.3935938810197565,\n",
       "                0.39354710843120794,\n",
       "                0.39348152346540394,\n",
       "                0.39343552857142705,\n",
       "                0.3933709569508387,\n",
       "                0.39309723642984096,\n",
       "                0.3930518250171437,\n",
       "                0.3929878411020226])]),\n",
       " 'Validate': OrderedDict([('binary_logloss',\n",
       "               [0.6890847372376352,\n",
       "                0.685117511824292,\n",
       "                0.6849705399075716,\n",
       "                0.6811116551732362,\n",
       "                0.6809866910901046,\n",
       "                0.6772324068586388,\n",
       "                0.6771283702214891,\n",
       "                0.677038273794463,\n",
       "                0.673399064916444,\n",
       "                0.6733282521227563,\n",
       "                0.6732703487522879,\n",
       "                0.6732249728504145,\n",
       "                0.6731917528496159,\n",
       "                0.6731703271508399,\n",
       "                0.6731603439964935,\n",
       "                0.673161460937565,\n",
       "                0.6731733446681938,\n",
       "                0.6731956707138084,\n",
       "                0.6732281232549014,\n",
       "                0.6732703947032326,\n",
       "                0.6733221854916783,\n",
       "                0.6733832041149352,\n",
       "                0.6734531663838156,\n",
       "                0.6700606015252213,\n",
       "                0.6701424856132262,\n",
       "                0.670232614752593,\n",
       "                0.6669357704761271,\n",
       "                0.667036779150687,\n",
       "                0.6671453810425902,\n",
       "                0.6672613347877522,\n",
       "                0.6673844052350248,\n",
       "                0.667514363130399,\n",
       "                0.6676509851078323,\n",
       "                0.6677940533580099,\n",
       "                0.6646306342820835,\n",
       "                0.661537891564776,\n",
       "                0.661691045096536,\n",
       "                0.6618499942192836,\n",
       "                0.6620145436142854,\n",
       "                0.662184502845786,\n",
       "                0.6623596862557678,\n",
       "                0.6625399127447689,\n",
       "                0.6595583881219318,\n",
       "                0.6566429270321873,\n",
       "                0.6568304097776564,\n",
       "                0.6570223958350722,\n",
       "                0.6572187225351475,\n",
       "                0.6574192314363699,\n",
       "                0.6576237680340231,\n",
       "                0.6548028145555614,\n",
       "                0.6550119110127829,\n",
       "                0.6552246556200677,\n",
       "                0.6554409073422548,\n",
       "                0.6526982846707459,\n",
       "                0.6529183115796775,\n",
       "                0.6531414996829732,\n",
       "                0.6533677202867612,\n",
       "                0.6535968478755314,\n",
       "                0.6509341172472787,\n",
       "                0.6511661088006485,\n",
       "                0.6514006999884586,\n",
       "                0.651637776249489,\n",
       "                0.6518772258874768,\n",
       "                0.6492905064463075,\n",
       "                0.6495320064850166,\n",
       "                0.6497756070306924,\n",
       "                0.6500212062964075,\n",
       "                0.6502687050350887,\n",
       "                0.6505180063555368,\n",
       "                0.6507690159348815,\n",
       "                0.651021641799516,\n",
       "                0.6512757942488946,\n",
       "                0.6515313858458163,\n",
       "                0.6517883314144143,\n",
       "                0.652046547917551,\n",
       "                0.6495574012381135,\n",
       "                0.6496032153116941,\n",
       "                0.6496519820473317,\n",
       "                0.6472213419196152,\n",
       "                0.6472733485189104,\n",
       "                0.6448975061260273,\n",
       "                0.6451606175532689,\n",
       "                0.6428391608069174,\n",
       "                0.6428962436131047,\n",
       "                0.6429558592249612,\n",
       "                0.6406884098022962,\n",
       "                0.6384698514300357,\n",
       "                0.6362990666683191,\n",
       "                0.6363617846520909,\n",
       "                0.636426786469066,\n",
       "                0.6366934720079601,\n",
       "                0.6345754216645663,\n",
       "                0.6346440853319125,\n",
       "                0.6325731609293578,\n",
       "                0.6324199206348172,\n",
       "                0.6324935467060216,\n",
       "                0.6323458151460842,\n",
       "                0.63242402612537,\n",
       "                0.6322815456714889,\n",
       "                0.6323640947145932,\n",
       "                0.6326389388646606,\n",
       "                0.6327240570846913,\n",
       "                0.6325884430648041,\n",
       "                0.6326774848120182,\n",
       "                0.6329556484088479,\n",
       "                0.6328254367870593,\n",
       "                0.6329816442275953,\n",
       "                0.6327341511752915,\n",
       "                0.6330150314164869,\n",
       "                0.6327822873491831,\n",
       "                0.6325619074031567,\n",
       "                0.6323535811740408,\n",
       "                0.6303761606358694,\n",
       "                0.6301833290067876,\n",
       "                0.630001864536534,\n",
       "                0.6280761969764248,\n",
       "                0.6261916987115652,\n",
       "                0.6260282979430309,\n",
       "                0.6260044045376134,\n",
       "                0.625987584245936,\n",
       "                0.625977641465325,\n",
       "                0.6259743850378102,\n",
       "                0.6241440737205725,\n",
       "                0.624355348655442,\n",
       "                0.6225670086826463,\n",
       "                0.6227836852830763,\n",
       "                0.6210362647508273,\n",
       "                0.6212580715287648,\n",
       "                0.6214837622724929,\n",
       "                0.6217131876401139,\n",
       "                0.6200109605360916,\n",
       "                0.6202448766719767,\n",
       "                0.6202792156143923,\n",
       "                0.6186173419124107,\n",
       "                0.6169907341153344,\n",
       "                0.6172319749503005,\n",
       "                0.6174762935888443,\n",
       "                0.6177235607585931,\n",
       "                0.616138162137371,\n",
       "                0.6145863949197135,\n",
       "                0.6148378166528037,\n",
       "                0.6150918680365514,\n",
       "                0.6153484308937217,\n",
       "                0.6156073899973639,\n",
       "                0.6158686330152705,\n",
       "                0.616132050490841,\n",
       "                0.6146246197062015,\n",
       "                0.6131491452230642,\n",
       "                0.6117049739133226,\n",
       "                0.6119717791848223,\n",
       "                0.6122404602714208,\n",
       "                0.6125109178104995,\n",
       "                0.6127830550043759,\n",
       "                0.611375769380228,\n",
       "                0.6099983650120044,\n",
       "                0.610272696820372,\n",
       "                0.6105484709673815,\n",
       "                0.6108255990718168,\n",
       "                0.6094815196056201,\n",
       "                0.609760132539744,\n",
       "                0.6100399062261921,\n",
       "                0.6103207594557986,\n",
       "                0.6090088949894501,\n",
       "                0.6092908875762997,\n",
       "                0.6095737824045688,\n",
       "                0.608292033862052,\n",
       "                0.6085758462535681,\n",
       "                0.608860393896394,\n",
       "                0.609145606567177,\n",
       "                0.6094314158352474,\n",
       "                0.6097177551576806,\n",
       "                0.6100045596758744,\n",
       "                0.6102917662869729,\n",
       "                0.6105793135504073,\n",
       "                0.6106938791788324,\n",
       "                0.610981550025755,\n",
       "                0.6112693964376779,\n",
       "                0.611557363119484,\n",
       "                0.611677529632685,\n",
       "                0.611965237499974,\n",
       "                0.6122529173536713,\n",
       "                0.6125405194553796,\n",
       "                0.6126653870361929,\n",
       "                0.6129523877385001,\n",
       "                0.6132391777072451,\n",
       "                0.61352571242716,\n",
       "                0.6136544623602312,\n",
       "                0.6139400895498011,\n",
       "                0.6127002211943251,\n",
       "                0.6114867600014471,\n",
       "                0.611771420159756,\n",
       "                0.610584279343092,\n",
       "                0.6094225139860736,\n",
       "                0.6082856309069211,\n",
       "                0.6071731480780018,\n",
       "                0.6060845945859994,\n",
       "                0.6063673918314596,\n",
       "                0.6066496799687044,\n",
       "                0.6055852921788032,\n",
       "                0.6045439095378456,\n",
       "                0.6048250882954558,\n",
       "                0.6051056743237996,\n",
       "                0.6053856343228179,\n",
       "                0.6056649359844296,\n",
       "                0.6046472736471155,\n",
       "                0.6046967898661938,\n",
       "                0.603725439318247,\n",
       "                0.6027753582655055,\n",
       "                0.6018461486472146,\n",
       "                0.6009374209689581,\n",
       "                0.6012147112003516,\n",
       "                0.6003263248055128,\n",
       "                0.6003792357026703,\n",
       "                0.600655676754912,\n",
       "                0.6007092667979963,\n",
       "                0.6009851116936298,\n",
       "                0.6001180329141858,\n",
       "                0.6001727411050618,\n",
       "                0.6004476001397552,\n",
       "                0.6005028785773573,\n",
       "                0.600777032556095,\n",
       "                0.6008328361597589,\n",
       "                0.6011062394115781,\n",
       "                0.6011625250653446,\n",
       "                0.6003173523578788,\n",
       "                0.5994911244608697,\n",
       "                0.5997630008257043,\n",
       "                0.5989554824420601,\n",
       "                0.599013527915768,\n",
       "                0.5992841886838511,\n",
       "                0.5984954880232897,\n",
       "                0.5985543326523151,\n",
       "                0.5988237297204347,\n",
       "                0.5980534675649178,\n",
       "                0.5981130543753462,\n",
       "                0.5983811431914947,\n",
       "                0.5984410088112649,\n",
       "                0.5987081153967528,\n",
       "                0.5987682264598865,\n",
       "                0.5990343184471594,\n",
       "                0.5982830295338529,\n",
       "                0.59834374506641,\n",
       "                0.5986084052521359,\n",
       "                0.5986692953907778,\n",
       "                0.5979360295267987,\n",
       "                0.5972196816911158,\n",
       "                0.5974825016364714,\n",
       "                0.5967827666293164,\n",
       "                0.5968449271049002,\n",
       "                0.5961618566392033,\n",
       "                0.5954947952997022,\n",
       "                0.5948434530958973,\n",
       "                0.5951037294496084,\n",
       "                0.5944678053420727,\n",
       "                0.5938470397039041,\n",
       "                0.5941054900042724,\n",
       "                0.594169501479506,\n",
       "                0.5944267688229442,\n",
       "                0.5938211573139074,\n",
       "                0.5932301642647354,\n",
       "                0.5932949293401205,\n",
       "                0.592718606386436,\n",
       "                0.5929737206954022,\n",
       "                0.5924114456483625,\n",
       "                0.5924769184447723,\n",
       "                0.5927304964430985,\n",
       "                0.5927959201673713,\n",
       "                0.593048240912273,\n",
       "                0.5931135948797652,\n",
       "                0.59256591856929,\n",
       "                0.592816662763092,\n",
       "                0.5928822708318732,\n",
       "                0.5923483870305752,\n",
       "                0.5925975412123723,\n",
       "                0.5926633741620821,\n",
       "                0.5929112167423807,\n",
       "                0.592390782053509,\n",
       "                0.592456812499968,\n",
       "                0.5927030345261516,\n",
       "                0.5927689037717685,\n",
       "                0.5930137849639249,\n",
       "                0.5925067713043711,\n",
       "                0.5925719025779503,\n",
       "                0.5928151424273698,\n",
       "                0.5928802079369138,\n",
       "                0.5931220851871332,\n",
       "                0.5926058470844066,\n",
       "                0.5921025480998117,\n",
       "                0.5921680956369233,\n",
       "                0.5924081681180468,\n",
       "                0.5924736073610292,\n",
       "                0.5925889525581034,\n",
       "                0.5926542596092274,\n",
       "                0.5927697971075828,\n",
       "                0.5928851668619015,\n",
       "                0.593000352833317,\n",
       "                0.5931153394099036,\n",
       "                0.593230111469003,\n",
       "                0.593294900374447,\n",
       "                0.5928031272252734,\n",
       "                0.5923238631567868,\n",
       "                0.5918568840900537,\n",
       "                0.5919694047019063,\n",
       "                0.5920816957965223,\n",
       "                0.5916262388313899,\n",
       "                0.5911826423951895,\n",
       "                0.5912931604732594,\n",
       "                0.5914034339411809,\n",
       "                0.5915134497200236,\n",
       "                0.5916231950773206,\n",
       "                0.5917326577650066,\n",
       "                0.5917631853380303,\n",
       "                0.5913299385660812,\n",
       "                0.5909081553765236,\n",
       "                0.5910151284574252,\n",
       "                0.5911218186575724,\n",
       "                0.5911489459701131,\n",
       "                0.5912546645717457,\n",
       "                0.5908433919685059,\n",
       "                0.5908688868727956,\n",
       "                0.5909729142647422,\n",
       "                0.5909972453240114,\n",
       "                0.5910627466525126,\n",
       "                0.5906625136778585,\n",
       "                0.5902731490760358,\n",
       "                0.5903751003430306,\n",
       "                0.5904767718002053,\n",
       "                0.5904981380290708,\n",
       "                0.5900632413358584,\n",
       "                0.5901629800666306,\n",
       "                0.5897382708908394,\n",
       "                0.5898367229985849,\n",
       "                0.5898545910997115,\n",
       "                0.5899521584844409,\n",
       "                0.589968977387585,\n",
       "                0.5900656692926131,\n",
       "                0.5900814542100855,\n",
       "                0.5901772798566449,\n",
       "                0.590192045951813,\n",
       "                0.5897766142624847,\n",
       "                0.5893713696172765,\n",
       "                0.589464342832451,\n",
       "                0.5895570576694448,\n",
       "                0.5891611260001928,\n",
       "                0.58925258474426,\n",
       "                0.5888661512562393,\n",
       "                0.588875293941035,\n",
       "                0.5889649715518347,\n",
       "                0.5889732036989141,\n",
       "                0.5890621025827926,\n",
       "                0.5886848208446925,\n",
       "                0.5883170449121428,\n",
       "                0.5884037366537703,\n",
       "                0.5884901857644614,\n",
       "                0.5881310801488393,\n",
       "                0.5881345266766412,\n",
       "                0.588219275759009,\n",
       "                0.5882219081000073,\n",
       "                0.5878718129468042,\n",
       "                0.5879548842550454,\n",
       "                0.5880377270907472,\n",
       "                0.5881007298133774,\n",
       "                0.587817154900086,\n",
       "                0.5878994157202467,\n",
       "                0.5876244332987512,\n",
       "                0.5873581226645478,\n",
       "                0.5874210943782893,\n",
       "                0.5875021470727996,\n",
       "                0.587499908079654,\n",
       "                0.5875802946388962,\n",
       "                0.587577345128673,\n",
       "                0.5876402695404858,\n",
       "                0.5877202555642839,\n",
       "                0.5874628327471967,\n",
       "                0.5872137657660371,\n",
       "                0.5872766693453018,\n",
       "                0.5870362588869221,\n",
       "                0.5871144437672653,\n",
       "                0.5871924073881927,\n",
       "                0.5871863993070131,\n",
       "                0.5869536479097948,\n",
       "                0.5870163422059264,\n",
       "                0.5867919312310081,\n",
       "                0.5865752904278008,\n",
       "                0.5866510984827141,\n",
       "                0.5864418892702088,\n",
       "                0.5862401855370495,\n",
       "                0.5860458554646653,\n",
       "                0.5861079268044431,\n",
       "                0.5861820212998217,\n",
       "                0.5862442890624875,\n",
       "                0.58605773266327,\n",
       "                0.5861312719885003,\n",
       "                0.5859516319914987,\n",
       "                0.5860137017163799,\n",
       "                0.5858413792924222,\n",
       "                0.585675910977515,\n",
       "                0.5857477837483331,\n",
       "                0.585588872951314,\n",
       "                0.5856505027544419,\n",
       "                0.5857218293862951,\n",
       "                0.5857929720090088,\n",
       "                0.5858547985343496,\n",
       "                0.5857027601071564,\n",
       "                0.585773351319681,\n",
       "                0.5858351187086135,\n",
       "                0.5856896941719001,\n",
       "                0.5857597316569063,\n",
       "                0.585748806826621,\n",
       "                0.5857344205595769,\n",
       "                0.5858041978076459,\n",
       "                0.5856648724125084,\n",
       "                0.5855318296298689,\n",
       "                0.5855938559213093,\n",
       "                0.5856625623218412,\n",
       "                0.5855357916871212,\n",
       "                0.5855250610942709,\n",
       "                0.5854043923870198,\n",
       "                0.5854721357227267,\n",
       "                0.5854620304175012,\n",
       "                0.585452708169448,\n",
       "                0.5854441476440131,\n",
       "                0.5854363280057397,\n",
       "                0.5854213234501676,\n",
       "                0.585306604767896,\n",
       "                0.5851977507634555,\n",
       "                0.5852649761688559,\n",
       "                0.5853320241373675,\n",
       "                0.5852286332729691,\n",
       "                0.5852212160310514,\n",
       "                0.5852878307681945,\n",
       "                0.5852705226033621,\n",
       "                0.5851726999810718,\n",
       "                0.5852384996721638,\n",
       "                0.5853043397991102,\n",
       "                0.5852971689811841,\n",
       "                0.5852050415077127,\n",
       "                0.5851183936758722,\n",
       "                0.585183348899308,\n",
       "                0.5851765619594852,\n",
       "                0.5850951922309037,\n",
       "                0.5850889661597811,\n",
       "                0.5851537591729307,\n",
       "                0.5851481190934329,\n",
       "                0.5850719695865989,\n",
       "                0.5850668556651535,\n",
       "                0.5850623720957082,\n",
       "                0.5849914898692791,\n",
       "                0.5850558941905483,\n",
       "                0.5849900071225921,\n",
       "                0.5849291625157537,\n",
       "                0.5849925046096671,\n",
       "                0.5849364889025819,\n",
       "                0.585005477565534,\n",
       "                0.5850005579883997,\n",
       "                0.5850636938549524,\n",
       "                0.5850126498819991,\n",
       "                0.5849663933186213,\n",
       "                0.5849248403673236,\n",
       "                0.5849865213269084,\n",
       "                0.5849494776597404,\n",
       "                0.584916979174512,\n",
       "                0.5848889462788502,\n",
       "                0.5849573017314332,\n",
       "                0.5850177249072979,\n",
       "                0.5849941293853985,\n",
       "                0.5849748428131604,\n",
       "                0.5850426935708217,\n",
       "                0.5851022943135861,\n",
       "                0.5850958934227257,\n",
       "                0.5850901156744626,\n",
       "                0.5850849438339748,\n",
       "                0.5851451501093764,\n",
       "                0.5851404892396758,\n",
       "                0.5851364025708414,\n",
       "                0.5851328739784378,\n",
       "                0.5851298876801531,\n",
       "                0.5851274282821299,\n",
       "                0.5851886525807634,\n",
       "                0.5851676837743548,\n",
       "                0.5851657948807707,\n",
       "                0.5851644028291749,\n",
       "                0.5852256614490887,\n",
       "                0.5852106696124744,\n",
       "                0.5851900894946195,\n",
       "                0.5852505471405652,\n",
       "                0.5852396427348544,\n",
       "                0.585232856566983,\n",
       "                0.5852301162873554,\n",
       "                0.5852892604694621,\n",
       "                0.5852877219970338,\n",
       "                0.585288893807036,\n",
       "                0.585293977285714,\n",
       "                0.5854733476267399,\n",
       "                0.5854717168982154,\n",
       "                0.5854806904154641,\n",
       "                0.5854934452503157,\n",
       "                0.5856726625510461,\n",
       "                0.5856709296623668,\n",
       "                0.5858493651651752,\n",
       "                0.5860265661231571,\n",
       "                0.586043127331991,\n",
       "                0.5860410733523257,\n",
       "                0.5860613282412912,\n",
       "                0.5860851834280414,\n",
       "                0.5862625812277953,\n",
       "                0.5862604058646763,\n",
       "                0.5864370280282584,\n",
       "                0.5864349868584786,\n",
       "                0.5866108308366487,\n",
       "                0.5866383583382848,\n",
       "                0.5866363081851765,\n",
       "                0.5868117073055642])])}"
      ]
     },
     "execution_count": 56,
     "metadata": {},
     "output_type": "execute_result"
    }
   ],
   "source": [
    "evaluation_results"
   ]
  },
  {
   "cell_type": "code",
   "execution_count": 57,
   "metadata": {
    "slideshow": {
     "slide_type": "subslide"
    }
   },
   "outputs": [
    {
     "data": {
      "image/png": "[encoded data removed]",
      "text/plain": [
       "<Figure size 432x288 with 1 Axes>"
      ]
     },
     "metadata": {
      "needs_background": "light"
     },
     "output_type": "display_data"
    }
   ],
   "source": [
    "plt.plot([index for index in range(len(evaluation_results[\"Train\"][\"binary_logloss\"]))],\n",
    "         evaluation_results[\"Train\"][\"binary_logloss\"], label=\"Train binary_logloss\")\n",
    "plt.plot([index for index in range(len(evaluation_results[\"Validate\"][\"binary_logloss\"]))],\n",
    "         evaluation_results[\"Validate\"][\"binary_logloss\"], label=\"Validate binary_logloss\")\n",
    "plt.legend();"
   ]
  },
  {
   "cell_type": "code",
   "execution_count": 58,
   "metadata": {
    "slideshow": {
     "slide_type": "subslide"
    }
   },
   "outputs": [
    {
     "name": "stdout",
     "output_type": "stream",
     "text": [
      "Confusion Matrix:\n",
      " [[17  6]\n",
      " [12 32]] \n",
      "Accuracy: 73.13 % \n",
      "Precision: 84.21 % \n",
      "Recall: 72.73 % \n",
      "F1: 78.05 %\n"
     ]
    }
   ],
   "source": [
    "print(\"Confusion Matrix:\\n\", confusion_matrix(y_test, y_pred),\n",
    "      \"\\nAccuracy:\", round(accuracy_score(y_test, y_pred) * 100, 2), \"%\",\n",
    "      \"\\nPrecision:\", round(precision_score(y_test, y_pred) * 100, 2), \"%\",\n",
    "      \"\\nRecall:\", round(recall_score(y_test, y_pred) * 100, 2), \"%\",      \n",
    "      \"\\nF1:\", round(f1_score(y_test, y_pred) * 100, 2), \"%\")"
   ]
  },
  {
   "cell_type": "markdown",
   "metadata": {
    "slideshow": {
     "slide_type": "subslide"
    }
   },
   "source": [
    "### CatBoost"
   ]
  },
  {
   "cell_type": "code",
   "execution_count": 59,
   "metadata": {
    "slideshow": {
     "slide_type": "-"
    }
   },
   "outputs": [],
   "source": [
    "#!pip install catboost"
   ]
  },
  {
   "cell_type": "code",
   "execution_count": 60,
   "metadata": {
    "slideshow": {
     "slide_type": "subslide"
    }
   },
   "outputs": [],
   "source": [
    "from catboost import CatBoostClassifier, Pool\n",
    "SEED=42\n",
    "#model parameters defined\n",
    "model = CatBoostClassifier(iterations=500,\n",
    "                          depth=4,\n",
    "                          loss_function='Logloss',\n",
    "                          custom_metric=['Recall','F1','Precision'],\n",
    "                          eval_metric='F1', \n",
    "                          cat_features=cat,\n",
    "                          scale_pos_weight = y_train.value_counts()[0] / y_train.value_counts()[1] ,\n",
    "                          thread_count=-1,\n",
    "                          early_stopping_rounds=50,\n",
    "                          verbose=True,\n",
    "                          random_seed=SEED,\n",
    "                          has_time=False\n",
    "                          )"
   ]
  },
  {
   "cell_type": "code",
   "execution_count": 61,
   "metadata": {
    "slideshow": {
     "slide_type": "subslide"
    }
   },
   "outputs": [
    {
     "name": "stdout",
     "output_type": "stream",
     "text": [
      "Learning rate set to 0.023635\n",
      "0:\tlearn: 0.7843137\ttest: 0.7407407\tbest: 0.7407407 (0)\ttotal: 54.7ms\tremaining: 27.3s\n",
      "1:\tlearn: 0.7843137\ttest: 0.7407407\tbest: 0.7407407 (0)\ttotal: 55.4ms\tremaining: 13.8s\n",
      "2:\tlearn: 0.7843137\ttest: 0.7407407\tbest: 0.7407407 (0)\ttotal: 56.7ms\tremaining: 9.39s\n",
      "3:\tlearn: 0.7843137\ttest: 0.7407407\tbest: 0.7407407 (0)\ttotal: 57.8ms\tremaining: 7.16s\n",
      "4:\tlearn: 0.7843137\ttest: 0.7407407\tbest: 0.7407407 (0)\ttotal: 58.3ms\tremaining: 5.77s\n",
      "5:\tlearn: 0.7843137\ttest: 0.7407407\tbest: 0.7407407 (0)\ttotal: 59ms\tremaining: 4.86s\n",
      "6:\tlearn: 0.7843137\ttest: 0.7407407\tbest: 0.7407407 (0)\ttotal: 59.6ms\tremaining: 4.2s\n",
      "7:\tlearn: 0.7843137\ttest: 0.7407407\tbest: 0.7407407 (0)\ttotal: 60.3ms\tremaining: 3.71s\n",
      "8:\tlearn: 0.8518519\ttest: 0.7636364\tbest: 0.7636364 (8)\ttotal: 61.2ms\tremaining: 3.34s\n",
      "9:\tlearn: 0.8518519\ttest: 0.7636364\tbest: 0.7636364 (8)\ttotal: 61.9ms\tremaining: 3.03s\n",
      "10:\tlearn: 0.8518519\ttest: 0.7636364\tbest: 0.7636364 (8)\ttotal: 62.8ms\tremaining: 2.79s\n",
      "11:\tlearn: 0.8518519\ttest: 0.7636364\tbest: 0.7636364 (8)\ttotal: 63.7ms\tremaining: 2.59s\n",
      "12:\tlearn: 0.8518519\ttest: 0.7636364\tbest: 0.7636364 (8)\ttotal: 64.6ms\tremaining: 2.42s\n",
      "13:\tlearn: 0.8518519\ttest: 0.7636364\tbest: 0.7636364 (8)\ttotal: 65.2ms\tremaining: 2.26s\n",
      "14:\tlearn: 0.8518519\ttest: 0.7636364\tbest: 0.7636364 (8)\ttotal: 65.9ms\tremaining: 2.13s\n",
      "15:\tlearn: 0.8518519\ttest: 0.7368421\tbest: 0.7636364 (8)\ttotal: 66.7ms\tremaining: 2.02s\n",
      "16:\tlearn: 0.8518519\ttest: 0.7636364\tbest: 0.7636364 (8)\ttotal: 67.4ms\tremaining: 1.92s\n",
      "17:\tlearn: 0.8518519\ttest: 0.7636364\tbest: 0.7636364 (8)\ttotal: 67.9ms\tremaining: 1.82s\n",
      "18:\tlearn: 0.8518519\ttest: 0.7636364\tbest: 0.7636364 (8)\ttotal: 68.5ms\tremaining: 1.74s\n",
      "19:\tlearn: 0.8518519\ttest: 0.7636364\tbest: 0.7636364 (8)\ttotal: 69.1ms\tremaining: 1.66s\n",
      "20:\tlearn: 0.8518519\ttest: 0.7636364\tbest: 0.7636364 (8)\ttotal: 69.9ms\tremaining: 1.59s\n",
      "21:\tlearn: 0.8518519\ttest: 0.7636364\tbest: 0.7636364 (8)\ttotal: 70.4ms\tremaining: 1.53s\n",
      "22:\tlearn: 0.8518519\ttest: 0.7636364\tbest: 0.7636364 (8)\ttotal: 71.1ms\tremaining: 1.47s\n",
      "23:\tlearn: 0.8518519\ttest: 0.7636364\tbest: 0.7636364 (8)\ttotal: 71.7ms\tremaining: 1.42s\n",
      "24:\tlearn: 0.8518519\ttest: 0.7636364\tbest: 0.7636364 (8)\ttotal: 72.4ms\tremaining: 1.38s\n",
      "25:\tlearn: 0.8518519\ttest: 0.7636364\tbest: 0.7636364 (8)\ttotal: 73ms\tremaining: 1.33s\n",
      "26:\tlearn: 0.8518519\ttest: 0.7636364\tbest: 0.7636364 (8)\ttotal: 73.8ms\tremaining: 1.29s\n",
      "27:\tlearn: 0.8518519\ttest: 0.7636364\tbest: 0.7636364 (8)\ttotal: 74.5ms\tremaining: 1.25s\n",
      "28:\tlearn: 0.8518519\ttest: 0.7368421\tbest: 0.7636364 (8)\ttotal: 75.2ms\tremaining: 1.22s\n",
      "29:\tlearn: 0.8518519\ttest: 0.7368421\tbest: 0.7636364 (8)\ttotal: 75.8ms\tremaining: 1.19s\n",
      "30:\tlearn: 0.8518519\ttest: 0.7368421\tbest: 0.7636364 (8)\ttotal: 76.5ms\tremaining: 1.16s\n",
      "31:\tlearn: 0.8518519\ttest: 0.7368421\tbest: 0.7636364 (8)\ttotal: 77.1ms\tremaining: 1.13s\n",
      "32:\tlearn: 0.8518519\ttest: 0.7368421\tbest: 0.7636364 (8)\ttotal: 77.8ms\tremaining: 1.1s\n",
      "33:\tlearn: 0.8518519\ttest: 0.7368421\tbest: 0.7636364 (8)\ttotal: 78.3ms\tremaining: 1.07s\n",
      "34:\tlearn: 0.8518519\ttest: 0.7368421\tbest: 0.7636364 (8)\ttotal: 79.2ms\tremaining: 1.05s\n",
      "35:\tlearn: 0.8518519\ttest: 0.7368421\tbest: 0.7636364 (8)\ttotal: 79.8ms\tremaining: 1.03s\n",
      "36:\tlearn: 0.8518519\ttest: 0.7368421\tbest: 0.7636364 (8)\ttotal: 80.5ms\tremaining: 1.01s\n",
      "37:\tlearn: 0.8518519\ttest: 0.7368421\tbest: 0.7636364 (8)\ttotal: 81.2ms\tremaining: 987ms\n",
      "38:\tlearn: 0.8518519\ttest: 0.7368421\tbest: 0.7636364 (8)\ttotal: 81.8ms\tremaining: 967ms\n",
      "39:\tlearn: 0.8518519\ttest: 0.7368421\tbest: 0.7636364 (8)\ttotal: 82.3ms\tremaining: 947ms\n",
      "40:\tlearn: 0.8518519\ttest: 0.7368421\tbest: 0.7636364 (8)\ttotal: 83ms\tremaining: 929ms\n",
      "41:\tlearn: 0.8518519\ttest: 0.7368421\tbest: 0.7636364 (8)\ttotal: 83.7ms\tremaining: 912ms\n",
      "42:\tlearn: 0.8518519\ttest: 0.7368421\tbest: 0.7636364 (8)\ttotal: 84.3ms\tremaining: 896ms\n",
      "43:\tlearn: 0.8518519\ttest: 0.7368421\tbest: 0.7636364 (8)\ttotal: 85ms\tremaining: 881ms\n",
      "44:\tlearn: 0.8518519\ttest: 0.7368421\tbest: 0.7636364 (8)\ttotal: 85.5ms\tremaining: 865ms\n",
      "45:\tlearn: 0.8518519\ttest: 0.7368421\tbest: 0.7636364 (8)\ttotal: 86.1ms\tremaining: 850ms\n",
      "46:\tlearn: 0.8518519\ttest: 0.7368421\tbest: 0.7636364 (8)\ttotal: 86.7ms\tremaining: 836ms\n",
      "47:\tlearn: 0.8518519\ttest: 0.7368421\tbest: 0.7636364 (8)\ttotal: 87.3ms\tremaining: 823ms\n",
      "48:\tlearn: 0.8518519\ttest: 0.7368421\tbest: 0.7636364 (8)\ttotal: 87.9ms\tremaining: 809ms\n",
      "49:\tlearn: 0.8518519\ttest: 0.7368421\tbest: 0.7636364 (8)\ttotal: 88.5ms\tremaining: 797ms\n",
      "50:\tlearn: 0.8518519\ttest: 0.7368421\tbest: 0.7636364 (8)\ttotal: 89.1ms\tremaining: 784ms\n",
      "51:\tlearn: 0.8518519\ttest: 0.7368421\tbest: 0.7636364 (8)\ttotal: 89.6ms\tremaining: 772ms\n",
      "52:\tlearn: 0.8518519\ttest: 0.7368421\tbest: 0.7636364 (8)\ttotal: 90ms\tremaining: 759ms\n",
      "53:\tlearn: 0.8518519\ttest: 0.7368421\tbest: 0.7636364 (8)\ttotal: 90.7ms\tremaining: 749ms\n",
      "54:\tlearn: 0.8518519\ttest: 0.7368421\tbest: 0.7636364 (8)\ttotal: 91.2ms\tremaining: 738ms\n",
      "55:\tlearn: 0.8518519\ttest: 0.7368421\tbest: 0.7636364 (8)\ttotal: 91.8ms\tremaining: 728ms\n",
      "56:\tlearn: 0.8518519\ttest: 0.7368421\tbest: 0.7636364 (8)\ttotal: 92.4ms\tremaining: 718ms\n",
      "57:\tlearn: 0.8518519\ttest: 0.7368421\tbest: 0.7636364 (8)\ttotal: 92.9ms\tremaining: 708ms\n",
      "58:\tlearn: 0.8518519\ttest: 0.7368421\tbest: 0.7636364 (8)\ttotal: 93.5ms\tremaining: 699ms\n",
      "Stopped by overfitting detector  (50 iterations wait)\n",
      "\n",
      "bestTest = 0.7636363636\n",
      "bestIteration = 8\n",
      "\n",
      "Shrink model to first 9 iterations.\n"
     ]
    }
   ],
   "source": [
    "# fitting model\n",
    "model.fit(Pool(data=X_train, \n",
    "               label=y_train, \n",
    "              cat_features=cat,\n",
    "              #weight=X_train.COL_YOU_WANT_TO_WEIGHT\n",
    "              ),\n",
    "          eval_set = (X_validation, y_validation),\n",
    "          logging_level='Verbose'\n",
    "         )\n",
    "\n",
    "y_pred = model.predict(X_test)\n",
    "\n",
    "# saving model\n",
    "# dump(model, 'catboost_model.joblib')  \n",
    "# dump(model.evals_result_, 'evaluation_results_catboost.joblib')"
   ]
  },
  {
   "cell_type": "code",
   "execution_count": 62,
   "metadata": {
    "slideshow": {
     "slide_type": "subslide"
    }
   },
   "outputs": [
    {
     "name": "stdout",
     "output_type": "stream",
     "text": [
      "Confusion Matrix:\n",
      " [[20  3]\n",
      " [15 29]] \n",
      "Accuracy: 73.13 % \n",
      "Precision: 90.62 % \n",
      "Recall: 65.91 % \n",
      "F1: 76.32 %\n"
     ]
    }
   ],
   "source": [
    "print(\"Confusion Matrix:\\n\", confusion_matrix(y_test, y_pred),\n",
    "      \"\\nAccuracy:\", round(accuracy_score(y_test, y_pred) * 100, 2), \"%\",\n",
    "      \"\\nPrecision:\", round(precision_score(y_test, y_pred) * 100, 2), \"%\",\n",
    "      \"\\nRecall:\", round(recall_score(y_test, y_pred) * 100, 2), \"%\",      \n",
    "      \"\\nF1:\", round(f1_score(y_test, y_pred) * 100, 2), \"%\")"
   ]
  },
  {
   "cell_type": "markdown",
   "metadata": {
    "slideshow": {
     "slide_type": "slide"
    }
   },
   "source": [
    "##  <font style = 'color:blue'> Tuning ML Models </font>"
   ]
  },
  {
   "cell_type": "markdown",
   "metadata": {
    "slideshow": {
     "slide_type": "subslide"
    }
   },
   "source": [
    "### GridSearch / RandomizedSearch\n",
    "\n",
    "There are several ways to tune model parameters, they are listed below.\n",
    "\n"
   ]
  },
  {
   "cell_type": "markdown",
   "metadata": {
    "slideshow": {
     "slide_type": "subslide"
    }
   },
   "source": [
    "### GridSearchCV\n",
    "Searches a pre-defined feature space to find the best model. It will search every combination possible, therefore is exhaustive but slow.\n",
    "\n",
    "More information can be found under: \n",
    "- GridSearchCV: https://scikit-learn.org/stable/modules/generated/sklearn.model_selection.GridSearchCV.html"
   ]
  },
  {
   "cell_type": "code",
   "execution_count": 81,
   "metadata": {
    "slideshow": {
     "slide_type": "-"
    }
   },
   "outputs": [],
   "source": [
    "from sklearn.model_selection import GridSearchCV"
   ]
  },
  {
   "cell_type": "code",
   "execution_count": 82,
   "metadata": {
    "slideshow": {
     "slide_type": "subslide"
    }
   },
   "outputs": [],
   "source": [
    "X = titanic[[\"Pclass\", \"Sex\", \"Age\", \"Embarked_Q\", \"Embarked_S\"]]\n",
    "y = titanic.Survived\n",
    "\n",
    "X_train, X_test, y_train, y_test = train_test_split(X, y, test_size=0.33, random_state=42, stratify=y)\n"
   ]
  },
  {
   "cell_type": "code",
   "execution_count": 83,
   "metadata": {
    "slideshow": {
     "slide_type": "-"
    }
   },
   "outputs": [
    {
     "data": {
      "text/plain": [
       "{'max_features': 5, 'n_estimators': 5}"
      ]
     },
     "execution_count": 83,
     "metadata": {},
     "output_type": "execute_result"
    }
   ],
   "source": [
    "PARAM_GRID = {'n_estimators': [1, 5, 10], 'max_features': [1,2,3,4,5]}\n",
    "\n",
    "gs = GridSearchCV(estimator = RandomForestRegressor(random_state=42), param_grid=PARAM_GRID)\n",
    "\n",
    "gs.fit(X_train, y_train)\n",
    "gs.best_params_"
   ]
  },
  {
   "cell_type": "markdown",
   "metadata": {
    "slideshow": {
     "slide_type": "subslide"
    }
   },
   "source": [
    "### RandomizedSearchCV\n",
    "\n",
    "Searches a pre-defined feature space based on how many iterations (`n_iter`) you ask for, e.g. if you set `n_iter=5` it will try 5 random combinations.\n",
    "\n",
    "More information can be found under: \n",
    "- RandomizedSearchCV: https://scikit-learn.org/stable/modules/generated/sklearn.model_selection.RandomizedSearchCV.html\n"
   ]
  },
  {
   "cell_type": "code",
   "execution_count": 66,
   "metadata": {
    "slideshow": {
     "slide_type": "subslide"
    }
   },
   "outputs": [
    {
     "data": {
      "text/plain": [
       "{'n_estimators': 10, 'max_features': 4}"
      ]
     },
     "execution_count": 66,
     "metadata": {},
     "output_type": "execute_result"
    }
   ],
   "source": [
    "from sklearn.model_selection import RandomizedSearchCV\n",
    "PARAM_GRID = {'n_estimators': [1, 5, 10], 'max_features': [1,2,3,4,5]}\n",
    "\n",
    "rs = RandomizedSearchCV(estimator = RandomForestRegressor(random_state=42), param_distributions=PARAM_GRID, \n",
    "                        n_iter=5)\n",
    "\n",
    "rs.fit(X_train, y_train)\n",
    "rs.best_params_"
   ]
  },
  {
   "cell_type": "markdown",
   "metadata": {
    "slideshow": {
     "slide_type": "slide"
    }
   },
   "source": [
    "##  <font style = 'color:blue'> Summary </font>\n",
    "\n",
    "**Which model is best?** \n",
    "The best classifier for a particular task is task-dependent. In many business cases, interpretability is more important than accuracy. So, decision trees may be preferred. In other cases, accuracy on unseen data might be paramount, in which case random forests would likely be better (since they typically overfit less). \n",
    "\n",
    "**Remember that every model is a tradeoff between bias and variance. Ensemble models attempt to reduce overfitting by reducing variance but increasing bias (as compared to decision trees)**. \n",
    "\n",
    "By making the model more stable, we necessarily make it fit the training data less accurately. In some cases this is desired (particularly if we start with lots of overfitting), but for more simply structured data a simple decision tree might be best.\n"
   ]
  }
 ],
 "metadata": {
  "anaconda-cloud": {},
  "celltoolbar": "Slideshow",
  "kernelspec": {
   "display_name": "Python 3",
   "language": "python",
   "name": "python3"
  },
  "language_info": {
   "codemirror_mode": {
    "name": "ipython",
    "version": 3
   },
   "file_extension": ".py",
   "mimetype": "text/x-python",
   "name": "python",
   "nbconvert_exporter": "python",
   "pygments_lexer": "ipython3",
   "version": "3.8.8"
  }
 },
 "nbformat": 4,
 "nbformat_minor": 1
}
