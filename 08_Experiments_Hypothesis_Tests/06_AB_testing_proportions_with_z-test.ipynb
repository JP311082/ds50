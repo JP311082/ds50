{
 "cells": [
  {
   "cell_type": "markdown",
   "metadata": {
    "slideshow": {
     "slide_type": "slide"
    }
   },
   "source": [
    "<img src=\"assets/images/1ZcRyrc.png\" style=\"float: left; margin: 20px; height: 55px\">\n",
    "\n",
    "## Statistical Testing: A/B testing sign-up forms for our game\n",
    "\n",
    "---\n",
    "\n"
   ]
  },
  {
   "cell_type": "markdown",
   "metadata": {
    "slideshow": {
     "slide_type": "subslide"
    }
   },
   "source": [
    "We want to test two different sign-up forms which will allow our users to connect via Facebook to our game: we want to see which one will have a higher conversion rate."
   ]
  },
  {
   "cell_type": "markdown",
   "metadata": {
    "slideshow": {
     "slide_type": "-"
    }
   },
   "source": [
    "<img src=\"assets/images/ab_test1.png\" style=\"width:100%\" />"
   ]
  },
  {
   "cell_type": "markdown",
   "metadata": {
    "slideshow": {
     "slide_type": "subslide"
    }
   },
   "source": [
    "Importing the required libraries, as always."
   ]
  },
  {
   "cell_type": "code",
   "execution_count": 1,
   "metadata": {
    "slideshow": {
     "slide_type": "-"
    }
   },
   "outputs": [],
   "source": [
    "import numpy as np\n",
    "import pandas as pd\n",
    "import seaborn as sns\n",
    "from pylab import *\n",
    "from IPython.display import Image\n",
    "import matplotlib.ticker as mtick\n",
    "\n",
    "import scipy.stats as stats\n",
    "import statsmodels.stats.weightstats as wstats\n",
    "from collections import OrderedDict\n",
    "\n",
    "#from __future__ import print_function\n",
    "#from __future__ import division\n",
    "%matplotlib inline"
   ]
  },
  {
   "cell_type": "markdown",
   "metadata": {
    "slideshow": {
     "slide_type": "subslide"
    }
   },
   "source": [
    "As we saw in the previous notebook, we determined that\n",
    "we need at least 1743 people to experience the A design \n",
    "and at least 1743 people to experience the B design.\n",
    "\n",
    "So, let's create some fake data with the required proportions.\n"
   ]
  },
  {
   "cell_type": "code",
   "execution_count": 2,
   "metadata": {
    "slideshow": {
     "slide_type": "-"
    }
   },
   "outputs": [
    {
     "name": "stdout",
     "output_type": "stream",
     "text": [
      " A: installs = 4501 \t connected = 2104 \t prop = 0.4674516774050211\n",
      " B: installs = 4141 \t connected = 2076 \t prop = 0.5013281815986477\n"
     ]
    }
   ],
   "source": [
    "# Generating fake data\n",
    "control_installs = 4501\n",
    "control_connected = 2104\n",
    "test_installs = 4141\n",
    "test_connected = 2076\n",
    "\n",
    "print(' {}: installs = {} \\t connected = {} \\t prop = {}'\n",
    "      .format('A', control_installs, control_connected, control_connected/control_installs))\n",
    "\n",
    "print(' {}: installs = {} \\t connected = {} \\t prop = {}'\n",
    "      .format('B', test_installs, test_connected, test_connected/test_installs))\n",
    "\n"
   ]
  },
  {
   "cell_type": "code",
   "execution_count": 3,
   "metadata": {
    "slideshow": {
     "slide_type": "subslide"
    }
   },
   "outputs": [
    {
     "data": {
      "image/png": "[encoded data removed]",
      "text/plain": [
       "<Figure size 576x288 with 1 Axes>"
      ]
     },
     "metadata": {
      "needs_background": "light"
     },
     "output_type": "display_data"
    }
   ],
   "source": [
    "fig, ax = plt.subplots(figsize=(8,4))\n",
    "\n",
    "x = [0,1]\n",
    "y = [control_connected/control_installs, test_connected/test_installs]\n",
    "ax.bar(x, y, align='center', width=.8)\n",
    "ax.set_xticks(x)\n",
    "ax.set_xticklabels(['Control', 'Test'])\n",
    "xlim(-.5,1.5)\n",
    "ylim(0, .69)\n",
    "\n",
    "for xx, yy in zip(x,y):\n",
    "    ax.text(xx, yy*.7, '%0.2f%%'%(100*yy),ha='center', va='bottom', \n",
    "            fontdict={'size':15,'weight':'bold','color':(0.9,.9,.9)})\n",
    "    \n",
    "# ax.yaxis.set_major_formatter(mtick.FormatStrFormatter('%.0f%%'))\n",
    "# def perc(x, pos=0):\n",
    "#     return '%0.0f%%'%(100*x)\n",
    "\n",
    "ax.yaxis.set_major_formatter(FuncFormatter(lambda x, pos=0: '%0.0f%%'%(100.0*x)))\n",
    "title('Is this statistically significant?', fontdict={'size':16})\n",
    "pass\n",
    "# fig.savefig('03.01 two samples.png', bbox_inches='tight', pad_inches=0.2 ,dpi=200)"
   ]
  },
  {
   "cell_type": "markdown",
   "metadata": {
    "slideshow": {
     "slide_type": "subslide"
    }
   },
   "source": [
    "<img src=\"assets/images/testing_3.png\" style=\"width:100%\" />"
   ]
  },
  {
   "cell_type": "markdown",
   "metadata": {
    "slideshow": {
     "slide_type": "subslide"
    }
   },
   "source": [
    "#### *Two Samples z-test for Proportions*\n",
    "\n",
    "### $z = \\frac{\\hat{p_1}-\\hat{p_2}}{\\sqrt{\\hat{p} (1-\\hat{p}) (\\frac{1}{n_1} + \\frac{1}{n_2})}} $\n",
    "where\n",
    "\n",
    "- $\\hat{p_1} = \\frac{x_1}{n_1}, \\hat{p_2} = \\frac{x_2}{n_2} $\n",
    "- $\\hat{p} = \\frac{x_1 + x_2}{n_1 + n_2}$\n",
    "\n",
    "    - $x_1, x_2$ - number of successes in group 1 and 2\n",
    "    - $n_1, n_2$ - number of observations in group 1 and 2"
   ]
  },
  {
   "cell_type": "markdown",
   "metadata": {
    "slideshow": {
     "slide_type": "subslide"
    }
   },
   "source": [
    "## Using statsmodels to calculate the z-statistic & p-value:"
   ]
  },
  {
   "cell_type": "code",
   "execution_count": 4,
   "metadata": {
    "slideshow": {
     "slide_type": "-"
    }
   },
   "outputs": [
    {
     "name": "stdout",
     "output_type": "stream",
     "text": [
      " z-stat = -3.1481826186555577 \n",
      " p-value = 0.0016428902134483648\n"
     ]
    }
   ],
   "source": [
    "# using statsmodels\n",
    "from statsmodels.stats.proportion import proportions_ztest\n",
    "count = np.array([control_connected,test_connected])\n",
    "nobs = np.array([control_installs, test_installs])\n",
    "z,p = proportions_ztest(count, nobs, value=0, alternative='two-sided')\n",
    "print(' z-stat = {z} \\n p-value = {p}'.format(z=z,p=p))"
   ]
  },
  {
   "cell_type": "markdown",
   "metadata": {
    "slideshow": {
     "slide_type": "-"
    }
   },
   "source": [
    "We can reject the null-hypothesis. \n",
    "\n",
    "Our second sign up form results in a better Facebook connection rate. \n",
    "\n"
   ]
  },
  {
   "cell_type": "markdown",
   "metadata": {
    "slideshow": {
     "slide_type": "subslide"
    }
   },
   "source": [
    "## So what is the uplift?\n",
    "\n",
    "Let's calculate the confidence interval from our uplift: \n",
    "\n",
    "#### $CI = (\\hat{p_1} - \\hat{p_2}) ± z_{critical} \\cdot SE $ \n",
    "\n",
    "$SE = \\sqrt{ \\frac{\\hat{p_1}(1-\\hat{p_1})}{n_1} + \\frac{\\hat{p_2}(1-\\hat{p_2})}{n_2} }  $\n",
    "\n",
    "where\n",
    "\n",
    "- $\\hat{p_1}, \\hat{p_2}$ - proportion in group 1 and 2\n",
    "\n",
    "\n",
    "- $n_1, n_2$ - number of observations in group 1 and 2\n"
   ]
  },
  {
   "cell_type": "code",
   "execution_count": 5,
   "metadata": {
    "slideshow": {
     "slide_type": "subslide"
    }
   },
   "outputs": [
    {
     "name": "stdout",
     "output_type": "stream",
     "text": [
      " 95% Confidence Interval = ( 1.28% , 5.50% )\n"
     ]
    }
   ],
   "source": [
    "def compute_standard_error_prop_two_samples(x1, n1, x2, n2, alpha=0.05):\n",
    "    p1 = x1/n1\n",
    "    p2 = x2/n2    \n",
    "    se = p1*(1-p1)/n1 + p2*(1-p2)/n2\n",
    "    return sqrt(se)\n",
    "    \n",
    "def zconf_interval_two_samples(x1, n1, x2, n2, alpha=0.05):\n",
    "    p1 = x1/n1\n",
    "    p2 = x2/n2    \n",
    "    se = compute_standard_error_prop_two_samples(x1, n1, x2, n2)\n",
    "    z_critical = stats.norm.ppf(1-0.5*alpha)\n",
    "    return p2-p1-z_critical*se, p2-p1+z_critical*se\n",
    "\n",
    "ci_low,ci_upp = zconf_interval_two_samples(control_connected, control_installs, \n",
    "                                           test_connected, test_installs)\n",
    "print(' 95% Confidence Interval = ( {0:.2f}% , {1:.2f}% )'\n",
    "      .format(100*ci_low, 100*ci_upp))"
   ]
  },
  {
   "cell_type": "markdown",
   "metadata": {
    "slideshow": {
     "slide_type": "-"
    }
   },
   "source": [
    "**So, our 95% Confidence Interval for the uplift is [1.28% , 5.50%]**"
   ]
  }
 ],
 "metadata": {
  "celltoolbar": "Slideshow",
  "kernelspec": {
   "display_name": "Python 3",
   "language": "python",
   "name": "python3"
  },
  "language_info": {
   "codemirror_mode": {
    "name": "ipython",
    "version": 3
   },
   "file_extension": ".py",
   "mimetype": "text/x-python",
   "name": "python",
   "nbconvert_exporter": "python",
   "pygments_lexer": "ipython3",
   "version": "3.8.8"
  }
 },
 "nbformat": 4,
 "nbformat_minor": 1
}
