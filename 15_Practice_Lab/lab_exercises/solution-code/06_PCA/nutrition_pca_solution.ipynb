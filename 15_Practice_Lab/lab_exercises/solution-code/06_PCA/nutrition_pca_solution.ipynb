{
 "cells": [
  {
   "cell_type": "markdown",
   "metadata": {},
   "source": [
    "___\n",
    "<img src=\"http://imgur.com/1ZcRyrc.png\" style=\"float: left; margin: 20px; height: 55px\">\n",
    "\n",
    "# Principal Components Analysis \n",
    "\n",
    "\n",
    "---\n",
    "\n",
    "In this lab, let's try PCA on a dataset derived from the USDA National Nutrient Database."
   ]
  },
  {
   "cell_type": "markdown",
   "metadata": {},
   "source": [
    "**Import libraries**"
   ]
  },
  {
   "cell_type": "code",
   "execution_count": 1,
   "metadata": {},
   "outputs": [],
   "source": [
    "import pandas as pd\n",
    "import numpy as np\n",
    "from sklearn.decomposition import PCA\n",
    "from sklearn.preprocessing import StandardScaler\n",
    "import matplotlib.pyplot as plt\n",
    "\n",
    "%matplotlib inline"
   ]
  },
  {
   "cell_type": "markdown",
   "metadata": {},
   "source": [
    "**Import the data**"
   ]
  },
  {
   "cell_type": "code",
   "execution_count": 2,
   "metadata": {},
   "outputs": [],
   "source": [
    "df = pd.read_csv('../../assets/data/nutrition_usda.csv')"
   ]
  },
  {
   "cell_type": "code",
   "execution_count": 3,
   "metadata": {},
   "outputs": [
    {
     "name": "stdout",
     "output_type": "stream",
     "text": [
      "<class 'pandas.core.frame.DataFrame'>\n",
      "RangeIndex: 8618 entries, 0 to 8617\n",
      "Data columns (total 45 columns):\n",
      " #   Column            Non-Null Count  Dtype  \n",
      "---  ------            --------------  -----  \n",
      " 0   ID                8618 non-null   int64  \n",
      " 1   FoodGroup         8618 non-null   object \n",
      " 2   ShortDescrip      8618 non-null   object \n",
      " 3   Descrip           8618 non-null   object \n",
      " 4   CommonName        1063 non-null   object \n",
      " 5   MfgName           1560 non-null   object \n",
      " 6   ScientificName    732 non-null    object \n",
      " 7   Energy_kcal       8618 non-null   float64\n",
      " 8   Protein_g         8618 non-null   float64\n",
      " 9   Fat_g             8618 non-null   float64\n",
      " 10  Carb_g            8618 non-null   float64\n",
      " 11  Sugar_g           8618 non-null   float64\n",
      " 12  Fiber_g           8618 non-null   float64\n",
      " 13  VitA_mcg          8618 non-null   float64\n",
      " 14  VitB6_mg          8618 non-null   float64\n",
      " 15  VitB12_mcg        8618 non-null   float64\n",
      " 16  VitC_mg           8618 non-null   float64\n",
      " 17  VitE_mg           8618 non-null   float64\n",
      " 18  Folate_mcg        8618 non-null   float64\n",
      " 19  Niacin_mg         8618 non-null   float64\n",
      " 20  Riboflavin_mg     8618 non-null   float64\n",
      " 21  Thiamin_mg        8618 non-null   float64\n",
      " 22  Calcium_mg        8618 non-null   float64\n",
      " 23  Copper_mcg        8618 non-null   float64\n",
      " 24  Iron_mg           8618 non-null   float64\n",
      " 25  Magnesium_mg      8618 non-null   float64\n",
      " 26  Manganese_mg      8618 non-null   float64\n",
      " 27  Phosphorus_mg     8618 non-null   float64\n",
      " 28  Selenium_mcg      8618 non-null   float64\n",
      " 29  Zinc_mg           8618 non-null   float64\n",
      " 30  VitA_USRDA        8618 non-null   float64\n",
      " 31  VitB6_USRDA       8618 non-null   float64\n",
      " 32  VitB12_USRDA      8618 non-null   float64\n",
      " 33  VitC_USRDA        8618 non-null   float64\n",
      " 34  VitE_USRDA        8618 non-null   float64\n",
      " 35  Folate_USRDA      8618 non-null   float64\n",
      " 36  Niacin_USRDA      8618 non-null   float64\n",
      " 37  Riboflavin_USRDA  8618 non-null   float64\n",
      " 38  Thiamin_USRDA     8618 non-null   float64\n",
      " 39  Calcium_USRDA     8618 non-null   float64\n",
      " 40  Copper_USRDA      8618 non-null   float64\n",
      " 41  Magnesium_USRDA   8618 non-null   float64\n",
      " 42  Phosphorus_USRDA  8618 non-null   float64\n",
      " 43  Selenium_USRDA    8618 non-null   float64\n",
      " 44  Zinc_USRDA        8618 non-null   float64\n",
      "dtypes: float64(38), int64(1), object(6)\n",
      "memory usage: 3.0+ MB\n"
     ]
    }
   ],
   "source": [
    "df.info()"
   ]
  },
  {
   "cell_type": "markdown",
   "metadata": {},
   "source": [
    "#### Let's check for highly correlated features in our dataset."
   ]
  },
  {
   "cell_type": "code",
   "execution_count": 4,
   "metadata": {},
   "outputs": [
    {
     "data": {
      "text/html": [
       "<div>\n",
       "<style scoped>\n",
       "    .dataframe tbody tr th:only-of-type {\n",
       "        vertical-align: middle;\n",
       "    }\n",
       "\n",
       "    .dataframe tbody tr th {\n",
       "        vertical-align: top;\n",
       "    }\n",
       "\n",
       "    .dataframe thead th {\n",
       "        text-align: right;\n",
       "    }\n",
       "</style>\n",
       "<table border=\"1\" class=\"dataframe\">\n",
       "  <thead>\n",
       "    <tr style=\"text-align: right;\">\n",
       "      <th></th>\n",
       "      <th>column</th>\n",
       "      <th>row</th>\n",
       "      <th>corr</th>\n",
       "    </tr>\n",
       "  </thead>\n",
       "  <tbody>\n",
       "    <tr>\n",
       "      <th>0</th>\n",
       "      <td>VitA_mcg</td>\n",
       "      <td>VitA_USRDA</td>\n",
       "      <td>1.0</td>\n",
       "    </tr>\n",
       "    <tr>\n",
       "      <th>1</th>\n",
       "      <td>VitB6_mg</td>\n",
       "      <td>VitB6_USRDA</td>\n",
       "      <td>1.0</td>\n",
       "    </tr>\n",
       "    <tr>\n",
       "      <th>2</th>\n",
       "      <td>VitB12_mcg</td>\n",
       "      <td>VitB12_USRDA</td>\n",
       "      <td>1.0</td>\n",
       "    </tr>\n",
       "    <tr>\n",
       "      <th>3</th>\n",
       "      <td>VitC_mg</td>\n",
       "      <td>VitC_USRDA</td>\n",
       "      <td>1.0</td>\n",
       "    </tr>\n",
       "    <tr>\n",
       "      <th>4</th>\n",
       "      <td>VitE_mg</td>\n",
       "      <td>VitE_USRDA</td>\n",
       "      <td>1.0</td>\n",
       "    </tr>\n",
       "    <tr>\n",
       "      <th>5</th>\n",
       "      <td>Folate_mcg</td>\n",
       "      <td>Folate_USRDA</td>\n",
       "      <td>1.0</td>\n",
       "    </tr>\n",
       "    <tr>\n",
       "      <th>6</th>\n",
       "      <td>Niacin_mg</td>\n",
       "      <td>Niacin_USRDA</td>\n",
       "      <td>1.0</td>\n",
       "    </tr>\n",
       "    <tr>\n",
       "      <th>7</th>\n",
       "      <td>Riboflavin_mg</td>\n",
       "      <td>Riboflavin_USRDA</td>\n",
       "      <td>1.0</td>\n",
       "    </tr>\n",
       "    <tr>\n",
       "      <th>8</th>\n",
       "      <td>Thiamin_mg</td>\n",
       "      <td>Thiamin_USRDA</td>\n",
       "      <td>1.0</td>\n",
       "    </tr>\n",
       "    <tr>\n",
       "      <th>9</th>\n",
       "      <td>Calcium_mg</td>\n",
       "      <td>Calcium_USRDA</td>\n",
       "      <td>1.0</td>\n",
       "    </tr>\n",
       "    <tr>\n",
       "      <th>10</th>\n",
       "      <td>Copper_mcg</td>\n",
       "      <td>Copper_USRDA</td>\n",
       "      <td>1.0</td>\n",
       "    </tr>\n",
       "    <tr>\n",
       "      <th>11</th>\n",
       "      <td>Magnesium_mg</td>\n",
       "      <td>Magnesium_USRDA</td>\n",
       "      <td>1.0</td>\n",
       "    </tr>\n",
       "    <tr>\n",
       "      <th>12</th>\n",
       "      <td>Phosphorus_mg</td>\n",
       "      <td>Phosphorus_USRDA</td>\n",
       "      <td>1.0</td>\n",
       "    </tr>\n",
       "    <tr>\n",
       "      <th>13</th>\n",
       "      <td>Selenium_mcg</td>\n",
       "      <td>Selenium_USRDA</td>\n",
       "      <td>1.0</td>\n",
       "    </tr>\n",
       "    <tr>\n",
       "      <th>14</th>\n",
       "      <td>Zinc_mg</td>\n",
       "      <td>Zinc_USRDA</td>\n",
       "      <td>1.0</td>\n",
       "    </tr>\n",
       "  </tbody>\n",
       "</table>\n",
       "</div>"
      ],
      "text/plain": [
       "           column               row corr\n",
       "0        VitA_mcg        VitA_USRDA  1.0\n",
       "1        VitB6_mg       VitB6_USRDA  1.0\n",
       "2      VitB12_mcg      VitB12_USRDA  1.0\n",
       "3         VitC_mg        VitC_USRDA  1.0\n",
       "4         VitE_mg        VitE_USRDA  1.0\n",
       "5      Folate_mcg      Folate_USRDA  1.0\n",
       "6       Niacin_mg      Niacin_USRDA  1.0\n",
       "7   Riboflavin_mg  Riboflavin_USRDA  1.0\n",
       "8      Thiamin_mg     Thiamin_USRDA  1.0\n",
       "9      Calcium_mg     Calcium_USRDA  1.0\n",
       "10     Copper_mcg      Copper_USRDA  1.0\n",
       "11   Magnesium_mg   Magnesium_USRDA  1.0\n",
       "12  Phosphorus_mg  Phosphorus_USRDA  1.0\n",
       "13   Selenium_mcg    Selenium_USRDA  1.0\n",
       "14        Zinc_mg        Zinc_USRDA  1.0"
      ]
     },
     "execution_count": 4,
     "metadata": {},
     "output_type": "execute_result"
    }
   ],
   "source": [
    "used = []\n",
    "corrs = []\n",
    "for i, j in enumerate(df.corr().columns):\n",
    "    for k in range(len(df.corr())):\n",
    "        if ((df.corr().iloc[k, i] > 0.9) & \n",
    "            (j not in used) &\n",
    "            (j != df.corr().index[k])):\n",
    "            \n",
    "            used.append(j)\n",
    "            corrs.append((j, df.corr().index[k], \n",
    "                          np.round(df.corr().iloc[k, i], 2)))\n",
    "\n",
    "            \n",
    "corrsdf = pd.DataFrame([[i[0] for i in corrs],\n",
    "                        [i[1] for i in corrs],\n",
    "                        [i[2] for i in corrs]])\n",
    "\n",
    "corrsdf = corrsdf.T.rename(columns = {0:'column',1:'row',2:'corr'})\n",
    "corrsdf[:15]"
   ]
  },
  {
   "cell_type": "markdown",
   "metadata": {},
   "source": [
    "**Remove redundant features**"
   ]
  },
  {
   "cell_type": "markdown",
   "metadata": {},
   "source": [
    "We can see that the \"_USRDA\" features are redundant. They should be removed"
   ]
  },
  {
   "cell_type": "code",
   "execution_count": 5,
   "metadata": {},
   "outputs": [],
   "source": [
    "df.drop(df.columns[df.columns.str.contains('_USRDA')].values, \n",
    "        inplace=True, axis=1)"
   ]
  },
  {
   "cell_type": "markdown",
   "metadata": {},
   "source": [
    "#### Next, separate the non-numeric features"
   ]
  },
  {
   "cell_type": "code",
   "execution_count": 6,
   "metadata": {},
   "outputs": [],
   "source": [
    "df.set_index('ID', inplace=True)\n",
    "df_desc = df.iloc[:, :6]\n",
    "df.drop(df.columns[:6].values, axis=1, inplace=True)"
   ]
  },
  {
   "cell_type": "markdown",
   "metadata": {},
   "source": [
    "**Now, look at the data distribution**"
   ]
  },
  {
   "cell_type": "code",
   "execution_count": 7,
   "metadata": {},
   "outputs": [
    {
     "data": {
      "image/png": "[encoded data removed]",
      "text/plain": [
       "<Figure size 792x792 with 25 Axes>"
      ]
     },
     "metadata": {
      "needs_background": "light"
     },
     "output_type": "display_data"
    }
   ],
   "source": [
    "ax = df.hist(bins=50, xlabelsize=-1, ylabelsize=-1, figsize=(11,11))"
   ]
  },
  {
   "cell_type": "markdown",
   "metadata": {},
   "source": [
    "Most of the variables are \"zero\" inflated and skewed right. We may want to consider transformation so \"improve\" the distributions and hopefully produce better correlations for our PCA. \n",
    "\n",
    "Note: this is an optional step that may not always improve results."
   ]
  },
  {
   "cell_type": "code",
   "execution_count": 8,
   "metadata": {},
   "outputs": [],
   "source": [
    "from scipy.stats import boxcox\n",
    "# add 1 because data must be positive (we have many zeros)\n",
    "df = df + 1\n",
    "df_TF = pd.DataFrame(index=df.index)\n",
    "for i in df.columns.values:\n",
    "    df_TF[\"%s_TF\" % i] = boxcox(df.loc[:, i])[0]"
   ]
  },
  {
   "cell_type": "code",
   "execution_count": 9,
   "metadata": {},
   "outputs": [
    {
     "data": {
      "image/png": "[encoded data removed]",
      "text/plain": [
       "<Figure size 792x792 with 25 Axes>"
      ]
     },
     "metadata": {
      "needs_background": "light"
     },
     "output_type": "display_data"
    }
   ],
   "source": [
    "ax = df_TF.hist(bins=50, xlabelsize=-1, ylabelsize=-1, figsize=(11,11))"
   ]
  },
  {
   "cell_type": "markdown",
   "metadata": {},
   "source": [
    "This should help our PCA.\n",
    "\n",
    "To account for different scales of measurement, we'll standardize to mean=0, variance=1."
   ]
  },
  {
   "cell_type": "code",
   "execution_count": 10,
   "metadata": {},
   "outputs": [
    {
     "name": "stdout",
     "output_type": "stream",
     "text": [
      "mean:  0.0\n",
      "standard dev:  1.0\n"
     ]
    }
   ],
   "source": [
    "# from sklearn.preprocessing import StandardScaler\n",
    "df_TF = StandardScaler().fit_transform(df_TF)\n",
    "\n",
    "print(\"mean: \", np.round(df_TF.mean(), 2))\n",
    "print(\"standard dev: \", np.round(df_TF.std(), 2))"
   ]
  },
  {
   "cell_type": "markdown",
   "metadata": {},
   "source": [
    "**Implement PCA**"
   ]
  },
  {
   "cell_type": "code",
   "execution_count": 11,
   "metadata": {},
   "outputs": [],
   "source": [
    "# from sklearn.decomposition import PCA\n",
    "fit = PCA()\n",
    "pca = fit.fit_transform(df_TF)\n"
   ]
  },
  {
   "cell_type": "markdown",
   "metadata": {},
   "source": [
    "#### check the eigenvalues to find most important components\n"
   ]
  },
  {
   "cell_type": "code",
   "execution_count": 12,
   "metadata": {},
   "outputs": [
    {
     "data": {
      "text/plain": [
       "[<matplotlib.lines.Line2D at 0x13e153280>]"
      ]
     },
     "execution_count": 12,
     "metadata": {},
     "output_type": "execute_result"
    },
    {
     "data": {
      "image/png": "[encoded data removed]",
      "text/plain": [
       "<Figure size 432x288 with 1 Axes>"
      ]
     },
     "metadata": {
      "needs_background": "light"
     },
     "output_type": "display_data"
    }
   ],
   "source": [
    "plt.plot(fit.explained_variance_ratio_)"
   ]
  },
  {
   "cell_type": "code",
   "execution_count": 13,
   "metadata": {},
   "outputs": [
    {
     "name": "stdout",
     "output_type": "stream",
     "text": [
      "[0.34554936 0.17971019 0.09201387 0.06176452 0.05520037 0.03764111\n",
      " 0.02996247 0.02566808 0.02294417 0.0192006  0.01828886 0.01721459\n",
      " 0.01443828 0.01337614 0.0107629  0.00977106 0.00894584 0.00878398\n",
      " 0.00760274 0.00668982 0.00589323 0.00545379 0.00312402]\n",
      "0.7342383069149604\n"
     ]
    }
   ],
   "source": [
    "print(fit.explained_variance_ratio_)\n",
    "\n",
    "print(fit.explained_variance_ratio_[:5].sum())"
   ]
  },
  {
   "cell_type": "markdown",
   "metadata": {},
   "source": [
    "#### the first 5 eigenvectors account for 73% of the variance and will be kept"
   ]
  },
  {
   "cell_type": "code",
   "execution_count": 14,
   "metadata": {},
   "outputs": [],
   "source": [
    "pca = pd.DataFrame(pca[:, :5], index=df.index)\n",
    "pca = pca.join(df_desc)\n",
    "pca.drop(['CommonName','MfgName','ScientificName'], axis=1, inplace=True)\n",
    "pca.rename(columns={0:'c1',1:'c2',2:'c3',3:'c4',4:'c5'}, inplace=True)"
   ]
  },
  {
   "cell_type": "code",
   "execution_count": 15,
   "metadata": {},
   "outputs": [
    {
     "data": {
      "text/html": [
       "<div>\n",
       "<style scoped>\n",
       "    .dataframe tbody tr th:only-of-type {\n",
       "        vertical-align: middle;\n",
       "    }\n",
       "\n",
       "    .dataframe tbody tr th {\n",
       "        vertical-align: top;\n",
       "    }\n",
       "\n",
       "    .dataframe thead th {\n",
       "        text-align: right;\n",
       "    }\n",
       "</style>\n",
       "<table border=\"1\" class=\"dataframe\">\n",
       "  <thead>\n",
       "    <tr style=\"text-align: right;\">\n",
       "      <th></th>\n",
       "      <th>c1</th>\n",
       "      <th>c2</th>\n",
       "      <th>c3</th>\n",
       "      <th>c4</th>\n",
       "      <th>c5</th>\n",
       "    </tr>\n",
       "  </thead>\n",
       "  <tbody>\n",
       "    <tr>\n",
       "      <th>c1</th>\n",
       "      <td>1.0</td>\n",
       "      <td>-0.0</td>\n",
       "      <td>-0.0</td>\n",
       "      <td>-0.0</td>\n",
       "      <td>-0.0</td>\n",
       "    </tr>\n",
       "    <tr>\n",
       "      <th>c2</th>\n",
       "      <td>-0.0</td>\n",
       "      <td>1.0</td>\n",
       "      <td>-0.0</td>\n",
       "      <td>0.0</td>\n",
       "      <td>0.0</td>\n",
       "    </tr>\n",
       "    <tr>\n",
       "      <th>c3</th>\n",
       "      <td>-0.0</td>\n",
       "      <td>-0.0</td>\n",
       "      <td>1.0</td>\n",
       "      <td>0.0</td>\n",
       "      <td>-0.0</td>\n",
       "    </tr>\n",
       "    <tr>\n",
       "      <th>c4</th>\n",
       "      <td>-0.0</td>\n",
       "      <td>0.0</td>\n",
       "      <td>0.0</td>\n",
       "      <td>1.0</td>\n",
       "      <td>-0.0</td>\n",
       "    </tr>\n",
       "    <tr>\n",
       "      <th>c5</th>\n",
       "      <td>-0.0</td>\n",
       "      <td>0.0</td>\n",
       "      <td>-0.0</td>\n",
       "      <td>-0.0</td>\n",
       "      <td>1.0</td>\n",
       "    </tr>\n",
       "  </tbody>\n",
       "</table>\n",
       "</div>"
      ],
      "text/plain": [
       "     c1   c2   c3   c4   c5\n",
       "c1  1.0 -0.0 -0.0 -0.0 -0.0\n",
       "c2 -0.0  1.0 -0.0  0.0  0.0\n",
       "c3 -0.0 -0.0  1.0  0.0 -0.0\n",
       "c4 -0.0  0.0  0.0  1.0 -0.0\n",
       "c5 -0.0  0.0 -0.0 -0.0  1.0"
      ]
     },
     "execution_count": 15,
     "metadata": {},
     "output_type": "execute_result"
    }
   ],
   "source": [
    "# we see that the five vectors are orthogonal\n",
    "np.round(pca.corr(), 5)"
   ]
  },
  {
   "cell_type": "markdown",
   "metadata": {},
   "source": [
    "**Try to interpret the components**\n",
    "\n",
    "(this is where deep subject matter expertise, in this case nutrition, comes in handy)"
   ]
  },
  {
   "cell_type": "markdown",
   "metadata": {},
   "source": [
    "**Component one** \n",
    "\n",
    "foods that are high in: zinc, and other vitamins and minerals\n",
    "\n",
    "low in: sugar, vitamin C, Carbs, and fiber"
   ]
  },
  {
   "cell_type": "code",
   "execution_count": 16,
   "metadata": {},
   "outputs": [
    {
     "data": {
      "text/plain": [
       "Zinc_mg          0.308506\n",
       "Phosphorus_mg    0.305000\n",
       "Niacin_mg        0.294094\n",
       "Protein_g        0.286086\n",
       "Riboflavin_mg    0.282687\n",
       "VitB6_mg         0.270646\n",
       "Selenium_mcg     0.264114\n",
       "Iron_mg          0.262314\n",
       "Magnesium_mg     0.260245\n",
       "Thiamin_mg       0.235440\n",
       "VitB12_mcg       0.221322\n",
       "Copper_mcg       0.220232\n",
       "Folate_mcg       0.167856\n",
       "Energy_kcal      0.165126\n",
       "Fat_g            0.161488\n",
       "Calcium_mg       0.135512\n",
       "VitE_mg          0.090808\n",
       "Manganese_mg     0.088762\n",
       "VitA_mcg         0.056996\n",
       "Fiber_g         -0.004663\n",
       "Carb_g          -0.033767\n",
       "VitC_mg         -0.069830\n",
       "Sugar_g         -0.076132\n",
       "dtype: float64"
      ]
     },
     "execution_count": 16,
     "metadata": {},
     "output_type": "execute_result"
    }
   ],
   "source": [
    "vects = fit.components_[:5]\n",
    "\n",
    "one = pd.Series(vects[0], index=df.columns)\n",
    "one.sort_values(ascending=False)"
   ]
  },
  {
   "cell_type": "markdown",
   "metadata": {},
   "source": [
    "**Component two**\n",
    "\n",
    "High: Carbs, Fiber, Mang, Sugar, Vitamin C...\n",
    "\n",
    "Low: Vitamine B12, protein, selenium, Fat..."
   ]
  },
  {
   "cell_type": "code",
   "execution_count": 17,
   "metadata": {},
   "outputs": [
    {
     "data": {
      "text/plain": [
       "Carb_g           0.414542\n",
       "Fiber_g          0.397832\n",
       "Manganese_mg     0.343603\n",
       "Sugar_g          0.295640\n",
       "VitC_mg          0.242314\n",
       "Folate_mcg       0.238391\n",
       "Calcium_mg       0.231052\n",
       "Magnesium_mg     0.199838\n",
       "Copper_mcg       0.181631\n",
       "Thiamin_mg       0.159641\n",
       "Iron_mg          0.118917\n",
       "VitE_mg          0.104310\n",
       "VitA_mcg         0.095701\n",
       "Energy_kcal      0.041850\n",
       "Riboflavin_mg    0.024240\n",
       "Phosphorus_mg   -0.001517\n",
       "VitB6_mg        -0.052166\n",
       "Niacin_mg       -0.064197\n",
       "Zinc_mg         -0.100529\n",
       "Fat_g           -0.123575\n",
       "Selenium_mcg    -0.138883\n",
       "Protein_g       -0.196127\n",
       "VitB12_mcg      -0.265671\n",
       "dtype: float64"
      ]
     },
     "execution_count": 17,
     "metadata": {},
     "output_type": "execute_result"
    }
   ],
   "source": [
    "two = pd.Series(vects[1], index=df.columns)\n",
    "two.sort_values(ascending=False)"
   ]
  },
  {
   "cell_type": "markdown",
   "metadata": {},
   "source": [
    "**Component three**\n",
    "\n",
    "High: calories, fat, carbs, sugar...\n",
    "\n",
    "Low: vitamin A, vitamin C, folate, copper..."
   ]
  },
  {
   "cell_type": "code",
   "execution_count": 18,
   "metadata": {},
   "outputs": [
    {
     "data": {
      "text/plain": [
       "Energy_kcal      0.508062\n",
       "Fat_g            0.409505\n",
       "Carb_g           0.250952\n",
       "Sugar_g          0.208651\n",
       "Thiamin_mg       0.191124\n",
       "Fiber_g          0.153640\n",
       "Iron_mg          0.115065\n",
       "Riboflavin_mg    0.062074\n",
       "Niacin_mg        0.055991\n",
       "Protein_g        0.026828\n",
       "Phosphorus_mg   -0.010948\n",
       "VitE_mg         -0.012473\n",
       "Zinc_mg         -0.051002\n",
       "Magnesium_mg    -0.100792\n",
       "VitB12_mcg      -0.107476\n",
       "Manganese_mg    -0.108755\n",
       "VitB6_mg        -0.121850\n",
       "Calcium_mg      -0.125621\n",
       "Selenium_mcg    -0.131798\n",
       "Copper_mcg      -0.177702\n",
       "Folate_mcg      -0.264298\n",
       "VitA_mcg        -0.298089\n",
       "VitC_mg         -0.334490\n",
       "dtype: float64"
      ]
     },
     "execution_count": 18,
     "metadata": {},
     "output_type": "execute_result"
    }
   ],
   "source": [
    "three = pd.Series(vects[2], index=df.columns)\n",
    "three.sort_values(ascending=False)"
   ]
  },
  {
   "cell_type": "markdown",
   "metadata": {},
   "source": [
    "**Component four**\n",
    "\n",
    "High: vitamin A, vitamin E, fat, sugar, calcium, vitamin B12, calories...\n",
    "\n",
    "Low: manganese, copper, iron, magnesium, fiber"
   ]
  },
  {
   "cell_type": "code",
   "execution_count": 19,
   "metadata": {},
   "outputs": [
    {
     "data": {
      "text/plain": [
       "VitA_mcg         0.539792\n",
       "VitE_mg          0.537710\n",
       "Fat_g            0.282774\n",
       "Sugar_g          0.279657\n",
       "Calcium_mg       0.188343\n",
       "VitB12_mcg       0.167068\n",
       "Energy_kcal      0.158787\n",
       "VitC_mg          0.129288\n",
       "Selenium_mcg     0.063452\n",
       "Riboflavin_mg    0.061855\n",
       "Folate_mcg       0.011655\n",
       "VitB6_mg        -0.011382\n",
       "Phosphorus_mg   -0.022623\n",
       "Carb_g          -0.025185\n",
       "Zinc_mg         -0.055472\n",
       "Niacin_mg       -0.065223\n",
       "Thiamin_mg      -0.086530\n",
       "Protein_g       -0.090944\n",
       "Fiber_g         -0.119122\n",
       "Magnesium_mg    -0.131683\n",
       "Iron_mg         -0.149698\n",
       "Copper_mcg      -0.167872\n",
       "Manganese_mg    -0.203804\n",
       "dtype: float64"
      ]
     },
     "execution_count": 19,
     "metadata": {},
     "output_type": "execute_result"
    }
   ],
   "source": [
    "four = pd.Series(vects[3], index=df.columns)\n",
    "four.sort_values(ascending=False)"
   ]
  },
  {
   "cell_type": "markdown",
   "metadata": {},
   "source": [
    "**Component five**\n",
    "\n",
    "High: riboflavin, thiamin, niacin, sugar, vitB6, vitC, vitB12...\n",
    "\n",
    "Low: manganese, copper, fat, vitE, calories, magnesium"
   ]
  },
  {
   "cell_type": "code",
   "execution_count": 20,
   "metadata": {},
   "outputs": [
    {
     "data": {
      "text/plain": [
       "Riboflavin_mg    0.322545\n",
       "Thiamin_mg       0.281944\n",
       "Niacin_mg        0.264423\n",
       "Sugar_g          0.264262\n",
       "VitB6_mg         0.254663\n",
       "VitC_mg          0.249634\n",
       "VitB12_mcg       0.195637\n",
       "Iron_mg          0.158585\n",
       "Carb_g           0.101396\n",
       "Fiber_g          0.075900\n",
       "VitA_mcg         0.057928\n",
       "Zinc_mg         -0.029074\n",
       "Calcium_mg      -0.035398\n",
       "Protein_g       -0.046148\n",
       "Phosphorus_mg   -0.084178\n",
       "Folate_mcg      -0.105000\n",
       "Magnesium_mg    -0.143789\n",
       "Selenium_mcg    -0.163561\n",
       "Energy_kcal     -0.204336\n",
       "VitE_mg         -0.250605\n",
       "Fat_g           -0.266740\n",
       "Copper_mcg      -0.316998\n",
       "Manganese_mg    -0.347515\n",
       "dtype: float64"
      ]
     },
     "execution_count": 20,
     "metadata": {},
     "output_type": "execute_result"
    }
   ],
   "source": [
    "five = pd.Series(vects[4], index=df.columns)\n",
    "five.sort_values(ascending=False)"
   ]
  },
  {
   "cell_type": "markdown",
   "metadata": {},
   "source": [
    "**Now let's look at which food groups are most common in each component**"
   ]
  },
  {
   "cell_type": "markdown",
   "metadata": {},
   "source": [
    "#### Component 1 "
   ]
  },
  {
   "cell_type": "code",
   "execution_count": 21,
   "metadata": {},
   "outputs": [
    {
     "data": {
      "text/plain": [
       "Soups, Sauces, and Gravies             190\n",
       "Beverages                              167\n",
       "Sweets                                  45\n",
       "Vegetables and Vegetable Products       20\n",
       "Legumes and Legume Products             16\n",
       "Fruits and Fruit Juices                 16\n",
       "Baby Foods                              10\n",
       "Meals, Entrees, and Side Dishes          9\n",
       "Fats and Oils                            7\n",
       "Spices and Herbs                         7\n",
       "American Indian/Alaska Native Foods      5\n",
       "Snacks                                   3\n",
       "Fast Foods                               2\n",
       "Baked Products                           2\n",
       "Sausages and Luncheon Meats              1\n",
       "Name: FoodGroup, dtype: int64"
      ]
     },
     "execution_count": 21,
     "metadata": {},
     "output_type": "execute_result"
    }
   ],
   "source": [
    "pca.sort_values(by='c1')['FoodGroup'][:500].value_counts()"
   ]
  },
  {
   "cell_type": "markdown",
   "metadata": {},
   "source": [
    "#### Component 2"
   ]
  },
  {
   "cell_type": "code",
   "execution_count": 22,
   "metadata": {},
   "outputs": [
    {
     "data": {
      "text/plain": [
       "Beef Products                          353\n",
       "Lamb, Veal, and Game Products           71\n",
       "Poultry Products                        21\n",
       "Fats and Oils                           13\n",
       "American Indian/Alaska Native Foods     13\n",
       "Pork Products                            9\n",
       "Finfish and Shellfish Products           8\n",
       "Sausages and Luncheon Meats              4\n",
       "Fast Foods                               3\n",
       "Restaurant Foods                         3\n",
       "Beverages                                2\n",
       "Name: FoodGroup, dtype: int64"
      ]
     },
     "execution_count": 22,
     "metadata": {},
     "output_type": "execute_result"
    }
   ],
   "source": [
    "pca.sort_values(by='c2')['FoodGroup'][:500].value_counts()"
   ]
  },
  {
   "cell_type": "markdown",
   "metadata": {},
   "source": [
    "#### Component 3"
   ]
  },
  {
   "cell_type": "code",
   "execution_count": 23,
   "metadata": {},
   "outputs": [
    {
     "data": {
      "text/plain": [
       "Vegetables and Vegetable Products      344\n",
       "Finfish and Shellfish Products          68\n",
       "Poultry Products                        19\n",
       "Beverages                               10\n",
       "Soups, Sauces, and Gravies              10\n",
       "Lamb, Veal, and Game Products            9\n",
       "Fruits and Fruit Juices                  9\n",
       "Baby Foods                               7\n",
       "Spices and Herbs                         6\n",
       "Fast Foods                               5\n",
       "Pork Products                            4\n",
       "Beef Products                            4\n",
       "American Indian/Alaska Native Foods      2\n",
       "Nut and Seed Products                    2\n",
       "Dairy and Egg Products                   1\n",
       "Name: FoodGroup, dtype: int64"
      ]
     },
     "execution_count": 23,
     "metadata": {},
     "output_type": "execute_result"
    }
   ],
   "source": [
    "pca.sort_values(by='c3')['FoodGroup'][:500].value_counts()"
   ]
  },
  {
   "cell_type": "markdown",
   "metadata": {},
   "source": [
    "#### Component 4"
   ]
  },
  {
   "cell_type": "code",
   "execution_count": 24,
   "metadata": {},
   "outputs": [
    {
     "data": {
      "text/plain": [
       "Legumes and Legume Products            124\n",
       "Cereal Grains and Pasta                 98\n",
       "Vegetables and Vegetable Products       89\n",
       "Baked Products                          39\n",
       "Nut and Seed Products                   34\n",
       "Breakfast Cereals                       23\n",
       "Snacks                                  19\n",
       "American Indian/Alaska Native Foods     18\n",
       "Beverages                               16\n",
       "Sweets                                  15\n",
       "Sausages and Luncheon Meats              6\n",
       "Lamb, Veal, and Game Products            6\n",
       "Spices and Herbs                         5\n",
       "Soups, Sauces, and Gravies               2\n",
       "Finfish and Shellfish Products           2\n",
       "Fruits and Fruit Juices                  2\n",
       "Poultry Products                         1\n",
       "Baby Foods                               1\n",
       "Name: FoodGroup, dtype: int64"
      ]
     },
     "execution_count": 24,
     "metadata": {},
     "output_type": "execute_result"
    }
   ],
   "source": [
    "pca.sort_values(by='c4')['FoodGroup'][:500].value_counts()"
   ]
  },
  {
   "cell_type": "markdown",
   "metadata": {},
   "source": [
    "#### Component 5"
   ]
  },
  {
   "cell_type": "code",
   "execution_count": 25,
   "metadata": {},
   "outputs": [
    {
     "data": {
      "text/plain": [
       "Fats and Oils                          145\n",
       "Nut and Seed Products                   81\n",
       "Sweets                                  51\n",
       "Legumes and Legume Products             50\n",
       "Snacks                                  41\n",
       "Baked Products                          24\n",
       "Sausages and Luncheon Meats             17\n",
       "American Indian/Alaska Native Foods     16\n",
       "Dairy and Egg Products                  13\n",
       "Cereal Grains and Pasta                 12\n",
       "Finfish and Shellfish Products          12\n",
       "Breakfast Cereals                        8\n",
       "Fast Foods                               5\n",
       "Spices and Herbs                         4\n",
       "Restaurant Foods                         4\n",
       "Beef Products                            3\n",
       "Beverages                                3\n",
       "Poultry Products                         3\n",
       "Lamb, Veal, and Game Products            2\n",
       "Pork Products                            2\n",
       "Soups, Sauces, and Gravies               1\n",
       "Vegetables and Vegetable Products        1\n",
       "Baby Foods                               1\n",
       "Fruits and Fruit Juices                  1\n",
       "Name: FoodGroup, dtype: int64"
      ]
     },
     "execution_count": 25,
     "metadata": {},
     "output_type": "execute_result"
    }
   ],
   "source": [
    "pca.sort_values(by='c5')['FoodGroup'][:500].value_counts()"
   ]
  }
 ],
 "metadata": {
  "kernelspec": {
   "display_name": "Python 3 (ipykernel)",
   "language": "python",
   "name": "python3"
  },
  "language_info": {
   "codemirror_mode": {
    "name": "ipython",
    "version": 3
   },
   "file_extension": ".py",
   "mimetype": "text/x-python",
   "name": "python",
   "nbconvert_exporter": "python",
   "pygments_lexer": "ipython3",
   "version": "3.9.10"
  }
 },
 "nbformat": 4,
 "nbformat_minor": 1
}
