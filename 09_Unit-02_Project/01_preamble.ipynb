{
 "cells": [
  {
   "cell_type": "markdown",
   "metadata": {
    "slideshow": {
     "slide_type": "slide"
    }
   },
   "source": [
    "<img src=\"http://imgur.com/1ZcRyrc.png\" style=\"float: left; margin: 20px; height: 55px\">\n",
    "\n",
    "# Lightning Talks"
   ]
  },
  {
   "cell_type": "markdown",
   "metadata": {
    "slideshow": {
     "slide_type": "subslide"
    }
   },
   "source": [
    "## Before we start"
   ]
  },
  {
   "cell_type": "markdown",
   "metadata": {
    "slideshow": {
     "slide_type": "fragment"
    }
   },
   "source": [
    "Unit Project 2 due by end of class on Thursday."
   ]
  },
  {
   "cell_type": "markdown",
   "metadata": {
    "slideshow": {
     "slide_type": "subslide"
    }
   },
   "source": [
    "## Final Project Deliverables\n",
    "\n",
    "- **Proposal**: Describe your chosen problem and identify relevant data sets (confirming access, as needed).\n",
    "- **Brief**:  Share a summary of your initial analysis and your next steps with your instructional team.\n",
    "- **Report**: Submit a cleanly formatted Jupyter notebook (or other files) documenting your code and process for technical/peer stakeholders.\n",
    "- **Presentation**: Present a summary of your business problem, approach, and recommendation to an audience of non-technical executive stakeholders.\n"
   ]
  },
  {
   "cell_type": "markdown",
   "metadata": {
    "slideshow": {
     "slide_type": "subslide"
    }
   },
   "source": [
    "## Final Project Deliverables\n",
    "\n",
    "FP  | Exercise | Due Date\n",
    "--- | ---  | --- \n",
    "FP1 | Elevator Pitch/Lightning Talks | 01/03/2022\n",
    "FP2 | Explanatory Analysis | 17/03/2022\n",
    "FP3 | Notebook Draft | 31/03/2022\n",
    "FP4 | Final Presentations | 07/04/2022"
   ]
  },
  {
   "cell_type": "markdown",
   "metadata": {
    "slideshow": {
     "slide_type": "subslide"
    }
   },
   "source": [
    "# Today - Lightning Talks & UP2!\n",
    "\n",
    "## Schedule\n",
    "\n",
    "- Lightning talks \n",
    "- Break\n",
    "- Working on Unit Project 2"
   ]
  },
  {
   "cell_type": "markdown",
   "metadata": {
    "slideshow": {
     "slide_type": "fragment"
    }
   },
   "source": [
    "Order of talks..."
   ]
  }
 ],
 "metadata": {
  "celltoolbar": "Slideshow",
  "kernelspec": {
   "display_name": "Python 3",
   "language": "python",
   "name": "python3"
  },
  "language_info": {
   "codemirror_mode": {
    "name": "ipython",
    "version": 3
   },
   "file_extension": ".py",
   "mimetype": "text/x-python",
   "name": "python",
   "nbconvert_exporter": "python",
   "pygments_lexer": "ipython3",
   "version": "3.8.8"
  }
 },
 "nbformat": 4,
 "nbformat_minor": 2
}
